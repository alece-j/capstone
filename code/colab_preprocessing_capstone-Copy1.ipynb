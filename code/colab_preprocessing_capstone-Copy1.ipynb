{
 "cells": [
  {
   "cell_type": "code",
   "execution_count": 2,
   "metadata": {
    "id": "5BEUUw7fqgnS"
   },
   "outputs": [],
   "source": [
    "import pandas as pd\n",
    "pd.set_option('display.max_rows', None)\n",
    "pd.set_option('display.max_columns', None)\n",
    "pd.set_option('display.width', None)\n",
    "pd.set_option('display.max_colwidth', None)\n",
    "import numpy as np\n",
    "import matplotlib.pyplot as plt\n",
    "import seaborn as sns\n",
    "\n",
    "from gensim.models.doc2vec import Doc2Vec, TaggedDocument\n",
    "from nltk.tokenize import word_tokenize\n",
    "from gensim.utils import simple_preprocess\n",
    "from sklearn.model_selection import train_test_split"
   ]
  },
  {
   "cell_type": "code",
   "execution_count": 3,
   "metadata": {
    "id": "e5zWaP7bqgnX"
   },
   "outputs": [],
   "source": [
    "import pickle\n",
    "import pandas as pd\n",
    "import numpy\n",
    "import re\n",
    "import os\n",
    "import numpy as np\n",
    "import gensim\n",
    "from sklearn.cluster import KMeans\n",
    "from sklearn.decomposition import PCA\n",
    "from gensim.models import Doc2Vec"
   ]
  },
  {
   "cell_type": "code",
   "execution_count": 4,
   "metadata": {},
   "outputs": [],
   "source": [
    "df_mn = pd.read_csv('./sutta_csv/cleaned/df_mn.csv')"
   ]
  },
  {
   "cell_type": "code",
   "execution_count": 5,
   "metadata": {
    "id": "cOjEjtpPqgnY"
   },
   "outputs": [],
   "source": [
    "df_mn2 = df_mn.copy()"
   ]
  },
  {
   "cell_type": "markdown",
   "metadata": {
    "id": "IIUS_gHMpi3d"
   },
   "source": [
    "# Preprocessing"
   ]
  },
  {
   "cell_type": "code",
   "execution_count": null,
   "metadata": {
    "id": "lcIzrr1Qphdz"
   },
   "outputs": [],
   "source": []
  },
  {
   "cell_type": "markdown",
   "metadata": {
    "id": "B4nmplhhqgnY"
   },
   "source": [
    "## Lowercasing"
   ]
  },
  {
   "cell_type": "code",
   "execution_count": 6,
   "metadata": {
    "id": "7TTB9cSgqgnZ"
   },
   "outputs": [],
   "source": [
    "df_mn2['text_full'] = df_mn2['text_full'].str.lower()"
   ]
  },
  {
   "cell_type": "code",
   "execution_count": 7,
   "metadata": {
    "colab": {
     "base_uri": "https://localhost:8080/",
     "height": 1000
    },
    "id": "MTljPfc4qgnZ",
    "outputId": "3559a8e0-8755-4c0f-c215-3067e953f3c0"
   },
   "outputs": [
    {
     "data": {
      "text/html": [
       "<div>\n",
       "<style scoped>\n",
       "    .dataframe tbody tr th:only-of-type {\n",
       "        vertical-align: middle;\n",
       "    }\n",
       "\n",
       "    .dataframe tbody tr th {\n",
       "        vertical-align: top;\n",
       "    }\n",
       "\n",
       "    .dataframe thead th {\n",
       "        text-align: right;\n",
       "    }\n",
       "</style>\n",
       "<table border=\"1\" class=\"dataframe\">\n",
       "  <thead>\n",
       "    <tr style=\"text-align: right;\">\n",
       "      <th></th>\n",
       "      <th>title</th>\n",
       "      <th>title_url</th>\n",
       "      <th>ref</th>\n",
       "      <th>summary</th>\n",
       "      <th>text_full</th>\n",
       "      <th>notes</th>\n",
       "      <th>intro</th>\n",
       "    </tr>\n",
       "  </thead>\n",
       "  <tbody>\n",
       "    <tr>\n",
       "      <th>0</th>\n",
       "      <td>MN 1  Mūlapariyāya Sutta | The Root Sequence</td>\n",
       "      <td>https://www.dhammatalks.org/suttas/MN/MN1.html</td>\n",
       "      <td>MN 1</td>\n",
       "      <td>MN 1  Mūlapariyāya Sutta | The Root Sequence  —  The Majjhima Nikāya opens with one of the few suttas where his listeners did NOT delight in his words. In it, the Buddha dismisses the tendency—common both in his time and in ours—to posit a metaphysical principle from which the universe emanates.</td>\n",
       "      <td>\\n          i have heard that on one occasion the blessed one was staying near ukkaṭṭhā, in the shade of a royal sal tree in the very blessed forest. there he addressed the monks, “monks!”\\n          “yes, lord,” the monks responded to him.\\n          the blessed one said, “monks, i will teach you the sequence of the root of all phenomena [or: the root sequence of all phenomena]. listen &amp; pay close attention. i will speak.”\\n          “as you say, lord,” they responded to him.\\n          the blessed one said: “there is the case, monks, where an uninstructed run-of-the-mill person—who has no regard for noble ones, is not well-versed or disciplined in their dhamma; who has no regard for people of integrity, is not well-versed or disciplined in their dhamma—perceives earth as earth. perceiving earth as earth, he supposes (things) about earth, he supposes (things) in earth, he supposes (things) coming out of earth, he supposes earth as ‘mine,’ he delights in earth. why is that? because he has not comprehended it, i tell you.\\n          “he perceives water as water… fire as fire… wind as wind1… beings as beings… devas as devas… pajāpati as pajāpati… brahmā as brahmā… the radiant devas as radiant devas… the beautiful black devas as beautiful black devas… the sky-fruit devas as sky-fruit devas… the conqueror as the conqueror2… the dimension of the infinitude of space as the dimension of the infinitude of space… the dimension of the infinitude of consciousness as the dimension of the infinitude of consciousness… the dimension of nothingness as the dimension of nothingness… the dimension of neither perception nor non-perception as the dimension of neither perception nor non-perception3… the seen as the seen… the heard as the heard… the sensed as the sensed… the cognized as the cognized4… singleness as singleness… multiplicity as multiplicity5… the all as the all6…\\n          “he perceives unbinding as unbinding.7 perceiving unbinding as unbinding, he supposes things about unbinding, he supposes things in unbinding, he supposes things coming out of unbinding, he supposes unbinding as ‘mine,’ he delights in unbinding. why is that? because he has not comprehended it, i tell you.\\n          the trainee\\n          “a monk who is a trainee—yearning for the unexcelled relief from bondage, his aspirations as yet unfulfilled—directly knows earth as earth. directly knowing earth as earth, let him not suppose things about earth, let him not suppose things in earth, let him not suppose things coming out of earth, let him not suppose earth as ‘mine,’ let him not delight in earth. why is that? so that he may comprehend it, i tell you.\\n          “he directly knows water as water… fire as fire… wind as wind… beings as beings… devas as devas… pajāpati as pajāpati… brahmā as brahmā… the radiant devas as radiant devas… the beautiful black devas as beautiful black devas… the sky-fruit devas as sky-fruit devas… the conqueror as the conqueror… the dimension of the infinitude of space as the dimension of the infinitude of space… the dimension of the infinitude of consciousness as the dimension of the infinitude of consciousness… the dimension of nothingness as the dimension of nothingness… the dimension of neither perception nor non-perception as the dimension of neither perception nor non-perception… the seen as the seen… the heard as the heard… the sensed as the sensed… the cognized as the cognized… singleness as singleness… multiplicity as multiplicity… the all as the all…\\n          “he directly knows unbinding as unbinding. directly knowing unbinding as unbinding, let him not suppose things about unbinding, let him not suppose things in unbinding, let him not suppose things coming out of unbinding, let him not suppose unbinding as ‘mine,’ let him not delight in unbinding. why is that? so that he may comprehend it, i tell you.\\n          the arahant\\n          “a monk who is a worthy one, devoid of effluents—who has attained completion, finished the task, laid down the burden, attained the true goal, destroyed the fetters of becoming, and is released through right knowledge—directly knows earth as earth. directly knowing earth as earth, he doesn’t suppose things about earth, doesn’t suppose things in earth, doesn’t suppose things coming out of earth, doesn’t suppose earth as ‘mine,’ doesn’t delight in earth. why is that? because he has comprehended it, i tell you.\\n          “he directly knows water as water… fire as fire… wind as wind… beings as beings… devas as devas… pajāpati as pajāpati… brahmā as brahmā… the radiant devas as radiant devas… the beautiful black devas as beautiful black devas… the sky-fruit devas as sky-fruit devas… the conqueror as the conqueror… the dimension of the infinitude of space as the dimension of the infinitude of space… the dimension of the infinitude of consciousness as the dimension of the infinitude of consciousness… the dimension of nothingness as the dimension of nothingness… the dimension of neither perception nor non-perception as the dimension of neither perception nor non-perception… the seen as the seen… the heard as the heard… the sensed as the sensed… the cognized as the cognized… singleness as singleness… multiplicity as multiplicity… the all as the all…\\n          “he directly knows unbinding as unbinding. directly knowing unbinding as unbinding, he doesn’t suppose things about unbinding, doesn’t suppose things in unbinding, doesn’t suppose things coming out of unbinding, doesn’t suppose unbinding as ‘mine,’ doesn’t delight in unbinding. why is that? because he has comprehended it, i tell you.\\n          “a monk who is a worthy one, devoid of effluents… directly knows earth as earth. directly knowing earth as earth, he doesn’t suppose things about earth, doesn’t suppose things in earth, doesn’t suppose things coming out of earth, doesn’t suppose earth as ‘mine,’ doesn’t delight in earth. why is that? because, with the ending of passion, he is devoid of passion, i tell you.\\n          “he directly knows water as water… the all as the all…\\n          “he directly knows unbinding as unbinding. directly knowing unbinding as unbinding, he doesn’t suppose things about unbinding, doesn’t suppose things in unbinding, doesn’t suppose things coming out of unbinding, doesn’t suppose unbinding as ‘mine,’ doesn’t delight in unbinding. why is that? because, with the ending of passion, he is devoid of passion, i tell you.\\n          “a monk who is a worthy one, devoid of effluents… directly knows earth as earth. directly knowing earth as earth, he doesn’t suppose things about earth, doesn’t suppose things in earth, doesn’t suppose things coming out of earth, doesn’t suppose earth as ‘mine,’ doesn’t delight in earth. why is that? because, with the ending of aversion, he is devoid of aversion, i tell you.\\n          “he directly knows water as water… the all as the all…\\n          “he directly knows unbinding as unbinding. directly knowing unbinding as unbinding, he doesn’t suppose things about unbinding, doesn’t suppose things in unbinding, doesn’t suppose things coming out of unbinding, doesn’t suppose unbinding as ‘mine,’ doesn’t delight in unbinding. why is that? because, with the ending of aversion, he is devoid of aversion, i tell you.\\n          “a monk who is a worthy one, devoid of effluents… directly knows earth as earth. directly knowing earth as earth, he doesn’t suppose things about earth, doesn’t suppose things in earth, doesn’t suppose things coming out of earth, doesn’t suppose earth as ‘mine,’ doesn’t delight in earth. why is that? because, with the ending of delusion, he is devoid of delusion, i tell you.\\n          “he directly knows water as water… the all as the all…\\n          “he directly knows unbinding as unbinding. directly knowing unbinding as unbinding, he doesn’t suppose things about unbinding, doesn’t suppose things in unbinding, doesn’t suppose things coming out of unbinding, doesn’t suppose unbinding as ‘mine,’ doesn’t delight in unbinding. why is that? because, with the ending of delusion, he is devoid of delusion, i tell you.\\n          the tathāgata\\n          “the tathāgata—a worthy one, rightly self-awakened—directly knows earth as earth. directly knowing earth as earth, he doesn’t suppose things about earth, doesn’t suppose things in earth, doesn’t suppose things coming out of earth, doesn’t suppose earth as ‘mine,’ doesn’t delight in earth. why is that? because the tathāgata has comprehended it to the end, i tell you.\\n          “he directly knows water as water… fire as fire… wind as wind… beings as beings… devas as devas… pajāpati as pajāpati… brahmā as brahmā… the radiant devas as radiant devas… the beautiful black devas as beautiful black devas… the sky-fruit devas as sky-fruit devas… the conqueror as the conqueror… the dimension of the infinitude of space as the dimension of the infinitude of space… the dimension of the infinitude of consciousness as the dimension of the infinitude of consciousness… the dimension of nothingness as the dimension of nothingness… the dimension of neither perception nor non-perception as the dimension of neither perception nor non-perception… the seen as the seen… the heard as the heard… the sensed as the sensed… the cognized as the cognized… singleness as singleness… multiplicity as multiplicity… the all as the all…\\n          “he directly knows unbinding as unbinding. directly knowing unbinding as unbinding, he doesn’t suppose things about unbinding, doesn’t suppose things in unbinding, doesn’t suppose things coming out of unbinding, doesn’t suppose unbinding as ‘mine,’ doesn’t delight in unbinding. why is that? because the tathāgata has comprehended it to the end, i tell you.\\n          “the tathāgata—a worthy one, rightly self-awakened—directly knows earth as earth. directly knowing earth as earth, he doesn’t suppose things about earth, doesn’t suppose things in earth, doesn’t suppose things coming out of earth, doesn’t suppose earth as ‘mine,’ doesn’t delight in earth. why is that? because he has known that delight is the root of suffering &amp; stress, that from coming-into-being there is birth, and that for what has come into being there is aging &amp; death. therefore, with the total ending, fading away, cessation, letting go, relinquishment of craving, the tathāgata has totally awakened to the unexcelled right self-awakening, i tell you.\\n          “he directly knows water as water… the all as the all…\\n          “he directly knows unbinding as unbinding. directly knowing unbinding as unbinding, he doesn’t suppose things about unbinding, doesn’t suppose things in unbinding, doesn’t suppose things coming out of unbinding, doesn’t suppose unbinding as ‘mine,’ doesn’t delight in unbinding. why is that? because he has known that delight is the root of suffering &amp; stress, that from coming-into-being there is birth, and that for what has come into being there is aging &amp; death. therefore, with the total ending, fading away, cessation, letting go, relinquishment of craving, the tathāgata has totally awakened to the unexcelled right self-awakening, i tell you.”\\n          that is what the blessed one said. displeased, the monks did not delight in the blessed one’s words.</td>\n",
       "      <td>Notes\\n            1. Earth, water, fire, and wind are the four properties that comprise the experience of physical form.\\n            2. In this section of the list, “beings” denotes all living beings below the level of the gods. “Devas” denotes the beings in the sensual heavens. The remaining terms— Pajāpati, Brahmā, the Radiant devas, the Beautiful Black devas, the Sky-fruit devas, &amp; the Conqueror—denote devas in the heavens of form &amp; formlessness.\\n            3. The dimension of the infinitude of space, the dimension of the infinitude of consciousness, the dimension of nothingness, &amp; the dimension of neither perception nor non-perception are four formless states that can be attained in concentration.\\n            4. “The seen, the heard, the sensed, &amp; the cognized” is a set of terms to cover all things experienced through the six senses.\\n            5. Singleness = experience in states of intense concentration (jhāna). Multiplicity = experience via the six senses. See MN 137.\\n            6. “What is the All? Simply the eye &amp; forms, ear &amp; sounds, nose &amp; aromas, tongue &amp; flavors, body &amp; tactile sensations, intellect &amp; ideas. This is termed the All. Anyone who would say, ‘Repudiating this All, I will describe another,’ if questioned on what exactly might be the grounds for his assertion, would be unable to explain and, furthermore, would be put to grief. Why is that? Because it lies beyond range.” —SN 35:23\\n            For more on this topic, see The Mind Like Fire Unbound, Chapter 1.\\n            7. Unbinding = nibbāna (nirvāṇa).\\n          \\n          See also: MN 49; MN 72; MN 140; SN 12:23; AN 4:24; AN 4:199; AN 4:200; AN 9:36; AN 10:81; Ud 1:10</td>\n",
       "      <td>MN/1\\n          Introduction\\n          The Buddha listed clinging to views as one of the four forms of clinging that tie the mind to the processes of suffering. He thus recommended that his followers relinquish their clinging, not only to views in their full-blown form as specific positions, but also in their rudimentary form as the categories &amp; relationships that the mind reads into experience. This is a point he makes in the following discourse, which is apparently his response to a particular school of Brahmanical thought that was developing in his time—the Sāṅkhya, or classification school.\\n          This school had its beginnings in the thought of Uddālaka, a ninth-century B.C. philosopher who posited a “root”: an abstract principle out of which all things emanate and which remains immanent in all things. Philosophers who carried on this line of thinking offered a variety of theories, based on logic and meditative experience, about the nature of the ultimate root and about the hierarchy of the emanation. Many of their theories were recorded in the Upaniṣads and eventually developed into the classical Sāṅkhya system around the time of the Buddha.\\n          Although the present discourse says nothing about the background of the monks listening to it, the Commentary states that before their ordination they were brahmans, and that even after their ordination they continued to interpret the Buddha’s teachings in light of their previous training, which may well have been proto-Sāṅkhya. If this is so, then the Buddha’s opening lines —“I will teach you the sequence of the root of all phenomena”—would have them prepared to hear his contribution to their line of thinking. And, in fact, the list of topics he covers reads like a Buddhist Sāṅkhya. Paralleling the classical Sāṅkhya, it contains 24 items, begins with the physical world (here, the four physical properties), and leads back through ever more refined &amp; inclusive levels of being &amp; experience, culminating with the ultimate Buddhist concept: unbinding (nibbāna). In the pattern of Sāṅkhya thought, unbinding would thus be the ultimate “root” or ground of being immanent in all things and out of which they all emanate.\\n          However, instead of following this pattern of thinking, the Buddha attacks it at its very root: the notion of a principle in the abstract, the “in” (immanence) &amp; “out of” (emanation) superimposed on experience. Only an uninstructed run of the mill person, he says, would read experience in this way. In contrast, a person in training should look for a different kind of “root”—the root of suffering experienced in the present—and find it in the act of delight. Developing dispassion for that delight, the trainee can then comprehend the process of coming-into-being for what it is, drop all participation in it, and thus achieve true awakening.\\n          If the listeners present at this discourse were indeed interested in fitting Buddhist teachings into a Sāṅkhyan mold, then it’s small wonder that they were displeased—one of the few places where we read of a negative reaction to the Buddha’s words. They had hoped to hear his contribution to their project, but instead they hear their whole pattern of thinking &amp; theorizing attacked as ignorant &amp; ill-informed. The Commentary tells us, though, they were later able to overcome their displeasure and eventually attain awakening on listening to the discourse reported in AN 3:126.\\n          Although at present we rarely think in the same terms as the Sāṅkhya philosophers, there has long been—and still is—a common tendency to create a “Buddhist” metaphysics in which the experience of emptiness, the Unconditioned, the Dharma-body, Buddha-nature, rigpa, etc., is said to function as the ground of being from which the “All”—the entirety of our sensory &amp; mental experience—is said to spring and to which we return when we meditate. Some people think that these theories are the inventions of scholars without any direct meditative experience, but actually they have most often originated among meditators, who label (or in the words of the discourse, “perceive”) a particular meditative experience as the ultimate goal, identify with it in a subtle way (as when we are told that “we are the knowing”), and then suppose that level of experience to be the ground of being out of which all other experience comes.\\n          Any teaching that follows these lines would be subject to the same criticism that the Buddha directed against the monks who first heard this discourse.\\n</td>\n",
       "    </tr>\n",
       "  </tbody>\n",
       "</table>\n",
       "</div>"
      ],
      "text/plain": [
       "                                          title  \\\n",
       "0  MN 1  Mūlapariyāya Sutta | The Root Sequence   \n",
       "\n",
       "                                        title_url   ref  \\\n",
       "0  https://www.dhammatalks.org/suttas/MN/MN1.html  MN 1   \n",
       "\n",
       "                                                                                                                                                                                                                                                                                                    summary  \\\n",
       "0  MN 1  Mūlapariyāya Sutta | The Root Sequence  —  The Majjhima Nikāya opens with one of the few suttas where his listeners did NOT delight in his words. In it, the Buddha dismisses the tendency—common both in his time and in ours—to posit a metaphysical principle from which the universe emanates.   \n",
       "\n",
       "                                                                                                                                                                                                                                                                                                                                                                                                                                                                                                                                                                                                                                                                                                                                                                                                                                                                                                                                                                                                                                                                                                                                                                                                                                                                                                                                                                                                                                                                                                                                                                                                                                                                                                                                                                                                                                                                                                                                                                                                                                                                                                                                                                                                                                                                                                                                                                                                                                                                                                                                                                                                                                                                                                                                                                                                                                                                                                                                                                                                                                                                                                                                                                                                                                                                                                                                                                                                                                                                                                                                                                                                                                                                                                                                                                                                                                                                                                                                                                                                                                                                                                                                                                                                                                                                                                                                                                                                                                                                                                                                                                                                                                                                                                                                                                                                                                                                                                                                                                                                                                                                                                                                                                                                                                                                                                                                                                                                                                                                                                                                                                                                                                                                                                                                                                                                                                                                                                                                                                                                                                                                                                                                                                                                                                                                                                                                                                                                                                                                                                                                                                                                                                                                                                                                                                                                                                                                                                                                                                                                                                                                                                                                                                                                                                                                                                                                                                                                                                                                                                                                                                                                                                                                                                                                                                                                                                                                                                                                                                                                                                                                                                                                                                                                                                                                                                                                                                                                                                                                                                                                                                                                                                                                                                                                                                                                                                                                                                                                                                                                                                                                                                                                                                                                                                                                                                                                                                                                                                                                                                                                                                                                                                                                                                                                                                                                                                                                                                                                                                                                                                                                                                                                                                                                                                                                                                                                                                                                                                                                                                                                                                                                                                                                                                                                                                                                                                                                                                                                                                                                                                                                                                                                                                                                                                                                                                                                                                                                                                                                                                                                                                                                                                                                                                              text_full  \\\n",
       "0  \\n          i have heard that on one occasion the blessed one was staying near ukkaṭṭhā, in the shade of a royal sal tree in the very blessed forest. there he addressed the monks, “monks!”\\n          “yes, lord,” the monks responded to him.\\n          the blessed one said, “monks, i will teach you the sequence of the root of all phenomena [or: the root sequence of all phenomena]. listen & pay close attention. i will speak.”\\n          “as you say, lord,” they responded to him.\\n          the blessed one said: “there is the case, monks, where an uninstructed run-of-the-mill person—who has no regard for noble ones, is not well-versed or disciplined in their dhamma; who has no regard for people of integrity, is not well-versed or disciplined in their dhamma—perceives earth as earth. perceiving earth as earth, he supposes (things) about earth, he supposes (things) in earth, he supposes (things) coming out of earth, he supposes earth as ‘mine,’ he delights in earth. why is that? because he has not comprehended it, i tell you.\\n          “he perceives water as water… fire as fire… wind as wind1… beings as beings… devas as devas… pajāpati as pajāpati… brahmā as brahmā… the radiant devas as radiant devas… the beautiful black devas as beautiful black devas… the sky-fruit devas as sky-fruit devas… the conqueror as the conqueror2… the dimension of the infinitude of space as the dimension of the infinitude of space… the dimension of the infinitude of consciousness as the dimension of the infinitude of consciousness… the dimension of nothingness as the dimension of nothingness… the dimension of neither perception nor non-perception as the dimension of neither perception nor non-perception3… the seen as the seen… the heard as the heard… the sensed as the sensed… the cognized as the cognized4… singleness as singleness… multiplicity as multiplicity5… the all as the all6…\\n          “he perceives unbinding as unbinding.7 perceiving unbinding as unbinding, he supposes things about unbinding, he supposes things in unbinding, he supposes things coming out of unbinding, he supposes unbinding as ‘mine,’ he delights in unbinding. why is that? because he has not comprehended it, i tell you.\\n          the trainee\\n          “a monk who is a trainee—yearning for the unexcelled relief from bondage, his aspirations as yet unfulfilled—directly knows earth as earth. directly knowing earth as earth, let him not suppose things about earth, let him not suppose things in earth, let him not suppose things coming out of earth, let him not suppose earth as ‘mine,’ let him not delight in earth. why is that? so that he may comprehend it, i tell you.\\n          “he directly knows water as water… fire as fire… wind as wind… beings as beings… devas as devas… pajāpati as pajāpati… brahmā as brahmā… the radiant devas as radiant devas… the beautiful black devas as beautiful black devas… the sky-fruit devas as sky-fruit devas… the conqueror as the conqueror… the dimension of the infinitude of space as the dimension of the infinitude of space… the dimension of the infinitude of consciousness as the dimension of the infinitude of consciousness… the dimension of nothingness as the dimension of nothingness… the dimension of neither perception nor non-perception as the dimension of neither perception nor non-perception… the seen as the seen… the heard as the heard… the sensed as the sensed… the cognized as the cognized… singleness as singleness… multiplicity as multiplicity… the all as the all…\\n          “he directly knows unbinding as unbinding. directly knowing unbinding as unbinding, let him not suppose things about unbinding, let him not suppose things in unbinding, let him not suppose things coming out of unbinding, let him not suppose unbinding as ‘mine,’ let him not delight in unbinding. why is that? so that he may comprehend it, i tell you.\\n          the arahant\\n          “a monk who is a worthy one, devoid of effluents—who has attained completion, finished the task, laid down the burden, attained the true goal, destroyed the fetters of becoming, and is released through right knowledge—directly knows earth as earth. directly knowing earth as earth, he doesn’t suppose things about earth, doesn’t suppose things in earth, doesn’t suppose things coming out of earth, doesn’t suppose earth as ‘mine,’ doesn’t delight in earth. why is that? because he has comprehended it, i tell you.\\n          “he directly knows water as water… fire as fire… wind as wind… beings as beings… devas as devas… pajāpati as pajāpati… brahmā as brahmā… the radiant devas as radiant devas… the beautiful black devas as beautiful black devas… the sky-fruit devas as sky-fruit devas… the conqueror as the conqueror… the dimension of the infinitude of space as the dimension of the infinitude of space… the dimension of the infinitude of consciousness as the dimension of the infinitude of consciousness… the dimension of nothingness as the dimension of nothingness… the dimension of neither perception nor non-perception as the dimension of neither perception nor non-perception… the seen as the seen… the heard as the heard… the sensed as the sensed… the cognized as the cognized… singleness as singleness… multiplicity as multiplicity… the all as the all…\\n          “he directly knows unbinding as unbinding. directly knowing unbinding as unbinding, he doesn’t suppose things about unbinding, doesn’t suppose things in unbinding, doesn’t suppose things coming out of unbinding, doesn’t suppose unbinding as ‘mine,’ doesn’t delight in unbinding. why is that? because he has comprehended it, i tell you.\\n          “a monk who is a worthy one, devoid of effluents… directly knows earth as earth. directly knowing earth as earth, he doesn’t suppose things about earth, doesn’t suppose things in earth, doesn’t suppose things coming out of earth, doesn’t suppose earth as ‘mine,’ doesn’t delight in earth. why is that? because, with the ending of passion, he is devoid of passion, i tell you.\\n          “he directly knows water as water… the all as the all…\\n          “he directly knows unbinding as unbinding. directly knowing unbinding as unbinding, he doesn’t suppose things about unbinding, doesn’t suppose things in unbinding, doesn’t suppose things coming out of unbinding, doesn’t suppose unbinding as ‘mine,’ doesn’t delight in unbinding. why is that? because, with the ending of passion, he is devoid of passion, i tell you.\\n          “a monk who is a worthy one, devoid of effluents… directly knows earth as earth. directly knowing earth as earth, he doesn’t suppose things about earth, doesn’t suppose things in earth, doesn’t suppose things coming out of earth, doesn’t suppose earth as ‘mine,’ doesn’t delight in earth. why is that? because, with the ending of aversion, he is devoid of aversion, i tell you.\\n          “he directly knows water as water… the all as the all…\\n          “he directly knows unbinding as unbinding. directly knowing unbinding as unbinding, he doesn’t suppose things about unbinding, doesn’t suppose things in unbinding, doesn’t suppose things coming out of unbinding, doesn’t suppose unbinding as ‘mine,’ doesn’t delight in unbinding. why is that? because, with the ending of aversion, he is devoid of aversion, i tell you.\\n          “a monk who is a worthy one, devoid of effluents… directly knows earth as earth. directly knowing earth as earth, he doesn’t suppose things about earth, doesn’t suppose things in earth, doesn’t suppose things coming out of earth, doesn’t suppose earth as ‘mine,’ doesn’t delight in earth. why is that? because, with the ending of delusion, he is devoid of delusion, i tell you.\\n          “he directly knows water as water… the all as the all…\\n          “he directly knows unbinding as unbinding. directly knowing unbinding as unbinding, he doesn’t suppose things about unbinding, doesn’t suppose things in unbinding, doesn’t suppose things coming out of unbinding, doesn’t suppose unbinding as ‘mine,’ doesn’t delight in unbinding. why is that? because, with the ending of delusion, he is devoid of delusion, i tell you.\\n          the tathāgata\\n          “the tathāgata—a worthy one, rightly self-awakened—directly knows earth as earth. directly knowing earth as earth, he doesn’t suppose things about earth, doesn’t suppose things in earth, doesn’t suppose things coming out of earth, doesn’t suppose earth as ‘mine,’ doesn’t delight in earth. why is that? because the tathāgata has comprehended it to the end, i tell you.\\n          “he directly knows water as water… fire as fire… wind as wind… beings as beings… devas as devas… pajāpati as pajāpati… brahmā as brahmā… the radiant devas as radiant devas… the beautiful black devas as beautiful black devas… the sky-fruit devas as sky-fruit devas… the conqueror as the conqueror… the dimension of the infinitude of space as the dimension of the infinitude of space… the dimension of the infinitude of consciousness as the dimension of the infinitude of consciousness… the dimension of nothingness as the dimension of nothingness… the dimension of neither perception nor non-perception as the dimension of neither perception nor non-perception… the seen as the seen… the heard as the heard… the sensed as the sensed… the cognized as the cognized… singleness as singleness… multiplicity as multiplicity… the all as the all…\\n          “he directly knows unbinding as unbinding. directly knowing unbinding as unbinding, he doesn’t suppose things about unbinding, doesn’t suppose things in unbinding, doesn’t suppose things coming out of unbinding, doesn’t suppose unbinding as ‘mine,’ doesn’t delight in unbinding. why is that? because the tathāgata has comprehended it to the end, i tell you.\\n          “the tathāgata—a worthy one, rightly self-awakened—directly knows earth as earth. directly knowing earth as earth, he doesn’t suppose things about earth, doesn’t suppose things in earth, doesn’t suppose things coming out of earth, doesn’t suppose earth as ‘mine,’ doesn’t delight in earth. why is that? because he has known that delight is the root of suffering & stress, that from coming-into-being there is birth, and that for what has come into being there is aging & death. therefore, with the total ending, fading away, cessation, letting go, relinquishment of craving, the tathāgata has totally awakened to the unexcelled right self-awakening, i tell you.\\n          “he directly knows water as water… the all as the all…\\n          “he directly knows unbinding as unbinding. directly knowing unbinding as unbinding, he doesn’t suppose things about unbinding, doesn’t suppose things in unbinding, doesn’t suppose things coming out of unbinding, doesn’t suppose unbinding as ‘mine,’ doesn’t delight in unbinding. why is that? because he has known that delight is the root of suffering & stress, that from coming-into-being there is birth, and that for what has come into being there is aging & death. therefore, with the total ending, fading away, cessation, letting go, relinquishment of craving, the tathāgata has totally awakened to the unexcelled right self-awakening, i tell you.”\\n          that is what the blessed one said. displeased, the monks did not delight in the blessed one’s words.   \n",
       "\n",
       "                                                                                                                                                                                                                                                                                                                                                                                                                                                                                                                                                                                                                                                                                                                                                                                                                                                                                                                                                                                                                                                                                                                                                                                                                                                                                                                                                                                                                                                                                                                                                                                                                                                                                                                                                            notes  \\\n",
       "0              Notes\\n            1. Earth, water, fire, and wind are the four properties that comprise the experience of physical form.\\n            2. In this section of the list, “beings” denotes all living beings below the level of the gods. “Devas” denotes the beings in the sensual heavens. The remaining terms— Pajāpati, Brahmā, the Radiant devas, the Beautiful Black devas, the Sky-fruit devas, & the Conqueror—denote devas in the heavens of form & formlessness.\\n            3. The dimension of the infinitude of space, the dimension of the infinitude of consciousness, the dimension of nothingness, & the dimension of neither perception nor non-perception are four formless states that can be attained in concentration.\\n            4. “The seen, the heard, the sensed, & the cognized” is a set of terms to cover all things experienced through the six senses.\\n            5. Singleness = experience in states of intense concentration (jhāna). Multiplicity = experience via the six senses. See MN 137.\\n            6. “What is the All? Simply the eye & forms, ear & sounds, nose & aromas, tongue & flavors, body & tactile sensations, intellect & ideas. This is termed the All. Anyone who would say, ‘Repudiating this All, I will describe another,’ if questioned on what exactly might be the grounds for his assertion, would be unable to explain and, furthermore, would be put to grief. Why is that? Because it lies beyond range.” —SN 35:23\\n            For more on this topic, see The Mind Like Fire Unbound, Chapter 1.\\n            7. Unbinding = nibbāna (nirvāṇa).\\n          \\n          See also: MN 49; MN 72; MN 140; SN 12:23; AN 4:24; AN 4:199; AN 4:200; AN 9:36; AN 10:81; Ud 1:10   \n",
       "\n",
       "                                                                                                                                                                                                                                                                                                                                                                                                                                                                                                                                                                                                                                                                                                                                                                                                                                                                                                                                                                                                                                                                                                                                                                                                                                                                                                                                                                                                                                                                                                                                                                                                                                                                                                                                                                                                                                                                                                                                                                                                                                                                                                                                                                                                                                                                                                                                                                                                                                                                                                                                                                                                                                                                                                                                                                                                                                                                                                                                                                                                                                                                                                                                                                                                                                                                                                                                                                                                                                                                                                                                                                                                                                                                                                                                                                                                                                                                                                                                                                                                                                                                                                                                                                                                                                                                                                                                                                                                                                                                                                                                                                                                                                                                                                                                               intro  \n",
       "0  MN/1\\n          Introduction\\n          The Buddha listed clinging to views as one of the four forms of clinging that tie the mind to the processes of suffering. He thus recommended that his followers relinquish their clinging, not only to views in their full-blown form as specific positions, but also in their rudimentary form as the categories & relationships that the mind reads into experience. This is a point he makes in the following discourse, which is apparently his response to a particular school of Brahmanical thought that was developing in his time—the Sāṅkhya, or classification school.\\n          This school had its beginnings in the thought of Uddālaka, a ninth-century B.C. philosopher who posited a “root”: an abstract principle out of which all things emanate and which remains immanent in all things. Philosophers who carried on this line of thinking offered a variety of theories, based on logic and meditative experience, about the nature of the ultimate root and about the hierarchy of the emanation. Many of their theories were recorded in the Upaniṣads and eventually developed into the classical Sāṅkhya system around the time of the Buddha.\\n          Although the present discourse says nothing about the background of the monks listening to it, the Commentary states that before their ordination they were brahmans, and that even after their ordination they continued to interpret the Buddha’s teachings in light of their previous training, which may well have been proto-Sāṅkhya. If this is so, then the Buddha’s opening lines —“I will teach you the sequence of the root of all phenomena”—would have them prepared to hear his contribution to their line of thinking. And, in fact, the list of topics he covers reads like a Buddhist Sāṅkhya. Paralleling the classical Sāṅkhya, it contains 24 items, begins with the physical world (here, the four physical properties), and leads back through ever more refined & inclusive levels of being & experience, culminating with the ultimate Buddhist concept: unbinding (nibbāna). In the pattern of Sāṅkhya thought, unbinding would thus be the ultimate “root” or ground of being immanent in all things and out of which they all emanate.\\n          However, instead of following this pattern of thinking, the Buddha attacks it at its very root: the notion of a principle in the abstract, the “in” (immanence) & “out of” (emanation) superimposed on experience. Only an uninstructed run of the mill person, he says, would read experience in this way. In contrast, a person in training should look for a different kind of “root”—the root of suffering experienced in the present—and find it in the act of delight. Developing dispassion for that delight, the trainee can then comprehend the process of coming-into-being for what it is, drop all participation in it, and thus achieve true awakening.\\n          If the listeners present at this discourse were indeed interested in fitting Buddhist teachings into a Sāṅkhyan mold, then it’s small wonder that they were displeased—one of the few places where we read of a negative reaction to the Buddha’s words. They had hoped to hear his contribution to their project, but instead they hear their whole pattern of thinking & theorizing attacked as ignorant & ill-informed. The Commentary tells us, though, they were later able to overcome their displeasure and eventually attain awakening on listening to the discourse reported in AN 3:126.\\n          Although at present we rarely think in the same terms as the Sāṅkhya philosophers, there has long been—and still is—a common tendency to create a “Buddhist” metaphysics in which the experience of emptiness, the Unconditioned, the Dharma-body, Buddha-nature, rigpa, etc., is said to function as the ground of being from which the “All”—the entirety of our sensory & mental experience—is said to spring and to which we return when we meditate. Some people think that these theories are the inventions of scholars without any direct meditative experience, but actually they have most often originated among meditators, who label (or in the words of the discourse, “perceive”) a particular meditative experience as the ultimate goal, identify with it in a subtle way (as when we are told that “we are the knowing”), and then suppose that level of experience to be the ground of being out of which all other experience comes.\\n          Any teaching that follows these lines would be subject to the same criticism that the Buddha directed against the monks who first heard this discourse.\\n              "
      ]
     },
     "execution_count": 7,
     "metadata": {},
     "output_type": "execute_result"
    }
   ],
   "source": [
    "df_mn2.head(1)"
   ]
  },
  {
   "cell_type": "markdown",
   "metadata": {
    "id": "0I2m2W2rqgna"
   },
   "source": [
    "## Removing punctuation"
   ]
  },
  {
   "cell_type": "code",
   "execution_count": 8,
   "metadata": {
    "id": "-1cXyndQqgnb"
   },
   "outputs": [],
   "source": [
    "#df_mn2['text_full'] = df_mn2['text_full'].translate(str.maketrans('', '', string.punctuation))"
   ]
  },
  {
   "cell_type": "code",
   "execution_count": 9,
   "metadata": {
    "id": "_IVbyhRqqgnb"
   },
   "outputs": [],
   "source": [
    "df_mn2['text_full'] = df_mn2['text_full'].str.replace('.', ' ')\n",
    "df_mn2['text_full'] = df_mn2['text_full'].str.replace('-', ' ')\n",
    "df_mn2['text_full'] = df_mn2['text_full'].str.replace('?', ' ')\n",
    "df_mn2['text_full'] = df_mn2['text_full'].str.replace('(', ' ')\n",
    "df_mn2['text_full'] = df_mn2['text_full'].str.replace(')', ' ')\n",
    "df_mn2['text_full'] = df_mn2['text_full'].str.replace('  ', ' ')"
   ]
  },
  {
   "cell_type": "code",
   "execution_count": 10,
   "metadata": {
    "id": "w8ghxEUNqgno"
   },
   "outputs": [],
   "source": [
    "## Removing \\n\n",
    "df_mn2['text_full'] = df_mn2['text_full'].str.replace('\\n', ' ')\n",
    "df_mn2['text_full'] = df_mn2['text_full'].str.replace('      ', ' ')"
   ]
  },
  {
   "cell_type": "code",
   "execution_count": 11,
   "metadata": {
    "id": "dyrCVXzUqgnb"
   },
   "outputs": [],
   "source": [
    "df_mn2['text_full'] = df_mn2['text_full'].str.replace('[^\\w\\s]', \"\")"
   ]
  },
  {
   "cell_type": "code",
   "execution_count": 12,
   "metadata": {
    "id": "bD2Tu2krqgnd"
   },
   "outputs": [],
   "source": [
    "# Good insight into how to apply function to dataframe\n",
    "\n",
    "#https://www.pythondaddy.com/python/how-to-remove-punctuation-from-a-dataframe-in-pandas-and-python/\n",
    "# def remove_punctuation(text):\n",
    "#     try:\n",
    "#         text = text.str.replace('[^\\w\\s]','')\n",
    "#     except:\n",
    "#         pass\n",
    "#     return text\n",
    "\n",
    "# df_mn2['text_full'].apply(remove_punctuation)"
   ]
  },
  {
   "cell_type": "code",
   "execution_count": 13,
   "metadata": {
    "colab": {
     "base_uri": "https://localhost:8080/",
     "height": 1000
    },
    "id": "xQTudPEhqgne",
    "outputId": "0152eb3c-b7da-44f2-d646-d3151be3b6c6"
   },
   "outputs": [
    {
     "data": {
      "text/html": [
       "<div>\n",
       "<style scoped>\n",
       "    .dataframe tbody tr th:only-of-type {\n",
       "        vertical-align: middle;\n",
       "    }\n",
       "\n",
       "    .dataframe tbody tr th {\n",
       "        vertical-align: top;\n",
       "    }\n",
       "\n",
       "    .dataframe thead th {\n",
       "        text-align: right;\n",
       "    }\n",
       "</style>\n",
       "<table border=\"1\" class=\"dataframe\">\n",
       "  <thead>\n",
       "    <tr style=\"text-align: right;\">\n",
       "      <th></th>\n",
       "      <th>title</th>\n",
       "      <th>title_url</th>\n",
       "      <th>ref</th>\n",
       "      <th>summary</th>\n",
       "      <th>text_full</th>\n",
       "      <th>notes</th>\n",
       "      <th>intro</th>\n",
       "    </tr>\n",
       "  </thead>\n",
       "  <tbody>\n",
       "    <tr>\n",
       "      <th>0</th>\n",
       "      <td>MN 1  Mūlapariyāya Sutta | The Root Sequence</td>\n",
       "      <td>https://www.dhammatalks.org/suttas/MN/MN1.html</td>\n",
       "      <td>MN 1</td>\n",
       "      <td>MN 1  Mūlapariyāya Sutta | The Root Sequence  —  The Majjhima Nikāya opens with one of the few suttas where his listeners did NOT delight in his words. In it, the Buddha dismisses the tendency—common both in his time and in ours—to posit a metaphysical principle from which the universe emanates.</td>\n",
       "      <td>i have heard that on one occasion the blessed one was staying near ukkaṭṭhā in the shade of a royal sal tree in the very blessed forest there he addressed the monks monks yes lord the monks responded to him  the blessed one said monks i will teach you the sequence of the root of all phenomena or the root sequence of all phenomena listen  pay close attention i will speak  as you say lord they responded to him  the blessed one said there is the case monks where an uninstructed run of the mill personwho has no regard for noble ones is not well versed or disciplined in their dhamma who has no regard for people of integrity is not well versed or disciplined in their dhammaperceives earth as earth perceiving earth as earth he supposes things about earth he supposes things in earth he supposes things coming out of earth he supposes earth as mine he delights in earth why is that because he has not comprehended it i tell you  he perceives water as water fire as fire wind as wind1 beings as beings devas as devas pajāpati as pajāpati brahmā as brahmā the radiant devas as radiant devas the beautiful black devas as beautiful black devas the sky fruit devas as sky fruit devas the conqueror as the conqueror2 the dimension of the infinitude of space as the dimension of the infinitude of space the dimension of the infinitude of consciousness as the dimension of the infinitude of consciousness the dimension of nothingness as the dimension of nothingness the dimension of neither perception nor non perception as the dimension of neither perception nor non perception3 the seen as the seen the heard as the heard the sensed as the sensed the cognized as the cognized4 singleness as singleness multiplicity as multiplicity5 the all as the all6 he perceives unbinding as unbinding 7 perceiving unbinding as unbinding he supposes things about unbinding he supposes things in unbinding he supposes things coming out of unbinding he supposes unbinding as mine he delights in unbinding why is that because he has not comprehended it i tell you  the trainee a monk who is a traineeyearning for the unexcelled relief from bondage his aspirations as yet unfulfilleddirectly knows earth as earth directly knowing earth as earth let him not suppose things about earth let him not suppose things in earth let him not suppose things coming out of earth let him not suppose earth as mine let him not delight in earth why is that so that he may comprehend it i tell you  he directly knows water as water fire as fire wind as wind beings as beings devas as devas pajāpati as pajāpati brahmā as brahmā the radiant devas as radiant devas the beautiful black devas as beautiful black devas the sky fruit devas as sky fruit devas the conqueror as the conqueror the dimension of the infinitude of space as the dimension of the infinitude of space the dimension of the infinitude of consciousness as the dimension of the infinitude of consciousness the dimension of nothingness as the dimension of nothingness the dimension of neither perception nor non perception as the dimension of neither perception nor non perception the seen as the seen the heard as the heard the sensed as the sensed the cognized as the cognized singleness as singleness multiplicity as multiplicity the all as the all he directly knows unbinding as unbinding directly knowing unbinding as unbinding let him not suppose things about unbinding let him not suppose things in unbinding let him not suppose things coming out of unbinding let him not suppose unbinding as mine let him not delight in unbinding why is that so that he may comprehend it i tell you  the arahant a monk who is a worthy one devoid of effluentswho has attained completion finished the task laid down the burden attained the true goal destroyed the fetters of becoming and is released through right knowledgedirectly knows earth as earth directly knowing earth as earth he doesnt suppose things about earth doesnt suppose things in earth doesnt suppose things coming out of earth doesnt suppose earth as mine doesnt delight in earth why is that because he has comprehended it i tell you  he directly knows water as water fire as fire wind as wind beings as beings devas as devas pajāpati as pajāpati brahmā as brahmā the radiant devas as radiant devas the beautiful black devas as beautiful black devas the sky fruit devas as sky fruit devas the conqueror as the conqueror the dimension of the infinitude of space as the dimension of the infinitude of space the dimension of the infinitude of consciousness as the dimension of the infinitude of consciousness the dimension of nothingness as the dimension of nothingness the dimension of neither perception nor non perception as the dimension of neither perception nor non perception the seen as the seen the heard as the heard the sensed as the sensed the cognized as the cognized singleness as singleness multiplicity as multiplicity the all as the all he directly knows unbinding as unbinding directly knowing unbinding as unbinding he doesnt suppose things about unbinding doesnt suppose things in unbinding doesnt suppose things coming out of unbinding doesnt suppose unbinding as mine doesnt delight in unbinding why is that because he has comprehended it i tell you  a monk who is a worthy one devoid of effluents directly knows earth as earth directly knowing earth as earth he doesnt suppose things about earth doesnt suppose things in earth doesnt suppose things coming out of earth doesnt suppose earth as mine doesnt delight in earth why is that because with the ending of passion he is devoid of passion i tell you  he directly knows water as water the all as the all he directly knows unbinding as unbinding directly knowing unbinding as unbinding he doesnt suppose things about unbinding doesnt suppose things in unbinding doesnt suppose things coming out of unbinding doesnt suppose unbinding as mine doesnt delight in unbinding why is that because with the ending of passion he is devoid of passion i tell you  a monk who is a worthy one devoid of effluents directly knows earth as earth directly knowing earth as earth he doesnt suppose things about earth doesnt suppose things in earth doesnt suppose things coming out of earth doesnt suppose earth as mine doesnt delight in earth why is that because with the ending of aversion he is devoid of aversion i tell you  he directly knows water as water the all as the all he directly knows unbinding as unbinding directly knowing unbinding as unbinding he doesnt suppose things about unbinding doesnt suppose things in unbinding doesnt suppose things coming out of unbinding doesnt suppose unbinding as mine doesnt delight in unbinding why is that because with the ending of aversion he is devoid of aversion i tell you  a monk who is a worthy one devoid of effluents directly knows earth as earth directly knowing earth as earth he doesnt suppose things about earth doesnt suppose things in earth doesnt suppose things coming out of earth doesnt suppose earth as mine doesnt delight in earth why is that because with the ending of delusion he is devoid of delusion i tell you  he directly knows water as water the all as the all he directly knows unbinding as unbinding directly knowing unbinding as unbinding he doesnt suppose things about unbinding doesnt suppose things in unbinding doesnt suppose things coming out of unbinding doesnt suppose unbinding as mine doesnt delight in unbinding why is that because with the ending of delusion he is devoid of delusion i tell you  the tathāgata the tathāgataa worthy one rightly self awakeneddirectly knows earth as earth directly knowing earth as earth he doesnt suppose things about earth doesnt suppose things in earth doesnt suppose things coming out of earth doesnt suppose earth as mine doesnt delight in earth why is that because the tathāgata has comprehended it to the end i tell you  he directly knows water as water fire as fire wind as wind beings as beings devas as devas pajāpati as pajāpati brahmā as brahmā the radiant devas as radiant devas the beautiful black devas as beautiful black devas the sky fruit devas as sky fruit devas the conqueror as the conqueror the dimension of the infinitude of space as the dimension of the infinitude of space the dimension of the infinitude of consciousness as the dimension of the infinitude of consciousness the dimension of nothingness as the dimension of nothingness the dimension of neither perception nor non perception as the dimension of neither perception nor non perception the seen as the seen the heard as the heard the sensed as the sensed the cognized as the cognized singleness as singleness multiplicity as multiplicity the all as the all he directly knows unbinding as unbinding directly knowing unbinding as unbinding he doesnt suppose things about unbinding doesnt suppose things in unbinding doesnt suppose things coming out of unbinding doesnt suppose unbinding as mine doesnt delight in unbinding why is that because the tathāgata has comprehended it to the end i tell you  the tathāgataa worthy one rightly self awakeneddirectly knows earth as earth directly knowing earth as earth he doesnt suppose things about earth doesnt suppose things in earth doesnt suppose things coming out of earth doesnt suppose earth as mine doesnt delight in earth why is that because he has known that delight is the root of suffering  stress that from coming into being there is birth and that for what has come into being there is aging  death therefore with the total ending fading away cessation letting go relinquishment of craving the tathāgata has totally awakened to the unexcelled right self awakening i tell you  he directly knows water as water the all as the all he directly knows unbinding as unbinding directly knowing unbinding as unbinding he doesnt suppose things about unbinding doesnt suppose things in unbinding doesnt suppose things coming out of unbinding doesnt suppose unbinding as mine doesnt delight in unbinding why is that because he has known that delight is the root of suffering  stress that from coming into being there is birth and that for what has come into being there is aging  death therefore with the total ending fading away cessation letting go relinquishment of craving the tathāgata has totally awakened to the unexcelled right self awakening i tell you  that is what the blessed one said displeased the monks did not delight in the blessed ones words</td>\n",
       "      <td>Notes\\n            1. Earth, water, fire, and wind are the four properties that comprise the experience of physical form.\\n            2. In this section of the list, “beings” denotes all living beings below the level of the gods. “Devas” denotes the beings in the sensual heavens. The remaining terms— Pajāpati, Brahmā, the Radiant devas, the Beautiful Black devas, the Sky-fruit devas, &amp; the Conqueror—denote devas in the heavens of form &amp; formlessness.\\n            3. The dimension of the infinitude of space, the dimension of the infinitude of consciousness, the dimension of nothingness, &amp; the dimension of neither perception nor non-perception are four formless states that can be attained in concentration.\\n            4. “The seen, the heard, the sensed, &amp; the cognized” is a set of terms to cover all things experienced through the six senses.\\n            5. Singleness = experience in states of intense concentration (jhāna). Multiplicity = experience via the six senses. See MN 137.\\n            6. “What is the All? Simply the eye &amp; forms, ear &amp; sounds, nose &amp; aromas, tongue &amp; flavors, body &amp; tactile sensations, intellect &amp; ideas. This is termed the All. Anyone who would say, ‘Repudiating this All, I will describe another,’ if questioned on what exactly might be the grounds for his assertion, would be unable to explain and, furthermore, would be put to grief. Why is that? Because it lies beyond range.” —SN 35:23\\n            For more on this topic, see The Mind Like Fire Unbound, Chapter 1.\\n            7. Unbinding = nibbāna (nirvāṇa).\\n          \\n          See also: MN 49; MN 72; MN 140; SN 12:23; AN 4:24; AN 4:199; AN 4:200; AN 9:36; AN 10:81; Ud 1:10</td>\n",
       "      <td>MN/1\\n          Introduction\\n          The Buddha listed clinging to views as one of the four forms of clinging that tie the mind to the processes of suffering. He thus recommended that his followers relinquish their clinging, not only to views in their full-blown form as specific positions, but also in their rudimentary form as the categories &amp; relationships that the mind reads into experience. This is a point he makes in the following discourse, which is apparently his response to a particular school of Brahmanical thought that was developing in his time—the Sāṅkhya, or classification school.\\n          This school had its beginnings in the thought of Uddālaka, a ninth-century B.C. philosopher who posited a “root”: an abstract principle out of which all things emanate and which remains immanent in all things. Philosophers who carried on this line of thinking offered a variety of theories, based on logic and meditative experience, about the nature of the ultimate root and about the hierarchy of the emanation. Many of their theories were recorded in the Upaniṣads and eventually developed into the classical Sāṅkhya system around the time of the Buddha.\\n          Although the present discourse says nothing about the background of the monks listening to it, the Commentary states that before their ordination they were brahmans, and that even after their ordination they continued to interpret the Buddha’s teachings in light of their previous training, which may well have been proto-Sāṅkhya. If this is so, then the Buddha’s opening lines —“I will teach you the sequence of the root of all phenomena”—would have them prepared to hear his contribution to their line of thinking. And, in fact, the list of topics he covers reads like a Buddhist Sāṅkhya. Paralleling the classical Sāṅkhya, it contains 24 items, begins with the physical world (here, the four physical properties), and leads back through ever more refined &amp; inclusive levels of being &amp; experience, culminating with the ultimate Buddhist concept: unbinding (nibbāna). In the pattern of Sāṅkhya thought, unbinding would thus be the ultimate “root” or ground of being immanent in all things and out of which they all emanate.\\n          However, instead of following this pattern of thinking, the Buddha attacks it at its very root: the notion of a principle in the abstract, the “in” (immanence) &amp; “out of” (emanation) superimposed on experience. Only an uninstructed run of the mill person, he says, would read experience in this way. In contrast, a person in training should look for a different kind of “root”—the root of suffering experienced in the present—and find it in the act of delight. Developing dispassion for that delight, the trainee can then comprehend the process of coming-into-being for what it is, drop all participation in it, and thus achieve true awakening.\\n          If the listeners present at this discourse were indeed interested in fitting Buddhist teachings into a Sāṅkhyan mold, then it’s small wonder that they were displeased—one of the few places where we read of a negative reaction to the Buddha’s words. They had hoped to hear his contribution to their project, but instead they hear their whole pattern of thinking &amp; theorizing attacked as ignorant &amp; ill-informed. The Commentary tells us, though, they were later able to overcome their displeasure and eventually attain awakening on listening to the discourse reported in AN 3:126.\\n          Although at present we rarely think in the same terms as the Sāṅkhya philosophers, there has long been—and still is—a common tendency to create a “Buddhist” metaphysics in which the experience of emptiness, the Unconditioned, the Dharma-body, Buddha-nature, rigpa, etc., is said to function as the ground of being from which the “All”—the entirety of our sensory &amp; mental experience—is said to spring and to which we return when we meditate. Some people think that these theories are the inventions of scholars without any direct meditative experience, but actually they have most often originated among meditators, who label (or in the words of the discourse, “perceive”) a particular meditative experience as the ultimate goal, identify with it in a subtle way (as when we are told that “we are the knowing”), and then suppose that level of experience to be the ground of being out of which all other experience comes.\\n          Any teaching that follows these lines would be subject to the same criticism that the Buddha directed against the monks who first heard this discourse.\\n</td>\n",
       "    </tr>\n",
       "  </tbody>\n",
       "</table>\n",
       "</div>"
      ],
      "text/plain": [
       "                                          title  \\\n",
       "0  MN 1  Mūlapariyāya Sutta | The Root Sequence   \n",
       "\n",
       "                                        title_url   ref  \\\n",
       "0  https://www.dhammatalks.org/suttas/MN/MN1.html  MN 1   \n",
       "\n",
       "                                                                                                                                                                                                                                                                                                    summary  \\\n",
       "0  MN 1  Mūlapariyāya Sutta | The Root Sequence  —  The Majjhima Nikāya opens with one of the few suttas where his listeners did NOT delight in his words. In it, the Buddha dismisses the tendency—common both in his time and in ours—to posit a metaphysical principle from which the universe emanates.   \n",
       "\n",
       "                                                                                                                                                                                                                                                                                                                                                                                                                                                                                                                                                                                                                                                                                                                                                                                                                                                                                                                                                                                                                                                                                                                                                                                                                                                                                                                                                                                                                                                                                                                                                                                                                                                                                                                                                                                                                                                                                                                                                                                                                                                                                                                                                                                                                                                                                                                                                                                                                                                                                                                                                                                                                                                                                                                                                                                                                                                                                                                                                                                                                                                                                                                                                                                                                                                                                                                                                                                                                                                                                                                                                                                                                                                                                                                                                                                                                                                                                                                                                                                                                                                                                                                                                                                                                                                                                                                                                                                                                                                                                                                                                                                                                                                                                                                                                                                                                                                                                                                                                                                                                                                                                                                                                                                                                                                                                                                                                                                                                                                                                                                                                                                                                                                                                                                                                                                                                                                                                                                                                                                                                                                                                                                                                                                                                                                                                                                                                                                                                                                                                                                                                                                                                                                                                                                                                                                                                                                                                                                                                                                                                                                                                                                                                                                                                                                                                                                                                                                                                                                                                                                                                                                                                                                                                                                                                                                                                                                                                                                                                                                                                                                                                                                                                                                                                                                                                                                                                                                                                                                                                                                                                                                                                                                                                                                                                                                                                                                                                                                                                                                                                                                                                                                                                                                                                                                                                                                                                                                                                                                                                                                                                                                                                                                                                                                                                                                                                                                                                                                                                                                                                                                                                                                                                                                                                                                                                                                                                                                                                                                                                                                                                                                                                                                                                                                                                                                                                                                                        text_full  \\\n",
       "0   i have heard that on one occasion the blessed one was staying near ukkaṭṭhā in the shade of a royal sal tree in the very blessed forest there he addressed the monks monks yes lord the monks responded to him  the blessed one said monks i will teach you the sequence of the root of all phenomena or the root sequence of all phenomena listen  pay close attention i will speak  as you say lord they responded to him  the blessed one said there is the case monks where an uninstructed run of the mill personwho has no regard for noble ones is not well versed or disciplined in their dhamma who has no regard for people of integrity is not well versed or disciplined in their dhammaperceives earth as earth perceiving earth as earth he supposes things about earth he supposes things in earth he supposes things coming out of earth he supposes earth as mine he delights in earth why is that because he has not comprehended it i tell you  he perceives water as water fire as fire wind as wind1 beings as beings devas as devas pajāpati as pajāpati brahmā as brahmā the radiant devas as radiant devas the beautiful black devas as beautiful black devas the sky fruit devas as sky fruit devas the conqueror as the conqueror2 the dimension of the infinitude of space as the dimension of the infinitude of space the dimension of the infinitude of consciousness as the dimension of the infinitude of consciousness the dimension of nothingness as the dimension of nothingness the dimension of neither perception nor non perception as the dimension of neither perception nor non perception3 the seen as the seen the heard as the heard the sensed as the sensed the cognized as the cognized4 singleness as singleness multiplicity as multiplicity5 the all as the all6 he perceives unbinding as unbinding 7 perceiving unbinding as unbinding he supposes things about unbinding he supposes things in unbinding he supposes things coming out of unbinding he supposes unbinding as mine he delights in unbinding why is that because he has not comprehended it i tell you  the trainee a monk who is a traineeyearning for the unexcelled relief from bondage his aspirations as yet unfulfilleddirectly knows earth as earth directly knowing earth as earth let him not suppose things about earth let him not suppose things in earth let him not suppose things coming out of earth let him not suppose earth as mine let him not delight in earth why is that so that he may comprehend it i tell you  he directly knows water as water fire as fire wind as wind beings as beings devas as devas pajāpati as pajāpati brahmā as brahmā the radiant devas as radiant devas the beautiful black devas as beautiful black devas the sky fruit devas as sky fruit devas the conqueror as the conqueror the dimension of the infinitude of space as the dimension of the infinitude of space the dimension of the infinitude of consciousness as the dimension of the infinitude of consciousness the dimension of nothingness as the dimension of nothingness the dimension of neither perception nor non perception as the dimension of neither perception nor non perception the seen as the seen the heard as the heard the sensed as the sensed the cognized as the cognized singleness as singleness multiplicity as multiplicity the all as the all he directly knows unbinding as unbinding directly knowing unbinding as unbinding let him not suppose things about unbinding let him not suppose things in unbinding let him not suppose things coming out of unbinding let him not suppose unbinding as mine let him not delight in unbinding why is that so that he may comprehend it i tell you  the arahant a monk who is a worthy one devoid of effluentswho has attained completion finished the task laid down the burden attained the true goal destroyed the fetters of becoming and is released through right knowledgedirectly knows earth as earth directly knowing earth as earth he doesnt suppose things about earth doesnt suppose things in earth doesnt suppose things coming out of earth doesnt suppose earth as mine doesnt delight in earth why is that because he has comprehended it i tell you  he directly knows water as water fire as fire wind as wind beings as beings devas as devas pajāpati as pajāpati brahmā as brahmā the radiant devas as radiant devas the beautiful black devas as beautiful black devas the sky fruit devas as sky fruit devas the conqueror as the conqueror the dimension of the infinitude of space as the dimension of the infinitude of space the dimension of the infinitude of consciousness as the dimension of the infinitude of consciousness the dimension of nothingness as the dimension of nothingness the dimension of neither perception nor non perception as the dimension of neither perception nor non perception the seen as the seen the heard as the heard the sensed as the sensed the cognized as the cognized singleness as singleness multiplicity as multiplicity the all as the all he directly knows unbinding as unbinding directly knowing unbinding as unbinding he doesnt suppose things about unbinding doesnt suppose things in unbinding doesnt suppose things coming out of unbinding doesnt suppose unbinding as mine doesnt delight in unbinding why is that because he has comprehended it i tell you  a monk who is a worthy one devoid of effluents directly knows earth as earth directly knowing earth as earth he doesnt suppose things about earth doesnt suppose things in earth doesnt suppose things coming out of earth doesnt suppose earth as mine doesnt delight in earth why is that because with the ending of passion he is devoid of passion i tell you  he directly knows water as water the all as the all he directly knows unbinding as unbinding directly knowing unbinding as unbinding he doesnt suppose things about unbinding doesnt suppose things in unbinding doesnt suppose things coming out of unbinding doesnt suppose unbinding as mine doesnt delight in unbinding why is that because with the ending of passion he is devoid of passion i tell you  a monk who is a worthy one devoid of effluents directly knows earth as earth directly knowing earth as earth he doesnt suppose things about earth doesnt suppose things in earth doesnt suppose things coming out of earth doesnt suppose earth as mine doesnt delight in earth why is that because with the ending of aversion he is devoid of aversion i tell you  he directly knows water as water the all as the all he directly knows unbinding as unbinding directly knowing unbinding as unbinding he doesnt suppose things about unbinding doesnt suppose things in unbinding doesnt suppose things coming out of unbinding doesnt suppose unbinding as mine doesnt delight in unbinding why is that because with the ending of aversion he is devoid of aversion i tell you  a monk who is a worthy one devoid of effluents directly knows earth as earth directly knowing earth as earth he doesnt suppose things about earth doesnt suppose things in earth doesnt suppose things coming out of earth doesnt suppose earth as mine doesnt delight in earth why is that because with the ending of delusion he is devoid of delusion i tell you  he directly knows water as water the all as the all he directly knows unbinding as unbinding directly knowing unbinding as unbinding he doesnt suppose things about unbinding doesnt suppose things in unbinding doesnt suppose things coming out of unbinding doesnt suppose unbinding as mine doesnt delight in unbinding why is that because with the ending of delusion he is devoid of delusion i tell you  the tathāgata the tathāgataa worthy one rightly self awakeneddirectly knows earth as earth directly knowing earth as earth he doesnt suppose things about earth doesnt suppose things in earth doesnt suppose things coming out of earth doesnt suppose earth as mine doesnt delight in earth why is that because the tathāgata has comprehended it to the end i tell you  he directly knows water as water fire as fire wind as wind beings as beings devas as devas pajāpati as pajāpati brahmā as brahmā the radiant devas as radiant devas the beautiful black devas as beautiful black devas the sky fruit devas as sky fruit devas the conqueror as the conqueror the dimension of the infinitude of space as the dimension of the infinitude of space the dimension of the infinitude of consciousness as the dimension of the infinitude of consciousness the dimension of nothingness as the dimension of nothingness the dimension of neither perception nor non perception as the dimension of neither perception nor non perception the seen as the seen the heard as the heard the sensed as the sensed the cognized as the cognized singleness as singleness multiplicity as multiplicity the all as the all he directly knows unbinding as unbinding directly knowing unbinding as unbinding he doesnt suppose things about unbinding doesnt suppose things in unbinding doesnt suppose things coming out of unbinding doesnt suppose unbinding as mine doesnt delight in unbinding why is that because the tathāgata has comprehended it to the end i tell you  the tathāgataa worthy one rightly self awakeneddirectly knows earth as earth directly knowing earth as earth he doesnt suppose things about earth doesnt suppose things in earth doesnt suppose things coming out of earth doesnt suppose earth as mine doesnt delight in earth why is that because he has known that delight is the root of suffering  stress that from coming into being there is birth and that for what has come into being there is aging  death therefore with the total ending fading away cessation letting go relinquishment of craving the tathāgata has totally awakened to the unexcelled right self awakening i tell you  he directly knows water as water the all as the all he directly knows unbinding as unbinding directly knowing unbinding as unbinding he doesnt suppose things about unbinding doesnt suppose things in unbinding doesnt suppose things coming out of unbinding doesnt suppose unbinding as mine doesnt delight in unbinding why is that because he has known that delight is the root of suffering  stress that from coming into being there is birth and that for what has come into being there is aging  death therefore with the total ending fading away cessation letting go relinquishment of craving the tathāgata has totally awakened to the unexcelled right self awakening i tell you  that is what the blessed one said displeased the monks did not delight in the blessed ones words    \n",
       "\n",
       "                                                                                                                                                                                                                                                                                                                                                                                                                                                                                                                                                                                                                                                                                                                                                                                                                                                                                                                                                                                                                                                                                                                                                                                                                                                                                                                                                                                                                                                                                                                                                                                                                                                                                                                                                            notes  \\\n",
       "0              Notes\\n            1. Earth, water, fire, and wind are the four properties that comprise the experience of physical form.\\n            2. In this section of the list, “beings” denotes all living beings below the level of the gods. “Devas” denotes the beings in the sensual heavens. The remaining terms— Pajāpati, Brahmā, the Radiant devas, the Beautiful Black devas, the Sky-fruit devas, & the Conqueror—denote devas in the heavens of form & formlessness.\\n            3. The dimension of the infinitude of space, the dimension of the infinitude of consciousness, the dimension of nothingness, & the dimension of neither perception nor non-perception are four formless states that can be attained in concentration.\\n            4. “The seen, the heard, the sensed, & the cognized” is a set of terms to cover all things experienced through the six senses.\\n            5. Singleness = experience in states of intense concentration (jhāna). Multiplicity = experience via the six senses. See MN 137.\\n            6. “What is the All? Simply the eye & forms, ear & sounds, nose & aromas, tongue & flavors, body & tactile sensations, intellect & ideas. This is termed the All. Anyone who would say, ‘Repudiating this All, I will describe another,’ if questioned on what exactly might be the grounds for his assertion, would be unable to explain and, furthermore, would be put to grief. Why is that? Because it lies beyond range.” —SN 35:23\\n            For more on this topic, see The Mind Like Fire Unbound, Chapter 1.\\n            7. Unbinding = nibbāna (nirvāṇa).\\n          \\n          See also: MN 49; MN 72; MN 140; SN 12:23; AN 4:24; AN 4:199; AN 4:200; AN 9:36; AN 10:81; Ud 1:10   \n",
       "\n",
       "                                                                                                                                                                                                                                                                                                                                                                                                                                                                                                                                                                                                                                                                                                                                                                                                                                                                                                                                                                                                                                                                                                                                                                                                                                                                                                                                                                                                                                                                                                                                                                                                                                                                                                                                                                                                                                                                                                                                                                                                                                                                                                                                                                                                                                                                                                                                                                                                                                                                                                                                                                                                                                                                                                                                                                                                                                                                                                                                                                                                                                                                                                                                                                                                                                                                                                                                                                                                                                                                                                                                                                                                                                                                                                                                                                                                                                                                                                                                                                                                                                                                                                                                                                                                                                                                                                                                                                                                                                                                                                                                                                                                                                                                                                                                               intro  \n",
       "0  MN/1\\n          Introduction\\n          The Buddha listed clinging to views as one of the four forms of clinging that tie the mind to the processes of suffering. He thus recommended that his followers relinquish their clinging, not only to views in their full-blown form as specific positions, but also in their rudimentary form as the categories & relationships that the mind reads into experience. This is a point he makes in the following discourse, which is apparently his response to a particular school of Brahmanical thought that was developing in his time—the Sāṅkhya, or classification school.\\n          This school had its beginnings in the thought of Uddālaka, a ninth-century B.C. philosopher who posited a “root”: an abstract principle out of which all things emanate and which remains immanent in all things. Philosophers who carried on this line of thinking offered a variety of theories, based on logic and meditative experience, about the nature of the ultimate root and about the hierarchy of the emanation. Many of their theories were recorded in the Upaniṣads and eventually developed into the classical Sāṅkhya system around the time of the Buddha.\\n          Although the present discourse says nothing about the background of the monks listening to it, the Commentary states that before their ordination they were brahmans, and that even after their ordination they continued to interpret the Buddha’s teachings in light of their previous training, which may well have been proto-Sāṅkhya. If this is so, then the Buddha’s opening lines —“I will teach you the sequence of the root of all phenomena”—would have them prepared to hear his contribution to their line of thinking. And, in fact, the list of topics he covers reads like a Buddhist Sāṅkhya. Paralleling the classical Sāṅkhya, it contains 24 items, begins with the physical world (here, the four physical properties), and leads back through ever more refined & inclusive levels of being & experience, culminating with the ultimate Buddhist concept: unbinding (nibbāna). In the pattern of Sāṅkhya thought, unbinding would thus be the ultimate “root” or ground of being immanent in all things and out of which they all emanate.\\n          However, instead of following this pattern of thinking, the Buddha attacks it at its very root: the notion of a principle in the abstract, the “in” (immanence) & “out of” (emanation) superimposed on experience. Only an uninstructed run of the mill person, he says, would read experience in this way. In contrast, a person in training should look for a different kind of “root”—the root of suffering experienced in the present—and find it in the act of delight. Developing dispassion for that delight, the trainee can then comprehend the process of coming-into-being for what it is, drop all participation in it, and thus achieve true awakening.\\n          If the listeners present at this discourse were indeed interested in fitting Buddhist teachings into a Sāṅkhyan mold, then it’s small wonder that they were displeased—one of the few places where we read of a negative reaction to the Buddha’s words. They had hoped to hear his contribution to their project, but instead they hear their whole pattern of thinking & theorizing attacked as ignorant & ill-informed. The Commentary tells us, though, they were later able to overcome their displeasure and eventually attain awakening on listening to the discourse reported in AN 3:126.\\n          Although at present we rarely think in the same terms as the Sāṅkhya philosophers, there has long been—and still is—a common tendency to create a “Buddhist” metaphysics in which the experience of emptiness, the Unconditioned, the Dharma-body, Buddha-nature, rigpa, etc., is said to function as the ground of being from which the “All”—the entirety of our sensory & mental experience—is said to spring and to which we return when we meditate. Some people think that these theories are the inventions of scholars without any direct meditative experience, but actually they have most often originated among meditators, who label (or in the words of the discourse, “perceive”) a particular meditative experience as the ultimate goal, identify with it in a subtle way (as when we are told that “we are the knowing”), and then suppose that level of experience to be the ground of being out of which all other experience comes.\\n          Any teaching that follows these lines would be subject to the same criticism that the Buddha directed against the monks who first heard this discourse.\\n              "
      ]
     },
     "execution_count": 13,
     "metadata": {},
     "output_type": "execute_result"
    }
   ],
   "source": [
    "df_mn2.head(1)"
   ]
  },
  {
   "cell_type": "markdown",
   "metadata": {
    "id": "Rbn23z44qgne"
   },
   "source": [
    "## Tokenzing (code for Splitting at \\n)"
   ]
  },
  {
   "cell_type": "code",
   "execution_count": 14,
   "metadata": {
    "id": "a7vnnPdgqgne"
   },
   "outputs": [],
   "source": [
    "df_mn2['text_token'] = [simple_preprocess(line, deacc=True) for line in df_mn2['text_full']] "
   ]
  },
  {
   "cell_type": "code",
   "execution_count": 15,
   "metadata": {
    "colab": {
     "base_uri": "https://localhost:8080/",
     "height": 1000
    },
    "id": "3kVK9uJTqgnf",
    "outputId": "a9af5aee-1b60-49ef-e71f-d894a75ed13d"
   },
   "outputs": [
    {
     "data": {
      "text/html": [
       "<div>\n",
       "<style scoped>\n",
       "    .dataframe tbody tr th:only-of-type {\n",
       "        vertical-align: middle;\n",
       "    }\n",
       "\n",
       "    .dataframe tbody tr th {\n",
       "        vertical-align: top;\n",
       "    }\n",
       "\n",
       "    .dataframe thead th {\n",
       "        text-align: right;\n",
       "    }\n",
       "</style>\n",
       "<table border=\"1\" class=\"dataframe\">\n",
       "  <thead>\n",
       "    <tr style=\"text-align: right;\">\n",
       "      <th></th>\n",
       "      <th>title</th>\n",
       "      <th>title_url</th>\n",
       "      <th>ref</th>\n",
       "      <th>summary</th>\n",
       "      <th>text_full</th>\n",
       "      <th>notes</th>\n",
       "      <th>intro</th>\n",
       "      <th>text_token</th>\n",
       "    </tr>\n",
       "  </thead>\n",
       "  <tbody>\n",
       "    <tr>\n",
       "      <th>0</th>\n",
       "      <td>MN 1  Mūlapariyāya Sutta | The Root Sequence</td>\n",
       "      <td>https://www.dhammatalks.org/suttas/MN/MN1.html</td>\n",
       "      <td>MN 1</td>\n",
       "      <td>MN 1  Mūlapariyāya Sutta | The Root Sequence  —  The Majjhima Nikāya opens with one of the few suttas where his listeners did NOT delight in his words. In it, the Buddha dismisses the tendency—common both in his time and in ours—to posit a metaphysical principle from which the universe emanates.</td>\n",
       "      <td>i have heard that on one occasion the blessed one was staying near ukkaṭṭhā in the shade of a royal sal tree in the very blessed forest there he addressed the monks monks yes lord the monks responded to him  the blessed one said monks i will teach you the sequence of the root of all phenomena or the root sequence of all phenomena listen  pay close attention i will speak  as you say lord they responded to him  the blessed one said there is the case monks where an uninstructed run of the mill personwho has no regard for noble ones is not well versed or disciplined in their dhamma who has no regard for people of integrity is not well versed or disciplined in their dhammaperceives earth as earth perceiving earth as earth he supposes things about earth he supposes things in earth he supposes things coming out of earth he supposes earth as mine he delights in earth why is that because he has not comprehended it i tell you  he perceives water as water fire as fire wind as wind1 beings as beings devas as devas pajāpati as pajāpati brahmā as brahmā the radiant devas as radiant devas the beautiful black devas as beautiful black devas the sky fruit devas as sky fruit devas the conqueror as the conqueror2 the dimension of the infinitude of space as the dimension of the infinitude of space the dimension of the infinitude of consciousness as the dimension of the infinitude of consciousness the dimension of nothingness as the dimension of nothingness the dimension of neither perception nor non perception as the dimension of neither perception nor non perception3 the seen as the seen the heard as the heard the sensed as the sensed the cognized as the cognized4 singleness as singleness multiplicity as multiplicity5 the all as the all6 he perceives unbinding as unbinding 7 perceiving unbinding as unbinding he supposes things about unbinding he supposes things in unbinding he supposes things coming out of unbinding he supposes unbinding as mine he delights in unbinding why is that because he has not comprehended it i tell you  the trainee a monk who is a traineeyearning for the unexcelled relief from bondage his aspirations as yet unfulfilleddirectly knows earth as earth directly knowing earth as earth let him not suppose things about earth let him not suppose things in earth let him not suppose things coming out of earth let him not suppose earth as mine let him not delight in earth why is that so that he may comprehend it i tell you  he directly knows water as water fire as fire wind as wind beings as beings devas as devas pajāpati as pajāpati brahmā as brahmā the radiant devas as radiant devas the beautiful black devas as beautiful black devas the sky fruit devas as sky fruit devas the conqueror as the conqueror the dimension of the infinitude of space as the dimension of the infinitude of space the dimension of the infinitude of consciousness as the dimension of the infinitude of consciousness the dimension of nothingness as the dimension of nothingness the dimension of neither perception nor non perception as the dimension of neither perception nor non perception the seen as the seen the heard as the heard the sensed as the sensed the cognized as the cognized singleness as singleness multiplicity as multiplicity the all as the all he directly knows unbinding as unbinding directly knowing unbinding as unbinding let him not suppose things about unbinding let him not suppose things in unbinding let him not suppose things coming out of unbinding let him not suppose unbinding as mine let him not delight in unbinding why is that so that he may comprehend it i tell you  the arahant a monk who is a worthy one devoid of effluentswho has attained completion finished the task laid down the burden attained the true goal destroyed the fetters of becoming and is released through right knowledgedirectly knows earth as earth directly knowing earth as earth he doesnt suppose things about earth doesnt suppose things in earth doesnt suppose things coming out of earth doesnt suppose earth as mine doesnt delight in earth why is that because he has comprehended it i tell you  he directly knows water as water fire as fire wind as wind beings as beings devas as devas pajāpati as pajāpati brahmā as brahmā the radiant devas as radiant devas the beautiful black devas as beautiful black devas the sky fruit devas as sky fruit devas the conqueror as the conqueror the dimension of the infinitude of space as the dimension of the infinitude of space the dimension of the infinitude of consciousness as the dimension of the infinitude of consciousness the dimension of nothingness as the dimension of nothingness the dimension of neither perception nor non perception as the dimension of neither perception nor non perception the seen as the seen the heard as the heard the sensed as the sensed the cognized as the cognized singleness as singleness multiplicity as multiplicity the all as the all he directly knows unbinding as unbinding directly knowing unbinding as unbinding he doesnt suppose things about unbinding doesnt suppose things in unbinding doesnt suppose things coming out of unbinding doesnt suppose unbinding as mine doesnt delight in unbinding why is that because he has comprehended it i tell you  a monk who is a worthy one devoid of effluents directly knows earth as earth directly knowing earth as earth he doesnt suppose things about earth doesnt suppose things in earth doesnt suppose things coming out of earth doesnt suppose earth as mine doesnt delight in earth why is that because with the ending of passion he is devoid of passion i tell you  he directly knows water as water the all as the all he directly knows unbinding as unbinding directly knowing unbinding as unbinding he doesnt suppose things about unbinding doesnt suppose things in unbinding doesnt suppose things coming out of unbinding doesnt suppose unbinding as mine doesnt delight in unbinding why is that because with the ending of passion he is devoid of passion i tell you  a monk who is a worthy one devoid of effluents directly knows earth as earth directly knowing earth as earth he doesnt suppose things about earth doesnt suppose things in earth doesnt suppose things coming out of earth doesnt suppose earth as mine doesnt delight in earth why is that because with the ending of aversion he is devoid of aversion i tell you  he directly knows water as water the all as the all he directly knows unbinding as unbinding directly knowing unbinding as unbinding he doesnt suppose things about unbinding doesnt suppose things in unbinding doesnt suppose things coming out of unbinding doesnt suppose unbinding as mine doesnt delight in unbinding why is that because with the ending of aversion he is devoid of aversion i tell you  a monk who is a worthy one devoid of effluents directly knows earth as earth directly knowing earth as earth he doesnt suppose things about earth doesnt suppose things in earth doesnt suppose things coming out of earth doesnt suppose earth as mine doesnt delight in earth why is that because with the ending of delusion he is devoid of delusion i tell you  he directly knows water as water the all as the all he directly knows unbinding as unbinding directly knowing unbinding as unbinding he doesnt suppose things about unbinding doesnt suppose things in unbinding doesnt suppose things coming out of unbinding doesnt suppose unbinding as mine doesnt delight in unbinding why is that because with the ending of delusion he is devoid of delusion i tell you  the tathāgata the tathāgataa worthy one rightly self awakeneddirectly knows earth as earth directly knowing earth as earth he doesnt suppose things about earth doesnt suppose things in earth doesnt suppose things coming out of earth doesnt suppose earth as mine doesnt delight in earth why is that because the tathāgata has comprehended it to the end i tell you  he directly knows water as water fire as fire wind as wind beings as beings devas as devas pajāpati as pajāpati brahmā as brahmā the radiant devas as radiant devas the beautiful black devas as beautiful black devas the sky fruit devas as sky fruit devas the conqueror as the conqueror the dimension of the infinitude of space as the dimension of the infinitude of space the dimension of the infinitude of consciousness as the dimension of the infinitude of consciousness the dimension of nothingness as the dimension of nothingness the dimension of neither perception nor non perception as the dimension of neither perception nor non perception the seen as the seen the heard as the heard the sensed as the sensed the cognized as the cognized singleness as singleness multiplicity as multiplicity the all as the all he directly knows unbinding as unbinding directly knowing unbinding as unbinding he doesnt suppose things about unbinding doesnt suppose things in unbinding doesnt suppose things coming out of unbinding doesnt suppose unbinding as mine doesnt delight in unbinding why is that because the tathāgata has comprehended it to the end i tell you  the tathāgataa worthy one rightly self awakeneddirectly knows earth as earth directly knowing earth as earth he doesnt suppose things about earth doesnt suppose things in earth doesnt suppose things coming out of earth doesnt suppose earth as mine doesnt delight in earth why is that because he has known that delight is the root of suffering  stress that from coming into being there is birth and that for what has come into being there is aging  death therefore with the total ending fading away cessation letting go relinquishment of craving the tathāgata has totally awakened to the unexcelled right self awakening i tell you  he directly knows water as water the all as the all he directly knows unbinding as unbinding directly knowing unbinding as unbinding he doesnt suppose things about unbinding doesnt suppose things in unbinding doesnt suppose things coming out of unbinding doesnt suppose unbinding as mine doesnt delight in unbinding why is that because he has known that delight is the root of suffering  stress that from coming into being there is birth and that for what has come into being there is aging  death therefore with the total ending fading away cessation letting go relinquishment of craving the tathāgata has totally awakened to the unexcelled right self awakening i tell you  that is what the blessed one said displeased the monks did not delight in the blessed ones words</td>\n",
       "      <td>Notes\\n            1. Earth, water, fire, and wind are the four properties that comprise the experience of physical form.\\n            2. In this section of the list, “beings” denotes all living beings below the level of the gods. “Devas” denotes the beings in the sensual heavens. The remaining terms— Pajāpati, Brahmā, the Radiant devas, the Beautiful Black devas, the Sky-fruit devas, &amp; the Conqueror—denote devas in the heavens of form &amp; formlessness.\\n            3. The dimension of the infinitude of space, the dimension of the infinitude of consciousness, the dimension of nothingness, &amp; the dimension of neither perception nor non-perception are four formless states that can be attained in concentration.\\n            4. “The seen, the heard, the sensed, &amp; the cognized” is a set of terms to cover all things experienced through the six senses.\\n            5. Singleness = experience in states of intense concentration (jhāna). Multiplicity = experience via the six senses. See MN 137.\\n            6. “What is the All? Simply the eye &amp; forms, ear &amp; sounds, nose &amp; aromas, tongue &amp; flavors, body &amp; tactile sensations, intellect &amp; ideas. This is termed the All. Anyone who would say, ‘Repudiating this All, I will describe another,’ if questioned on what exactly might be the grounds for his assertion, would be unable to explain and, furthermore, would be put to grief. Why is that? Because it lies beyond range.” —SN 35:23\\n            For more on this topic, see The Mind Like Fire Unbound, Chapter 1.\\n            7. Unbinding = nibbāna (nirvāṇa).\\n          \\n          See also: MN 49; MN 72; MN 140; SN 12:23; AN 4:24; AN 4:199; AN 4:200; AN 9:36; AN 10:81; Ud 1:10</td>\n",
       "      <td>MN/1\\n          Introduction\\n          The Buddha listed clinging to views as one of the four forms of clinging that tie the mind to the processes of suffering. He thus recommended that his followers relinquish their clinging, not only to views in their full-blown form as specific positions, but also in their rudimentary form as the categories &amp; relationships that the mind reads into experience. This is a point he makes in the following discourse, which is apparently his response to a particular school of Brahmanical thought that was developing in his time—the Sāṅkhya, or classification school.\\n          This school had its beginnings in the thought of Uddālaka, a ninth-century B.C. philosopher who posited a “root”: an abstract principle out of which all things emanate and which remains immanent in all things. Philosophers who carried on this line of thinking offered a variety of theories, based on logic and meditative experience, about the nature of the ultimate root and about the hierarchy of the emanation. Many of their theories were recorded in the Upaniṣads and eventually developed into the classical Sāṅkhya system around the time of the Buddha.\\n          Although the present discourse says nothing about the background of the monks listening to it, the Commentary states that before their ordination they were brahmans, and that even after their ordination they continued to interpret the Buddha’s teachings in light of their previous training, which may well have been proto-Sāṅkhya. If this is so, then the Buddha’s opening lines —“I will teach you the sequence of the root of all phenomena”—would have them prepared to hear his contribution to their line of thinking. And, in fact, the list of topics he covers reads like a Buddhist Sāṅkhya. Paralleling the classical Sāṅkhya, it contains 24 items, begins with the physical world (here, the four physical properties), and leads back through ever more refined &amp; inclusive levels of being &amp; experience, culminating with the ultimate Buddhist concept: unbinding (nibbāna). In the pattern of Sāṅkhya thought, unbinding would thus be the ultimate “root” or ground of being immanent in all things and out of which they all emanate.\\n          However, instead of following this pattern of thinking, the Buddha attacks it at its very root: the notion of a principle in the abstract, the “in” (immanence) &amp; “out of” (emanation) superimposed on experience. Only an uninstructed run of the mill person, he says, would read experience in this way. In contrast, a person in training should look for a different kind of “root”—the root of suffering experienced in the present—and find it in the act of delight. Developing dispassion for that delight, the trainee can then comprehend the process of coming-into-being for what it is, drop all participation in it, and thus achieve true awakening.\\n          If the listeners present at this discourse were indeed interested in fitting Buddhist teachings into a Sāṅkhyan mold, then it’s small wonder that they were displeased—one of the few places where we read of a negative reaction to the Buddha’s words. They had hoped to hear his contribution to their project, but instead they hear their whole pattern of thinking &amp; theorizing attacked as ignorant &amp; ill-informed. The Commentary tells us, though, they were later able to overcome their displeasure and eventually attain awakening on listening to the discourse reported in AN 3:126.\\n          Although at present we rarely think in the same terms as the Sāṅkhya philosophers, there has long been—and still is—a common tendency to create a “Buddhist” metaphysics in which the experience of emptiness, the Unconditioned, the Dharma-body, Buddha-nature, rigpa, etc., is said to function as the ground of being from which the “All”—the entirety of our sensory &amp; mental experience—is said to spring and to which we return when we meditate. Some people think that these theories are the inventions of scholars without any direct meditative experience, but actually they have most often originated among meditators, who label (or in the words of the discourse, “perceive”) a particular meditative experience as the ultimate goal, identify with it in a subtle way (as when we are told that “we are the knowing”), and then suppose that level of experience to be the ground of being out of which all other experience comes.\\n          Any teaching that follows these lines would be subject to the same criticism that the Buddha directed against the monks who first heard this discourse.\\n</td>\n",
       "      <td>[have, heard, that, on, one, occasion, the, blessed, one, was, staying, near, ukkattha, in, the, shade, of, royal, sal, tree, in, the, very, blessed, forest, there, he, addressed, the, monks, monks, yes, lord, the, monks, responded, to, him, the, blessed, one, said, monks, will, teach, you, the, sequence, of, the, root, of, all, phenomena, or, the, root, sequence, of, all, phenomena, listen, pay, close, attention, will, speak, as, you, say, lord, they, responded, to, him, the, blessed, one, said, there, is, the, case, monks, where, an, uninstructed, run, of, the, mill, personwho, has, no, regard, for, noble, ones, is, not, ...]</td>\n",
       "    </tr>\n",
       "  </tbody>\n",
       "</table>\n",
       "</div>"
      ],
      "text/plain": [
       "                                          title  \\\n",
       "0  MN 1  Mūlapariyāya Sutta | The Root Sequence   \n",
       "\n",
       "                                        title_url   ref  \\\n",
       "0  https://www.dhammatalks.org/suttas/MN/MN1.html  MN 1   \n",
       "\n",
       "                                                                                                                                                                                                                                                                                                    summary  \\\n",
       "0  MN 1  Mūlapariyāya Sutta | The Root Sequence  —  The Majjhima Nikāya opens with one of the few suttas where his listeners did NOT delight in his words. In it, the Buddha dismisses the tendency—common both in his time and in ours—to posit a metaphysical principle from which the universe emanates.   \n",
       "\n",
       "                                                                                                                                                                                                                                                                                                                                                                                                                                                                                                                                                                                                                                                                                                                                                                                                                                                                                                                                                                                                                                                                                                                                                                                                                                                                                                                                                                                                                                                                                                                                                                                                                                                                                                                                                                                                                                                                                                                                                                                                                                                                                                                                                                                                                                                                                                                                                                                                                                                                                                                                                                                                                                                                                                                                                                                                                                                                                                                                                                                                                                                                                                                                                                                                                                                                                                                                                                                                                                                                                                                                                                                                                                                                                                                                                                                                                                                                                                                                                                                                                                                                                                                                                                                                                                                                                                                                                                                                                                                                                                                                                                                                                                                                                                                                                                                                                                                                                                                                                                                                                                                                                                                                                                                                                                                                                                                                                                                                                                                                                                                                                                                                                                                                                                                                                                                                                                                                                                                                                                                                                                                                                                                                                                                                                                                                                                                                                                                                                                                                                                                                                                                                                                                                                                                                                                                                                                                                                                                                                                                                                                                                                                                                                                                                                                                                                                                                                                                                                                                                                                                                                                                                                                                                                                                                                                                                                                                                                                                                                                                                                                                                                                                                                                                                                                                                                                                                                                                                                                                                                                                                                                                                                                                                                                                                                                                                                                                                                                                                                                                                                                                                                                                                                                                                                                                                                                                                                                                                                                                                                                                                                                                                                                                                                                                                                                                                                                                                                                                                                                                                                                                                                                                                                                                                                                                                                                                                                                                                                                                                                                                                                                                                                                                                                                                                                                                                                                                                        text_full  \\\n",
       "0   i have heard that on one occasion the blessed one was staying near ukkaṭṭhā in the shade of a royal sal tree in the very blessed forest there he addressed the monks monks yes lord the monks responded to him  the blessed one said monks i will teach you the sequence of the root of all phenomena or the root sequence of all phenomena listen  pay close attention i will speak  as you say lord they responded to him  the blessed one said there is the case monks where an uninstructed run of the mill personwho has no regard for noble ones is not well versed or disciplined in their dhamma who has no regard for people of integrity is not well versed or disciplined in their dhammaperceives earth as earth perceiving earth as earth he supposes things about earth he supposes things in earth he supposes things coming out of earth he supposes earth as mine he delights in earth why is that because he has not comprehended it i tell you  he perceives water as water fire as fire wind as wind1 beings as beings devas as devas pajāpati as pajāpati brahmā as brahmā the radiant devas as radiant devas the beautiful black devas as beautiful black devas the sky fruit devas as sky fruit devas the conqueror as the conqueror2 the dimension of the infinitude of space as the dimension of the infinitude of space the dimension of the infinitude of consciousness as the dimension of the infinitude of consciousness the dimension of nothingness as the dimension of nothingness the dimension of neither perception nor non perception as the dimension of neither perception nor non perception3 the seen as the seen the heard as the heard the sensed as the sensed the cognized as the cognized4 singleness as singleness multiplicity as multiplicity5 the all as the all6 he perceives unbinding as unbinding 7 perceiving unbinding as unbinding he supposes things about unbinding he supposes things in unbinding he supposes things coming out of unbinding he supposes unbinding as mine he delights in unbinding why is that because he has not comprehended it i tell you  the trainee a monk who is a traineeyearning for the unexcelled relief from bondage his aspirations as yet unfulfilleddirectly knows earth as earth directly knowing earth as earth let him not suppose things about earth let him not suppose things in earth let him not suppose things coming out of earth let him not suppose earth as mine let him not delight in earth why is that so that he may comprehend it i tell you  he directly knows water as water fire as fire wind as wind beings as beings devas as devas pajāpati as pajāpati brahmā as brahmā the radiant devas as radiant devas the beautiful black devas as beautiful black devas the sky fruit devas as sky fruit devas the conqueror as the conqueror the dimension of the infinitude of space as the dimension of the infinitude of space the dimension of the infinitude of consciousness as the dimension of the infinitude of consciousness the dimension of nothingness as the dimension of nothingness the dimension of neither perception nor non perception as the dimension of neither perception nor non perception the seen as the seen the heard as the heard the sensed as the sensed the cognized as the cognized singleness as singleness multiplicity as multiplicity the all as the all he directly knows unbinding as unbinding directly knowing unbinding as unbinding let him not suppose things about unbinding let him not suppose things in unbinding let him not suppose things coming out of unbinding let him not suppose unbinding as mine let him not delight in unbinding why is that so that he may comprehend it i tell you  the arahant a monk who is a worthy one devoid of effluentswho has attained completion finished the task laid down the burden attained the true goal destroyed the fetters of becoming and is released through right knowledgedirectly knows earth as earth directly knowing earth as earth he doesnt suppose things about earth doesnt suppose things in earth doesnt suppose things coming out of earth doesnt suppose earth as mine doesnt delight in earth why is that because he has comprehended it i tell you  he directly knows water as water fire as fire wind as wind beings as beings devas as devas pajāpati as pajāpati brahmā as brahmā the radiant devas as radiant devas the beautiful black devas as beautiful black devas the sky fruit devas as sky fruit devas the conqueror as the conqueror the dimension of the infinitude of space as the dimension of the infinitude of space the dimension of the infinitude of consciousness as the dimension of the infinitude of consciousness the dimension of nothingness as the dimension of nothingness the dimension of neither perception nor non perception as the dimension of neither perception nor non perception the seen as the seen the heard as the heard the sensed as the sensed the cognized as the cognized singleness as singleness multiplicity as multiplicity the all as the all he directly knows unbinding as unbinding directly knowing unbinding as unbinding he doesnt suppose things about unbinding doesnt suppose things in unbinding doesnt suppose things coming out of unbinding doesnt suppose unbinding as mine doesnt delight in unbinding why is that because he has comprehended it i tell you  a monk who is a worthy one devoid of effluents directly knows earth as earth directly knowing earth as earth he doesnt suppose things about earth doesnt suppose things in earth doesnt suppose things coming out of earth doesnt suppose earth as mine doesnt delight in earth why is that because with the ending of passion he is devoid of passion i tell you  he directly knows water as water the all as the all he directly knows unbinding as unbinding directly knowing unbinding as unbinding he doesnt suppose things about unbinding doesnt suppose things in unbinding doesnt suppose things coming out of unbinding doesnt suppose unbinding as mine doesnt delight in unbinding why is that because with the ending of passion he is devoid of passion i tell you  a monk who is a worthy one devoid of effluents directly knows earth as earth directly knowing earth as earth he doesnt suppose things about earth doesnt suppose things in earth doesnt suppose things coming out of earth doesnt suppose earth as mine doesnt delight in earth why is that because with the ending of aversion he is devoid of aversion i tell you  he directly knows water as water the all as the all he directly knows unbinding as unbinding directly knowing unbinding as unbinding he doesnt suppose things about unbinding doesnt suppose things in unbinding doesnt suppose things coming out of unbinding doesnt suppose unbinding as mine doesnt delight in unbinding why is that because with the ending of aversion he is devoid of aversion i tell you  a monk who is a worthy one devoid of effluents directly knows earth as earth directly knowing earth as earth he doesnt suppose things about earth doesnt suppose things in earth doesnt suppose things coming out of earth doesnt suppose earth as mine doesnt delight in earth why is that because with the ending of delusion he is devoid of delusion i tell you  he directly knows water as water the all as the all he directly knows unbinding as unbinding directly knowing unbinding as unbinding he doesnt suppose things about unbinding doesnt suppose things in unbinding doesnt suppose things coming out of unbinding doesnt suppose unbinding as mine doesnt delight in unbinding why is that because with the ending of delusion he is devoid of delusion i tell you  the tathāgata the tathāgataa worthy one rightly self awakeneddirectly knows earth as earth directly knowing earth as earth he doesnt suppose things about earth doesnt suppose things in earth doesnt suppose things coming out of earth doesnt suppose earth as mine doesnt delight in earth why is that because the tathāgata has comprehended it to the end i tell you  he directly knows water as water fire as fire wind as wind beings as beings devas as devas pajāpati as pajāpati brahmā as brahmā the radiant devas as radiant devas the beautiful black devas as beautiful black devas the sky fruit devas as sky fruit devas the conqueror as the conqueror the dimension of the infinitude of space as the dimension of the infinitude of space the dimension of the infinitude of consciousness as the dimension of the infinitude of consciousness the dimension of nothingness as the dimension of nothingness the dimension of neither perception nor non perception as the dimension of neither perception nor non perception the seen as the seen the heard as the heard the sensed as the sensed the cognized as the cognized singleness as singleness multiplicity as multiplicity the all as the all he directly knows unbinding as unbinding directly knowing unbinding as unbinding he doesnt suppose things about unbinding doesnt suppose things in unbinding doesnt suppose things coming out of unbinding doesnt suppose unbinding as mine doesnt delight in unbinding why is that because the tathāgata has comprehended it to the end i tell you  the tathāgataa worthy one rightly self awakeneddirectly knows earth as earth directly knowing earth as earth he doesnt suppose things about earth doesnt suppose things in earth doesnt suppose things coming out of earth doesnt suppose earth as mine doesnt delight in earth why is that because he has known that delight is the root of suffering  stress that from coming into being there is birth and that for what has come into being there is aging  death therefore with the total ending fading away cessation letting go relinquishment of craving the tathāgata has totally awakened to the unexcelled right self awakening i tell you  he directly knows water as water the all as the all he directly knows unbinding as unbinding directly knowing unbinding as unbinding he doesnt suppose things about unbinding doesnt suppose things in unbinding doesnt suppose things coming out of unbinding doesnt suppose unbinding as mine doesnt delight in unbinding why is that because he has known that delight is the root of suffering  stress that from coming into being there is birth and that for what has come into being there is aging  death therefore with the total ending fading away cessation letting go relinquishment of craving the tathāgata has totally awakened to the unexcelled right self awakening i tell you  that is what the blessed one said displeased the monks did not delight in the blessed ones words    \n",
       "\n",
       "                                                                                                                                                                                                                                                                                                                                                                                                                                                                                                                                                                                                                                                                                                                                                                                                                                                                                                                                                                                                                                                                                                                                                                                                                                                                                                                                                                                                                                                                                                                                                                                                                                                                                                                                                            notes  \\\n",
       "0              Notes\\n            1. Earth, water, fire, and wind are the four properties that comprise the experience of physical form.\\n            2. In this section of the list, “beings” denotes all living beings below the level of the gods. “Devas” denotes the beings in the sensual heavens. The remaining terms— Pajāpati, Brahmā, the Radiant devas, the Beautiful Black devas, the Sky-fruit devas, & the Conqueror—denote devas in the heavens of form & formlessness.\\n            3. The dimension of the infinitude of space, the dimension of the infinitude of consciousness, the dimension of nothingness, & the dimension of neither perception nor non-perception are four formless states that can be attained in concentration.\\n            4. “The seen, the heard, the sensed, & the cognized” is a set of terms to cover all things experienced through the six senses.\\n            5. Singleness = experience in states of intense concentration (jhāna). Multiplicity = experience via the six senses. See MN 137.\\n            6. “What is the All? Simply the eye & forms, ear & sounds, nose & aromas, tongue & flavors, body & tactile sensations, intellect & ideas. This is termed the All. Anyone who would say, ‘Repudiating this All, I will describe another,’ if questioned on what exactly might be the grounds for his assertion, would be unable to explain and, furthermore, would be put to grief. Why is that? Because it lies beyond range.” —SN 35:23\\n            For more on this topic, see The Mind Like Fire Unbound, Chapter 1.\\n            7. Unbinding = nibbāna (nirvāṇa).\\n          \\n          See also: MN 49; MN 72; MN 140; SN 12:23; AN 4:24; AN 4:199; AN 4:200; AN 9:36; AN 10:81; Ud 1:10   \n",
       "\n",
       "                                                                                                                                                                                                                                                                                                                                                                                                                                                                                                                                                                                                                                                                                                                                                                                                                                                                                                                                                                                                                                                                                                                                                                                                                                                                                                                                                                                                                                                                                                                                                                                                                                                                                                                                                                                                                                                                                                                                                                                                                                                                                                                                                                                                                                                                                                                                                                                                                                                                                                                                                                                                                                                                                                                                                                                                                                                                                                                                                                                                                                                                                                                                                                                                                                                                                                                                                                                                                                                                                                                                                                                                                                                                                                                                                                                                                                                                                                                                                                                                                                                                                                                                                                                                                                                                                                                                                                                                                                                                                                                                                                                                                                                                                                                                               intro  \\\n",
       "0  MN/1\\n          Introduction\\n          The Buddha listed clinging to views as one of the four forms of clinging that tie the mind to the processes of suffering. He thus recommended that his followers relinquish their clinging, not only to views in their full-blown form as specific positions, but also in their rudimentary form as the categories & relationships that the mind reads into experience. This is a point he makes in the following discourse, which is apparently his response to a particular school of Brahmanical thought that was developing in his time—the Sāṅkhya, or classification school.\\n          This school had its beginnings in the thought of Uddālaka, a ninth-century B.C. philosopher who posited a “root”: an abstract principle out of which all things emanate and which remains immanent in all things. Philosophers who carried on this line of thinking offered a variety of theories, based on logic and meditative experience, about the nature of the ultimate root and about the hierarchy of the emanation. Many of their theories were recorded in the Upaniṣads and eventually developed into the classical Sāṅkhya system around the time of the Buddha.\\n          Although the present discourse says nothing about the background of the monks listening to it, the Commentary states that before their ordination they were brahmans, and that even after their ordination they continued to interpret the Buddha’s teachings in light of their previous training, which may well have been proto-Sāṅkhya. If this is so, then the Buddha’s opening lines —“I will teach you the sequence of the root of all phenomena”—would have them prepared to hear his contribution to their line of thinking. And, in fact, the list of topics he covers reads like a Buddhist Sāṅkhya. Paralleling the classical Sāṅkhya, it contains 24 items, begins with the physical world (here, the four physical properties), and leads back through ever more refined & inclusive levels of being & experience, culminating with the ultimate Buddhist concept: unbinding (nibbāna). In the pattern of Sāṅkhya thought, unbinding would thus be the ultimate “root” or ground of being immanent in all things and out of which they all emanate.\\n          However, instead of following this pattern of thinking, the Buddha attacks it at its very root: the notion of a principle in the abstract, the “in” (immanence) & “out of” (emanation) superimposed on experience. Only an uninstructed run of the mill person, he says, would read experience in this way. In contrast, a person in training should look for a different kind of “root”—the root of suffering experienced in the present—and find it in the act of delight. Developing dispassion for that delight, the trainee can then comprehend the process of coming-into-being for what it is, drop all participation in it, and thus achieve true awakening.\\n          If the listeners present at this discourse were indeed interested in fitting Buddhist teachings into a Sāṅkhyan mold, then it’s small wonder that they were displeased—one of the few places where we read of a negative reaction to the Buddha’s words. They had hoped to hear his contribution to their project, but instead they hear their whole pattern of thinking & theorizing attacked as ignorant & ill-informed. The Commentary tells us, though, they were later able to overcome their displeasure and eventually attain awakening on listening to the discourse reported in AN 3:126.\\n          Although at present we rarely think in the same terms as the Sāṅkhya philosophers, there has long been—and still is—a common tendency to create a “Buddhist” metaphysics in which the experience of emptiness, the Unconditioned, the Dharma-body, Buddha-nature, rigpa, etc., is said to function as the ground of being from which the “All”—the entirety of our sensory & mental experience—is said to spring and to which we return when we meditate. Some people think that these theories are the inventions of scholars without any direct meditative experience, but actually they have most often originated among meditators, who label (or in the words of the discourse, “perceive”) a particular meditative experience as the ultimate goal, identify with it in a subtle way (as when we are told that “we are the knowing”), and then suppose that level of experience to be the ground of being out of which all other experience comes.\\n          Any teaching that follows these lines would be subject to the same criticism that the Buddha directed against the monks who first heard this discourse.\\n               \n",
       "\n",
       "                                                                                                                                                                                                                                                                                                                                                                                                                                                                                                                                                                                                                                                    text_token  \n",
       "0  [have, heard, that, on, one, occasion, the, blessed, one, was, staying, near, ukkattha, in, the, shade, of, royal, sal, tree, in, the, very, blessed, forest, there, he, addressed, the, monks, monks, yes, lord, the, monks, responded, to, him, the, blessed, one, said, monks, will, teach, you, the, sequence, of, the, root, of, all, phenomena, or, the, root, sequence, of, all, phenomena, listen, pay, close, attention, will, speak, as, you, say, lord, they, responded, to, him, the, blessed, one, said, there, is, the, case, monks, where, an, uninstructed, run, of, the, mill, personwho, has, no, regard, for, noble, ones, is, not, ...]  "
      ]
     },
     "execution_count": 15,
     "metadata": {},
     "output_type": "execute_result"
    }
   ],
   "source": [
    "df_mn2.head(1)"
   ]
  },
  {
   "cell_type": "code",
   "execution_count": 16,
   "metadata": {
    "colab": {
     "base_uri": "https://localhost:8080/"
    },
    "id": "v0CPJKgfqgnf",
    "outputId": "091b40e2-2da3-4caa-b527-d2150762a458"
   },
   "outputs": [
    {
     "data": {
      "text/plain": [
       "1742"
      ]
     },
     "execution_count": 16,
     "metadata": {},
     "output_type": "execute_result"
    }
   ],
   "source": [
    "len(df_mn2['text_token'][0])"
   ]
  },
  {
   "cell_type": "code",
   "execution_count": 17,
   "metadata": {
    "id": "dR2M0gX8qgng"
   },
   "outputs": [],
   "source": [
    "#df_mn2['text_full'] = df_mn2['text_full'].str.split(\"\\n\")"
   ]
  },
  {
   "cell_type": "markdown",
   "metadata": {
    "id": "ehKPbQtsqgng"
   },
   "source": [
    "## Removing Stop Words"
   ]
  },
  {
   "cell_type": "code",
   "execution_count": 18,
   "metadata": {
    "colab": {
     "base_uri": "https://localhost:8080/"
    },
    "id": "4KGNoDLjusrp",
    "outputId": "25b4bfcf-dbe1-482c-8ef3-f568f4a495d0"
   },
   "outputs": [
    {
     "name": "stderr",
     "output_type": "stream",
     "text": [
      "[nltk_data] Downloading package stopwords to /Users/ae-j/nltk_data...\n",
      "[nltk_data]   Package stopwords is already up-to-date!\n"
     ]
    },
    {
     "data": {
      "text/plain": [
       "True"
      ]
     },
     "execution_count": 18,
     "metadata": {},
     "output_type": "execute_result"
    }
   ],
   "source": [
    ">>> import nltk\n",
    ">>> nltk.download('stopwords')"
   ]
  },
  {
   "cell_type": "code",
   "execution_count": 19,
   "metadata": {
    "id": "VEYFbj_vqgnh"
   },
   "outputs": [],
   "source": [
    "# https://www.analyticsvidhya.com/blog/2018/10/stepwise-guide-topic-modeling-latent-semantic-analysis/\n",
    "from nltk.corpus import stopwords\n",
    "stop_words = stopwords.words('english')\n",
    "\n",
    "# remove stop-words\n",
    "df_mn2['text_no_stop'] = df_mn2['text_token'].apply(lambda x: [item for item in x if item not in stop_words])"
   ]
  },
  {
   "cell_type": "code",
   "execution_count": 20,
   "metadata": {},
   "outputs": [],
   "source": [
    "df_mn2.to_csv('./sutta_csv/cleaned/df_mn2.csv', index= False)"
   ]
  },
  {
   "cell_type": "markdown",
   "metadata": {
    "id": "8gI6ukuuqgnh"
   },
   "source": [
    "# Modeling: Topic Analysis"
   ]
  },
  {
   "cell_type": "markdown",
   "metadata": {
    "id": "5rvypjSIqgnh"
   },
   "source": [
    "## Topic Analysis with TfidF and Latent Semantic Analysis"
   ]
  },
  {
   "cell_type": "markdown",
   "metadata": {
    "id": "iGYP5IEmqgnh"
   },
   "source": [
    "### First using tfidf"
   ]
  },
  {
   "cell_type": "code",
   "execution_count": 19,
   "metadata": {
    "colab": {
     "base_uri": "https://localhost:8080/"
    },
    "collapsed": true,
    "id": "QXNcOb4Qqgni",
    "jupyter": {
     "outputs_hidden": true
    },
    "outputId": "ba071b5b-6ee3-4eb4-862e-555176c81408"
   },
   "outputs": [
    {
     "data": {
      "text/plain": [
       "0     i have heard that on one occasion the blessed one was staying near ukkaṭṭhā in the shade of a royal sal tree in the very blessed forest there he addressed the monks monks yes lord the monks responded to him  the blessed one said monks i will teach you the sequence of the root of all phenomena or the root sequence of all phenomena listen  pay close attention i will speak  as you say lord they responded to him  the blessed one said there is the case monks where an uninstructed run of the mill personwho has no regard for noble ones is not well versed or disciplined in their dhamma who has no regard for people of integrity is not well versed or disciplined in their dhammaperceives earth as earth perceiving earth as earth he supposes things about earth he supposes things in earth he supposes things coming out of earth he supposes earth as mine he delights in earth why is that because he has not comprehended it i tell you  he perceives water as water fire as fire wind as wind1 beings as beings devas as devas pajāpati as pajāpati brahmā as brahmā the radiant devas as radiant devas the beautiful black devas as beautiful black devas the sky fruit devas as sky fruit devas the conqueror as the conqueror2 the dimension of the infinitude of space as the dimension of the infinitude of space the dimension of the infinitude of consciousness as the dimension of the infinitude of consciousness the dimension of nothingness as the dimension of nothingness the dimension of neither perception nor non perception as the dimension of neither perception nor non perception3 the seen as the seen the heard as the heard the sensed as the sensed the cognized as the cognized4 singleness as singleness multiplicity as multiplicity5 the all as the all6 he perceives unbinding as unbinding 7 perceiving unbinding as unbinding he supposes things about unbinding he supposes things in unbinding he supposes things coming out of unbinding he supposes unbinding as mine he delights in unbinding why is that because he has not comprehended it i tell you  the trainee a monk who is a traineeyearning for the unexcelled relief from bondage his aspirations as yet unfulfilleddirectly knows earth as earth directly knowing earth as earth let him not suppose things about earth let him not suppose things in earth let him not suppose things coming out of earth let him not suppose earth as mine let him not delight in earth why is that so that he may comprehend it i tell you  he directly knows water as water fire as fire wind as wind beings as beings devas as devas pajāpati as pajāpati brahmā as brahmā the radiant devas as radiant devas the beautiful black devas as beautiful black devas the sky fruit devas as sky fruit devas the conqueror as the conqueror the dimension of the infinitude of space as the dimension of the infinitude of space the dimension of the infinitude of consciousness as the dimension of the infinitude of consciousness the dimension of nothingness as the dimension of nothingness the dimension of neither perception nor non perception as the dimension of neither perception nor non perception the seen as the seen the heard as the heard the sensed as the sensed the cognized as the cognized singleness as singleness multiplicity as multiplicity the all as the all he directly knows unbinding as unbinding directly knowing unbinding as unbinding let him not suppose things about unbinding let him not suppose things in unbinding let him not suppose things coming out of unbinding let him not suppose unbinding as mine let him not delight in unbinding why is that so that he may comprehend it i tell you  the arahant a monk who is a worthy one devoid of effluentswho has attained completion finished the task laid down the burden attained the true goal destroyed the fetters of becoming and is released through right knowledgedirectly knows earth as earth directly knowing earth as earth he doesnt suppose things about earth doesnt suppose things in earth doesnt suppose things coming out of earth doesnt suppose earth as mine doesnt delight in earth why is that because he has comprehended it i tell you  he directly knows water as water fire as fire wind as wind beings as beings devas as devas pajāpati as pajāpati brahmā as brahmā the radiant devas as radiant devas the beautiful black devas as beautiful black devas the sky fruit devas as sky fruit devas the conqueror as the conqueror the dimension of the infinitude of space as the dimension of the infinitude of space the dimension of the infinitude of consciousness as the dimension of the infinitude of consciousness the dimension of nothingness as the dimension of nothingness the dimension of neither perception nor non perception as the dimension of neither perception nor non perception the seen as the seen the heard as the heard the sensed as the sensed the cognized as the cognized singleness as singleness multiplicity as multiplicity the all as the all he directly knows unbinding as unbinding directly knowing unbinding as unbinding he doesnt suppose things about unbinding doesnt suppose things in unbinding doesnt suppose things coming out of unbinding doesnt suppose unbinding as mine doesnt delight in unbinding why is that because he has comprehended it i tell you  a monk who is a worthy one devoid of effluents directly knows earth as earth directly knowing earth as earth he doesnt suppose things about earth doesnt suppose things in earth doesnt suppose things coming out of earth doesnt suppose earth as mine doesnt delight in earth why is that because with the ending of passion he is devoid of passion i tell you  he directly knows water as water the all as the all he directly knows unbinding as unbinding directly knowing unbinding as unbinding he doesnt suppose things about unbinding doesnt suppose things in unbinding doesnt suppose things coming out of unbinding doesnt suppose unbinding as mine doesnt delight in unbinding why is that because with the ending of passion he is devoid of passion i tell you  a monk who is a worthy one devoid of effluents directly knows earth as earth directly knowing earth as earth he doesnt suppose things about earth doesnt suppose things in earth doesnt suppose things coming out of earth doesnt suppose earth as mine doesnt delight in earth why is that because with the ending of aversion he is devoid of aversion i tell you  he directly knows water as water the all as the all he directly knows unbinding as unbinding directly knowing unbinding as unbinding he doesnt suppose things about unbinding doesnt suppose things in unbinding doesnt suppose things coming out of unbinding doesnt suppose unbinding as mine doesnt delight in unbinding why is that because with the ending of aversion he is devoid of aversion i tell you  a monk who is a worthy one devoid of effluents directly knows earth as earth directly knowing earth as earth he doesnt suppose things about earth doesnt suppose things in earth doesnt suppose things coming out of earth doesnt suppose earth as mine doesnt delight in earth why is that because with the ending of delusion he is devoid of delusion i tell you  he directly knows water as water the all as the all he directly knows unbinding as unbinding directly knowing unbinding as unbinding he doesnt suppose things about unbinding doesnt suppose things in unbinding doesnt suppose things coming out of unbinding doesnt suppose unbinding as mine doesnt delight in unbinding why is that because with the ending of delusion he is devoid of delusion i tell you  the tathāgata the tathāgataa worthy one rightly self awakeneddirectly knows earth as earth directly knowing earth as earth he doesnt suppose things about earth doesnt suppose things in earth doesnt suppose things coming out of earth doesnt suppose earth as mine doesnt delight in earth why is that because the tathāgata has comprehended it to the end i tell you  he directly knows water as water fire as fire wind as wind beings as beings devas as devas pajāpati as pajāpati brahmā as brahmā the radiant devas as radiant devas the beautiful black devas as beautiful black devas the sky fruit devas as sky fruit devas the conqueror as the conqueror the dimension of the infinitude of space as the dimension of the infinitude of space the dimension of the infinitude of consciousness as the dimension of the infinitude of consciousness the dimension of nothingness as the dimension of nothingness the dimension of neither perception nor non perception as the dimension of neither perception nor non perception the seen as the seen the heard as the heard the sensed as the sensed the cognized as the cognized singleness as singleness multiplicity as multiplicity the all as the all he directly knows unbinding as unbinding directly knowing unbinding as unbinding he doesnt suppose things about unbinding doesnt suppose things in unbinding doesnt suppose things coming out of unbinding doesnt suppose unbinding as mine doesnt delight in unbinding why is that because the tathāgata has comprehended it to the end i tell you  the tathāgataa worthy one rightly self awakeneddirectly knows earth as earth directly knowing earth as earth he doesnt suppose things about earth doesnt suppose things in earth doesnt suppose things coming out of earth doesnt suppose earth as mine doesnt delight in earth why is that because he has known that delight is the root of suffering  stress that from coming into being there is birth and that for what has come into being there is aging  death therefore with the total ending fading away cessation letting go relinquishment of craving the tathāgata has totally awakened to the unexcelled right self awakening i tell you  he directly knows water as water the all as the all he directly knows unbinding as unbinding directly knowing unbinding as unbinding he doesnt suppose things about unbinding doesnt suppose things in unbinding doesnt suppose things coming out of unbinding doesnt suppose unbinding as mine doesnt delight in unbinding why is that because he has known that delight is the root of suffering  stress that from coming into being there is birth and that for what has come into being there is aging  death therefore with the total ending fading away cessation letting go relinquishment of craving the tathāgata has totally awakened to the unexcelled right self awakening i tell you  that is what the blessed one said displeased the monks did not delight in the blessed ones words \n",
       "Name: text_full, dtype: object"
      ]
     },
     "execution_count": 19,
     "metadata": {
      "tags": []
     },
     "output_type": "execute_result"
    }
   ],
   "source": [
    "df_mn2['text_full'].head(1)"
   ]
  },
  {
   "cell_type": "code",
   "execution_count": 20,
   "metadata": {
    "colab": {
     "base_uri": "https://localhost:8080/"
    },
    "id": "dx33xpA0qgni",
    "outputId": "7772ac6e-d6d2-4950-d58d-73ff4ad671df"
   },
   "outputs": [
    {
     "data": {
      "text/plain": [
       "(103, 3000)"
      ]
     },
     "execution_count": 20,
     "metadata": {
      "tags": []
     },
     "output_type": "execute_result"
    }
   ],
   "source": [
    "# https://www.analyticsvidhya.com/blog/2018/10/stepwise-guide-topic-modeling-latent-semantic-analysis/\n",
    "from sklearn.feature_extraction.text import TfidfVectorizer\n",
    "\n",
    "vectorizer = TfidfVectorizer(stop_words='english', \n",
    "max_features= 3000, # keep top 1000 terms \n",
    "max_df = 0.5, \n",
    "smooth_idf=True)\n",
    "\n",
    "X = vectorizer.fit_transform(df_mn2['text_full'])\n",
    "\n",
    "X.shape # check shape of the document-term matrix"
   ]
  },
  {
   "cell_type": "markdown",
   "metadata": {
    "id": "bGPA3aK2qgnj"
   },
   "source": [
    "#### Using truncastedSVD to create document-term matrix and then break into multiple"
   ]
  },
  {
   "cell_type": "code",
   "execution_count": 21,
   "metadata": {
    "colab": {
     "base_uri": "https://localhost:8080/"
    },
    "id": "JMpYDFXYqgnj",
    "outputId": "b0b4e194-58b4-4386-e75c-6d29b0764148"
   },
   "outputs": [
    {
     "data": {
      "text/plain": [
       "20"
      ]
     },
     "execution_count": 21,
     "metadata": {
      "tags": []
     },
     "output_type": "execute_result"
    }
   ],
   "source": [
    "# https://www.analyticsvidhya.com/blog/2018/10/stepwise-guide-topic-modeling-latent-semantic-analysis/\n",
    "\n",
    "from sklearn.decomposition import TruncatedSVD\n",
    "\n",
    "# SVD represent documents and terms in vectors \n",
    "svd_model = TruncatedSVD(n_components=20, algorithm='randomized', n_iter=100, random_state=122)\n",
    "\n",
    "svd_model.fit(X)\n",
    "\n",
    "#These are our topics\n",
    "len(svd_model.components_)"
   ]
  },
  {
   "cell_type": "code",
   "execution_count": 22,
   "metadata": {
    "colab": {
     "base_uri": "https://localhost:8080/"
    },
    "collapsed": true,
    "id": "bAB-J3NWqgnk",
    "jupyter": {
     "outputs_hidden": true
    },
    "outputId": "3786300b-fced-4828-d76f-f7b66425fc52"
   },
   "outputs": [
    {
     "name": "stdout",
     "output_type": "stream",
     "text": [
      "Topic 0: \n",
      "pleasure\n",
      " \n",
      "self\n",
      " \n",
      "feeling\n",
      " \n",
      "view\n",
      " \n",
      "consciousness\n",
      " \n",
      "gotama\n",
      " \n",
      "qualities\n",
      " \n",
      "Topic 1: \n",
      "inconstant\n",
      " \n",
      "consciousness\n",
      " \n",
      "self\n",
      " \n",
      "contact\n",
      " \n",
      "feeling\n",
      " \n",
      "property\n",
      " \n",
      "clinging\n",
      " \n",
      "Topic 2: \n",
      "introduction\n",
      " \n",
      "discourse\n",
      " \n",
      "papañca\n",
      " \n",
      "simile\n",
      " \n",
      "clinging\n",
      " \n",
      "leading\n",
      " \n",
      "similes\n",
      " \n",
      "Topic 3: \n",
      "inconstant\n",
      " \n",
      "gotama\n",
      " \n",
      "master\n",
      " \n",
      "view\n",
      " \n",
      "self\n",
      " \n",
      "stressful\n",
      " \n",
      "constant\n",
      " \n",
      "Topic 4: \n",
      "heartwood\n",
      " \n",
      "property\n",
      " \n",
      "introduction\n",
      " \n",
      "inconstant\n",
      " \n",
      "consummation\n",
      " \n",
      "gotama\n",
      " \n",
      "breathe\n",
      " \n",
      "Topic 5: \n",
      "heartwood\n",
      " \n",
      "consummation\n",
      " \n",
      "fame\n",
      " \n",
      "offerings\n",
      " \n",
      "gain\n",
      " \n",
      "knowledge\n",
      " \n",
      "vision\n",
      " \n",
      "Topic 6: \n",
      "heartwood\n",
      " \n",
      "consummation\n",
      " \n",
      "view\n",
      " \n",
      "breathe\n",
      " \n",
      "property\n",
      " \n",
      "resolve\n",
      " \n",
      "knowledge\n",
      " \n",
      "Topic 7: \n",
      "integrity\n",
      " \n",
      "person\n",
      " \n",
      "view\n",
      " \n",
      "dimension\n",
      " \n",
      "perception\n",
      " \n",
      "quality\n",
      " \n",
      "wrong\n",
      " \n",
      "Topic 8: \n",
      "sensuality\n",
      " \n",
      "drawback\n",
      " \n",
      "inconstant\n",
      " \n",
      "reason\n",
      " \n",
      "source\n",
      " \n",
      "stress\n",
      " \n",
      "action\n",
      " \n",
      "Topic 9: \n",
      "inconstant\n",
      " \n",
      "stressful\n",
      " \n",
      "subject\n",
      " \n",
      "change\n",
      " \n",
      "constant\n",
      " \n",
      "ven\n",
      " \n",
      "venerable\n",
      " \n",
      "Topic 10: \n",
      "integrity\n",
      " \n",
      "inconstant\n",
      " \n",
      "person\n",
      " \n",
      "quality\n",
      " \n",
      "sensuality\n",
      " \n",
      "stressful\n",
      " \n",
      "breathe\n",
      " \n",
      "Topic 11: \n",
      "pleasure\n",
      " \n",
      "torturing\n",
      " \n",
      "torments\n",
      " \n",
      "devoted\n",
      " \n",
      "conduct\n",
      " \n",
      "abstains\n",
      " \n",
      "brahmans\n",
      " \n",
      "Topic 12: \n",
      "integrity\n",
      " \n",
      "person\n",
      " \n",
      "knowledge\n",
      " \n",
      "direct\n",
      " \n",
      "friend\n",
      " \n",
      "quality\n",
      " \n",
      "feeling\n",
      " \n",
      "Topic 13: \n",
      "doesnt\n",
      " \n",
      "clinging\n",
      " \n",
      "consciousness\n",
      " \n",
      "step\n",
      " \n",
      "contact\n",
      " \n",
      "dependent\n",
      " \n",
      "elephant\n",
      " \n",
      "Topic 14: \n",
      "direct\n",
      " \n",
      "knowledge\n",
      " \n",
      "based\n",
      " \n",
      "integrity\n",
      " \n",
      "exists\n",
      " \n",
      "exist\n",
      " \n",
      "tathāgata\n",
      " \n",
      "Topic 15: \n",
      "doesnt\n",
      " \n",
      "earth\n",
      " \n",
      "unbinding\n",
      " \n",
      "wish\n",
      " \n",
      "knowledge\n",
      " \n",
      "brahmā\n",
      " \n",
      "direct\n",
      " \n",
      "Topic 16: \n",
      "affliction\n",
      " \n",
      "action\n",
      " \n",
      "contact\n",
      " \n",
      "dependent\n",
      " \n",
      "imbued\n",
      " \n",
      "reflection\n",
      " \n",
      "intellect\n",
      " \n",
      "Topic 17: \n",
      "abandoned\n",
      " \n",
      "view\n",
      " \n",
      "effluents\n",
      " \n",
      "merely\n",
      " \n",
      "householder\n",
      " \n",
      "likewise\n",
      " \n",
      "imbued\n",
      " \n",
      "Topic 18: \n",
      "brahmā\n",
      " \n",
      "brahmans\n",
      " \n",
      "imbued\n",
      " \n",
      "contemplative\n",
      " \n",
      "abandoned\n",
      " \n",
      "baka\n",
      " \n",
      "escape\n",
      " \n",
      "Topic 19: \n",
      "wish\n",
      " \n",
      "property\n",
      " \n",
      "view\n",
      " \n",
      "consummate\n",
      " \n",
      "contemplative\n",
      " \n",
      "wilderness\n",
      " \n",
      "sense\n",
      " \n"
     ]
    }
   ],
   "source": [
    "## Print out the relevant topics\n",
    "# https://www.analyticsvidhya.com/blog/2018/10/stepwise-guide-topic-modeling-latent-semantic-analysis/\n",
    "\n",
    "terms = vectorizer.get_feature_names()\n",
    "\n",
    "for i, comp in enumerate(svd_model.components_):\n",
    "    terms_comp = zip(terms, comp)\n",
    "    sorted_terms = sorted(terms_comp, key= lambda x:x[1], reverse=True)[:7]\n",
    "    print(\"Topic \"+str(i)+\": \")\n",
    "    for t in sorted_terms:\n",
    "        print(t[0])\n",
    "        print(\" \")"
   ]
  },
  {
   "cell_type": "markdown",
   "metadata": {
    "id": "zWsk_fCUqgnk"
   },
   "source": [
    "### Visualizing "
   ]
  },
  {
   "cell_type": "markdown",
   "metadata": {
    "id": "PZ94N_1Jqgnk"
   },
   "source": [
    "## MISC Processing Work"
   ]
  },
  {
   "cell_type": "code",
   "execution_count": 23,
   "metadata": {
    "id": "sLT32LUBqgnl"
   },
   "outputs": [],
   "source": [
    "# https://towardsdatascience.com/topic-modeling-with-latent-dirichlet-allocation-e7ff75290f8"
   ]
  },
  {
   "cell_type": "code",
   "execution_count": 24,
   "metadata": {
    "id": "f-5smx1aqgnl"
   },
   "outputs": [],
   "source": [
    "# https://highdemandskills.com/topic-modeling-lda/"
   ]
  },
  {
   "cell_type": "markdown",
   "metadata": {
    "id": "GYrvIi2Iqgnl"
   },
   "source": [
    "#### Preprocessing for Doc2Vec Specifically"
   ]
  },
  {
   "cell_type": "code",
   "execution_count": 25,
   "metadata": {
    "colab": {
     "base_uri": "https://localhost:8080/"
    },
    "id": "jFV5WJ3Vqgnl",
    "outputId": "debaa2a0-8994-431e-b9d4-d544ecebe0bb"
   },
   "outputs": [
    {
     "name": "stdout",
     "output_type": "stream",
     "text": [
      "Number of texts processed:  103\n"
     ]
    }
   ],
   "source": [
    "## https://medium.com/@ermolushka/text-clusterization-using-python-and-doc2vec-8c499668fa61\n",
    "#Converting into form doc2vec expects\n",
    "\n",
    "LabeledSentence1 = gensim.models.doc2vec.TaggedDocument\n",
    "mn_text = []\n",
    "j=0\n",
    "\n",
    "for em in df_mn2['text_full'].values:\n",
    "    mn_text.append(LabeledSentence1(em,[j]))\n",
    "    j+=1\n",
    "print('Number of texts processed: ', j)"
   ]
  },
  {
   "cell_type": "code",
   "execution_count": 26,
   "metadata": {
    "id": "ea1_5NRjqgnm"
   },
   "outputs": [],
   "source": [
    "#saving processed text in a new column\n",
    "df_mn2['processed'] = mn_text"
   ]
  },
  {
   "cell_type": "markdown",
   "metadata": {
    "id": "Xhd36gY8qgnm"
   },
   "source": [
    "#### doc2vec"
   ]
  },
  {
   "cell_type": "code",
   "execution_count": 27,
   "metadata": {
    "id": "vLsWiRiRqgnm"
   },
   "outputs": [],
   "source": [
    "## Methodology from the lab\n",
    "\n",
    "# model = Doc2Vec(df_mn2['processed'])\n",
    "# model.train(df_mn2['processed'], total_examples=model.corpus_count, epochs = model.epochs)\n",
    "\n",
    "# ## https://medium.com/@ermolushka/text-clusterization-using-python-and-doc2vec-8c499668fa61\n",
    "\n",
    "# kmeans_model = KMeans(n_clusters=4, init='k-means++', max_iter=100) \n",
    "# X = kmeans_model.fit(model)\n",
    "# labels=kmeans_model.labels_.tolist()\n",
    "\n",
    "# l = kmeans_model.fit_predict(model)\n",
    "# pca = PCA(n_components=2).fit(model)\n",
    "# datapoint = pca.transform(model)"
   ]
  },
  {
   "cell_type": "markdown",
   "metadata": {
    "id": "VXu_T-Isqgnn"
   },
   "source": [
    "## Model 2: LDA"
   ]
  },
  {
   "cell_type": "code",
   "execution_count": 28,
   "metadata": {
    "id": "VRhUMfBgqgnn"
   },
   "outputs": [],
   "source": [
    "import gensim\n",
    "import gensim.corpora as corpora\n",
    "from gensim import models\n",
    "import matplotlib.pyplot as plt\n",
    "from pprint import pprint\n",
    "from wordcloud import WordCloud\n",
    "from mpl_toolkits import mplot3d\n",
    "import gensim.corpora as corpora"
   ]
  },
  {
   "cell_type": "code",
   "execution_count": 29,
   "metadata": {
    "id": "NYYSoPI3qgnn"
   },
   "outputs": [],
   "source": [
    "##https://highdemandskills.com/topic-modeling-lda/"
   ]
  },
  {
   "cell_type": "code",
   "execution_count": 30,
   "metadata": {
    "id": "_kYAhU4dqgno"
   },
   "outputs": [],
   "source": [
    "#### Step 1: Form dictionary by mapping corpus to words id and convert using bag of words"
   ]
  },
  {
   "cell_type": "code",
   "execution_count": 31,
   "metadata": {
    "id": "iMSiuhqfqgno"
   },
   "outputs": [],
   "source": [
    "## Creating a list of all the text elements\n",
    "text_mn = df_mn2['text_token'].to_list()"
   ]
  },
  {
   "cell_type": "code",
   "execution_count": 32,
   "metadata": {
    "id": "lhS_b9qqqgnu"
   },
   "outputs": [],
   "source": [
    "##https://github.com/RaRe-Technologies/gensim/issues/2644\n",
    "ID2word = corpora.Dictionary(df_mn2['text_no_stop'])\n",
    "texts = df_mn2['text_no_stop']\n",
    "corpus = [ID2word.doc2bow(text) for text in texts]"
   ]
  },
  {
   "cell_type": "code",
   "execution_count": 33,
   "metadata": {
    "colab": {
     "base_uri": "https://localhost:8080/"
    },
    "id": "vvnTRA_tqgnv",
    "outputId": "854f9a57-9d20-4722-e8f9-e63f3530d0a2"
   },
   "outputs": [
    {
     "data": {
      "text/plain": [
       "<gensim.corpora.dictionary.Dictionary at 0x7fe6a15f43d0>"
      ]
     },
     "execution_count": 33,
     "metadata": {
      "tags": []
     },
     "output_type": "execute_result"
    }
   ],
   "source": [
    "ID2word"
   ]
  },
  {
   "cell_type": "markdown",
   "metadata": {
    "id": "HiDMBDoTqfE8"
   },
   "source": [
    "#### First Pass\n"
   ]
  },
  {
   "cell_type": "code",
   "execution_count": 34,
   "metadata": {
    "id": "fFrTY7c4qcuy"
   },
   "outputs": [],
   "source": [
    "#### More"
   ]
  },
  {
   "cell_type": "code",
   "execution_count": 35,
   "metadata": {
    "id": "qA72iD-Qqgnv"
   },
   "outputs": [],
   "source": [
    "# Commented out because slow\n",
    "NUM_topics = 5 # Set number of topics\n",
    "\n",
    "# Train LDA model on the training corpus\n",
    "lda_model = gensim.models.LdaMulticore(corpus=corpus, num_topics=NUM_topics, id2word=ID2word, passes=100)"
   ]
  },
  {
   "cell_type": "code",
   "execution_count": 36,
   "metadata": {
    "colab": {
     "base_uri": "https://localhost:8080/"
    },
    "id": "rBU6qTDqqgnv",
    "outputId": "b9370118-cc18-45bf-92c0-af376d5e0d9d"
   },
   "outputs": [
    {
     "name": "stdout",
     "output_type": "stream",
     "text": [
      "[(0, '0.023*\"one\" + 0.012*\"blessed\" + 0.011*\"monks\" + 0.008*\"person\"'),\n",
      " (1, '0.019*\"right\" + 0.013*\"one\" + 0.011*\"stress\" + 0.010*\"pleasure\"'),\n",
      " (2, '0.014*\"one\" + 0.011*\"mind\" + 0.010*\"body\" + 0.007*\"monk\"'),\n",
      " (3, '0.017*\"one\" + 0.009*\"come\" + 0.008*\"dhamma\" + 0.008*\"clinging\"'),\n",
      " (4, '0.021*\"one\" + 0.013*\"self\" + 0.013*\"feeling\" + 0.012*\"blessed\"')]\n",
      "--------------------------------------------------\n",
      "\n",
      "Coherence Score: 0.30941882568080414\n",
      "--------------------------------------------------\n"
     ]
    }
   ],
   "source": [
    "# Copied out because slow\n",
    "pprint(lda_model.print_topics(num_words=4))\n",
    "\n",
    "### CALCULATE COHERENCE SCORE ###\n",
    "\n",
    "# Set up coherence model\n",
    "coherence_model_lda = gensim.models.CoherenceModel(model=lda_model, texts=df_mn2['text_no_stop'], dictionary=ID2word, coherence='c_v')\n",
    "\n",
    "# Calculate and print coherence\n",
    "coherence_lda = coherence_model_lda.get_coherence()\n",
    "print('-'*50)\n",
    "print('\\nCoherence Score:', coherence_lda)\n",
    "print('-'*50)"
   ]
  },
  {
   "cell_type": "markdown",
   "metadata": {
    "id": "wFyodQMbzO9g"
   },
   "source": []
  },
  {
   "cell_type": "markdown",
   "metadata": {
    "id": "2Y0daN_fzUin"
   },
   "source": [
    "### Applying TFIDF"
   ]
  },
  {
   "cell_type": "code",
   "execution_count": 37,
   "metadata": {
    "id": "aFGoyB_dypd2"
   },
   "outputs": [],
   "source": [
    "## Applying TFIDF Instead\n",
    "\n",
    "corpus = [ID2word.doc2bow(text) for text in texts]\n",
    "TFIDF = models.TfidfModel(corpus)\n",
    "text_tfidf = TFIDF[corpus]"
   ]
  },
  {
   "cell_type": "code",
   "execution_count": 38,
   "metadata": {
    "id": "3WmYg4ihzGDx"
   },
   "outputs": [],
   "source": [
    "##slow\n",
    "# NUM_topics = 5 # Set number of topics\n",
    "\n",
    "# # Train LDA model on the training corpus\n",
    "# lda_modeltf = gensim.models.LdaMulticore(corpus=text_tfidf, num_topics=NUM_topics, id2word=ID2word, passes=100)"
   ]
  },
  {
   "cell_type": "code",
   "execution_count": 39,
   "metadata": {
    "id": "vTlGqCU30mVz"
   },
   "outputs": [],
   "source": [
    "# pprint(lda_modeltf.print_topics(num_words=4))"
   ]
  },
  {
   "cell_type": "code",
   "execution_count": 40,
   "metadata": {
    "id": "w11jp05PzftJ"
   },
   "outputs": [],
   "source": [
    "\n",
    "# # Set up coherence model\n",
    "# coherence_model_lda = gensim.models.CoherenceModel(model=lda_modeltf, texts=df_mn2['text_no_stop'], dictionary=ID2word, coherence='c_v')\n",
    "\n",
    "# # Calculate and print coherence\n",
    "# coherence_lda = coherence_model_lda.get_coherence()\n",
    "# print('-'*50)\n",
    "# print('\\nCoherence Score:', coherence_lda)\n",
    "# print('-'*50)"
   ]
  },
  {
   "cell_type": "markdown",
   "metadata": {
    "id": "_YhwA1kZDEiE"
   },
   "source": []
  },
  {
   "cell_type": "markdown",
   "metadata": {
    "id": "k0Zy-0W8DGTa"
   },
   "source": [
    "# New Modeling Approach - Similarities\n",
    "\n"
   ]
  },
  {
   "cell_type": "code",
   "execution_count": 41,
   "metadata": {
    "id": "FeJJ5j7t0uaE"
   },
   "outputs": [],
   "source": [
    "# https://towardsdatascience.com/calculating-document-similarities-using-bert-and-other-models-b2c1a29c9630"
   ]
  },
  {
   "cell_type": "code",
   "execution_count": 42,
   "metadata": {
    "id": "DrNtPszVEkA3"
   },
   "outputs": [],
   "source": [
    "df_mn3 = df_mn2[['title', 'text_full']].copy()"
   ]
  },
  {
   "cell_type": "code",
   "execution_count": 43,
   "metadata": {
    "id": "GzT2BA0nEp5F"
   },
   "outputs": [],
   "source": [
    "df_mn3 = pd.DataFrame(df_mn3)"
   ]
  },
  {
   "cell_type": "code",
   "execution_count": 44,
   "metadata": {
    "colab": {
     "base_uri": "https://localhost:8080/",
     "height": 1000
    },
    "id": "HFxxU5WjE6DG",
    "outputId": "bb635059-dcab-4959-c66b-b79aa4d7f1a5"
   },
   "outputs": [
    {
     "data": {
      "text/html": [
       "<div>\n",
       "<style scoped>\n",
       "    .dataframe tbody tr th:only-of-type {\n",
       "        vertical-align: middle;\n",
       "    }\n",
       "\n",
       "    .dataframe tbody tr th {\n",
       "        vertical-align: top;\n",
       "    }\n",
       "\n",
       "    .dataframe thead th {\n",
       "        text-align: right;\n",
       "    }\n",
       "</style>\n",
       "<table border=\"1\" class=\"dataframe\">\n",
       "  <thead>\n",
       "    <tr style=\"text-align: right;\">\n",
       "      <th></th>\n",
       "      <th>title</th>\n",
       "      <th>text_full</th>\n",
       "    </tr>\n",
       "  </thead>\n",
       "  <tbody>\n",
       "    <tr>\n",
       "      <th>0</th>\n",
       "      <td>MN 1  Mūlapariyāya Sutta | The Root Sequence</td>\n",
       "      <td>i have heard that on one occasion the blessed one was staying near ukkaṭṭhā in the shade of a royal sal tree in the very blessed forest there he addressed the monks monks yes lord the monks responded to him  the blessed one said monks i will teach you the sequence of the root of all phenomena or the root sequence of all phenomena listen  pay close attention i will speak  as you say lord they responded to him  the blessed one said there is the case monks where an uninstructed run of the mill personwho has no regard for noble ones is not well versed or disciplined in their dhamma who has no regard for people of integrity is not well versed or disciplined in their dhammaperceives earth as earth perceiving earth as earth he supposes things about earth he supposes things in earth he supposes things coming out of earth he supposes earth as mine he delights in earth why is that because he has not comprehended it i tell you  he perceives water as water fire as fire wind as wind1 beings as beings devas as devas pajāpati as pajāpati brahmā as brahmā the radiant devas as radiant devas the beautiful black devas as beautiful black devas the sky fruit devas as sky fruit devas the conqueror as the conqueror2 the dimension of the infinitude of space as the dimension of the infinitude of space the dimension of the infinitude of consciousness as the dimension of the infinitude of consciousness the dimension of nothingness as the dimension of nothingness the dimension of neither perception nor non perception as the dimension of neither perception nor non perception3 the seen as the seen the heard as the heard the sensed as the sensed the cognized as the cognized4 singleness as singleness multiplicity as multiplicity5 the all as the all6 he perceives unbinding as unbinding 7 perceiving unbinding as unbinding he supposes things about unbinding he supposes things in unbinding he supposes things coming out of unbinding he supposes unbinding as mine he delights in unbinding why is that because he has not comprehended it i tell you  the trainee a monk who is a traineeyearning for the unexcelled relief from bondage his aspirations as yet unfulfilleddirectly knows earth as earth directly knowing earth as earth let him not suppose things about earth let him not suppose things in earth let him not suppose things coming out of earth let him not suppose earth as mine let him not delight in earth why is that so that he may comprehend it i tell you  he directly knows water as water fire as fire wind as wind beings as beings devas as devas pajāpati as pajāpati brahmā as brahmā the radiant devas as radiant devas the beautiful black devas as beautiful black devas the sky fruit devas as sky fruit devas the conqueror as the conqueror the dimension of the infinitude of space as the dimension of the infinitude of space the dimension of the infinitude of consciousness as the dimension of the infinitude of consciousness the dimension of nothingness as the dimension of nothingness the dimension of neither perception nor non perception as the dimension of neither perception nor non perception the seen as the seen the heard as the heard the sensed as the sensed the cognized as the cognized singleness as singleness multiplicity as multiplicity the all as the all he directly knows unbinding as unbinding directly knowing unbinding as unbinding let him not suppose things about unbinding let him not suppose things in unbinding let him not suppose things coming out of unbinding let him not suppose unbinding as mine let him not delight in unbinding why is that so that he may comprehend it i tell you  the arahant a monk who is a worthy one devoid of effluentswho has attained completion finished the task laid down the burden attained the true goal destroyed the fetters of becoming and is released through right knowledgedirectly knows earth as earth directly knowing earth as earth he doesnt suppose things about earth doesnt suppose things in earth doesnt suppose things coming out of earth doesnt suppose earth as mine doesnt delight in earth why is that because he has comprehended it i tell you  he directly knows water as water fire as fire wind as wind beings as beings devas as devas pajāpati as pajāpati brahmā as brahmā the radiant devas as radiant devas the beautiful black devas as beautiful black devas the sky fruit devas as sky fruit devas the conqueror as the conqueror the dimension of the infinitude of space as the dimension of the infinitude of space the dimension of the infinitude of consciousness as the dimension of the infinitude of consciousness the dimension of nothingness as the dimension of nothingness the dimension of neither perception nor non perception as the dimension of neither perception nor non perception the seen as the seen the heard as the heard the sensed as the sensed the cognized as the cognized singleness as singleness multiplicity as multiplicity the all as the all he directly knows unbinding as unbinding directly knowing unbinding as unbinding he doesnt suppose things about unbinding doesnt suppose things in unbinding doesnt suppose things coming out of unbinding doesnt suppose unbinding as mine doesnt delight in unbinding why is that because he has comprehended it i tell you  a monk who is a worthy one devoid of effluents directly knows earth as earth directly knowing earth as earth he doesnt suppose things about earth doesnt suppose things in earth doesnt suppose things coming out of earth doesnt suppose earth as mine doesnt delight in earth why is that because with the ending of passion he is devoid of passion i tell you  he directly knows water as water the all as the all he directly knows unbinding as unbinding directly knowing unbinding as unbinding he doesnt suppose things about unbinding doesnt suppose things in unbinding doesnt suppose things coming out of unbinding doesnt suppose unbinding as mine doesnt delight in unbinding why is that because with the ending of passion he is devoid of passion i tell you  a monk who is a worthy one devoid of effluents directly knows earth as earth directly knowing earth as earth he doesnt suppose things about earth doesnt suppose things in earth doesnt suppose things coming out of earth doesnt suppose earth as mine doesnt delight in earth why is that because with the ending of aversion he is devoid of aversion i tell you  he directly knows water as water the all as the all he directly knows unbinding as unbinding directly knowing unbinding as unbinding he doesnt suppose things about unbinding doesnt suppose things in unbinding doesnt suppose things coming out of unbinding doesnt suppose unbinding as mine doesnt delight in unbinding why is that because with the ending of aversion he is devoid of aversion i tell you  a monk who is a worthy one devoid of effluents directly knows earth as earth directly knowing earth as earth he doesnt suppose things about earth doesnt suppose things in earth doesnt suppose things coming out of earth doesnt suppose earth as mine doesnt delight in earth why is that because with the ending of delusion he is devoid of delusion i tell you  he directly knows water as water the all as the all he directly knows unbinding as unbinding directly knowing unbinding as unbinding he doesnt suppose things about unbinding doesnt suppose things in unbinding doesnt suppose things coming out of unbinding doesnt suppose unbinding as mine doesnt delight in unbinding why is that because with the ending of delusion he is devoid of delusion i tell you  the tathāgata the tathāgataa worthy one rightly self awakeneddirectly knows earth as earth directly knowing earth as earth he doesnt suppose things about earth doesnt suppose things in earth doesnt suppose things coming out of earth doesnt suppose earth as mine doesnt delight in earth why is that because the tathāgata has comprehended it to the end i tell you  he directly knows water as water fire as fire wind as wind beings as beings devas as devas pajāpati as pajāpati brahmā as brahmā the radiant devas as radiant devas the beautiful black devas as beautiful black devas the sky fruit devas as sky fruit devas the conqueror as the conqueror the dimension of the infinitude of space as the dimension of the infinitude of space the dimension of the infinitude of consciousness as the dimension of the infinitude of consciousness the dimension of nothingness as the dimension of nothingness the dimension of neither perception nor non perception as the dimension of neither perception nor non perception the seen as the seen the heard as the heard the sensed as the sensed the cognized as the cognized singleness as singleness multiplicity as multiplicity the all as the all he directly knows unbinding as unbinding directly knowing unbinding as unbinding he doesnt suppose things about unbinding doesnt suppose things in unbinding doesnt suppose things coming out of unbinding doesnt suppose unbinding as mine doesnt delight in unbinding why is that because the tathāgata has comprehended it to the end i tell you  the tathāgataa worthy one rightly self awakeneddirectly knows earth as earth directly knowing earth as earth he doesnt suppose things about earth doesnt suppose things in earth doesnt suppose things coming out of earth doesnt suppose earth as mine doesnt delight in earth why is that because he has known that delight is the root of suffering  stress that from coming into being there is birth and that for what has come into being there is aging  death therefore with the total ending fading away cessation letting go relinquishment of craving the tathāgata has totally awakened to the unexcelled right self awakening i tell you  he directly knows water as water the all as the all he directly knows unbinding as unbinding directly knowing unbinding as unbinding he doesnt suppose things about unbinding doesnt suppose things in unbinding doesnt suppose things coming out of unbinding doesnt suppose unbinding as mine doesnt delight in unbinding why is that because he has known that delight is the root of suffering  stress that from coming into being there is birth and that for what has come into being there is aging  death therefore with the total ending fading away cessation letting go relinquishment of craving the tathāgata has totally awakened to the unexcelled right self awakening i tell you  that is what the blessed one said displeased the monks did not delight in the blessed ones words</td>\n",
       "    </tr>\n",
       "  </tbody>\n",
       "</table>\n",
       "</div>"
      ],
      "text/plain": [
       "                                          title  \\\n",
       "0  MN 1  Mūlapariyāya Sutta | The Root Sequence   \n",
       "\n",
       "                                                                                                                                                                                                                                                                                                                                                                                                                                                                                                                                                                                                                                                                                                                                                                                                                                                                                                                                                                                                                                                                                                                                                                                                                                                                                                                                                                                                                                                                                                                                                                                                                                                                                                                                                                                                                                                                                                                                                                                                                                                                                                                                                                                                                                                                                                                                                                                                                                                                                                                                                                                                                                                                                                                                                                                                                                                                                                                                                                                                                                                                                                                                                                                                                                                                                                                                                                                                                                                                                                                                                                                                                                                                                                                                                                                                                                                                                                                                                                                                                                                                                                                                                                                                                                                                                                                                                                                                                                                                                                                                                                                                                                                                                                                                                                                                                                                                                                                                                                                                                                                                                                                                                                                                                                                                                                                                                                                                                                                                                                                                                                                                                                                                                                                                                                                                                                                                                                                                                                                                                                                                                                                                                                                                                                                                                                                                                                                                                                                                                                                                                                                                                                                                                                                                                                                                                                                                                                                                                                                                                                                                                                                                                                                                                                                                                                                                                                                                                                                                                                                                                                                                                                                                                                                                                                                                                                                                                                                                                                                                                                                                                                                                                                                                                                                                                                                                                                                                                                                                                                                                                                                                                                                                                                                                                                                                                                                                                                                                                                                                                                                                                                                                                                                                                                                                                                                                                                                                                                                                                                                                                                                                                                                                                                                                                                                                                                                                                                                                                                                                                                                                                                                                                                                                                                                                                                                                                                                                                                                                                                                                                                                                                                                                                                                                                                                                                                                                        text_full  \n",
       "0   i have heard that on one occasion the blessed one was staying near ukkaṭṭhā in the shade of a royal sal tree in the very blessed forest there he addressed the monks monks yes lord the monks responded to him  the blessed one said monks i will teach you the sequence of the root of all phenomena or the root sequence of all phenomena listen  pay close attention i will speak  as you say lord they responded to him  the blessed one said there is the case monks where an uninstructed run of the mill personwho has no regard for noble ones is not well versed or disciplined in their dhamma who has no regard for people of integrity is not well versed or disciplined in their dhammaperceives earth as earth perceiving earth as earth he supposes things about earth he supposes things in earth he supposes things coming out of earth he supposes earth as mine he delights in earth why is that because he has not comprehended it i tell you  he perceives water as water fire as fire wind as wind1 beings as beings devas as devas pajāpati as pajāpati brahmā as brahmā the radiant devas as radiant devas the beautiful black devas as beautiful black devas the sky fruit devas as sky fruit devas the conqueror as the conqueror2 the dimension of the infinitude of space as the dimension of the infinitude of space the dimension of the infinitude of consciousness as the dimension of the infinitude of consciousness the dimension of nothingness as the dimension of nothingness the dimension of neither perception nor non perception as the dimension of neither perception nor non perception3 the seen as the seen the heard as the heard the sensed as the sensed the cognized as the cognized4 singleness as singleness multiplicity as multiplicity5 the all as the all6 he perceives unbinding as unbinding 7 perceiving unbinding as unbinding he supposes things about unbinding he supposes things in unbinding he supposes things coming out of unbinding he supposes unbinding as mine he delights in unbinding why is that because he has not comprehended it i tell you  the trainee a monk who is a traineeyearning for the unexcelled relief from bondage his aspirations as yet unfulfilleddirectly knows earth as earth directly knowing earth as earth let him not suppose things about earth let him not suppose things in earth let him not suppose things coming out of earth let him not suppose earth as mine let him not delight in earth why is that so that he may comprehend it i tell you  he directly knows water as water fire as fire wind as wind beings as beings devas as devas pajāpati as pajāpati brahmā as brahmā the radiant devas as radiant devas the beautiful black devas as beautiful black devas the sky fruit devas as sky fruit devas the conqueror as the conqueror the dimension of the infinitude of space as the dimension of the infinitude of space the dimension of the infinitude of consciousness as the dimension of the infinitude of consciousness the dimension of nothingness as the dimension of nothingness the dimension of neither perception nor non perception as the dimension of neither perception nor non perception the seen as the seen the heard as the heard the sensed as the sensed the cognized as the cognized singleness as singleness multiplicity as multiplicity the all as the all he directly knows unbinding as unbinding directly knowing unbinding as unbinding let him not suppose things about unbinding let him not suppose things in unbinding let him not suppose things coming out of unbinding let him not suppose unbinding as mine let him not delight in unbinding why is that so that he may comprehend it i tell you  the arahant a monk who is a worthy one devoid of effluentswho has attained completion finished the task laid down the burden attained the true goal destroyed the fetters of becoming and is released through right knowledgedirectly knows earth as earth directly knowing earth as earth he doesnt suppose things about earth doesnt suppose things in earth doesnt suppose things coming out of earth doesnt suppose earth as mine doesnt delight in earth why is that because he has comprehended it i tell you  he directly knows water as water fire as fire wind as wind beings as beings devas as devas pajāpati as pajāpati brahmā as brahmā the radiant devas as radiant devas the beautiful black devas as beautiful black devas the sky fruit devas as sky fruit devas the conqueror as the conqueror the dimension of the infinitude of space as the dimension of the infinitude of space the dimension of the infinitude of consciousness as the dimension of the infinitude of consciousness the dimension of nothingness as the dimension of nothingness the dimension of neither perception nor non perception as the dimension of neither perception nor non perception the seen as the seen the heard as the heard the sensed as the sensed the cognized as the cognized singleness as singleness multiplicity as multiplicity the all as the all he directly knows unbinding as unbinding directly knowing unbinding as unbinding he doesnt suppose things about unbinding doesnt suppose things in unbinding doesnt suppose things coming out of unbinding doesnt suppose unbinding as mine doesnt delight in unbinding why is that because he has comprehended it i tell you  a monk who is a worthy one devoid of effluents directly knows earth as earth directly knowing earth as earth he doesnt suppose things about earth doesnt suppose things in earth doesnt suppose things coming out of earth doesnt suppose earth as mine doesnt delight in earth why is that because with the ending of passion he is devoid of passion i tell you  he directly knows water as water the all as the all he directly knows unbinding as unbinding directly knowing unbinding as unbinding he doesnt suppose things about unbinding doesnt suppose things in unbinding doesnt suppose things coming out of unbinding doesnt suppose unbinding as mine doesnt delight in unbinding why is that because with the ending of passion he is devoid of passion i tell you  a monk who is a worthy one devoid of effluents directly knows earth as earth directly knowing earth as earth he doesnt suppose things about earth doesnt suppose things in earth doesnt suppose things coming out of earth doesnt suppose earth as mine doesnt delight in earth why is that because with the ending of aversion he is devoid of aversion i tell you  he directly knows water as water the all as the all he directly knows unbinding as unbinding directly knowing unbinding as unbinding he doesnt suppose things about unbinding doesnt suppose things in unbinding doesnt suppose things coming out of unbinding doesnt suppose unbinding as mine doesnt delight in unbinding why is that because with the ending of aversion he is devoid of aversion i tell you  a monk who is a worthy one devoid of effluents directly knows earth as earth directly knowing earth as earth he doesnt suppose things about earth doesnt suppose things in earth doesnt suppose things coming out of earth doesnt suppose earth as mine doesnt delight in earth why is that because with the ending of delusion he is devoid of delusion i tell you  he directly knows water as water the all as the all he directly knows unbinding as unbinding directly knowing unbinding as unbinding he doesnt suppose things about unbinding doesnt suppose things in unbinding doesnt suppose things coming out of unbinding doesnt suppose unbinding as mine doesnt delight in unbinding why is that because with the ending of delusion he is devoid of delusion i tell you  the tathāgata the tathāgataa worthy one rightly self awakeneddirectly knows earth as earth directly knowing earth as earth he doesnt suppose things about earth doesnt suppose things in earth doesnt suppose things coming out of earth doesnt suppose earth as mine doesnt delight in earth why is that because the tathāgata has comprehended it to the end i tell you  he directly knows water as water fire as fire wind as wind beings as beings devas as devas pajāpati as pajāpati brahmā as brahmā the radiant devas as radiant devas the beautiful black devas as beautiful black devas the sky fruit devas as sky fruit devas the conqueror as the conqueror the dimension of the infinitude of space as the dimension of the infinitude of space the dimension of the infinitude of consciousness as the dimension of the infinitude of consciousness the dimension of nothingness as the dimension of nothingness the dimension of neither perception nor non perception as the dimension of neither perception nor non perception the seen as the seen the heard as the heard the sensed as the sensed the cognized as the cognized singleness as singleness multiplicity as multiplicity the all as the all he directly knows unbinding as unbinding directly knowing unbinding as unbinding he doesnt suppose things about unbinding doesnt suppose things in unbinding doesnt suppose things coming out of unbinding doesnt suppose unbinding as mine doesnt delight in unbinding why is that because the tathāgata has comprehended it to the end i tell you  the tathāgataa worthy one rightly self awakeneddirectly knows earth as earth directly knowing earth as earth he doesnt suppose things about earth doesnt suppose things in earth doesnt suppose things coming out of earth doesnt suppose earth as mine doesnt delight in earth why is that because he has known that delight is the root of suffering  stress that from coming into being there is birth and that for what has come into being there is aging  death therefore with the total ending fading away cessation letting go relinquishment of craving the tathāgata has totally awakened to the unexcelled right self awakening i tell you  he directly knows water as water the all as the all he directly knows unbinding as unbinding directly knowing unbinding as unbinding he doesnt suppose things about unbinding doesnt suppose things in unbinding doesnt suppose things coming out of unbinding doesnt suppose unbinding as mine doesnt delight in unbinding why is that because he has known that delight is the root of suffering  stress that from coming into being there is birth and that for what has come into being there is aging  death therefore with the total ending fading away cessation letting go relinquishment of craving the tathāgata has totally awakened to the unexcelled right self awakening i tell you  that is what the blessed one said displeased the monks did not delight in the blessed ones words   "
      ]
     },
     "execution_count": 44,
     "metadata": {
      "tags": []
     },
     "output_type": "execute_result"
    }
   ],
   "source": [
    "df_mn3.head(1)"
   ]
  },
  {
   "cell_type": "markdown",
   "metadata": {
    "id": "W07efTcarUGe"
   },
   "source": [
    "### With TFIDF"
   ]
  },
  {
   "cell_type": "code",
   "execution_count": 45,
   "metadata": {
    "id": "OoVRMhiJDXja"
   },
   "outputs": [],
   "source": [
    "# https://www.analyticsvidhya.com/blog/2018/10/stepwise-guide-topic-modeling-latent-semantic-analysis/\n",
    "from sklearn.feature_extraction.text import TfidfVectorizer\n",
    "\n",
    "vectorizer = TfidfVectorizer(stop_words='english', \n",
    "max_features= 20000, # keep top 1000 terms \n",
    "max_df = 0.5, \n",
    "smooth_idf=True)\n",
    "\n",
    "X = vectorizer.fit_transform(df_mn2['text_full'])\n"
   ]
  },
  {
   "cell_type": "code",
   "execution_count": 46,
   "metadata": {
    "id": "r6cskPyCE5Gu"
   },
   "outputs": [],
   "source": [
    "\n",
    "from sklearn.metrics.pairwise import cosine_similarity\n",
    "from sklearn.metrics.pairwise import euclidean_distances"
   ]
  },
  {
   "cell_type": "code",
   "execution_count": 47,
   "metadata": {
    "id": "wHkDpQbvDdeX"
   },
   "outputs": [],
   "source": [
    "pairwise_similarities=np.dot(X,X.T).toarray()\n",
    "pairwise_differences=euclidean_distances(X)"
   ]
  },
  {
   "cell_type": "code",
   "execution_count": 48,
   "metadata": {
    "colab": {
     "base_uri": "https://localhost:8080/"
    },
    "id": "Mo8BnMyUFfQ6",
    "outputId": "867f21af-e92e-4d91-c2f3-ed434fc9d7aa"
   },
   "outputs": [
    {
     "name": "stdout",
     "output_type": "stream",
     "text": [
      "Document: MN 9  Sammādiṭṭhi Sutta | Right View\n",
      "\n",
      "\n",
      "Similar Documents:\n",
      "\n",
      "\n",
      "Document: MN 78  Samaṇa-Muṇḍika Sutta | Muṇḍika the Contemplative\n",
      "Cosine Similarity : 0.14484667792612038\n",
      "\n",
      "\n",
      "Document: MN 61  Ambalaṭṭhikā Rāhulovāda Sutta | The Exhortation to Rāhula at Mango Stone\n",
      "Cosine Similarity : 0.13150624116892512\n",
      "\n",
      "\n",
      "Document: MN 60  Apaṇṇaka Sutta | A Safe Bet\n",
      "Cosine Similarity : 0.11154043747903947\n",
      "\n",
      "\n",
      "Document: MN 101  Devadaha Sutta | At Devadaha\n",
      "Cosine Similarity : 0.09383200392726598\n",
      "\n",
      "\n",
      "Document: MN 38  Mahā Taṇhāsaṅkhaya Sutta | The Greater Craving-Destruction Discourse\n",
      "Cosine Similarity : 0.09350544632940966\n",
      "\n",
      "\n",
      "Document: MN 141  Sacca-vibhaṅga Sutta | An Analysis of the Truths\n",
      "Cosine Similarity : 0.08431632742041073\n",
      "\n",
      "\n",
      "Document: MN 10  Satipaṭṭhāna Sutta | The Establishing of Mindfulness Discourse\n",
      "Cosine Similarity : 0.07691452706017521\n",
      "\n",
      "\n",
      "Document: MN 117  Mahā Cattārīsaka Sutta | The Great Forty\n",
      "Cosine Similarity : 0.06039472960364565\n",
      "\n",
      "\n",
      "Document: MN 18  Madhupiṇḍika Sutta | The Ball of Honey\n",
      "Cosine Similarity : 0.056446681823582395\n",
      "\n",
      "\n",
      "Document: MN 135  Cūḷa Kamma-vibhaṅga Sutta | The Shorter Analysis of Action\n",
      "Cosine Similarity : 0.05134626863799696\n",
      "\n",
      "\n",
      "Document: MN 136  Mahā Kamma-vibhaṅga Sutta | The Greater Analysis of Action\n",
      "Cosine Similarity : 0.050753167050949365\n",
      "\n",
      "\n",
      "Document: MN 39  Mahā Assapura Sutta | The Greater Discourse at Assapura\n",
      "Cosine Similarity : 0.05010516873986099\n",
      "\n",
      "\n",
      "Document: MN 97  Dhanañjānin Sutta | To Dhanañjānin\n",
      "Cosine Similarity : 0.04974632352266012\n",
      "\n",
      "\n",
      "Document: MN 108  Gopaka Moggallāna Sutta | Moggallāna the Guardsman\n",
      "Cosine Similarity : 0.049655042720938944\n",
      "\n",
      "\n",
      "Document: MN 28  Mahā Hatthipadopama Sutta | The Great Elephant Footprint Simile\n",
      "Cosine Similarity : 0.04851469463554626\n",
      "\n",
      "\n",
      "Document: MN 151  Piṇḍapātapārisuddhi Sutta | The Purification of Almsfood\n",
      "Cosine Similarity : 0.04673166643859206\n",
      "\n",
      "\n",
      "Document: MN 24  Ratha-vinīta Sutta | Relay Chariots\n",
      "Cosine Similarity : 0.04463643712399269\n",
      "\n",
      "\n",
      "Document: MN 22  Alagaddūpama Sutta | The Water-Snake Simile\n",
      "Cosine Similarity : 0.04455476696261587\n",
      "\n",
      "\n",
      "Document: MN 20  Vitakkasaṇṭhāna Sutta | The Relaxation of Thoughts\n",
      "Cosine Similarity : 0.04411785585096605\n",
      "\n",
      "\n",
      "Document: MN 19  Dvedhāvitakka Sutta | Two Sorts of Thinking\n",
      "Cosine Similarity : 0.043210187559770366\n",
      "\n",
      "\n",
      "Document: MN 5  Anaṅgaṇa Sutta | Unblemished\n",
      "Cosine Similarity : 0.04084755643677454\n",
      "\n",
      "\n",
      "Document: MN 70  Kīṭāgiri Sutta | At Kīṭāgiri\n",
      "Cosine Similarity : 0.0407651702191167\n",
      "\n",
      "\n",
      "Document: MN 59  Bahuvedanīya Sutta | Many Things to Be Felt\n",
      "Cosine Similarity : 0.03947468350995516\n",
      "\n",
      "\n",
      "Document: MN 36  Mahā Saccaka Sutta | The Longer Discourse to Saccaka\n",
      "Cosine Similarity : 0.039458075931960414\n",
      "\n",
      "\n",
      "Document: MN 138  Uddesa-vibhaṅga Sutta | An Analysis of the Statement\n",
      "Cosine Similarity : 0.03884961377202645\n",
      "\n",
      "\n",
      "Document: MN 53  Sekha-paṭipadā Sutta | The Practice for One in Training\n",
      "Cosine Similarity : 0.038004036620977205\n",
      "\n",
      "\n",
      "Document: MN 111  Anupada Sutta | One After Another\n",
      "Cosine Similarity : 0.036948179261531724\n",
      "\n",
      "\n",
      "Document: MN 149  Mahā Saḷāyatanika Sutta | The Great Six Sense-Media Discourse\n",
      "Cosine Similarity : 0.03596979632830408\n",
      "\n",
      "\n",
      "Document: MN 122  Mahā Suññata Sutta | The Greater Discourse on Emptiness\n",
      "Cosine Similarity : 0.035420384007968084\n",
      "\n",
      "\n",
      "Document: MN 48  Kosambiyā Sutta | In Kosambī\n",
      "Cosine Similarity : 0.034344945104195924\n",
      "\n",
      "\n",
      "Document: MN 143  Anāthapiṇḍikovāda Sutta | The Exhortation to Anāthapiṇḍika\n",
      "Cosine Similarity : 0.03381306513489151\n",
      "\n",
      "\n",
      "Document: MN 14  Cūḷa Dukkhakkhandha Sutta | The Lesser Mass of Stress\n",
      "Cosine Similarity : 0.03360803569328441\n",
      "\n",
      "\n",
      "Document: MN 44  Cūḷa Vedalla Sutta | The Shorter Set of Questions & Answers\n",
      "Cosine Similarity : 0.030880399157060714\n",
      "\n",
      "\n",
      "Document: MN 41  Sāleyyaka Sutta | (Brahmans) of Sāla\n",
      "Cosine Similarity : 0.029594302300698316\n",
      "\n",
      "\n",
      "Document: MN 51  Kandaraka Sutta | To Kandaraka\n",
      "Cosine Similarity : 0.02949172618334096\n",
      "\n",
      "\n",
      "Document: MN 67  Cātumā Sutta | Near Cātumā\n",
      "Cosine Similarity : 0.029475382494645118\n",
      "\n",
      "\n",
      "Document: MN 26  Ariyapariyesana Sutta | The Noble Search\n",
      "Cosine Similarity : 0.02841403246566438\n",
      "\n",
      "\n",
      "Document: MN 64  Mahā Māluṅkyovāda Sutta | The Longer Exhortation to Māluṅkya\n",
      "Cosine Similarity : 0.0280990921129694\n",
      "\n",
      "\n",
      "Document: MN 43  Mahā Vedalla Sutta | The Greater Set of Questions & Answers\n",
      "Cosine Similarity : 0.027954033444128768\n",
      "\n",
      "\n",
      "Document: MN 102  Pañcattaya Sutta | Five & Three (Excerpt)\n",
      "Cosine Similarity : 0.027321811320352756\n",
      "\n",
      "\n",
      "Document: MN 45  Cūḷa Dhammasamādāna Sutta | The Shorter Discourse on Taking on Practices\n",
      "Cosine Similarity : 0.0272387739557554\n",
      "\n",
      "\n",
      "Document: MN 118  Ānāpānasati Sutta | Mindfulness of Breathing\n",
      "Cosine Similarity : 0.025860489406046273\n",
      "\n",
      "\n",
      "Document: MN 148  Chachakka Sutta | The Six Sextets\n",
      "Cosine Similarity : 0.02581472395815554\n",
      "\n",
      "\n",
      "Document: MN 33  Mahā Gopālaka Sutta | The Greater Cowherd Discourse\n",
      "Cosine Similarity : 0.025784325346506095\n",
      "\n",
      "\n",
      "Document: MN 140  Dhātu-vibhaṅga Sutta | An Analysis of the Properties\n",
      "Cosine Similarity : 0.025564334722615475\n",
      "\n",
      "\n",
      "Document: MN 125  Dantabhūmi Sutta | The Level of the Tamed\n",
      "Cosine Similarity : 0.024406888452710922\n",
      "\n",
      "\n",
      "Document: MN 4  Bhaya-bherava Sutta | Fear & Terror\n",
      "Cosine Similarity : 0.024146549552296587\n",
      "\n",
      "\n",
      "Document: MN 107  Gaṇaka Moggallāna Sutta | To Gaṇaka Moggallāna\n",
      "Cosine Similarity : 0.024046275350880515\n",
      "\n",
      "\n",
      "Document: MN 11  Cūḷasīhanāda Sutta | The Shorter Lion’s Roar Discourse\n",
      "Cosine Similarity : 0.02353232531058865\n",
      "\n",
      "\n",
      "Document: MN 54  Potaliya Sutta | To Potaliya (Excerpt)\n",
      "Cosine Similarity : 0.023277956017197964\n",
      "\n",
      "\n",
      "Document: MN 55  Jīvaka Sutta | To Jīvaka\n",
      "Cosine Similarity : 0.022801410813717945\n",
      "\n",
      "\n",
      "Document: MN 147  Cūḷa Rāhulovāda Sutta | The Shorter Exhortation to Rāhula\n",
      "Cosine Similarity : 0.02275613899753922\n",
      "\n",
      "\n",
      "Document: MN 106  Āneñja-sappāya Sutta | Conducive to the Imperturbable\n",
      "Cosine Similarity : 0.022486090867085227\n",
      "\n",
      "\n",
      "Document: MN 31  Cūḷagosiṅgasāla Sutta | The Shorter Gosiṅga Sāla-tree Discourse\n",
      "Cosine Similarity : 0.022315188837194053\n",
      "\n",
      "\n",
      "Document: MN 119  Kāyagatā-sati Sutta | Mindfulness Immersed in the Body\n",
      "Cosine Similarity : 0.022196231534085044\n",
      "\n",
      "\n",
      "Document: MN 62  Mahā Rāhulovāda Sutta | The Greater Exhortation to Rāhula\n",
      "Cosine Similarity : 0.021650107224117105\n",
      "\n",
      "\n",
      "Document: MN 52  Aṭṭhakanāgara Sutta | To the Man from Aṭṭhakanagara\n",
      "Cosine Similarity : 0.021231448465204597\n",
      "\n",
      "\n",
      "Document: MN 128  Upakkilesa Sutta | Defilements\n",
      "Cosine Similarity : 0.020978639417540655\n",
      "\n",
      "\n",
      "Document: MN 77  Mahāsakuludāyi Sutta | The Greater Discourse to Sakuludāyin\n",
      "Cosine Similarity : 0.020978639417540655\n",
      "\n",
      "\n",
      "Document: MN 90  Kaṇṇakatthala Sutta | At Kaṇṇakatthala\n",
      "Cosine Similarity : 0.020692924184579395\n",
      "\n",
      "\n",
      "Document: MN 109  Mahā Puṇṇama Sutta | The Great Full-Moon Night Discourse\n",
      "Cosine Similarity : 0.020546144188352922\n",
      "\n",
      "\n",
      "Document: MN 35  Cūḷa Saccaka Sutta | The Shorter Discourse to Saccaka\n",
      "Cosine Similarity : 0.019500458872658017\n",
      "\n",
      "\n",
      "Document: MN 123  Acchariy’abbhūtadhamma Sutta | Amazing & Astounding Qualities\n",
      "Cosine Similarity : 0.019430575373527575\n",
      "\n",
      "\n",
      "Document: MN 2  Sabbāsava Sutta | All the Effluents\n",
      "Cosine Similarity : 0.018694511006245924\n",
      "\n",
      "\n",
      "Document: MN 66  Laḍukikopama Sutta | The Quail Simile\n",
      "Cosine Similarity : 0.01841219153467444\n",
      "\n",
      "\n",
      "Document: MN 87  Piyajātika Sutta | From One Who Is Dear\n",
      "Cosine Similarity : 0.01821037668634212\n",
      "\n",
      "\n",
      "Document: MN 74  Dīghanakha Sutta | To LongNails\n",
      "Cosine Similarity : 0.01620867062513833\n",
      "\n",
      "\n",
      "Document: MN 13  Mahā Dukkhakkhandha Sutta | The Great Mass of Stress\n",
      "Cosine Similarity : 0.015930486438037524\n",
      "\n",
      "\n",
      "Document: MN 137  Saḷāyatana-vibhaṅga Sutta | An Analysis of the Six Sense-Media\n",
      "Cosine Similarity : 0.01574922540102037\n",
      "\n",
      "\n",
      "Document: MN 126  Bhūmija Sutta | To Bhūmija\n",
      "Cosine Similarity : 0.015293711961474832\n",
      "\n",
      "\n",
      "Document: MN 82  Raṭṭhapāla Sutta | About Raṭṭhapāla\n",
      "Cosine Similarity : 0.014881588482462682\n",
      "\n",
      "\n",
      "Document: MN 6  Ākaṅkheyya Sutta | If One Would Wish\n",
      "Cosine Similarity : 0.014115043681893483\n",
      "\n",
      "\n",
      "Document: MN 40  Cūḷa Assapura Sutta | The Shorter Discourse at Assapura\n",
      "Cosine Similarity : 0.01384134170216756\n",
      "\n",
      "\n",
      "Document: MN 72  Aggi-vacchagotta Sutta | To Vacchagotta on Fire\n",
      "Cosine Similarity : 0.013509708081383569\n",
      "\n",
      "\n",
      "Document: MN 58  Abhaya Rāja-kumāra Sutta | To Prince Abhaya\n",
      "Cosine Similarity : 0.013249305023535957\n",
      "\n",
      "\n",
      "Document: MN 63  Cūḷa Māluṅkyovāda Sutta | The Shorter Exhortation to Māluṅkya\n",
      "Cosine Similarity : 0.011722303206323413\n",
      "\n",
      "\n",
      "Document: MN 105  Sunakkhatta Sutta | To Sunakkhatta\n",
      "Cosine Similarity : 0.011481138104982996\n",
      "\n",
      "\n",
      "Document: MN 86  Aṅgulimāla Sutta | About Aṅgulimāla\n",
      "Cosine Similarity : 0.011328439307553815\n",
      "\n",
      "\n",
      "Document: MN 113  Sappurisa Sutta | A Person of Integrity\n",
      "Cosine Similarity : 0.01124107580850827\n",
      "\n",
      "\n",
      "Document: MN 146  Nandakovāda Sutta | Nandaka’s Exhortation\n",
      "Cosine Similarity : 0.010740634367539756\n",
      "\n",
      "\n",
      "Document: MN 121  Cūḷa Suññata Sutta | The Shorter Discourse on Emptiness\n",
      "Cosine Similarity : 0.010125875288262696\n",
      "\n",
      "\n",
      "Document: MN 25  Nivāpa Sutta | Poison-grass\n",
      "Cosine Similarity : 0.008780873678189489\n",
      "\n",
      "\n",
      "Document: MN 7  Vatthūpama Sutta | The Simile of the Cloth\n",
      "Cosine Similarity : 0.008143424404572847\n",
      "\n",
      "\n",
      "Document: MN 30  Cūḷa Sāropama Sutta | The Shorter Heartwood Simile Discourse\n",
      "Cosine Similarity : 0.008106424752811198\n",
      "\n",
      "\n",
      "Document: MN 27  Cūḷa Hatthipadopama Sutta | The Shorter Elephant Footprint Simile\n",
      "Cosine Similarity : 0.007587188494356678\n",
      "\n",
      "\n",
      "Document: MN 91  Brahmāyu Sutta | To Brahmāyu (Excerpt)\n",
      "Cosine Similarity : 0.0069706193126760204\n",
      "\n",
      "\n",
      "Document: MN 130  Devadūta Sutta | The Deva Messengers\n",
      "Cosine Similarity : 0.006966045794633766\n",
      "\n",
      "\n",
      "Document: MN 69  Golissāni Sutta | About Golissāni\n",
      "Cosine Similarity : 0.006934938903472961\n",
      "\n",
      "\n",
      "Document: MN 152  Indriya-bhāvanā Sutta | The Development of the Faculties\n",
      "Cosine Similarity : 0.005865695163434434\n",
      "\n",
      "\n",
      "Document: MN 29  Mahā Sāropama Sutta | The Longer Heartwood Simile Discourse\n",
      "Cosine Similarity : 0.005714336969599043\n",
      "\n",
      "\n",
      "Document: MN 131  Bhaddekaratta Sutta | An Auspicious Day\n",
      "Cosine Similarity : 0.004195145890573982\n",
      "\n",
      "\n",
      "Document: MN 49  Brahma-nimantanika Sutta | The Brahmā Invitation\n",
      "Cosine Similarity : 0.0034247602348051556\n",
      "\n",
      "\n",
      "Document: MN 1  Mūlapariyāya Sutta | The Root Sequence\n",
      "Cosine Similarity : 0.003221854700393463\n",
      "\n",
      "\n",
      "Document: MN 93  Assalāyana Sutta | With Assalāyana\n",
      "Cosine Similarity : 0.0021852924283267973\n",
      "\n",
      "\n",
      "Document: MN 110  Cūḷa Puṇṇama Sutta | The Shorter Full-Moon Night Discourse\n",
      "Cosine Similarity : 0.002171111878916392\n",
      "\n",
      "\n",
      "Document: MN 21  Kakacūpama Sutta | The Simile of the Saw\n",
      "Cosine Similarity : 0.0\n",
      "\n",
      "\n",
      "Document: MN 12  Mahāsīhanāda Sutta | The Great Lion’s Roar Discourse\n",
      "Cosine Similarity : 0.0\n",
      "\n",
      "\n",
      "Document: MN 56  Upālivāda Sutta | The Teaching to Upāli\n",
      "Cosine Similarity : 0.0\n",
      "\n",
      "\n",
      "Document: MN 75  Māgaṇḍiya Sutta | To Māgaṇḍiya\n",
      "Cosine Similarity : 0.0\n",
      "\n",
      "\n",
      "Document: MN 92  Sela Sutta | To Sela\n",
      "Cosine Similarity : 0.0\n",
      "\n",
      "\n",
      "Document: MN 95  Caṅkī Sutta | With Caṅkī\n",
      "Cosine Similarity : 0.0\n",
      "\n",
      "\n",
      "Document: MN 98  Vāseṭṭha Sutta | To Vāseṭṭha\n",
      "Cosine Similarity : 0.0\n",
      "Document: MN 9  Sammādiṭṭhi Sutta | Right View\n",
      "\n",
      "\n",
      "Similar Documents:\n",
      "\n",
      "\n",
      "Document: MN 78  Samaṇa-Muṇḍika Sutta | Muṇḍika the Contemplative\n",
      "Euclidean Distance : 1.307786926126638\n",
      "\n",
      "\n",
      "Document: MN 61  Ambalaṭṭhikā Rāhulovāda Sutta | The Exhortation to Rāhula at Mango Stone\n",
      "Euclidean Distance : 1.3179482226787782\n",
      "\n",
      "\n",
      "Document: MN 60  Apaṇṇaka Sutta | A Safe Bet\n",
      "Euclidean Distance : 1.3330112996677568\n",
      "\n",
      "\n",
      "Document: MN 101  Devadaha Sutta | At Devadaha\n",
      "Euclidean Distance : 1.3462302894176272\n",
      "\n",
      "\n",
      "Document: MN 38  Mahā Taṇhāsaṅkhaya Sutta | The Greater Craving-Destruction Discourse\n",
      "Euclidean Distance : 1.3464728394368675\n",
      "\n",
      "\n",
      "Document: MN 141  Sacca-vibhaṅga Sutta | An Analysis of the Truths\n",
      "Euclidean Distance : 1.353280216791474\n",
      "\n",
      "\n",
      "Document: MN 10  Satipaṭṭhāna Sutta | The Establishing of Mindfulness Discourse\n",
      "Euclidean Distance : 1.35873873348766\n",
      "\n",
      "\n",
      "Document: MN 117  Mahā Cattārīsaka Sutta | The Great Forty\n",
      "Euclidean Distance : 1.370843003699807\n",
      "\n",
      "\n",
      "Document: MN 18  Madhupiṇḍika Sutta | The Ball of Honey\n",
      "Euclidean Distance : 1.373719999254883\n",
      "\n",
      "\n",
      "Document: MN 135  Cūḷa Kamma-vibhaṅga Sutta | The Shorter Analysis of Action\n",
      "Euclidean Distance : 1.3774278430190114\n",
      "\n",
      "\n",
      "Document: MN 136  Mahā Kamma-vibhaṅga Sutta | The Greater Analysis of Action\n",
      "Euclidean Distance : 1.3778583620597953\n",
      "\n",
      "\n",
      "Document: MN 39  Mahā Assapura Sutta | The Greater Discourse at Assapura\n",
      "Euclidean Distance : 1.3783285756742765\n",
      "\n",
      "\n",
      "Document: MN 97  Dhanañjānin Sutta | To Dhanañjānin\n",
      "Euclidean Distance : 1.3785888991844817\n",
      "\n",
      "\n",
      "Document: MN 108  Gopaka Moggallāna Sutta | Moggallāna the Guardsman\n",
      "Euclidean Distance : 1.3786551108083986\n",
      "\n",
      "\n",
      "Document: MN 28  Mahā Hatthipadopama Sutta | The Great Elephant Footprint Simile\n",
      "Euclidean Distance : 1.3794820081207684\n",
      "\n",
      "\n",
      "Document: MN 151  Piṇḍapātapārisuddhi Sutta | The Purification of Almsfood\n",
      "Euclidean Distance : 1.380773937733044\n",
      "\n",
      "\n",
      "Document: MN 24  Ratha-vinīta Sutta | Relay Chariots\n",
      "Euclidean Distance : 1.382290535940984\n",
      "\n",
      "\n",
      "Document: MN 22  Alagaddūpama Sutta | The Water-Snake Simile\n",
      "Euclidean Distance : 1.3823496178878802\n",
      "\n",
      "\n",
      "Document: MN 20  Vitakkasaṇṭhāna Sutta | The Relaxation of Thoughts\n",
      "Euclidean Distance : 1.3826656458804738\n",
      "\n",
      "\n",
      "Document: MN 19  Dvedhāvitakka Sutta | Two Sorts of Thinking\n",
      "Euclidean Distance : 1.3833219527212244\n",
      "\n",
      "\n",
      "Document: MN 5  Anaṅgaṇa Sutta | Unblemished\n",
      "Euclidean Distance : 1.3850288398175872\n",
      "\n",
      "\n",
      "Document: MN 70  Kīṭāgiri Sutta | At Kīṭāgiri\n",
      "Euclidean Distance : 1.3850883219353798\n",
      "\n",
      "\n",
      "Document: MN 59  Bahuvedanīya Sutta | Many Things to Be Felt\n",
      "Euclidean Distance : 1.3860197087271486\n",
      "\n",
      "\n",
      "Document: MN 36  Mahā Saccaka Sutta | The Longer Discourse to Saccaka\n",
      "Euclidean Distance : 1.3860316908844754\n",
      "\n",
      "\n",
      "Document: MN 138  Uddesa-vibhaṅga Sutta | An Analysis of the Statement\n",
      "Euclidean Distance : 1.38647061723498\n",
      "\n",
      "\n",
      "Document: MN 53  Sekha-paṭipadā Sutta | The Practice for One in Training\n",
      "Euclidean Distance : 1.3870803605984936\n",
      "\n",
      "\n",
      "Document: MN 111  Anupada Sutta | One After Another\n",
      "Euclidean Distance : 1.3878413603423618\n",
      "\n",
      "\n",
      "Document: MN 149  Mahā Saḷāyatanika Sutta | The Great Six Sense-Media Discourse\n",
      "Euclidean Distance : 1.3885461487985886\n",
      "\n",
      "\n",
      "Document: MN 122  Mahā Suññata Sutta | The Greater Discourse on Emptiness\n",
      "Euclidean Distance : 1.3889417669521145\n",
      "\n",
      "\n",
      "Document: MN 48  Kosambiyā Sutta | In Kosambī\n",
      "Euclidean Distance : 1.3897158377854117\n",
      "\n",
      "\n",
      "Document: MN 143  Anāthapiṇḍikovāda Sutta | The Exhortation to Anāthapiṇḍika\n",
      "Euclidean Distance : 1.3900985108006616\n",
      "\n",
      "\n",
      "Document: MN 14  Cūḷa Dukkhakkhandha Sutta | The Lesser Mass of Stress\n",
      "Euclidean Distance : 1.3902459957192579\n",
      "\n",
      "\n",
      "Document: MN 44  Cūḷa Vedalla Sutta | The Shorter Set of Questions & Answers\n",
      "Euclidean Distance : 1.3922065944700441\n",
      "\n",
      "\n",
      "Document: MN 41  Sāleyyaka Sutta | (Brahmans) of Sāla\n",
      "Euclidean Distance : 1.393130071241951\n",
      "\n",
      "\n",
      "Document: MN 51  Kandaraka Sutta | To Kandaraka\n",
      "Euclidean Distance : 1.3932036992605625\n",
      "\n",
      "\n",
      "Document: MN 67  Cātumā Sutta | Near Cātumā\n",
      "Euclidean Distance : 1.393215430222731\n",
      "\n",
      "\n",
      "Document: MN 26  Ariyapariyesana Sutta | The Noble Search\n",
      "Euclidean Distance : 1.3939770209973588\n",
      "\n",
      "\n",
      "Document: MN 64  Mahā Māluṅkyovāda Sutta | The Longer Exhortation to Māluṅkya\n",
      "Euclidean Distance : 1.3942029320633569\n",
      "\n",
      "\n",
      "Document: MN 43  Mahā Vedalla Sutta | The Greater Set of Questions & Answers\n",
      "Euclidean Distance : 1.3943069723384955\n",
      "\n",
      "\n",
      "Document: MN 102  Pañcattaya Sutta | Five & Three (Excerpt)\n",
      "Euclidean Distance : 1.3947603297195166\n",
      "\n",
      "\n",
      "Document: MN 45  Cūḷa Dhammasamādāna Sutta | The Shorter Discourse on Taking on Practices\n",
      "Euclidean Distance : 1.3948198636700326\n",
      "\n",
      "\n",
      "Document: MN 118  Ānāpānasati Sutta | Mindfulness of Breathing\n",
      "Euclidean Distance : 1.3958076590948718\n",
      "\n",
      "\n",
      "Document: MN 148  Chachakka Sutta | The Six Sextets\n",
      "Euclidean Distance : 1.3958404464994159\n",
      "\n",
      "\n",
      "Document: MN 33  Mahā Gopālaka Sutta | The Greater Cowherd Discourse\n",
      "Euclidean Distance : 1.3958622243283854\n",
      "\n",
      "\n",
      "Document: MN 140  Dhātu-vibhaṅga Sutta | An Analysis of the Properties\n",
      "Euclidean Distance : 1.3960198173932807\n",
      "\n",
      "\n",
      "Document: MN 125  Dantabhūmi Sutta | The Level of the Tamed\n",
      "Euclidean Distance : 1.3968486758037095\n",
      "\n",
      "\n",
      "Document: MN 4  Bhaya-bherava Sutta | Fear & Terror\n",
      "Euclidean Distance : 1.3970350392511306\n",
      "\n",
      "\n",
      "Document: MN 107  Gaṇaka Moggallāna Sutta | To Gaṇaka Moggallāna\n",
      "Euclidean Distance : 1.3971068138471858\n",
      "\n",
      "\n",
      "Document: MN 11  Cūḷasīhanāda Sutta | The Shorter Lion’s Roar Discourse\n",
      "Euclidean Distance : 1.3974746328212266\n",
      "\n",
      "\n",
      "Document: MN 54  Potaliya Sutta | To Potaliya (Excerpt)\n",
      "Euclidean Distance : 1.3976566416561702\n",
      "\n",
      "\n",
      "Document: MN 55  Jīvaka Sutta | To Jīvaka\n",
      "Euclidean Distance : 1.397997560216957\n",
      "\n",
      "\n",
      "Document: MN 147  Cūḷa Rāhulovāda Sutta | The Shorter Exhortation to Rāhula\n",
      "Euclidean Distance : 1.398029943171791\n",
      "\n",
      "\n",
      "Document: MN 106  Āneñja-sappāya Sutta | Conducive to the Imperturbable\n",
      "Euclidean Distance : 1.3982230931671202\n",
      "\n",
      "\n",
      "Document: MN 31  Cūḷagosiṅgasāla Sutta | The Shorter Gosiṅga Sāla-tree Discourse\n",
      "Euclidean Distance : 1.398345315837834\n",
      "\n",
      "\n",
      "Document: MN 119  Kāyagatā-sati Sutta | Mindfulness Immersed in the Body\n",
      "Euclidean Distance : 1.3984303832983003\n",
      "\n",
      "\n",
      "Document: MN 62  Mahā Rāhulovāda Sutta | The Greater Exhortation to Rāhula\n",
      "Euclidean Distance : 1.3988208554177928\n",
      "\n",
      "\n",
      "Document: MN 52  Aṭṭhakanāgara Sutta | To the Man from Aṭṭhakanagara\n",
      "Euclidean Distance : 1.3991201174558212\n",
      "\n",
      "\n",
      "Document: MN 77  Mahāsakuludāyi Sutta | The Greater Discourse to Sakuludāyin\n",
      "Euclidean Distance : 1.3993007972430083\n",
      "\n",
      "\n",
      "Document: MN 128  Upakkilesa Sutta | Defilements\n",
      "Euclidean Distance : 1.3993007972430083\n",
      "\n",
      "\n",
      "Document: MN 90  Kaṇṇakatthala Sutta | At Kaṇṇakatthala\n",
      "Euclidean Distance : 1.3995049666331456\n",
      "\n",
      "\n",
      "Document: MN 109  Mahā Puṇṇama Sutta | The Great Full-Moon Night Discourse\n",
      "Euclidean Distance : 1.3996098426430468\n",
      "\n",
      "\n",
      "Document: MN 35  Cūḷa Saccaka Sutta | The Shorter Discourse to Saccaka\n",
      "Euclidean Distance : 1.4003567696321841\n",
      "\n",
      "\n",
      "Document: MN 123  Acchariy’abbhūtadhamma Sutta | Amazing & Astounding Qualities\n",
      "Euclidean Distance : 1.4004066728107742\n",
      "\n",
      "\n",
      "Document: MN 2  Sabbāsava Sutta | All the Effluents\n",
      "Euclidean Distance : 1.400932181794504\n",
      "\n",
      "\n",
      "Document: MN 66  Laḍukikopama Sutta | The Quail Simile\n",
      "Euclidean Distance : 1.4011336898849638\n",
      "\n",
      "\n",
      "Document: MN 87  Piyajātika Sutta | From One Who Is Dear\n",
      "Euclidean Distance : 1.4012777193073884\n",
      "\n",
      "\n",
      "Document: MN 74  Dīghanakha Sutta | To LongNails\n",
      "Euclidean Distance : 1.4027054782632467\n",
      "\n",
      "\n",
      "Document: MN 13  Mahā Dukkhakkhandha Sutta | The Great Mass of Stress\n",
      "Euclidean Distance : 1.4029037839866016\n",
      "\n",
      "\n",
      "Document: MN 137  Saḷāyatana-vibhaṅga Sutta | An Analysis of the Six Sense-Media\n",
      "Euclidean Distance : 1.4030329822202898\n",
      "\n",
      "\n",
      "Document: MN 126  Bhūmija Sutta | To Bhūmija\n",
      "Euclidean Distance : 1.4033576080518644\n",
      "\n",
      "\n",
      "Document: MN 82  Raṭṭhapāla Sutta | About Raṭṭhapāla\n",
      "Euclidean Distance : 1.4036512469395934\n",
      "\n",
      "\n",
      "Document: MN 6  Ākaṅkheyya Sutta | If One Would Wish\n",
      "Euclidean Distance : 1.404197248479078\n",
      "\n",
      "\n",
      "Document: MN 40  Cūḷa Assapura Sutta | The Shorter Discourse at Assapura\n",
      "Euclidean Distance : 1.4043921519987446\n",
      "\n",
      "\n",
      "Document: MN 72  Aggi-vacchagotta Sutta | To Vacchagotta on Fire\n",
      "Euclidean Distance : 1.4046282724754027\n",
      "\n",
      "\n",
      "Document: MN 58  Abhaya Rāja-kumāra Sutta | To Prince Abhaya\n",
      "Euclidean Distance : 1.4048136495467745\n",
      "\n",
      "\n",
      "Document: MN 63  Cūḷa Māluṅkyovāda Sutta | The Shorter Exhortation to Māluṅkya\n",
      "Euclidean Distance : 1.4059002075493672\n",
      "\n",
      "\n",
      "Document: MN 105  Sunakkhatta Sutta | To Sunakkhatta\n",
      "Euclidean Distance : 1.4060717349374583\n",
      "\n",
      "\n",
      "Document: MN 86  Aṅgulimāla Sutta | About Aṅgulimāla\n",
      "Euclidean Distance : 1.4061803303221436\n",
      "\n",
      "\n",
      "Document: MN 113  Sappurisa Sutta | A Person of Integrity\n",
      "Euclidean Distance : 1.4062424571826095\n",
      "\n",
      "\n",
      "Document: MN 146  Nandakovāda Sutta | Nandaka’s Exhortation\n",
      "Euclidean Distance : 1.4065982835425759\n",
      "\n",
      "\n",
      "Document: MN 121  Cūḷa Suññata Sutta | The Shorter Discourse on Emptiness\n",
      "Euclidean Distance : 1.4070352694312513\n",
      "\n",
      "\n",
      "Document: MN 25  Nivāpa Sutta | Poison-grass\n",
      "Euclidean Distance : 1.4079908567329618\n",
      "\n",
      "\n",
      "Document: MN 7  Vatthūpama Sutta | The Simile of the Cloth\n",
      "Euclidean Distance : 1.408443520767111\n",
      "\n",
      "\n",
      "Document: MN 30  Cūḷa Sāropama Sutta | The Shorter Heartwood Simile Discourse\n",
      "Euclidean Distance : 1.4084697904088594\n",
      "\n",
      "\n",
      "Document: MN 27  Cūḷa Hatthipadopama Sutta | The Shorter Elephant Footprint Simile\n",
      "Euclidean Distance : 1.4088383949237353\n",
      "\n",
      "\n",
      "Document: MN 91  Brahmāyu Sutta | To Brahmāyu (Excerpt)\n",
      "Euclidean Distance : 1.4092759706227334\n",
      "\n",
      "\n",
      "Document: MN 130  Devadūta Sutta | The Deva Messengers\n",
      "Euclidean Distance : 1.4092792159152607\n",
      "\n",
      "\n",
      "Document: MN 69  Golissāni Sutta | About Golissāni\n",
      "Euclidean Distance : 1.4093012886508884\n",
      "\n",
      "\n",
      "Document: MN 152  Indriya-bhāvanā Sutta | The Development of the Faculties\n",
      "Euclidean Distance : 1.4100597893965814\n",
      "\n",
      "\n",
      "Document: MN 29  Mahā Sāropama Sutta | The Longer Heartwood Simile Discourse\n",
      "Euclidean Distance : 1.4101671269962301\n",
      "\n",
      "\n",
      "Document: MN 131  Bhaddekaratta Sutta | An Auspicious Day\n",
      "Euclidean Distance : 1.41124402858572\n",
      "\n",
      "\n",
      "Document: MN 49  Brahma-nimantanika Sutta | The Brahmā Invitation\n",
      "Euclidean Distance : 1.4117898142182463\n",
      "\n",
      "\n",
      "Document: MN 1  Mūlapariyāya Sutta | The Root Sequence\n",
      "Euclidean Distance : 1.411933529100861\n",
      "\n",
      "\n",
      "Document: MN 93  Assalāyana Sutta | With Assalāyana\n",
      "Euclidean Distance : 1.41266748215684\n",
      "\n",
      "\n",
      "Document: MN 110  Cūḷa Puṇṇama Sutta | The Shorter Full-Moon Night Discourse\n",
      "Euclidean Distance : 1.412677520257956\n",
      "\n",
      "\n",
      "Document: MN 98  Vāseṭṭha Sutta | To Vāseṭṭha\n",
      "Euclidean Distance : 1.4142135623730951\n",
      "\n",
      "\n",
      "Document: MN 95  Caṅkī Sutta | With Caṅkī\n",
      "Euclidean Distance : 1.4142135623730951\n",
      "\n",
      "\n",
      "Document: MN 92  Sela Sutta | To Sela\n",
      "Euclidean Distance : 1.4142135623730951\n",
      "\n",
      "\n",
      "Document: MN 75  Māgaṇḍiya Sutta | To Māgaṇḍiya\n",
      "Euclidean Distance : 1.4142135623730951\n",
      "\n",
      "\n",
      "Document: MN 56  Upālivāda Sutta | The Teaching to Upāli\n",
      "Euclidean Distance : 1.4142135623730951\n",
      "\n",
      "\n",
      "Document: MN 21  Kakacūpama Sutta | The Simile of the Saw\n",
      "Euclidean Distance : 1.4142135623730951\n",
      "\n",
      "\n",
      "Document: MN 12  Mahāsīhanāda Sutta | The Great Lion’s Roar Discourse\n",
      "Euclidean Distance : 1.4142135623730951\n"
     ]
    }
   ],
   "source": [
    "def most_similar(doc_id,similarity_matrix,matrix):\n",
    "    print (f'Document: {df_mn3.iloc[doc_id][\"title\"]}')\n",
    "    print ('\\n')\n",
    "    print ('Similar Documents:')\n",
    "    if matrix=='Cosine Similarity':\n",
    "        similar_ix=np.argsort(similarity_matrix[doc_id])[::-1]\n",
    "    elif matrix=='Euclidean Distance':\n",
    "        similar_ix=np.argsort(similarity_matrix[doc_id])\n",
    "    for ix in similar_ix:\n",
    "        if ix==doc_id:\n",
    "            continue\n",
    "        print('\\n')\n",
    "        print (f'Document: {df_mn3.iloc[ix][\"title\"]}')\n",
    "        print (f'{matrix} : {similarity_matrix[doc_id][ix]}')\n",
    "\n",
    "most_similar(6,pairwise_similarities,'Cosine Similarity')\n",
    "most_similar(6,pairwise_differences,'Euclidean Distance')          "
   ]
  },
  {
   "cell_type": "code",
   "execution_count": 49,
   "metadata": {
    "colab": {
     "base_uri": "https://localhost:8080/"
    },
    "id": "zr1GpWNbF7YL",
    "outputId": "e859d2b0-4ffc-4edb-b8cf-9ca60726742b"
   },
   "outputs": [
    {
     "name": "stdout",
     "output_type": "stream",
     "text": [
      "[[0. 0. 0. ... 0. 0. 0.]]\n",
      "(103, 103)\n",
      "[1.         0.05840892 0.01815271 0.02100585 0.05596209 0.03439352\n",
      " 0.00322185 0.01612599 0.0425602  0.         0.01471063 0.01787005\n",
      " 0.00124538 0.05779265 0.01088506 0.         0.02659095 0.05948916\n",
      " 0.01088431 0.07729961 0.0166039  0.06835455 0.00895892 0.02770673\n",
      " 0.06289585 0.12272163 0.03995404 0.0546915  0.03500889 0.04516825\n",
      " 0.02817459 0.11583783 0.06465946 0.07022708 0.03363202 0.02203962\n",
      " 0.12694935 0.04535562 0.06421645 0.04205742 0.09589992 0.03339916\n",
      " 0.         0.02225079 0.02801998 0.0461795  0.00879196 0.07839148\n",
      " 0.03437261 0.08739403 0.0642238  0.0181527  0.00998812 0.02930683\n",
      " 0.06938086 0.00950033 0.         0.         0.0160542  0.00831609\n",
      " 0.00703295 0.00957606 0.04268886 0.10257986 0.         0.02667468\n",
      " 0.         0.03249986 0.         0.03712778 0.04343556 0.11668274\n",
      " 0.0884645  0.05664857 0.03499736 0.04966257 0.01193167 0.07705664\n",
      " 0.05026156 0.01408428 0.01192991 0.0676941  0.17336662 0.03384438\n",
      " 0.04653502 0.03720884 0.01167856 0.         0.01507848 0.00979701\n",
      " 0.01265274 0.02827504 0.06466942 0.04034056 0.0837579  0.02511908\n",
      " 0.04673794 0.01387738 0.01253792 0.02172058 0.03385078 0.04801381\n",
      " 0.00320773]\n"
     ]
    }
   ],
   "source": [
    "print (X[0].toarray())\n",
    "print (pairwise_similarities.shape)\n",
    "print (pairwise_similarities[0][:])"
   ]
  },
  {
   "cell_type": "code",
   "execution_count": 50,
   "metadata": {
    "colab": {
     "base_uri": "https://localhost:8080/"
    },
    "id": "Zqdum1QXGt7Y",
    "outputId": "7d79c19c-0aa2-4c9c-e8df-1a36247b3151"
   },
   "outputs": [
    {
     "name": "stdout",
     "output_type": "stream",
     "text": [
      "Document: MN 4  Bhaya-bherava Sutta | Fear & Terror\n",
      "\n",
      "\n",
      "Similar Documents:\n",
      "\n",
      "\n",
      "Document: MN 36  Mahā Saccaka Sutta | The Longer Discourse to Saccaka\n",
      "Cosine Similarity : 0.25756273999208606\n",
      "\n",
      "\n",
      "Document: MN 39  Mahā Assapura Sutta | The Greater Discourse at Assapura\n",
      "Cosine Similarity : 0.20797779468502015\n",
      "\n",
      "\n",
      "Document: MN 19  Dvedhāvitakka Sutta | Two Sorts of Thinking\n",
      "Cosine Similarity : 0.19022039401911134\n",
      "\n",
      "\n",
      "Document: MN 60  Apaṇṇaka Sutta | A Safe Bet\n",
      "Cosine Similarity : 0.18603951835210072\n",
      "\n",
      "\n",
      "Document: MN 69  Golissāni Sutta | About Golissāni\n",
      "Cosine Similarity : 0.14894891919018727\n",
      "\n",
      "\n",
      "Document: MN 125  Dantabhūmi Sutta | The Level of the Tamed\n",
      "Cosine Similarity : 0.14583282287064575\n",
      "\n",
      "\n",
      "Document: MN 108  Gopaka Moggallāna Sutta | Moggallāna the Guardsman\n",
      "Cosine Similarity : 0.14336239359151426\n",
      "\n",
      "\n",
      "Document: MN 93  Assalāyana Sutta | With Assalāyana\n",
      "Cosine Similarity : 0.1371288482941114\n",
      "\n",
      "\n",
      "Document: MN 6  Ākaṅkheyya Sutta | If One Would Wish\n",
      "Cosine Similarity : 0.13393538519379602\n",
      "\n",
      "\n",
      "Document: MN 53  Sekha-paṭipadā Sutta | The Practice for One in Training\n",
      "Cosine Similarity : 0.13045227664036904\n",
      "\n",
      "\n",
      "Document: MN 27  Cūḷa Hatthipadopama Sutta | The Shorter Elephant Footprint Simile\n",
      "Cosine Similarity : 0.12742487148019163\n",
      "\n",
      "\n",
      "Document: MN 72  Aggi-vacchagotta Sutta | To Vacchagotta on Fire\n",
      "Cosine Similarity : 0.12110728948881372\n",
      "\n",
      "\n",
      "Document: MN 51  Kandaraka Sutta | To Kandaraka\n",
      "Cosine Similarity : 0.11841342339179599\n",
      "\n",
      "\n",
      "Document: MN 119  Kāyagatā-sati Sutta | Mindfulness Immersed in the Body\n",
      "Cosine Similarity : 0.11184294319547967\n",
      "\n",
      "\n",
      "Document: MN 35  Cūḷa Saccaka Sutta | The Shorter Discourse to Saccaka\n",
      "Cosine Similarity : 0.11060233316951307\n",
      "\n",
      "\n",
      "Document: MN 101  Devadaha Sutta | At Devadaha\n",
      "Cosine Similarity : 0.10711874811761331\n",
      "\n",
      "\n",
      "Document: MN 45  Cūḷa Dhammasamādāna Sutta | The Shorter Discourse on Taking on Practices\n",
      "Cosine Similarity : 0.106452477719656\n",
      "\n",
      "\n",
      "Document: MN 111  Anupada Sutta | One After Another\n",
      "Cosine Similarity : 0.10470489759672019\n",
      "\n",
      "\n",
      "Document: MN 107  Gaṇaka Moggallāna Sutta | To Gaṇaka Moggallāna\n",
      "Cosine Similarity : 0.1009446951603099\n",
      "\n",
      "\n",
      "Document: MN 31  Cūḷagosiṅgasāla Sutta | The Shorter Gosiṅga Sāla-tree Discourse\n",
      "Cosine Similarity : 0.09684801108493378\n",
      "\n",
      "\n",
      "Document: MN 102  Pañcattaya Sutta | Five & Three (Excerpt)\n",
      "Cosine Similarity : 0.09539037163051728\n",
      "\n",
      "\n",
      "Document: MN 26  Ariyapariyesana Sutta | The Noble Search\n",
      "Cosine Similarity : 0.09306970883580307\n",
      "\n",
      "\n",
      "Document: MN 54  Potaliya Sutta | To Potaliya (Excerpt)\n",
      "Cosine Similarity : 0.08512733590828053\n",
      "\n",
      "\n",
      "Document: MN 14  Cūḷa Dukkhakkhandha Sutta | The Lesser Mass of Stress\n",
      "Cosine Similarity : 0.08495326049043216\n",
      "\n",
      "\n",
      "Document: MN 122  Mahā Suññata Sutta | The Greater Discourse on Emptiness\n",
      "Cosine Similarity : 0.08224122508066795\n",
      "\n",
      "\n",
      "Document: MN 7  Vatthūpama Sutta | The Simile of the Cloth\n",
      "Cosine Similarity : 0.08170086983992614\n",
      "\n",
      "\n",
      "Document: MN 74  Dīghanakha Sutta | To LongNails\n",
      "Cosine Similarity : 0.08109431768341205\n",
      "\n",
      "\n",
      "Document: MN 141  Sacca-vibhaṅga Sutta | An Analysis of the Truths\n",
      "Cosine Similarity : 0.07675929968327395\n",
      "\n",
      "\n",
      "Document: MN 149  Mahā Saḷāyatanika Sutta | The Great Six Sense-Media Discourse\n",
      "Cosine Similarity : 0.07630322573207825\n",
      "\n",
      "\n",
      "Document: MN 135  Cūḷa Kamma-vibhaṅga Sutta | The Shorter Analysis of Action\n",
      "Cosine Similarity : 0.07545485202211194\n",
      "\n",
      "\n",
      "Document: MN 78  Samaṇa-Muṇḍika Sutta | Muṇḍika the Contemplative\n",
      "Cosine Similarity : 0.07420254999045783\n",
      "\n",
      "\n",
      "Document: MN 41  Sāleyyaka Sutta | (Brahmans) of Sāla\n",
      "Cosine Similarity : 0.07290610911387453\n",
      "\n",
      "\n",
      "Document: MN 117  Mahā Cattārīsaka Sutta | The Great Forty\n",
      "Cosine Similarity : 0.07232247835289227\n",
      "\n",
      "\n",
      "Document: MN 136  Mahā Kamma-vibhaṅga Sutta | The Greater Analysis of Action\n",
      "Cosine Similarity : 0.07082260160266249\n",
      "\n",
      "\n",
      "Document: MN 11  Cūḷasīhanāda Sutta | The Shorter Lion’s Roar Discourse\n",
      "Cosine Similarity : 0.06472523516110693\n",
      "\n",
      "\n",
      "Document: MN 43  Mahā Vedalla Sutta | The Greater Set of Questions & Answers\n",
      "Cosine Similarity : 0.061704752955790775\n",
      "\n",
      "\n",
      "Document: MN 52  Aṭṭhakanāgara Sutta | To the Man from Aṭṭhakanagara\n",
      "Cosine Similarity : 0.06093947613912597\n",
      "\n",
      "\n",
      "Document: MN 30  Cūḷa Sāropama Sutta | The Shorter Heartwood Simile Discourse\n",
      "Cosine Similarity : 0.05943000497769093\n",
      "\n",
      "\n",
      "Document: MN 13  Mahā Dukkhakkhandha Sutta | The Great Mass of Stress\n",
      "Cosine Similarity : 0.05645497866369518\n",
      "\n",
      "\n",
      "Document: MN 82  Raṭṭhapāla Sutta | About Raṭṭhapāla\n",
      "Cosine Similarity : 0.05617857000780299\n",
      "\n",
      "\n",
      "Document: MN 29  Mahā Sāropama Sutta | The Longer Heartwood Simile Discourse\n",
      "Cosine Similarity : 0.055906993549619165\n",
      "\n",
      "\n",
      "Document: MN 44  Cūḷa Vedalla Sutta | The Shorter Set of Questions & Answers\n",
      "Cosine Similarity : 0.05579399780346678\n",
      "\n",
      "\n",
      "Document: MN 70  Kīṭāgiri Sutta | At Kīṭāgiri\n",
      "Cosine Similarity : 0.05526532218231113\n",
      "\n",
      "\n",
      "Document: MN 59  Bahuvedanīya Sutta | Many Things to Be Felt\n",
      "Cosine Similarity : 0.0551838052552473\n",
      "\n",
      "\n",
      "Document: MN 66  Laḍukikopama Sutta | The Quail Simile\n",
      "Cosine Similarity : 0.05506635736518489\n",
      "\n",
      "\n",
      "Document: MN 130  Devadūta Sutta | The Deva Messengers\n",
      "Cosine Similarity : 0.054407959520270735\n",
      "\n",
      "\n",
      "Document: MN 140  Dhātu-vibhaṅga Sutta | An Analysis of the Properties\n",
      "Cosine Similarity : 0.05374942073290963\n",
      "\n",
      "\n",
      "Document: MN 151  Piṇḍapātapārisuddhi Sutta | The Purification of Almsfood\n",
      "Cosine Similarity : 0.0523668932544294\n",
      "\n",
      "\n",
      "Document: MN 138  Uddesa-vibhaṅga Sutta | An Analysis of the Statement\n",
      "Cosine Similarity : 0.051724298573504496\n",
      "\n",
      "\n",
      "Document: MN 49  Brahma-nimantanika Sutta | The Brahmā Invitation\n",
      "Cosine Similarity : 0.05148783489758142\n",
      "\n",
      "\n",
      "Document: MN 55  Jīvaka Sutta | To Jīvaka\n",
      "Cosine Similarity : 0.05065260172487019\n",
      "\n",
      "\n",
      "Document: MN 2  Sabbāsava Sutta | All the Effluents\n",
      "Cosine Similarity : 0.05042831069941903\n",
      "\n",
      "\n",
      "Document: MN 58  Abhaya Rāja-kumāra Sutta | To Prince Abhaya\n",
      "Cosine Similarity : 0.04989861875356632\n",
      "\n",
      "\n",
      "Document: MN 24  Ratha-vinīta Sutta | Relay Chariots\n",
      "Cosine Similarity : 0.0492907413231694\n",
      "\n",
      "\n",
      "Document: MN 123  Acchariy’abbhūtadhamma Sutta | Amazing & Astounding Qualities\n",
      "Cosine Similarity : 0.048599991318735956\n",
      "\n",
      "\n",
      "Document: MN 5  Anaṅgaṇa Sutta | Unblemished\n",
      "Cosine Similarity : 0.04786387971188664\n",
      "\n",
      "\n",
      "Document: MN 48  Kosambiyā Sutta | In Kosambī\n",
      "Cosine Similarity : 0.04661559163069554\n",
      "\n",
      "\n",
      "Document: MN 121  Cūḷa Suññata Sutta | The Shorter Discourse on Emptiness\n",
      "Cosine Similarity : 0.0450906352397999\n",
      "\n",
      "\n",
      "Document: MN 97  Dhanañjānin Sutta | To Dhanañjānin\n",
      "Cosine Similarity : 0.0441385095372327\n",
      "\n",
      "\n",
      "Document: MN 61  Ambalaṭṭhikā Rāhulovāda Sutta | The Exhortation to Rāhula at Mango Stone\n",
      "Cosine Similarity : 0.04394726996176015\n",
      "\n",
      "\n",
      "Document: MN 10  Satipaṭṭhāna Sutta | The Establishing of Mindfulness Discourse\n",
      "Cosine Similarity : 0.039656844868566105\n",
      "\n",
      "\n",
      "Document: MN 40  Cūḷa Assapura Sutta | The Shorter Discourse at Assapura\n",
      "Cosine Similarity : 0.038929076266780716\n",
      "\n",
      "\n",
      "Document: MN 148  Chachakka Sutta | The Six Sextets\n",
      "Cosine Similarity : 0.03887501099881424\n",
      "\n",
      "\n",
      "Document: MN 106  Āneñja-sappāya Sutta | Conducive to the Imperturbable\n",
      "Cosine Similarity : 0.038330690008465645\n",
      "\n",
      "\n",
      "Document: MN 28  Mahā Hatthipadopama Sutta | The Great Elephant Footprint Simile\n",
      "Cosine Similarity : 0.03761462743912209\n",
      "\n",
      "\n",
      "Document: MN 64  Mahā Māluṅkyovāda Sutta | The Longer Exhortation to Māluṅkya\n",
      "Cosine Similarity : 0.03672877290565392\n",
      "\n",
      "\n",
      "Document: MN 113  Sappurisa Sutta | A Person of Integrity\n",
      "Cosine Similarity : 0.036646096120812786\n",
      "\n",
      "\n",
      "Document: MN 67  Cātumā Sutta | Near Cātumā\n",
      "Cosine Similarity : 0.03620756534368801\n",
      "\n",
      "\n",
      "Document: MN 118  Ānāpānasati Sutta | Mindfulness of Breathing\n",
      "Cosine Similarity : 0.034984049325859704\n",
      "\n",
      "\n",
      "Document: MN 25  Nivāpa Sutta | Poison-grass\n",
      "Cosine Similarity : 0.03460628059218431\n",
      "\n",
      "\n",
      "Document: MN 91  Brahmāyu Sutta | To Brahmāyu (Excerpt)\n",
      "Cosine Similarity : 0.03385097027017311\n",
      "\n",
      "\n",
      "Document: MN 105  Sunakkhatta Sutta | To Sunakkhatta\n",
      "Cosine Similarity : 0.03275823228196841\n",
      "\n",
      "\n",
      "Document: MN 126  Bhūmija Sutta | To Bhūmija\n",
      "Cosine Similarity : 0.03211883784496848\n",
      "\n",
      "\n",
      "Document: MN 20  Vitakkasaṇṭhāna Sutta | The Relaxation of Thoughts\n",
      "Cosine Similarity : 0.030891198851255575\n",
      "\n",
      "\n",
      "Document: MN 109  Mahā Puṇṇama Sutta | The Great Full-Moon Night Discourse\n",
      "Cosine Similarity : 0.03048866773725384\n",
      "\n",
      "\n",
      "Document: MN 90  Kaṇṇakatthala Sutta | At Kaṇṇakatthala\n",
      "Cosine Similarity : 0.026391583437711367\n",
      "\n",
      "\n",
      "Document: MN 38  Mahā Taṇhāsaṅkhaya Sutta | The Greater Craving-Destruction Discourse\n",
      "Cosine Similarity : 0.024491543877901475\n",
      "\n",
      "\n",
      "Document: MN 87  Piyajātika Sutta | From One Who Is Dear\n",
      "Cosine Similarity : 0.024213000920605746\n",
      "\n",
      "\n",
      "Document: MN 9  Sammādiṭṭhi Sutta | Right View\n",
      "Cosine Similarity : 0.024146549552296587\n",
      "\n",
      "\n",
      "Document: MN 137  Saḷāyatana-vibhaṅga Sutta | An Analysis of the Six Sense-Media\n",
      "Cosine Similarity : 0.023704914149165746\n",
      "\n",
      "\n",
      "Document: MN 86  Aṅgulimāla Sutta | About Aṅgulimāla\n",
      "Cosine Similarity : 0.023397728428057853\n",
      "\n",
      "\n",
      "Document: MN 146  Nandakovāda Sutta | Nandaka’s Exhortation\n",
      "Cosine Similarity : 0.021891798857481146\n",
      "\n",
      "\n",
      "Document: MN 33  Mahā Gopālaka Sutta | The Greater Cowherd Discourse\n",
      "Cosine Similarity : 0.019550428013890685\n",
      "\n",
      "\n",
      "Document: MN 1  Mūlapariyāya Sutta | The Root Sequence\n",
      "Cosine Similarity : 0.018152708911954807\n",
      "\n",
      "\n",
      "Document: MN 62  Mahā Rāhulovāda Sutta | The Greater Exhortation to Rāhula\n",
      "Cosine Similarity : 0.01717141649111497\n",
      "\n",
      "\n",
      "Document: MN 110  Cūḷa Puṇṇama Sutta | The Shorter Full-Moon Night Discourse\n",
      "Cosine Similarity : 0.016550168381677208\n",
      "\n",
      "\n",
      "Document: MN 63  Cūḷa Māluṅkyovāda Sutta | The Shorter Exhortation to Māluṅkya\n",
      "Cosine Similarity : 0.016450894658620024\n",
      "\n",
      "\n",
      "Document: MN 143  Anāthapiṇḍikovāda Sutta | The Exhortation to Anāthapiṇḍika\n",
      "Cosine Similarity : 0.014292295760763156\n",
      "\n",
      "\n",
      "Document: MN 147  Cūḷa Rāhulovāda Sutta | The Shorter Exhortation to Rāhula\n",
      "Cosine Similarity : 0.013890932612026069\n",
      "\n",
      "\n",
      "Document: MN 131  Bhaddekaratta Sutta | An Auspicious Day\n",
      "Cosine Similarity : 0.011222021590545014\n",
      "\n",
      "\n",
      "Document: MN 18  Madhupiṇḍika Sutta | The Ball of Honey\n",
      "Cosine Similarity : 0.009340129969319617\n",
      "\n",
      "\n",
      "Document: MN 22  Alagaddūpama Sutta | The Water-Snake Simile\n",
      "Cosine Similarity : 0.009072366643849614\n",
      "\n",
      "\n",
      "Document: MN 152  Indriya-bhāvanā Sutta | The Development of the Faculties\n",
      "Cosine Similarity : 0.009063985032315163\n",
      "\n",
      "\n",
      "Document: MN 98  Vāseṭṭha Sutta | To Vāseṭṭha\n",
      "Cosine Similarity : 0.0\n",
      "\n",
      "\n",
      "Document: MN 128  Upakkilesa Sutta | Defilements\n",
      "Cosine Similarity : 0.0\n",
      "\n",
      "\n",
      "Document: MN 56  Upālivāda Sutta | The Teaching to Upāli\n",
      "Cosine Similarity : 0.0\n",
      "\n",
      "\n",
      "Document: MN 95  Caṅkī Sutta | With Caṅkī\n",
      "Cosine Similarity : 0.0\n",
      "\n",
      "\n",
      "Document: MN 12  Mahāsīhanāda Sutta | The Great Lion’s Roar Discourse\n",
      "Cosine Similarity : 0.0\n",
      "\n",
      "\n",
      "Document: MN 77  Mahāsakuludāyi Sutta | The Greater Discourse to Sakuludāyin\n",
      "Cosine Similarity : 0.0\n",
      "\n",
      "\n",
      "Document: MN 75  Māgaṇḍiya Sutta | To Māgaṇḍiya\n",
      "Cosine Similarity : 0.0\n",
      "\n",
      "\n",
      "Document: MN 21  Kakacūpama Sutta | The Simile of the Saw\n",
      "Cosine Similarity : 0.0\n",
      "\n",
      "\n",
      "Document: MN 92  Sela Sutta | To Sela\n",
      "Cosine Similarity : 0.0\n"
     ]
    }
   ],
   "source": [
    "most_similar(2,pairwise_similarities,'Cosine Similarity')"
   ]
  },
  {
   "cell_type": "markdown",
   "metadata": {
    "id": "c7EwOCcArYpW"
   },
   "source": [
    "### With Doc2Vec"
   ]
  },
  {
   "cell_type": "code",
   "execution_count": null,
   "metadata": {
    "colab": {
     "base_uri": "https://localhost:8080/"
    },
    "id": "jRf_akTeG0QN",
    "outputId": "6426b15e-aa7e-41f9-a498-04d2cf700cd4"
   },
   "outputs": [
    {
     "name": "stdout",
     "output_type": "stream",
     "text": [
      "[nltk_data] Downloading package punkt to /root/nltk_data...\n",
      "[nltk_data]   Unzipping tokenizers/punkt.zip.\n"
     ]
    }
   ],
   "source": [
    "#https://towardsdatascience.com/calculating-document-similarities-using-bert-and-other-models-b2c1a29c9630\n",
    "\n",
    "from gensim.models.doc2vec import Doc2Vec, TaggedDocument\n",
    "from nltk.tokenize import word_tokenize\n",
    "import nltk\n",
    "nltk.download('punkt')\n",
    "\n",
    "tagged_data = [TaggedDocument(words=word_tokenize(doc), tags=[i]) for i, doc in enumerate(df_mn3['text_full'])]\n",
    "model_d2v = Doc2Vec(vector_size=100,alpha=0.025, min_count=1)\n",
    "  \n",
    "model_d2v.build_vocab(tagged_data)\n",
    "\n",
    "for epoch in range(100):\n",
    "    model_d2v.train(tagged_data,\n",
    "                total_examples=model_d2v.corpus_count,\n",
    "                epochs=model_d2v.epochs)\n",
    "    \n",
    "document_embeddings=np.zeros((df_mn3.shape[0],100))\n",
    "\n",
    "for i in range(len(document_embeddings)):\n",
    "    document_embeddings[i]=model_d2v.docvecs[i]\n",
    "    \n",
    "    \n",
    "pairwise_similarities=cosine_similarity(document_embeddings)\n",
    "pairwise_differences=euclidean_distances(document_embeddings)\n",
    "\n",
    "most_similar(1,pairwise_similarities,'Cosine Similarity')\n",
    "most_similar(1,pairwise_differences,'Euclidean Distance')"
   ]
  },
  {
   "cell_type": "code",
   "execution_count": null,
   "metadata": {
    "id": "SxQYHri2IIVE"
   },
   "outputs": [],
   "source": []
  },
  {
   "cell_type": "markdown",
   "metadata": {
    "id": "pB-mAJyc2m_g"
   },
   "source": [
    "### BERT Model"
   ]
  },
  {
   "cell_type": "code",
   "execution_count": null,
   "metadata": {
    "id": "BZwnGzXi2pJy"
   },
   "outputs": [],
   "source": [
    "from sentence_transformers import SentenceTransformer\n",
    "sbert_model = SentenceTransformer('bert-base-nli-mean-tokens')\n",
    "\n",
    "document_embeddings = sbert_model.encode(df_mn3['text_full'])\n",
    "\n",
    "pairwise_similarities=cosine_similarity(document_embeddings)\n",
    "pairwise_differences=euclidean_distances(document_embeddings)\n",
    "\n",
    "most_similar(5,pairwise_similarities,'Cosine Similarity')\n",
    "most_similar(5,pairwise_differences,'Euclidean Distance')"
   ]
  },
  {
   "cell_type": "code",
   "execution_count": null,
   "metadata": {
    "id": "GrT5rYKX2y25"
   },
   "outputs": [],
   "source": []
  },
  {
   "cell_type": "markdown",
   "metadata": {
    "id": "7fJhXoh67v9c"
   },
   "source": [
    "# Clustering"
   ]
  },
  {
   "cell_type": "markdown",
   "metadata": {
    "id": "8mer0f4o71XS"
   },
   "source": [
    "## K-Means and TFIDF"
   ]
  },
  {
   "cell_type": "code",
   "execution_count": null,
   "metadata": {
    "id": "-VG-8L-B73kn"
   },
   "outputs": [],
   "source": [
    "## https://github.com/harrywang/document_clustering/blob/master/doc_clustering.ipynb"
   ]
  },
  {
   "cell_type": "code",
   "execution_count": null,
   "metadata": {
    "id": "Ckms4pCUNPxx"
   },
   "outputs": [],
   "source": [
    "from nltk.stem.snowball import SnowballStemmer \n",
    "# load nltk's English stopwords as variable called 'stopwords'\n",
    "# use nltk.download() to install the corpus first\n",
    "# Stop Words are words which do not contain important significance to be used in Search Queries\n",
    "stopwords = nltk.corpus.stopwords.words('english')\n",
    "\n",
    "# load nltk's SnowballStemmer as variabled 'stemmer'\n",
    "stemmer = SnowballStemmer(\"english\")"
   ]
  },
  {
   "cell_type": "code",
   "execution_count": null,
   "metadata": {
    "id": "DguLLjb2PWZp"
   },
   "outputs": [],
   "source": [
    "sents = [sent for sent in nltk.sent_tokenize(\"Today (May 19, 2016) is his only daughter's wedding. Vito Corleone is the Godfather. Vito's youngest son, Michael, in a Marine Corps uniform, introduces his girlfriend, Kay Adams, to his family at the sprawling reception.\")]"
   ]
  },
  {
   "cell_type": "code",
   "execution_count": null,
   "metadata": {
    "id": "iz4Bp3LoPZ3j"
   },
   "outputs": [],
   "source": [
    "words = [word for word in nltk.word_tokenize(sents[0])]\n",
    "words"
   ]
  },
  {
   "cell_type": "code",
   "execution_count": null,
   "metadata": {
    "id": "AVMkWrypPmAN"
   },
   "outputs": [],
   "source": [
    "filtered_words = []\n",
    "for word in words:\n",
    "        if re.search('[a-zA-Z]', word):\n",
    "            filtered_words.append(word)\n",
    "filtered_words"
   ]
  },
  {
   "cell_type": "code",
   "execution_count": null,
   "metadata": {
    "id": "cNC5VihLPtQp"
   },
   "outputs": [],
   "source": [
    "# see how \"only\" is stemmed to \"onli\" and \"wedding\" is stemmed to \"wed\"\n",
    "stems = [stemmer.stem(t) for t in filtered_words]\n",
    "stems"
   ]
  },
  {
   "cell_type": "code",
   "execution_count": null,
   "metadata": {
    "id": "p-PyWputSf0C"
   },
   "outputs": [],
   "source": [
    "# here I define a tokenizer and stemmer which returns the set of stems in the text that it is passed\n",
    "# Punkt Sentence Tokenizer, sent means sentence \n",
    "def tokenize_and_stem(text):\n",
    "    # first tokenize by sentence, then by word to ensure that punctuation is caught as it's own token\n",
    "    tokens = [word for sent in nltk.sent_tokenize(text) for word in nltk.word_tokenize(sent)]\n",
    "    filtered_tokens = []\n",
    "    # filter out any tokens not containing letters (e.g., numeric tokens, raw punctuation)\n",
    "    for token in tokens:\n",
    "        if re.search('[a-zA-Z]', token):\n",
    "            filtered_tokens.append(token)\n",
    "    stems = [stemmer.stem(t) for t in filtered_tokens]\n",
    "    return stems"
   ]
  },
  {
   "cell_type": "code",
   "execution_count": null,
   "metadata": {
    "id": "Eb59537kTD26"
   },
   "outputs": [],
   "source": [
    "def tokenize_only(text):\n",
    "    # first tokenize by sentence, then by word to ensure that punctuation is caught as it's own token\n",
    "    tokens = [word.lower() for sent in nltk.sent_tokenize(text) for word in nltk.word_tokenize(sent)]\n",
    "    filtered_tokens = []\n",
    "    # filter out any tokens not containing letters (e.g., numeric tokens, raw punctuation)\n",
    "    for token in tokens:\n",
    "        if re.search('[a-zA-Z]', token):\n",
    "            filtered_tokens.append(token)\n",
    "    return filtered_tokens"
   ]
  },
  {
   "cell_type": "code",
   "execution_count": null,
   "metadata": {
    "id": "MjmgwIz0UqzV"
   },
   "outputs": [],
   "source": [
    "words_stemmed = tokenize_and_stem(\"Wilderness\")\n",
    "print(words_stemmed)"
   ]
  },
  {
   "cell_type": "code",
   "execution_count": null,
   "metadata": {
    "id": "GjYRDJduUpaL"
   },
   "outputs": [],
   "source": [
    "\n",
    "words_only = tokenize_only(\"Today (May 19, 2016) is his only daughter's wedding.\")\n",
    "words_only"
   ]
  },
  {
   "cell_type": "code",
   "execution_count": null,
   "metadata": {
    "id": "5FofibtOTohF"
   },
   "outputs": [],
   "source": [
    "text_full = []\n",
    "for i in df_mn2['text_full']:\n",
    "  text_full.append(i)"
   ]
  },
  {
   "cell_type": "code",
   "execution_count": null,
   "metadata": {
    "id": "0JNC-rqXTPQt"
   },
   "outputs": [],
   "source": [
    "totalvocab_stemmed = []\n",
    "totalvocab_tokenized = []\n",
    "for i in text_full:\n",
    "    allwords_stemmed = tokenize_and_stem(i) # for each item in 'synopses', tokenize/stem\n",
    "    totalvocab_stemmed.extend(allwords_stemmed) # extend the 'totalvocab_stemmed' list\n",
    "    \n",
    "    allwords_tokenized = tokenize_only(i)\n",
    "    totalvocab_tokenized.extend(allwords_tokenized)"
   ]
  },
  {
   "cell_type": "code",
   "execution_count": null,
   "metadata": {
    "id": "e4vpFzpgUWdw"
   },
   "outputs": [],
   "source": [
    "\n",
    "print(len(totalvocab_stemmed))\n",
    "print(len(totalvocab_tokenized))"
   ]
  },
  {
   "cell_type": "code",
   "execution_count": null,
   "metadata": {
    "id": "9BVp8N_9VZX_"
   },
   "outputs": [],
   "source": [
    "\n",
    "vocab_frame = pd.DataFrame({'words': totalvocab_tokenized})\n",
    "print('there are ' + str(vocab_frame.shape[0]) + ' items in vocab_frame')\n",
    "print(vocab_frame.head())"
   ]
  },
  {
   "cell_type": "code",
   "execution_count": null,
   "metadata": {
    "id": "S3bU8gTcUYdS"
   },
   "outputs": [],
   "source": [
    "words_frame = pd.DataFrame({'WORD': words_only}, index = words_stemmed)\n",
    "print('there are ' + str(words_frame.shape[0]) + ' items in words_frame')\n",
    "print(words_frame)"
   ]
  },
  {
   "cell_type": "code",
   "execution_count": null,
   "metadata": {
    "id": "HDLXVmFS-VRj"
   },
   "outputs": [],
   "source": [
    "from sklearn.feature_extraction.text import TfidfVectorizer\n",
    "\n",
    "#define vectorizer parameters\n",
    "tfidf_vectorizer = TfidfVectorizer(max_df=0.8, max_features=20000,\n",
    "                                 min_df=0.2, stop_words='english',\n",
    "                                 use_idf=True, ngram_range=(1,3))\n",
    "\n",
    "%time tfidf_matrix = tfidf_vectorizer.fit_transform(df_mn2['text_full']) #fit the vectorizer to synopses\n",
    "\n",
    "# (100, 563) means the matrix has 100 rows and 563 columns\n",
    "print(tfidf_matrix.shape)\n",
    "terms = tfidf_vectorizer.get_feature_names()\n",
    "len(terms)"
   ]
  },
  {
   "cell_type": "code",
   "execution_count": null,
   "metadata": {
    "id": "gWaxkcMt-uPo"
   },
   "outputs": [],
   "source": [
    "terms"
   ]
  },
  {
   "cell_type": "code",
   "execution_count": null,
   "metadata": {
    "id": "h2KdXfF5-arI"
   },
   "outputs": [],
   "source": [
    "from sklearn.cluster import KMeans\n",
    "\n",
    "num_clusters = 5\n",
    "\n",
    "km = KMeans(n_clusters=num_clusters)\n",
    "\n",
    "%time km.fit(tfidf_matrix)\n",
    "\n",
    "clusters = km.labels_.tolist()"
   ]
  },
  {
   "cell_type": "code",
   "execution_count": null,
   "metadata": {
    "id": "QaFf8BXQ_RCb"
   },
   "outputs": [],
   "source": [
    "!pip install joblib"
   ]
  },
  {
   "cell_type": "code",
   "execution_count": null,
   "metadata": {
    "id": "9P12GPWq_G30"
   },
   "outputs": [],
   "source": [
    "import joblib\n",
    "\n",
    "#uncomment the below to save your model \n",
    "#since I've already run my model I am loading from the pickle\n",
    "\n",
    "joblib.dump(km,  'doc_cluster.pkl')\n",
    "\n",
    "km = joblib.load('doc_cluster.pkl')\n",
    "clusters = km.labels_.tolist()\n",
    "# clusters show which cluster (0-4) each of the 100 synoposes belongs to\n",
    "print(len(clusters))\n",
    "print(clusters)"
   ]
  },
  {
   "cell_type": "code",
   "execution_count": null,
   "metadata": {
    "id": "_tHW9JrlXCMY"
   },
   "outputs": [],
   "source": [
    "# list_int = clusters\n",
    "    \n",
    "# # mapping \n",
    "# list_string = map(str, list_int) \n",
    "# clusters_s = list(list_string)\n",
    "# # Printing sorted list of integers \n",
    "# print(clusters_s)"
   ]
  },
  {
   "cell_type": "code",
   "execution_count": null,
   "metadata": {
    "id": "y1UrIiurzsOD"
   },
   "outputs": [],
   "source": [
    "df_mn2['cluster'] = clusters"
   ]
  },
  {
   "cell_type": "code",
   "execution_count": null,
   "metadata": {
    "id": "1cRzgCVhz1Vk"
   },
   "outputs": [],
   "source": [
    "df_small = df_mn2[['title', 'cluster']].copy()"
   ]
  },
  {
   "cell_type": "code",
   "execution_count": null,
   "metadata": {
    "id": "V308dSBo0DDR"
   },
   "outputs": [],
   "source": [
    "df_small.head()"
   ]
  },
  {
   "cell_type": "code",
   "execution_count": null,
   "metadata": {
    "id": "t59zlcqd3i5O"
   },
   "outputs": [],
   "source": [
    "terms"
   ]
  },
  {
   "cell_type": "code",
   "execution_count": null,
   "metadata": {
    "id": "3bki0c1S2ahc"
   },
   "outputs": [],
   "source": [
    "order_centroids = km.cluster_centers_.argsort()[:, ::-1] "
   ]
  },
  {
   "cell_type": "code",
   "execution_count": null,
   "metadata": {
    "id": "pApeHcAs_t_1"
   },
   "outputs": [],
   "source": [
    "order_centroids"
   ]
  },
  {
   "cell_type": "code",
   "execution_count": null,
   "metadata": {
    "id": "IEeF99NEAGAc"
   },
   "outputs": [],
   "source": [
    "terms[143]"
   ]
  },
  {
   "cell_type": "code",
   "execution_count": null,
   "metadata": {
    "id": "0Scn7pgi0SAV"
   },
   "outputs": [],
   "source": [
    "##https://github.com/harrywang/document_clustering/blob/master/doc_clustering.ipynb\n",
    "from __future__ import print_function\n",
    "\n",
    "print(\"Top terms per cluster:\")\n",
    "\n",
    "#sort cluster centers by proximity to centroid\n",
    "order_centroids = km.cluster_centers_.argsort()[:, ::-1] \n",
    "\n",
    "for i in range(num_clusters):\n",
    "    print(\"Cluster %d words:\" % i, end='')\n",
    "    \n",
    "    for ind in order_centroids[i, :6]: #replace 6 with n words per cluster\n",
    "        print(' %s' % terms[ind].encode('utf-8', 'ignore'), end=',')\n",
    "    print() #add whitespace\n",
    "    print() #add whitespace\n",
    "\n",
    "    \n",
    "    print(\"Cluster %d titles:\" % i, end='')\n",
    "    for title in df_small.loc[df_small['clusters'] == i, 'title']:\n",
    "        print(' %s,' % title, end='')\n",
    "    print() #add whitespace\n",
    "    print() #add whitespace"
   ]
  },
  {
   "cell_type": "code",
   "execution_count": null,
   "metadata": {
    "id": "6HyBnn4wFBmE"
   },
   "outputs": [],
   "source": [
    "frames.head(1)"
   ]
  },
  {
   "cell_type": "code",
   "execution_count": null,
   "metadata": {
    "id": "LONhmnLiaMB9"
   },
   "outputs": [],
   "source": [
    "df_mn2['clusters'] = clusters"
   ]
  },
  {
   "cell_type": "code",
   "execution_count": null,
   "metadata": {
    "id": "YizxE6ti_MuU"
   },
   "outputs": [],
   "source": [
    "df_small = df_mn2[['title', 'clusters']].copy()\n",
    "\n",
    "# frame['cluster'].value_counts() #number of films per cluster (clusters from 0 to 4)"
   ]
  },
  {
   "cell_type": "code",
   "execution_count": null,
   "metadata": {
    "id": "yV9iB5wgFa70"
   },
   "outputs": [],
   "source": [
    "vocab_frame.head()"
   ]
  },
  {
   "cell_type": "code",
   "execution_count": null,
   "metadata": {
    "id": "v485NXkY9toy"
   },
   "outputs": [],
   "source": [
    "order_centroids = km.cluster_centers_.argsort()[:, ::-1] "
   ]
  },
  {
   "cell_type": "code",
   "execution_count": null,
   "metadata": {
    "id": "FMx5fMXS9wOT"
   },
   "outputs": [],
   "source": [
    "order_centroids"
   ]
  },
  {
   "cell_type": "code",
   "execution_count": null,
   "metadata": {
    "id": "p4jd4NSk-AiU"
   },
   "outputs": [],
   "source": [
    "terms[60]"
   ]
  },
  {
   "cell_type": "code",
   "execution_count": null,
   "metadata": {
    "id": "ZDCCs_4WCFIs"
   },
   "outputs": [],
   "source": [
    "similarity_distance = 1 - cosine_similarity(tfidf_matrix)\n",
    "print(type(similarity_distance))\n",
    "print(similarity_distance.shape)"
   ]
  },
  {
   "cell_type": "code",
   "execution_count": null,
   "metadata": {
    "id": "m5W6DptICkek"
   },
   "outputs": [],
   "source": [
    "import os  # for os.path.basename\n",
    "\n",
    "import matplotlib.pyplot as plt\n",
    "import matplotlib as mpl\n",
    "\n",
    "from sklearn.manifold import MDS\n",
    "\n",
    "# convert two components as we're plotting points in a two-dimensional plane\n",
    "# \"precomputed\" because we provide a distance matrix\n",
    "# we will also specify `random_state` so the plot is reproducible.\n",
    "mds = MDS(n_components=2, dissimilarity=\"precomputed\", random_state=1)\n",
    "\n",
    "%time pos = mds.fit_transform(similarity_distance)  # shape (n_components, n_samples)\n",
    "\n",
    "print(pos.shape)\n",
    "print(pos)\n",
    "\n",
    "xs, ys = pos[:, 0], pos[:, 1]\n",
    "print(type(xs))\n",
    "xs"
   ]
  },
  {
   "cell_type": "code",
   "execution_count": null,
   "metadata": {
    "id": "7uosLpTACo-6"
   },
   "outputs": [],
   "source": [
    "cluster_colors = {0: '#1b9e77', 1: '#d95f02', 2: '#7570b3', 3: '#e7298a', 4: '#66a61e'}\n",
    "\n",
    "#set up cluster names using a dict\n",
    "cluster_names = {0: 'Family, home, war', \n",
    "                 1: 'Police, killed, murders', \n",
    "                 2: 'Father, New York, brothers', \n",
    "                 3: 'Dance, singing, love', \n",
    "                 4: 'Killed, soldiers, captain'}"
   ]
  },
  {
   "cell_type": "code",
   "execution_count": null,
   "metadata": {
    "id": "-HpicUTcWoVJ"
   },
   "outputs": [],
   "source": [
    "#some ipython magic to show the matplotlib plots inline\n",
    "%matplotlib inline \n",
    "\n",
    "#create data frame that has the result of the MDS plus the cluster numbers and titles\n",
    "df = pd.DataFrame(dict(x=xs, y=ys, label=clusters, title=titles)) \n",
    "\n",
    "print(df[1:10])\n",
    "# group by cluster\n",
    "# this generate {name:group(which is a dataframe)}\n",
    "groups = df.groupby('label')\n",
    "print(groups.groups)\n",
    "\n",
    "\n",
    "# set up plot\n",
    "fig, ax = plt.subplots(figsize=(17, 9)) # set size\n",
    "# ax.margins(0.05) # Optional, just adds 5% padding to the autoscaling\n",
    "\n",
    "#iterate through groups to layer the plot\n",
    "#note that I use the cluster_name and cluster_color dicts with the 'name' lookup to return the appropriate color/label\n",
    "# ms: marker size\n",
    "for name, group in groups:\n",
    "    print(\"*******\")\n",
    "    print(\"group name \" + str(name))\n",
    "    print(group)\n",
    "    ax.plot(group.x, group.y, marker='o', linestyle='', ms=20, \n",
    "            label=cluster_names[name], color=cluster_colors[name], \n",
    "            mec='none')\n",
    "    ax.set_aspect('auto')\n",
    "    ax.tick_params(\\\n",
    "        axis= 'x',          # changes apply to the x-axis\n",
    "        which='both',      # both major and minor ticks are affected\n",
    "        bottom='off',      # ticks along the bottom edge are off\n",
    "        top='off',         # ticks along the top edge are off\n",
    "        labelbottom='off')\n",
    "    ax.tick_params(\\\n",
    "        axis= 'y',         # changes apply to the y-axis\n",
    "        which='both',      # both major and minor ticks are affected\n",
    "        left='off',      # ticks along the bottom edge are off\n",
    "        top='off',         # ticks along the top edge are off\n",
    "        labelleft='off')\n",
    "    \n",
    "ax.legend(numpoints=1)  #show legend with only 1 point\n",
    "\n",
    "#add label in x,y position with the label as the film title\n",
    "for i in range(len(df)):\n",
    "    ax.text(df.ix[i]['x'], df.ix[i]['y'], df.ix[i]['title'], size=10)  \n",
    "\n",
    "    \n",
    "    \n",
    "plt.show() #show the plot\n",
    "\n",
    "#uncomment the below to save the plot if need be\n",
    "#plt.savefig('clusters_small_noaxes.png', dpi=200)"
   ]
  },
  {
   "cell_type": "markdown",
   "metadata": {
    "id": "0i7Au8IkB7wJ"
   },
   "source": [
    "# Recommendation Work"
   ]
  },
  {
   "cell_type": "code",
   "execution_count": null,
   "metadata": {
    "id": "dCsZwbr8D6qA"
   },
   "outputs": [],
   "source": [
    "## tfidf on the text\n",
    "from sklearn.feature_extraction.text import TfidfVectorizer\n",
    "tfidf_vectorizer = TfidfVectorizer()\n",
    "tfidf_suttas = tfidf_vectorizer.fit_transform((df_mn2['text_full'])) #fitting and transforming the vector\n",
    "tfidf_suttas"
   ]
  },
  {
   "cell_type": "code",
   "execution_count": null,
   "metadata": {
    "id": "AUlq0YwqWwrH"
   },
   "outputs": [],
   "source": [
    "# https://medium.com/@armandj.olivares/building-nlp-content-based-recommender-systems-b104a709c042"
   ]
  },
  {
   "cell_type": "code",
   "execution_count": null,
   "metadata": {
    "id": "EGzFb9anC88m"
   },
   "outputs": [],
   "source": [
    "# Computing cosine similarity using tfidf¶\n",
    "from sklearn.metrics.pairwise import cosine_similarity\n",
    "sutta_tfidf2 = tfidf_vectorizer.transform(df_mn2['text_full'])\n",
    "cos_similarity_tfidf = map(lambda x: cosine_similarity(sutta_tfidf2, x), tfidf_suttas)\n",
    "output2 = list(cos_similarity_tfidf)"
   ]
  },
  {
   "cell_type": "markdown",
   "metadata": {
    "id": "N2n2tmHnDJYw"
   },
   "source": [
    "#### Function for top-N recs"
   ]
  },
  {
   "cell_type": "code",
   "execution_count": null,
   "metadata": {
    "id": "wnG7KXwlHNH7"
   },
   "outputs": [],
   "source": [
    "index = np.where(df_mn2['ref'] == 'MN 2')\n",
    "user_q = df_mn2['ref'].loc[df_mn2['ref'] == 'MN 2']\n",
    "user_q"
   ]
  },
  {
   "cell_type": "code",
   "execution_count": null,
   "metadata": {
    "id": "yNAe2RnKFGFt"
   },
   "outputs": [],
   "source": [
    "df_all = df_mn2[['title', 'ref']]"
   ]
  },
  {
   "cell_type": "code",
   "execution_count": null,
   "metadata": {
    "id": "brd-tI_zW7ib"
   },
   "outputs": [],
   "source": [
    "def get_recommendation(top, df_all, scores):\n",
    "  recommendation = pd.DataFrame(columns = ['ApplicantID', 'title', 'ref', 'score'])\n",
    "  count = 0\n",
    "  for i in top:\n",
    "      recommendation.at[count, 'ApplicantID'] = user_q\n",
    "      recommendation.at[count, 'ref'] = df_all['ref'][i]\n",
    "      recommendation.at[count, 'title'] = df_all['title'][i]\n",
    "      recommendation.at[count, 'score'] =  scores[count]\n",
    "      count += 1\n",
    "  return recommendation"
   ]
  },
  {
   "cell_type": "code",
   "execution_count": null,
   "metadata": {
    "id": "cH2fgjXpCvzc"
   },
   "outputs": [],
   "source": [
    "##The top recommendations using TF-IDF\n",
    "top = sorted(range(len(output2)), key=lambda i: output2[i], reverse=True)[:10]\n",
    "list_scores = [output2[i][0][0] for i in top]\n",
    "get_recommendation(top, df_all, list_scores)"
   ]
  },
  {
   "cell_type": "code",
   "execution_count": null,
   "metadata": {
    "id": "TIcEbmVOFzh6"
   },
   "outputs": [],
   "source": []
  }
 ],
 "metadata": {
  "accelerator": "GPU",
  "colab": {
   "collapsed_sections": [],
   "machine_shape": "hm",
   "name": "Preprocessing_capstone.ipynb",
   "provenance": [],
   "toc_visible": true
  },
  "kernelspec": {
   "display_name": "Python 3",
   "language": "python",
   "name": "python3"
  },
  "language_info": {
   "codemirror_mode": {
    "name": "ipython",
    "version": 3
   },
   "file_extension": ".py",
   "mimetype": "text/x-python",
   "name": "python",
   "nbconvert_exporter": "python",
   "pygments_lexer": "ipython3",
   "version": "3.8.5"
  }
 },
 "nbformat": 4,
 "nbformat_minor": 4
}
