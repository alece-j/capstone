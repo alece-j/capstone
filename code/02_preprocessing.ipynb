{
 "cells": [
  {
   "cell_type": "code",
   "execution_count": 1,
   "metadata": {
    "id": "5BEUUw7fqgnS"
   },
   "outputs": [],
   "source": [
    "import pandas as pd\n",
    "pd.set_option('display.max_rows', None)\n",
    "pd.set_option('display.max_columns', None)\n",
    "pd.set_option('display.width', None)\n",
    "pd.set_option('display.max_colwidth', None)\n",
    "import numpy as np\n",
    "import matplotlib.pyplot as plt\n",
    "import seaborn as sns\n",
    "\n",
    "from nltk.tokenize import word_tokenize\n",
    "from gensim.utils import simple_preprocess\n",
    "from nltk.corpus import stopwords"
   ]
  },
  {
   "cell_type": "code",
   "execution_count": 2,
   "metadata": {},
   "outputs": [],
   "source": [
    "df_all = pd.read_csv('./sutta_csv/cleaned/df_all_clean.csv')"
   ]
  },
  {
   "cell_type": "markdown",
   "metadata": {
    "id": "IIUS_gHMpi3d"
   },
   "source": [
    "# Preprocessing"
   ]
  },
  {
   "cell_type": "markdown",
   "metadata": {
    "id": "B4nmplhhqgnY"
   },
   "source": [
    "#### Lowercasing"
   ]
  },
  {
   "cell_type": "code",
   "execution_count": 3,
   "metadata": {
    "id": "7TTB9cSgqgnZ"
   },
   "outputs": [],
   "source": [
    "def lowercase(df):\n",
    "    df['lower_text'] = df['text_full'].str.lower().copy()\n",
    "    return df"
   ]
  },
  {
   "cell_type": "markdown",
   "metadata": {
    "id": "0I2m2W2rqgna"
   },
   "source": [
    "#### Removing punctuation"
   ]
  },
  {
   "cell_type": "code",
   "execution_count": 4,
   "metadata": {
    "id": "-1cXyndQqgnb"
   },
   "outputs": [],
   "source": [
    "#df_mn2['text_full'] = df_mn2['text_full'].translate(str.maketrans('', '', string.punctuation))"
   ]
  },
  {
   "cell_type": "code",
   "execution_count": 5,
   "metadata": {
    "id": "_IVbyhRqqgnb"
   },
   "outputs": [],
   "source": [
    "def remove_punct(df):\n",
    "    df['no_punct'] = df['lower_text'].str.replace('.', ' ').copy()\n",
    "    df['no_punct'] = df['lower_text'].str.replace('--', ' ').copy()\n",
    "#     df['no_punct'] = df['lower_text'].str.replace('-', ' ').copy()\n",
    "    df['no_punct'] = df['lower_text'].str.replace('?', ' ').copy()\n",
    "    df['no_punct'] = df['lower_text'].str.replace('(', ' ').copy()\n",
    "    df['no_punct'] = df['lower_text'].str.replace(')', ' ').copy()\n",
    "    df['no_punct'] = df['lower_text'].str.replace(',', '').copy()\n",
    "    df['no_punct'] = df['lower_text'].str.replace('  ', ' ').copy()\n",
    "    df['no_punct'] = df['lower_text'].str.replace('[^\\w\\s]', \"\").copy()\n",
    "    return df"
   ]
  },
  {
   "cell_type": "code",
   "execution_count": 6,
   "metadata": {
    "id": "w8ghxEUNqgno"
   },
   "outputs": [],
   "source": [
    "## Removing \\n\n",
    "# def remove_n(df)\n",
    "#     df['no_punct'] = df['no_punct'].str.replace('\\n', ' ').copy()\n",
    "#     df['no_punct'] = df['no_punct'].str.replace('      ', ' ').copy()\n",
    "#     return df"
   ]
  },
  {
   "cell_type": "markdown",
   "metadata": {
    "id": "Rbn23z44qgne"
   },
   "source": [
    "#### Tokenizing"
   ]
  },
  {
   "cell_type": "code",
   "execution_count": 7,
   "metadata": {
    "id": "a7vnnPdgqgne"
   },
   "outputs": [],
   "source": [
    "def token(df):\n",
    "    df['text_token'] = [simple_preprocess(each) for each in df['no_punct']]\n",
    "    return df"
   ]
  },
  {
   "cell_type": "markdown",
   "metadata": {
    "id": "ehKPbQtsqgng"
   },
   "source": [
    "#### Removing Stop Words"
   ]
  },
  {
   "cell_type": "code",
   "execution_count": 8,
   "metadata": {
    "id": "VEYFbj_vqgnh"
   },
   "outputs": [],
   "source": [
    "my_stopwords = stopwords.words('english')"
   ]
  },
  {
   "cell_type": "code",
   "execution_count": 9,
   "metadata": {
    "id": "VEYFbj_vqgnh"
   },
   "outputs": [],
   "source": [
    "#https://www.analyticsvidhya.com/blog/2018/10/stepwise-guide-topic-modeling-latent-semantic-analysis/\n",
    "def stopwords(df):\n",
    "    df['text_token_no_stop'] = df['text_token'].apply(lambda x: [item for item in x if item not in my_stopwords])\n",
    "    df['text_no_stop'] = df['no_punct'].apply(lambda x: [item for item in x if item not in my_stopwords])\n",
    "    return df"
   ]
  },
  {
   "cell_type": "markdown",
   "metadata": {},
   "source": [
    "#### Apply all functions"
   ]
  },
  {
   "cell_type": "code",
   "execution_count": 10,
   "metadata": {},
   "outputs": [],
   "source": [
    "def preprocess(df):\n",
    "    df = stopwords(token(remove_punct(lowercase(df))))\n",
    "    return df"
   ]
  },
  {
   "cell_type": "code",
   "execution_count": 11,
   "metadata": {},
   "outputs": [],
   "source": [
    "df_all = preprocess(df_all);"
   ]
  },
  {
   "cell_type": "code",
   "execution_count": 12,
   "metadata": {},
   "outputs": [],
   "source": [
    "df_all.to_csv('./sutta_csv/cleaned/df_all_prep.csv', index= False)"
   ]
  }
 ],
 "metadata": {
  "accelerator": "GPU",
  "colab": {
   "collapsed_sections": [],
   "machine_shape": "hm",
   "name": "Preprocessing_capstone.ipynb",
   "provenance": [],
   "toc_visible": true
  },
  "kernelspec": {
   "display_name": "Python 3",
   "language": "python",
   "name": "python3"
  },
  "language_info": {
   "codemirror_mode": {
    "name": "ipython",
    "version": 3
   },
   "file_extension": ".py",
   "mimetype": "text/x-python",
   "name": "python",
   "nbconvert_exporter": "python",
   "pygments_lexer": "ipython3",
   "version": "3.8.5"
  }
 },
 "nbformat": 4,
 "nbformat_minor": 4
}
