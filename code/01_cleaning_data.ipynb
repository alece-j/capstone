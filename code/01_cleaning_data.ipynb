{
 "cells": [
  {
   "cell_type": "markdown",
   "metadata": {},
   "source": [
    "# Notebook 1: Introduction and Cleaning Data"
   ]
  },
  {
   "cell_type": "markdown",
   "metadata": {},
   "source": [
    "### **Introduction**"
   ]
  },
  {
   "cell_type": "markdown",
   "metadata": {},
   "source": [
    "The Pali Canon is the foundational collection of texts of the Theravada Buddhist Religion. It contains the oldest known records of the Buddha's teachings, compiled in written form about 500 years after the Buddha's death and maintained orally in the interim. \n",
    "\n",
    "The Canon is a diverse collection of works that documents teachings, stories, exclamations, quotes and poetry grouped into 5 separate collections by later compilers. Although it is little known and little studied in the west, the Canon and commentaries on it, form the core of the religion for hundreds of millions of Theravada Buddhists, particularly in South East Asia. \n",
    "\n",
    "Although translations from Pali (an ancient Sanskritic language) have existed for over one hundred years, the translations were often made by scholars who were not steeped in the living Buddhist monastic culture and discipline and often by those who did not practice. As such, it is unclear how often early translators had experiential insight into the meaning of often complex phenomena and concepts that are represented in the Canon. These insights are undoubtedly important for accurately representing a dead language (that contains many words/concepts with no direct equivalent in english) and, in turn, for outlining a path of practice to an unconditioned happiness that is as alive today as it was in the time of the Buddha. \n",
    "\n",
    "In recent years, however, as a result of an enormous effort by several English-speaking Buddhist monks, a large portion of the Pali Canon has been translated and made available online. The suttas that are the data for this project come from www.dhammatalks.org which hosts suttas translated by Ajahn Geoff, a monk of nearly 45 years in the Kammathana (Thai Forest Tradition) lineage. He has significant experience in translating both from Pali and Thai and is an inspiring monk in conduct and learnedness. "
   ]
  },
  {
   "cell_type": "markdown",
   "metadata": {},
   "source": [
    "### **Problem Statement**"
   ]
  },
  {
   "cell_type": "markdown",
   "metadata": {},
   "source": [
    "The purpose of this project is two-fold:\n",
    "1. To do significant, public-facing, Natural Language Processing analysis on the Pali Canon. An investigation like this, at this scale, has, to my knowledge, never been conducted before. Given the recency of the availability of strong English translations of the Canon coupled with  fairly recent advances in Machine Learning algorithms that will be employed, the absence of an existing analyis at this level is less surprising than it might initially appear. Furthermore, the cross-section of lay-Theravadan Buddhists (non-monks) who are dedicated to reading the original texts (not 'Dhamma' books by other lay-Buddhist 'Dhamma teachers'), and people with an understanding of the tools needed to do this analysis probably yields quite a small number of people. \n",
    "\n",
    "2. To develop a recommendation algorithm for suttas that could be used to support the development of particular mental qualities, themes and understandings within the religion. One could consider this to be a sort of 'Netflix' for information on how to develop along a path to an unconditioned happiness. For a rough understanding of the functionality, one can imagine a scenario where a user would input a sutta on a particular theme they were interested in learning more about or developing further and recieve back five suttas that share content similarity. "
   ]
  },
  {
   "cell_type": "markdown",
   "metadata": {},
   "source": [
    "### **Technical Introduction to Notebook One**\n",
    "\n",
    "As mentioned above, the data for this project comes from roughly 30 scrapes of the website www.dhammatalks.org using the [Octoparse](www.octoparse.com) webscraping tool. The decision to not code this scrape and to use a tool instead was made given the structure of the website and the variety of ways that the text is presented on the website. \n",
    "\n",
    "The dataframes that are being created in this notebook number thirteen in total: one for each of the four 'stand-alone' compilations; seven additional dataframes for each of the seven sub-collections of the fifth compilation (Khuddaka Nikaya); one for the entirety of the Khuddaka Nikaya; lastly, one for all five compilations. "
   ]
  },
  {
   "cell_type": "markdown",
   "metadata": {},
   "source": [
    "# **Merging the first four collections: MN, DN, SN, AN**"
   ]
  },
  {
   "cell_type": "markdown",
   "metadata": {},
   "source": [
    "These are fairly straightforward to work with as they are all in roughly the same format."
   ]
  },
  {
   "cell_type": "markdown",
   "metadata": {},
   "source": [
    "#### Imports"
   ]
  },
  {
   "cell_type": "code",
   "execution_count": 1,
   "metadata": {},
   "outputs": [],
   "source": [
    "import pandas as pd\n",
    "pd.set_option('display.max_rows', None)\n",
    "pd.set_option('display.max_columns', None)\n",
    "pd.set_option('display.width', None)\n",
    "pd.set_option('display.max_colwidth', None)\n",
    "import numpy as np\n",
    "import matplotlib.pyplot as plt\n",
    "import seaborn as sns"
   ]
  },
  {
   "cell_type": "code",
   "execution_count": 2,
   "metadata": {},
   "outputs": [],
   "source": [
    "import re"
   ]
  },
  {
   "cell_type": "markdown",
   "metadata": {},
   "source": [
    "## 1. Majjhima Nikaya (MN)"
   ]
  },
  {
   "cell_type": "code",
   "execution_count": 3,
   "metadata": {},
   "outputs": [],
   "source": [
    "def low_rep(df):\n",
    "    df.columns = df.columns.str.lower()\n",
    "    df.columns = df.columns.str.replace(\" \", \"_\")\n",
    "    return df"
   ]
  },
  {
   "cell_type": "code",
   "execution_count": 4,
   "metadata": {},
   "outputs": [],
   "source": [
    "df_mnf = pd.read_csv('./sutta_csv/scraped/mn_full.csv')\n",
    "df_mnt = pd.read_csv('./sutta_csv/scraped/mn_text_2.csv')\n",
    "\n",
    "low_rep(df_mnf);\n",
    "low_rep(df_mnt);\n",
    "df_mn = pd.merge(left = df_mnf, right = df_mnt, on='title_url')"
   ]
  },
  {
   "cell_type": "code",
   "execution_count": 5,
   "metadata": {},
   "outputs": [],
   "source": [
    "## Function to clean up the navigation bar that was scraped in the middle of the text\n",
    "\n",
    "def nav_bar(df):\n",
    "    df[['A', 'text_full']] = df['sutta_text'].str.split('Suttas/', 1, expand=True)\n",
    "    df.drop(columns = ['A', 'sutta_text'], axis = 1, inplace = True)\n",
    "    df.reset_index(inplace = True)\n",
    "    df = df.dropna().copy()\n",
    "    return df"
   ]
  },
  {
   "cell_type": "code",
   "execution_count": 6,
   "metadata": {},
   "outputs": [],
   "source": [
    "#Splitting introductory notes from main sutta body\n",
    "def split_intro(df):\n",
    "    df['text_full'] = df['text_full'].str.replace('*', 'REMOVE').copy()\n",
    "    df_intro = df[df['text_full'].str.contains(\"REMOVE\", case=True)].copy()\n",
    "    df_no_intro = df[~df['text_full'].str.contains(\"REMOVE\", na = False)].copy()\n",
    "    try:\n",
    "        df_intro['intro'] = df_intro['text_full'].str.split('REMOVE\\n', 1, expand=True)[0]\n",
    "        df_intro['text_full'] = df_intro['text_full'].str.split('REMOVE', 1, expand=True)[1]\n",
    "    except:\n",
    "        df_intro['intro'] = 'No Introduction'\n",
    "    df_no_intro['intro'] = 'No Introduction'\n",
    "    df = pd.concat([df_intro, df_no_intro])\n",
    "    df['text_full'] = df['text_full'].str.replace('REMOVE', '')\n",
    "    df['intro'] = df['intro'].str.replace('REMOVE', '')\n",
    "    df = df.dropna().copy()\n",
    "    return(df)"
   ]
  },
  {
   "cell_type": "code",
   "execution_count": 7,
   "metadata": {},
   "outputs": [],
   "source": [
    "# Splitting concluding notes from main sutta body\n",
    "def split_notes(df):\n",
    "    df_notes = df[df[\"text_full\"].str.contains(\"Note\", case=True)].copy()\n",
    "    df_no_notes = df[~df[\"text_full\"].str.contains(\"Note\", na=False)].copy()\n",
    "    try:\n",
    "        df_notes[[\"text_full\", \"notes\"]] = df_notes[\"text_full\"].str.split(\"Note\", 1, expand=True)\n",
    "    except:\n",
    "        df_notes['notes'] = 'No Notes'\n",
    "    df_no_notes[\"notes\"] = \"No Notes\"\n",
    "    df = pd.concat([df_notes, df_no_notes])\n",
    "    df = df.dropna().copy()\n",
    "    return(df)"
   ]
  },
  {
   "cell_type": "code",
   "execution_count": 8,
   "metadata": {},
   "outputs": [],
   "source": [
    "# Splitting the author's 'see also' recommendation from the main sutta body\n",
    "\n",
    "def split_see(df):\n",
    "    df_see = df[df[\"text_full\"].str.contains(\"See also\", case=True)].copy()\n",
    "    df_no_see = df[~df[\"text_full\"].str.contains(\"See also\", na=False)].copy()\n",
    "    try:\n",
    "        df_see[[\"text_full\", \"see_also\"]] = df_see[\"text_full\"].str.split(\"See also\", 1, expand=True)\n",
    "    except:\n",
    "        df_see[\"see_also\"] = 'No Additional'\n",
    "    df_no_see[\"see_also\"] = \"No Additional\"\n",
    "    df = pd.concat([df_see, df_no_see])\n",
    "    df = df.dropna().copy()\n",
    "    return(df)"
   ]
  },
  {
   "cell_type": "code",
   "execution_count": 9,
   "metadata": {},
   "outputs": [],
   "source": [
    "#Reordering in preparation for concatenation\n",
    "def reorder(df):\n",
    "    df = df.sort_values(by='index', ascending=True)\n",
    "    df = df.drop(columns = 'index')\n",
    "    df = df[['title', 'ref', 'title_url', 'summary', \n",
    "             'text_full', 'intro', 'notes', 'see_also']]\n",
    "    df = df.dropna().copy()\n",
    "    return df"
   ]
  },
  {
   "cell_type": "code",
   "execution_count": 10,
   "metadata": {},
   "outputs": [],
   "source": [
    "#Running all functions together\n",
    "def nav_int_notes(df):\n",
    "    df = reorder(split_notes(split_see(split_intro(nav_bar(df)))))\n",
    "    df = df.dropna().copy()\n",
    "    return df"
   ]
  },
  {
   "cell_type": "code",
   "execution_count": 11,
   "metadata": {},
   "outputs": [],
   "source": [
    "df_mn = nav_int_notes(df_mn);"
   ]
  },
  {
   "cell_type": "code",
   "execution_count": 12,
   "metadata": {},
   "outputs": [],
   "source": [
    "df_mn.drop(index = [64, 68], inplace = True)"
   ]
  },
  {
   "cell_type": "code",
   "execution_count": 13,
   "metadata": {},
   "outputs": [],
   "source": [
    "#df_mn.to_csv(f'./sutta_csv/cleaned/individuals_dfs/df_mn_clean.csv', index = False)"
   ]
  },
  {
   "cell_type": "markdown",
   "metadata": {},
   "source": [
    "## 2. Digha Nikaya (DN)"
   ]
  },
  {
   "cell_type": "code",
   "execution_count": 14,
   "metadata": {},
   "outputs": [],
   "source": [
    "df_dnf = pd.read_csv('./sutta_csv/scraped/dn_full.csv')\n",
    "df_dnt = pd.read_csv('./sutta_csv/scraped/dn_text_2.csv')\n",
    "\n",
    "low_rep(df_dnf);\n",
    "low_rep(df_dnt);\n",
    "df_dn = pd.merge(left = df_dnf, right = df_dnt, on='title_url')"
   ]
  },
  {
   "cell_type": "code",
   "execution_count": 15,
   "metadata": {},
   "outputs": [],
   "source": [
    "df_dn = nav_int_notes(df_dn);"
   ]
  },
  {
   "cell_type": "code",
   "execution_count": 16,
   "metadata": {},
   "outputs": [],
   "source": [
    "#df_dn.to_csv(f'./sutta_csv/cleaned/individuals_dfs/df_dn_clean.csv', index = False)"
   ]
  },
  {
   "cell_type": "markdown",
   "metadata": {},
   "source": [
    "## 3. Samyutta Nikaya (SN)"
   ]
  },
  {
   "cell_type": "code",
   "execution_count": 17,
   "metadata": {},
   "outputs": [],
   "source": [
    "df_snf = pd.read_csv('./sutta_csv/scraped/sn_full.csv')\n",
    "df_snt = pd.read_csv('./sutta_csv/scraped/sn_text_2.csv')\n",
    "\n",
    "low_rep(df_snf);\n",
    "low_rep(df_snt);\n",
    "df_sn = pd.merge(left = df_snf, right = df_snt, on='title_url')"
   ]
  },
  {
   "cell_type": "markdown",
   "metadata": {},
   "source": [
    "#### Handling SN 25"
   ]
  },
  {
   "cell_type": "markdown",
   "metadata": {},
   "source": [
    "SN 25  1-10 are the same text, each containing all the rest but stored in 10 different separate suttas. Dropping all but one."
   ]
  },
  {
   "cell_type": "code",
   "execution_count": 18,
   "metadata": {},
   "outputs": [],
   "source": [
    "df_sn = df_sn.drop(index=[199,200,201,202,203,204,205,206,207])\n",
    "\n",
    "missing_text = 'The Eye\\n Cakkhu Sutta  (SN 25:1)\\n Near Sāvatthī. “Monks, the eye is inconstant, changeable, alterable. The ear… The nose… The tongue… The body… The mind is inconstant, changeable, alterable.\\n Forms\\n Rūpa Sutta  (SN 25:2)\\n Near Sāvatthī. “Monks, forms are inconstant, changeable, alterable. Sounds.… Aromas.… Flavors.… Tactile sensations.… Ideas are inconstant, changeable, alterable.…\\n Consciousness\\n Viññāṇa Sutta  (SN 25:3)\\n Near Sāvatthī. “Monks, eye-consciousness is inconstant, changeable, alterable. Ear-consciousness.… Nose-consciousness.… Tongue-consciousness.… Body-consciousness.… Intellect-consciousness is inconstant, changeable, alterable.…\\n Contact\\n Phassa Sutta  (SN 25:4)\\n Near Sāvatthī. “Monks, eye-contact is inconstant, changeable, alterable. Ear-contact.… Nose-contact.… Tongue-contact.… Body-contact.… Intellect-contact is inconstant, changeable, alterable…\\n Feeling\\n Vedanā Sutta  (SN 25:5)\\n Near Sāvatthī. “Monks, feeling born of eye-contact is inconstant, changeable, alterable. Feeling born of ear-contact.… Feeling born of nose-contact.… Feeling born of tongue-contact.… Feeling born of body-contact.… Feeling born of intellect-contact is inconstant, changeable, alterable…\\n Perception\\n Saññā Sutta  (SN 25:6)\\n Near Sāvatthī. “Monks, perception of forms is inconstant, changeable, alterable. Perception of sounds.… Perception of smells.… Perception of tastes.… Perception of tactile sensations.… Perception of ideas is inconstant, changeable, alterable.…\\n Intention\\n Cetanā Sutta  (SN 25:7)\\n Near Sāvatthī. “Monks, intention for forms is inconstant, changeable, alterable. Intention for sounds.… Intention for smells.… Intention for tastes.… Intention for tactile sensations.… Intention for ideas is inconstant, changeable, alterable.…\\n Craving\\n Taṇhā Sutta  (SN 25:8)\\n Near Sāvatthī. “Monks, craving for forms is inconstant, changeable, alterable. Craving for sounds.… Craving for smells.… Craving for tastes.… Craving for tactile sensations.… Craving for ideas is inconstant, changeable, alterable.…\\n “One who has conviction & belief that these phenomena are this way is called a faith-follower: one who has entered the orderliness of rightness, entered the plane of people of integrity, transcended the plane of the run-of-the-mill. He is incapable of doing any deed by which he might be reborn in hell, in the animal womb, or in the realm of hungry ghosts. He is incapable of passing away until he has realized the fruit of stream-entry.\\n “One who, after pondering with a modicum of discernment, has accepted that these phenomena are this way is called a Dhamma-follower: one who has entered the orderliness of rightness, entered the plane of people of integrity, transcended the plane of the run-of-the-mill. He is incapable of doing any deed by which he might be reborn in hell, in the animal womb, or in the realm of hungry ghosts. He is incapable of passing away until he has realized the fruit of stream-entry.\\n “One who knows and sees that these phenomena are this way is called a stream-enterer, steadfast, never again destined for states of woe, headed for self-awakening.”\\n See also: MN 70\\n Properties\\n Dhātu Sutta  (SN 25:9)\\n Near Sāvatthī. “Monks, the earth property is inconstant, changeable, alterable. The liquid property.… The fire property.… The wind property.… The space property.… The consciousness property is inconstant, changeable, alterable.…\\n Aggregates\\n Khandha Sutta  (SN 25:10)\\n Near Sāvatthī. “Monks, form is inconstant, changeable, alterable. Feeling.… Perception.… Fabrications.… Consciousness is inconstant, changeable, alterable.'\n",
    "\n",
    "df_sn['sutta_text'].fillna(missing_text, inplace = True)"
   ]
  },
  {
   "cell_type": "code",
   "execution_count": 19,
   "metadata": {},
   "outputs": [],
   "source": [
    "df_sn = nav_int_notes(df_sn);"
   ]
  },
  {
   "cell_type": "code",
   "execution_count": 20,
   "metadata": {},
   "outputs": [],
   "source": [
    "#df_sn.to_csv(f'./sutta_csv/cleaned/individuals_dfs/df_sn_clean.csv', index = False)"
   ]
  },
  {
   "cell_type": "markdown",
   "metadata": {},
   "source": [
    "## 4. Anguttara Nikaya (AN)"
   ]
  },
  {
   "cell_type": "code",
   "execution_count": 21,
   "metadata": {},
   "outputs": [],
   "source": [
    "df_anf = pd.read_csv('./sutta_csv/scraped/an_full.csv')\n",
    "df_ant = pd.read_csv('./sutta_csv/scraped/an_text_2.csv')\n",
    "\n",
    "low_rep(df_anf);\n",
    "low_rep(df_ant);\n",
    "df_an = pd.merge(left = df_anf, right = df_ant, on='title_url')"
   ]
  },
  {
   "cell_type": "code",
   "execution_count": 22,
   "metadata": {},
   "outputs": [],
   "source": [
    "df_an = nav_int_notes(df_an);"
   ]
  },
  {
   "cell_type": "code",
   "execution_count": 23,
   "metadata": {},
   "outputs": [],
   "source": [
    "#df_an.to_csv(f'./sutta_csv/cleaned/individuals_dfs/df_an_clean.csv', index = False)"
   ]
  },
  {
   "cell_type": "markdown",
   "metadata": {},
   "source": [
    "# **Merging the Khuddaka Nikaya (KN)**"
   ]
  },
  {
   "cell_type": "markdown",
   "metadata": {},
   "source": [
    "Khuddaka Nikaya was much harder to scrape from the website. It is composed of 7 smaller collections, each with its own formatting. The content ranges from poetry to exclamations, quotations and stories. "
   ]
  },
  {
   "cell_type": "markdown",
   "metadata": {},
   "source": [
    "## KN 01 - Khuddakapatha (Khp)"
   ]
  },
  {
   "cell_type": "code",
   "execution_count": 24,
   "metadata": {},
   "outputs": [],
   "source": [
    "df_kkhpf = pd.read_csv('./sutta_csv/scraped/kn/01_kn_khp_full.csv')\n",
    "df_kkhpt = pd.read_csv('./sutta_csv/scraped/kn/01_kn_khp_text.csv')\n",
    "\n",
    "low_rep(df_kkhpf);\n",
    "low_rep(df_kkhpt);\n",
    "df_kkhp = pd.merge(left = df_kkhpf, right = df_kkhpt, on='title_url')"
   ]
  },
  {
   "cell_type": "code",
   "execution_count": 25,
   "metadata": {},
   "outputs": [],
   "source": [
    "df_kkhp = nav_int_notes(df_kkhp);"
   ]
  },
  {
   "cell_type": "code",
   "execution_count": 26,
   "metadata": {},
   "outputs": [],
   "source": [
    "#df_kkhp.to_csv(f'./sutta_csv/cleaned/individuals_dfs/df_kkhp_clean.csv', index = False)"
   ]
  },
  {
   "cell_type": "markdown",
   "metadata": {},
   "source": [
    "## KN 02 - Dhammapada (Dhp)"
   ]
  },
  {
   "cell_type": "code",
   "execution_count": 27,
   "metadata": {},
   "outputs": [],
   "source": [
    "df_kdhpf = pd.read_csv('./sutta_csv/scraped/kn/02_kn_dhp_full.csv')\n",
    "df_kdhpt = pd.read_csv('./sutta_csv/scraped/kn/02_kn_dhp_text.csv')\n",
    "\n",
    "low_rep(df_kdhpf);\n",
    "low_rep(df_kdhpt);\n",
    "df_kdhp = pd.merge(left = df_kdhpf, right = df_kdhpt, right_on='url', left_on = 'field2_links')"
   ]
  },
  {
   "cell_type": "code",
   "execution_count": 28,
   "metadata": {},
   "outputs": [],
   "source": [
    "## Dropping\n",
    "df_kdhp = df_kdhp.drop(columns = 'field2_links')\n",
    "\n",
    "## Renaming\n",
    "df_kdhp = df_kdhp.rename(columns = {\n",
    "                            \"field1\": \"title\",\n",
    "                              'url': 'title_url',\n",
    "                                'text': 'sutta_text'\n",
    "                               })\n",
    "## Creating summary \n",
    "df_kdhp['summary'] = 'No Summary'"
   ]
  },
  {
   "cell_type": "code",
   "execution_count": 29,
   "metadata": {},
   "outputs": [],
   "source": [
    "#creating reference\n",
    "df_kdhp['ref2'] = df_kdhp['title']\n",
    "df_kdhp['ref2'] = df_kdhp['ref2'].str.replace('Ch.', 'Dhp')\n",
    "df_kdhp['ref2'] = df_kdhp['ref2'].str.split()\n",
    "df_kdhp['ref'] = ''\n",
    "\n",
    "for i in range(df_kdhp.shape[0]):\n",
    "    df_kdhp['ref'][i] = df_kdhp['ref2'][i][0] + ' ' + df_kdhp['ref2'][i][1]\n",
    "df_kdhp = df_kdhp.drop(columns = 'ref2')"
   ]
  },
  {
   "cell_type": "code",
   "execution_count": 30,
   "metadata": {},
   "outputs": [],
   "source": [
    "def nav_int_notes_2(df):\n",
    "    df = reorder(split_notes(split_see((nav_bar(df)))))\n",
    "    df = df.dropna().copy()\n",
    "    return df"
   ]
  },
  {
   "cell_type": "code",
   "execution_count": 31,
   "metadata": {},
   "outputs": [],
   "source": [
    "df_kdhp['intro'] = 'No Introduction'"
   ]
  },
  {
   "cell_type": "code",
   "execution_count": 32,
   "metadata": {},
   "outputs": [],
   "source": [
    "df_kdhp['title'] = 'Dhp ' + df_kdhp['title']"
   ]
  },
  {
   "cell_type": "code",
   "execution_count": 33,
   "metadata": {},
   "outputs": [],
   "source": [
    "df_kdhp = nav_int_notes_2(df_kdhp);"
   ]
  },
  {
   "cell_type": "code",
   "execution_count": 34,
   "metadata": {},
   "outputs": [],
   "source": [
    "#df_kdhp.to_csv(f'./sutta_csv/cleaned/individuals_dfs/df_kdhp_clean.csv', index = False)"
   ]
  },
  {
   "cell_type": "markdown",
   "metadata": {},
   "source": [
    "## KN 03 - Udana (Ud)"
   ]
  },
  {
   "cell_type": "code",
   "execution_count": 34,
   "metadata": {},
   "outputs": [
    {
     "data": {
      "text/plain": [
       "'/Users/ae-j/Documents/GA/PL/Capstone'"
      ]
     },
     "execution_count": 34,
     "metadata": {},
     "output_type": "execute_result"
    }
   ],
   "source": [
    "pwd"
   ]
  },
  {
   "cell_type": "code",
   "execution_count": 35,
   "metadata": {},
   "outputs": [],
   "source": [
    "df_kudf = pd.read_csv('./sutta_csv/scraped/kn/03_kn_ud_full.csv')\n",
    "df_kudt = pd.read_csv('./sutta_csv/scraped/kn/03_kn_ud_text.csv')\n",
    "\n",
    "low_rep(df_kudf);\n",
    "low_rep(df_kudt);\n",
    "df_kud = pd.merge(left = df_kudf, right = df_kudt, right_on='url', left_on = 'title_url')"
   ]
  },
  {
   "cell_type": "code",
   "execution_count": 36,
   "metadata": {},
   "outputs": [],
   "source": [
    "## Dropping\n",
    "df_kud = df_kud.drop(columns = 'url')\n",
    "\n",
    "## Renaming\n",
    "df_kud = df_kud.rename(columns = {\n",
    "                            \"field\": \"ref\",\n",
    "                            'text': 'sutta_text'\n",
    "                               })\n",
    "## Adding Summary\n",
    "df_kud['summary'] = 'No Summary'"
   ]
  },
  {
   "cell_type": "code",
   "execution_count": 37,
   "metadata": {},
   "outputs": [],
   "source": [
    "df_kud = nav_int_notes(df_kud);"
   ]
  },
  {
   "cell_type": "code",
   "execution_count": 38,
   "metadata": {},
   "outputs": [],
   "source": [
    "#df_kud.to_csv('./sutta_csv/cleaned/individuals_dfs/df_kud_clean.csv', index = False)"
   ]
  },
  {
   "cell_type": "markdown",
   "metadata": {},
   "source": [
    "## KN 04 - Itivuttaka (Iti)"
   ]
  },
  {
   "cell_type": "code",
   "execution_count": 39,
   "metadata": {},
   "outputs": [],
   "source": [
    "df_kitif = pd.read_csv('./sutta_csv/scraped/kn/04_kn_iti_full.csv')\n",
    "df_kitit = pd.read_csv('./sutta_csv/scraped/kn/04_kn_iti_text.csv')\n",
    "\n",
    "low_rep(df_kitif);\n",
    "low_rep(df_kitit);\n",
    "df_kiti = pd.merge(left = df_kitif, right = df_kitit, right_on='url', left_on = 'field2_links')"
   ]
  },
  {
   "cell_type": "code",
   "execution_count": 40,
   "metadata": {},
   "outputs": [],
   "source": [
    "## Dropping\n",
    "df_kiti = df_kiti.drop(columns = 'field2_links')\n",
    "\n",
    "## Renaming\n",
    "df_kiti = df_kiti.rename(columns = {\n",
    "                            \"url\": \"title_url\",\n",
    "                            \"field1\": \"title\",\n",
    "                            'text': 'sutta_text'\n",
    "                               })\n",
    "\n",
    "#Creating summary\n",
    "df_kiti['summary'] = 'No Summary'"
   ]
  },
  {
   "cell_type": "code",
   "execution_count": 41,
   "metadata": {},
   "outputs": [],
   "source": [
    "#creating reference\n",
    "df_kiti['ref2'] = df_kiti['title']\n",
    "df_kiti['ref2'] = df_kiti['ref2'].str.split('—')\n",
    "df_kiti['ref'] = ''\n",
    "\n",
    "for i in range(df_kiti.shape[0]):\n",
    "    df_kiti['ref'][i] = df_kiti['ref2'][i][0]\n",
    "df_kiti = df_kiti.drop(columns = 'ref2')"
   ]
  },
  {
   "cell_type": "code",
   "execution_count": 42,
   "metadata": {},
   "outputs": [],
   "source": [
    "df_kiti = nav_int_notes(df_kiti);"
   ]
  },
  {
   "cell_type": "code",
   "execution_count": 43,
   "metadata": {},
   "outputs": [],
   "source": [
    "#df_kiti.to_csv('./sutta_csv/cleaned/individuals_dfs/df_kiti_clean.csv', index = False)"
   ]
  },
  {
   "cell_type": "markdown",
   "metadata": {},
   "source": [
    "## KN 05 - Sutta Nipata (Stnp)"
   ]
  },
  {
   "cell_type": "code",
   "execution_count": 44,
   "metadata": {},
   "outputs": [],
   "source": [
    "df_kstnpf = pd.read_csv('./sutta_csv/scraped/kn/05_kn_stnp_full.csv')\n",
    "df_kstnpt = pd.read_csv('./sutta_csv/scraped/kn/05_kn_stnp_text.csv')\n",
    "\n",
    "low_rep(df_kstnpf);\n",
    "low_rep(df_kstnpt);\n",
    "df_kstnp = pd.merge(left = df_kstnpf, right = df_kstnpt, right_on='url', left_on = 'title_url')"
   ]
  },
  {
   "cell_type": "code",
   "execution_count": 45,
   "metadata": {},
   "outputs": [],
   "source": [
    "## Dropping\n",
    "df_kstnp = df_kstnp.drop(columns = 'url')\n",
    "\n",
    "## Renaming\n",
    "df_kstnp = df_kstnp.rename(columns = {\n",
    "                            \"unnamed:_3\": \"summary\",\n",
    "                            \"field\": \"ref\",\n",
    "                            'text': 'sutta_text'\n",
    "                               })\n"
   ]
  },
  {
   "cell_type": "code",
   "execution_count": 46,
   "metadata": {},
   "outputs": [],
   "source": [
    "#Different formatting in stnp so change to function to split introduction from main sutta text\n",
    "def split_intro_stnp(df):\n",
    "    try:\n",
    "        df['intro'] = df['text_full'].str.split('.\\n \\n ', 1, expand=True)[0]\n",
    "        df['text_full'] = df['text_full'].str.split('.\\n \\n ', 1, expand=True)[1]\n",
    "    except:\n",
    "        df['intro'] = 'No Introduction'\n",
    "    df = df.dropna().copy()\n",
    "    return(df)"
   ]
  },
  {
   "cell_type": "code",
   "execution_count": 47,
   "metadata": {},
   "outputs": [],
   "source": [
    "#Incorporating changed introduction split function\n",
    "def nav_int_notes_stnp(df):\n",
    "    df = reorder(split_notes(split_see(split_intro_stnp(nav_bar(df)))))\n",
    "    df = df.dropna().copy()\n",
    "    return df"
   ]
  },
  {
   "cell_type": "code",
   "execution_count": 49,
   "metadata": {},
   "outputs": [],
   "source": [
    "df_kstnp = nav_int_notes_stnp(df_kstnp);"
   ]
  },
  {
   "cell_type": "code",
   "execution_count": 50,
   "metadata": {},
   "outputs": [],
   "source": [
    "#df_kstnp.to_csv('./sutta_csv/cleaned/individuals_dfs/df_kstnp_clean.csv', index = False)"
   ]
  },
  {
   "cell_type": "markdown",
   "metadata": {},
   "source": [
    "## KN 06 - Theragatha (Thag)"
   ]
  },
  {
   "cell_type": "code",
   "execution_count": 51,
   "metadata": {},
   "outputs": [],
   "source": [
    "df_kthagf = pd.read_csv('./sutta_csv/scraped/kn/06_kn_thag_full.csv')\n",
    "df_kthagt = pd.read_csv('./sutta_csv/scraped/kn/06_kn_thag_text.csv')\n",
    "\n",
    "low_rep(df_kthagf);\n",
    "low_rep(df_kthagt);\n",
    "df_kthag = pd.merge(left = df_kthagf, right = df_kthagt, right_on='url', left_on = 'field3_links')"
   ]
  },
  {
   "cell_type": "code",
   "execution_count": 52,
   "metadata": {},
   "outputs": [],
   "source": [
    "## Dropping\n",
    "df_kthag = df_kthag.drop(columns = 'field3_links')\n",
    "\n",
    "## Renaming\n",
    "df_kthag = df_kthag.rename(columns = {\n",
    "                            \"field1\": \"title\",\n",
    "                            \"field2\": \"summary\",\n",
    "                            'text': 'sutta_text',\n",
    "                            'url': 'title_url'\n",
    "                               })\n"
   ]
  },
  {
   "cell_type": "code",
   "execution_count": 53,
   "metadata": {},
   "outputs": [],
   "source": [
    "# Creating ref\n",
    "df_kthag['ref2'] = df_kthag['title'].copy()\n",
    "df_kthag['ref2'] = df_kthag['ref2'].str.split().copy()\n",
    "df_kthag['ref'] = ''\n",
    "\n",
    "for i in range(df_kthag.shape[0]):\n",
    "    df_kthag['ref'][i] = df_kthag['ref2'][i][0] + ' ' + df_kthag['ref2'][i][1]\n",
    "df_kthag = df_kthag.drop(columns = 'ref2')"
   ]
  },
  {
   "cell_type": "code",
   "execution_count": 56,
   "metadata": {},
   "outputs": [],
   "source": [
    "df_kthag = nav_int_notes(df_kthag)"
   ]
  },
  {
   "cell_type": "code",
   "execution_count": 57,
   "metadata": {},
   "outputs": [],
   "source": [
    "#df_kthag.to_csv('./sutta_csv/cleaned/individuals_dfs/df_kthag_clean.csv', index = False)"
   ]
  },
  {
   "cell_type": "markdown",
   "metadata": {},
   "source": [
    "## KN 07 - Therigatha (Thig)"
   ]
  },
  {
   "cell_type": "code",
   "execution_count": 58,
   "metadata": {},
   "outputs": [],
   "source": [
    "df_kthigf = pd.read_csv('./sutta_csv/scraped/kn/07_kn_thig_full.csv')\n",
    "df_kthigt = pd.read_csv('./sutta_csv/scraped/kn/07_kn_thig_text.csv')\n",
    "\n",
    "low_rep(df_kthigf);\n",
    "low_rep(df_kthigt);\n",
    "df_kthig = pd.merge(left = df_kthigf, right = df_kthigt, right_on='url', left_on = 'field3_links')"
   ]
  },
  {
   "cell_type": "code",
   "execution_count": 60,
   "metadata": {},
   "outputs": [],
   "source": [
    "## Dropping\n",
    "df_kthig = df_kthig.drop(columns = 'field3_links')\n",
    "\n",
    "## Renaming\n",
    "df_kthig = df_kthig.rename(columns = {\n",
    "                            \"field1\": \"title\",\n",
    "                            \"field2\": \"summary\",\n",
    "                            'text': 'sutta_text',\n",
    "                            'url': 'title_url'\n",
    "                               })\n"
   ]
  },
  {
   "cell_type": "code",
   "execution_count": 61,
   "metadata": {},
   "outputs": [],
   "source": [
    "# Creating ref\n",
    "df_kthig['ref2'] = df_kthig['title'].copy()\n",
    "df_kthig['ref2'] = df_kthig['ref2'].str.split().copy()\n",
    "df_kthig['ref'] = ''\n",
    "\n",
    "for i in range(df_kthig.shape[0]):\n",
    "    df_kthig['ref'][i] = df_kthig['ref2'][i][0] + ' ' + df_kthig['ref2'][i][1]\n",
    "df_kthig = df_kthig.drop(columns = 'ref2')"
   ]
  },
  {
   "cell_type": "code",
   "execution_count": 63,
   "metadata": {},
   "outputs": [],
   "source": [
    "df_kthig = nav_int_notes(df_kthig);"
   ]
  },
  {
   "cell_type": "code",
   "execution_count": 64,
   "metadata": {},
   "outputs": [],
   "source": [
    "#df_kthig.to_csv('./sutta_csv/cleaned/individuals_dfs/df_kthig_clean.csv', index = False)"
   ]
  },
  {
   "cell_type": "markdown",
   "metadata": {},
   "source": [
    "## Merge of Khuddaka Nikaya"
   ]
  },
  {
   "cell_type": "code",
   "execution_count": 35,
   "metadata": {},
   "outputs": [],
   "source": [
    "df_kkhp_c = pd.read_csv('./sutta_csv/cleaned/individual_dfs/df_kkhp_clean.csv')\n",
    "df_kdhp_c = pd.read_csv('./sutta_csv/cleaned/individual_dfs/df_kdhp_clean.csv')\n",
    "df_kud_c = pd.read_csv('./sutta_csv/cleaned/individual_dfs/df_kud_clean.csv')\n",
    "df_kiti_c = pd.read_csv('./sutta_csv/cleaned/individual_dfs/df_kiti_clean.csv')\n",
    "df_kstnp_c = pd.read_csv('./sutta_csv/cleaned/individual_dfs/df_kstnp_clean.csv')\n",
    "df_kthag_c = pd.read_csv('./sutta_csv/cleaned/individual_dfs/df_kthag_clean.csv')\n",
    "df_kthig_c = pd.read_csv('./sutta_csv/cleaned/individual_dfs/df_kthig_clean.csv')"
   ]
  },
  {
   "cell_type": "code",
   "execution_count": 36,
   "metadata": {},
   "outputs": [],
   "source": [
    "df_kn = pd.concat([df_kkhp_c, df_kdhp_c, df_kud_c, df_kiti_c, df_kstnp_c, df_kthag_c, df_kthig_c], axis=0)"
   ]
  },
  {
   "cell_type": "code",
   "execution_count": 37,
   "metadata": {},
   "outputs": [],
   "source": [
    "df_kn.to_csv('./sutta_csv/cleaned/df_kn_clean.csv', index = False)"
   ]
  },
  {
   "cell_type": "markdown",
   "metadata": {},
   "source": [
    "## Merge all Sutta Nipata"
   ]
  },
  {
   "cell_type": "code",
   "execution_count": 38,
   "metadata": {},
   "outputs": [],
   "source": [
    "df_mn_c = pd.read_csv('./sutta_csv/cleaned/individuals_dfs/df_mn_clean.csv')\n",
    "df_sn_c = pd.read_csv('./sutta_csv/cleaned/individuals_dfs/df_sn_clean.csv')\n",
    "df_dn_c = pd.read_csv('./sutta_csv/cleaned/individuals_dfs/df_dn_clean.csv')\n",
    "df_an_c = pd.read_csv('./sutta_csv/cleaned/individuals_dfs/df_an_clean.csv')\n",
    "df_kn_c = pd.read_csv('./sutta_csv/cleaned/individuals_dfs/df_kn_clean.csv')"
   ]
  },
  {
   "cell_type": "code",
   "execution_count": 39,
   "metadata": {},
   "outputs": [],
   "source": [
    "df_mn_c['nikaya'] = 'Majjhima Nikaya'\n",
    "df_sn_c['nikaya'] = 'Samyutta Nikaya'\n",
    "df_dn_c['nikaya'] = 'Digha Nikaya'\n",
    "df_an_c['nikaya'] = 'Anguttara Nikaya'\n",
    "df_kn_c['nikaya'] = 'Khuddaka Nikaya'"
   ]
  },
  {
   "cell_type": "code",
   "execution_count": 40,
   "metadata": {},
   "outputs": [],
   "source": [
    "df_all = pd.concat([df_mn_c, df_sn_c, df_dn_c, df_an_c, df_kn_c], axis=0)"
   ]
  },
  {
   "cell_type": "code",
   "execution_count": 41,
   "metadata": {},
   "outputs": [],
   "source": [
    "#df_all.to_csv('./sutta_csv/cleaned/df_all_clean.csv', index = False)"
   ]
  },
  {
   "cell_type": "code",
   "execution_count": null,
   "metadata": {},
   "outputs": [],
   "source": []
  }
 ],
 "metadata": {
  "kernelspec": {
   "display_name": "Python 3",
   "language": "python",
   "name": "python3"
  },
  "language_info": {
   "codemirror_mode": {
    "name": "ipython",
    "version": 3
   },
   "file_extension": ".py",
   "mimetype": "text/x-python",
   "name": "python",
   "nbconvert_exporter": "python",
   "pygments_lexer": "ipython3",
   "version": "3.8.5"
  }
 },
 "nbformat": 4,
 "nbformat_minor": 4
}
