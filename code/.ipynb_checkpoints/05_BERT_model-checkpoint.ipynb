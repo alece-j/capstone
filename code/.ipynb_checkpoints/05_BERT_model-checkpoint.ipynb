{
 "cells": [
  {
   "cell_type": "markdown",
   "metadata": {},
   "source": [
    "# Notebook 5: Model Refinement"
   ]
  },
  {
   "cell_type": "markdown",
   "metadata": {},
   "source": [
    "The purpose of this model is to develop the BERT model from Notebook 4 further and then to simplify it for use in the flask app. Code and approach inspired by this [blog](https://towardsdatascience.com/calculating-document-similarities-using-bert-and-other-models-b2c1a29c9630) and with help from Caroline."
   ]
  },
  {
   "cell_type": "code",
   "execution_count": 1,
   "metadata": {
    "id": "RnntDw39UV9Q"
   },
   "outputs": [],
   "source": [
    "import pandas as pd\n",
    "import numpy as np\n",
    "import gensim\n",
    "\n",
    "from sklearn.metrics.pairwise import cosine_similarity\n",
    "from sklearn.metrics.pairwise import euclidean_distances\n",
    "from sentence_transformers import SentenceTransformer"
   ]
  },
  {
   "cell_type": "markdown",
   "metadata": {},
   "source": [
    "## Refining and simplifying BERT Model "
   ]
  },
  {
   "cell_type": "code",
   "execution_count": 6,
   "metadata": {},
   "outputs": [],
   "source": [
    "#Reading in dataframe\n",
    "df = pd.read_csv('./sutta_csv/cleaned/df_all_prep.csv')"
   ]
  },
  {
   "cell_type": "code",
   "execution_count": 7,
   "metadata": {
    "id": "va2A9wu4XcSg"
   },
   "outputs": [],
   "source": [
    "#Instantiate model\n",
    "sbert_model = SentenceTransformer('bert-base-nli-mean-tokens')"
   ]
  },
  {
   "cell_type": "code",
   "execution_count": 9,
   "metadata": {
    "colab": {
     "base_uri": "https://localhost:8080/",
     "height": 230
    },
    "id": "_g_OqGXBYrds",
    "outputId": "85dfbadc-3966-4417-8c31-de07f111d695"
   },
   "outputs": [],
   "source": [
    "# Generate doc embeddings and save to dataframe\n",
    "\n",
    "document_embeddings = sbert_model.encode(df['text_full'], show_progress_bar = False)\n",
    "embeddings_df = pd.DataFrame(document_embeddings)\n",
    "embeddings_df.index = df['ref'].values"
   ]
  },
  {
   "cell_type": "code",
   "execution_count": 10,
   "metadata": {
    "id": "CygE5VWfYG80"
   },
   "outputs": [],
   "source": [
    "#Generate pairwise similarities\n",
    "pairwise_similarities = cosine_similarity(document_embeddings)\n",
    "pairwise_differences = euclidean_distances(document_embeddings)"
   ]
  },
  {
   "cell_type": "code",
   "execution_count": null,
   "metadata": {
    "id": "v5CkQSO7pD8P"
   },
   "outputs": [],
   "source": [
    "#Exporting pairwise similarities for each of access and conservation of computational resource\n",
    "# with open('./data/pairwise_similarities.npy', 'wb') as f:\n",
    "#     np.save(f, pairwise_similarities)\n",
    "\n",
    "# with open('./data/pairwise_differences.npy', 'wb') as f:\n",
    "#     np.save(f, pairwise_differences)"
   ]
  },
  {
   "cell_type": "code",
   "execution_count": 11,
   "metadata": {},
   "outputs": [],
   "source": [
    "#Function using only cosine similarities from the BERT model document embeddings\n",
    "def most_similar(ref):\n",
    "  \n",
    "    df['ref'] = df['ref'].str.replace('\\u2009', ' ')\n",
    "   \n",
    "    with open('./data/pairwise_similarities.npy', 'rb') as f:\n",
    "        pairwise_similarities = np.load(f)\n",
    "    \n",
    "    def get_ix(ref):\n",
    "        return df[df['ref'] == ref].index[0]\n",
    "\n",
    "    doc_ix = get_ix(ref)\n",
    "    \n",
    "    similar_ix = np.argsort(pairwise_similarities[doc_ix])[::-1][1:]\n",
    "    \n",
    "    for ix in similar_ix[:5]:\n",
    "        if ix == doc_ix:\n",
    "            pass\n",
    "        else:\n",
    "            print(f'Title: {df.iloc[ix][\"title\"]}')\n",
    "            print(f'URL: {df.iloc[ix][\"title_url\"]}')"
   ]
  },
  {
   "cell_type": "code",
   "execution_count": 12,
   "metadata": {},
   "outputs": [
    {
     "name": "stdout",
     "output_type": "stream",
     "text": [
      "Title: MN 49  Brahma-nimantanika Sutta | The Brahmā Invitation\n",
      "URL: https://www.dhammatalks.org/suttas/MN/MN49.html\n",
      "Title: MN 113  Sappurisa Sutta | A Person of Integrity\n",
      "URL: https://www.dhammatalks.org/suttas/MN/MN113.html\n",
      "Title: MN 117  Mahā Cattārīsaka Sutta | The Great Forty\n",
      "URL: https://www.dhammatalks.org/suttas/MN/MN117.html\n",
      "Title: MN 138  Uddesa-vibhaṅga Sutta | An Analysis of the Statement\n",
      "URL: https://www.dhammatalks.org/suttas/MN/MN138.html\n",
      "Title: MN 131  Bhaddekaratta Sutta | An Auspicious Day\n",
      "URL: https://www.dhammatalks.org/suttas/MN/MN131.html\n"
     ]
    }
   ],
   "source": [
    "most_similar('MN 1')"
   ]
  }
 ],
 "metadata": {
  "colab": {
   "name": "alec_bert.ipynb",
   "provenance": []
  },
  "kernelspec": {
   "display_name": "Python 3",
   "language": "python",
   "name": "python3"
  },
  "language_info": {
   "codemirror_mode": {
    "name": "ipython",
    "version": 3
   },
   "file_extension": ".py",
   "mimetype": "text/x-python",
   "name": "python",
   "nbconvert_exporter": "python",
   "pygments_lexer": "ipython3",
   "version": "3.8.5"
  }
 },
 "nbformat": 4,
 "nbformat_minor": 4
}
