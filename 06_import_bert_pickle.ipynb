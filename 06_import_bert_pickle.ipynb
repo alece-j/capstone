{
 "cells": [
  {
   "cell_type": "code",
   "execution_count": 1,
   "metadata": {},
   "outputs": [],
   "source": [
    "import pandas as pd\n",
    "import numpy as np"
   ]
  },
  {
   "cell_type": "code",
   "execution_count": 2,
   "metadata": {},
   "outputs": [],
   "source": [
    "## Code in this notebook developed in conjunction with Caroline and with help from https://towardsdatascience.com/calculating-document-similarities-using-bert-and-other-models-b2c1a29c9630"
   ]
  },
  {
   "cell_type": "code",
   "execution_count": 3,
   "metadata": {},
   "outputs": [],
   "source": [
    "with open('./data/pairwise_differences.npy', 'rb') as f:\n",
    "    pairwise_differences = np.load(f)\n",
    "with open('./data/pairwise_similarities.npy', 'rb') as f:\n",
    "    pairwise_similarities = np.load(f)\n"
   ]
  },
  {
   "cell_type": "code",
   "execution_count": 4,
   "metadata": {},
   "outputs": [],
   "source": [
    "df = pd.read_csv('./sutta_csv/cleaned/df_all_prep.csv')"
   ]
  },
  {
   "cell_type": "code",
   "execution_count": 5,
   "metadata": {},
   "outputs": [],
   "source": [
    "df['ref'] = df['ref'].str.replace('\\u2009', ' ')"
   ]
  },
  {
   "cell_type": "code",
   "execution_count": 6,
   "metadata": {},
   "outputs": [],
   "source": [
    "def get_ix(ref):\n",
    "    ''' Returns an index number based off of a string ID. '''\n",
    "    return df[df['ref'] == ref].index[0]"
   ]
  },
  {
   "cell_type": "code",
   "execution_count": 7,
   "metadata": {},
   "outputs": [],
   "source": [
    "def most_similar(doc_id, similarity_matrix, matrix_type, number):\n",
    "    '''\n",
    "  doc_id: (str) unique document identifier\n",
    "  similarity_matrix: (ndarray) cosine similarity or euclidean difference matrix\n",
    "  matrix_type: (str) 'cosine' or 'euclidean'\n",
    "  number: (int) n of similar suttas to display\n",
    "    '''\n",
    "    doc_ix = get_ix(doc_id)\n",
    "    if matrix_type == 'cosine':\n",
    "        similar_ix = np.argsort(similarity_matrix[doc_ix])[::-1][1:]\n",
    "    elif matrix_type == 'euclidean':\n",
    "        similar_ix = np.argsort(similarity_matrix[doc_ix])\n",
    "    for ix in similar_ix[:number]:\n",
    "        if ix == doc_ix:\n",
    "            pass\n",
    "        else:\n",
    "            print(f'Title: {df.iloc[ix][\"title\"]}')\n",
    "            "
   ]
  },
  {
   "cell_type": "code",
   "execution_count": 9,
   "metadata": {},
   "outputs": [
    {
     "name": "stdout",
     "output_type": "stream",
     "text": [
      "Title: AN 8:6 Lokavipatti Sutta | The Failings of the World\n",
      "Title: AN 4:111 Kesi Sutta | To Kesin the Horsetrainer\n",
      "Title: AN 4:199 Taṇhā Sutta | Craving\n",
      "Title: Thag 3:8  Yasoja\n",
      "Title: Dhp Ch. 23   Elephants\n"
     ]
    }
   ],
   "source": [
    "most_similar('AN 8:14', similarity_matrix=pairwise_similarities, matrix_type='cosine', number =5)"
   ]
  }
 ],
 "metadata": {
  "kernelspec": {
   "display_name": "Python 3",
   "language": "python",
   "name": "python3"
  },
  "language_info": {
   "codemirror_mode": {
    "name": "ipython",
    "version": 3
   },
   "file_extension": ".py",
   "mimetype": "text/x-python",
   "name": "python",
   "nbconvert_exporter": "python",
   "pygments_lexer": "ipython3",
   "version": "3.8.5"
  }
 },
 "nbformat": 4,
 "nbformat_minor": 4
}
