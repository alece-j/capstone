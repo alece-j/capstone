{
 "cells": [
  {
   "cell_type": "code",
   "execution_count": 11,
   "metadata": {},
   "outputs": [],
   "source": [
    "import pandas as pd\n",
    "import numpy as np\n",
    "import pickle\n",
    "\n",
    "## Code in this notebook developed in conjunction with Caroline and with help from https://towardsdatascience.com/calculating-document-similarities-using-bert-and-other-models-b2c1a29c9630\n",
    "\n",
    "def most_similar(ref):\n",
    "    '''\n",
    "  doc_id: (str) unique document identifier\n",
    "  similarity_matrix: (ndarray) cosine similarity or euclidean difference matrix\n",
    "  matrix_type: (str) 'cosine' or 'euclidean'\n",
    "  number: (int) n of similar suttas to display\n",
    "    '''\n",
    "    df = pd.read_csv('./sutta_csv/cleaned/df_all_prep.csv')\n",
    "    df['ref'] = df['ref'].str.replace('\\u2009', ' ')\n",
    "   \n",
    "    with open('./data/pairwise_similarities.npy', 'rb') as f:\n",
    "        pairwise_similarities = np.load(f)\n",
    "    \n",
    "    def get_ix(ref):\n",
    "        return df[df['ref'] == ref].index[0]\n",
    "\n",
    "    doc_ix = get_ix(ref)\n",
    "    \n",
    "    similar_ix = np.argsort(pairwise_similarities[doc_ix])[::-1][1:]\n",
    "    \n",
    "    for ix in similar_ix[:5]:\n",
    "        if ix == doc_ix:\n",
    "            pass\n",
    "        else:\n",
    "            print(f'Title: {df.iloc[ix][\"title\"]}')\n",
    "            print(f'URL: {df.iloc[ix][\"title_url\"]}')\n"
   ]
  },
  {
   "cell_type": "code",
   "execution_count": 13,
   "metadata": {},
   "outputs": [],
   "source": [
    "with open('./data/model/rec_suttas.pkl', 'wb') as pickle_out:\n",
    "    pickle_out = pickle.dump(most_similar, pickle_out)\n",
    "\n",
    "with open('./data/model/rec_suttas.pkl', 'rb') as pickle_in:\n",
    "    rec_suttas = pickle.load(pickle_in)"
   ]
  },
  {
   "cell_type": "code",
   "execution_count": 15,
   "metadata": {},
   "outputs": [
    {
     "name": "stdout",
     "output_type": "stream",
     "text": [
      "Title: MN 49  Brahma-nimantanika Sutta | The Brahmā Invitation\n",
      "URL: https://www.dhammatalks.org/suttas/MN/MN49.html\n",
      "Title: MN 113  Sappurisa Sutta | A Person of Integrity\n",
      "URL: https://www.dhammatalks.org/suttas/MN/MN113.html\n",
      "Title: MN 117  Mahā Cattārīsaka Sutta | The Great Forty\n",
      "URL: https://www.dhammatalks.org/suttas/MN/MN117.html\n",
      "Title: MN 138  Uddesa-vibhaṅga Sutta | An Analysis of the Statement\n",
      "URL: https://www.dhammatalks.org/suttas/MN/MN138.html\n",
      "Title: MN 131  Bhaddekaratta Sutta | An Auspicious Day\n",
      "URL: https://www.dhammatalks.org/suttas/MN/MN131.html\n"
     ]
    }
   ],
   "source": [
    "rec_suttas('MN 1')"
   ]
  },
  {
   "cell_type": "code",
   "execution_count": null,
   "metadata": {},
   "outputs": [],
   "source": []
  }
 ],
 "metadata": {
  "kernelspec": {
   "display_name": "Python 3",
   "language": "python",
   "name": "python3"
  },
  "language_info": {
   "codemirror_mode": {
    "name": "ipython",
    "version": 3
   },
   "file_extension": ".py",
   "mimetype": "text/x-python",
   "name": "python",
   "nbconvert_exporter": "python",
   "pygments_lexer": "ipython3",
   "version": "3.8.5"
  }
 },
 "nbformat": 4,
 "nbformat_minor": 4
}
