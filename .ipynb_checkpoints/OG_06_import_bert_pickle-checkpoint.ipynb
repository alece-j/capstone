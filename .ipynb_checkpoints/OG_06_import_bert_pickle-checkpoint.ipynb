{
 "cells": [
  {
   "cell_type": "code",
   "execution_count": 2,
   "metadata": {},
   "outputs": [
    {
     "ename": "IndentationError",
     "evalue": "expected an indented block (<ipython-input-2-64bc8299ee35>, line 30)",
     "output_type": "error",
     "traceback": [
      "\u001b[0;36m  File \u001b[0;32m\"<ipython-input-2-64bc8299ee35>\"\u001b[0;36m, line \u001b[0;32m30\u001b[0m\n\u001b[0;31m    return df[df['ref'] == ref].index[0]\u001b[0m\n\u001b[0m    ^\u001b[0m\n\u001b[0;31mIndentationError\u001b[0m\u001b[0;31m:\u001b[0m expected an indented block\n"
     ]
    }
   ],
   "source": [
    "import pandas as pd\n",
    "import numpy as np\n",
    "\n",
    "## Code in this notebook developed in conjunction with Caroline and with help from https://towardsdatascience.com/calculating-document-similarities-using-bert-and-other-models-b2c1a29c9630\n",
    "\n",
    "with open('./data/pairwise_differences.npy', 'rb') as f:\n",
    "    pairwise_differences = np.load(f)\n",
    "with open('./data/pairwise_similarities.npy', 'rb') as f:\n",
    "    pairwise_similarities = np.load(f)\n",
    "\n",
    "\n",
    "df = pd.read_csv('./sutta_csv/cleaned/df_all_prep.csv')\n",
    "\n",
    "df['ref'] = df['ref'].str.replace('\\u2009', ' ')\n",
    "\n",
    "def get_ix(ref):\n",
    "    ''' Returns an index number based off of a string ID. '''\n",
    "    return df[df['ref'] == ref].index[0]\n",
    "\n",
    "def most_similar(doc_id, matrix_type, number):\n",
    "    \n",
    "    '''\n",
    "  doc_id: (str) unique document identifier\n",
    "  similarity_matrix: (ndarray) cosine similarity or euclidean difference matrix\n",
    "  matrix_type: (str) 'cosine' or 'euclidean'\n",
    "  number: (int) n of similar suttas to display\n",
    "    '''\n",
    "    \n",
    "    doc_ix = get_ix(doc_id)\n",
    "    if matrix_type == 'cosine':\n",
    "        similar_ix = np.argsort(pairwise_similarities[doc_ix])[::-1][1:]\n",
    "    elif matrix_type == 'euclidean':\n",
    "        similar_ix = np.argsort(pairwise_differences[doc_ix])\n",
    "    for ix in similar_ix[:number]:\n",
    "        if ix == doc_ix:\n",
    "            pass\n",
    "        else:\n",
    "            print(f'Title: {df.iloc[ix][\"title\"]}')\n",
    "            print(f'URL: {df.iloc[ix][\"title_url\"]}')\n",
    "\n",
    "most_similar('AN 8:14', matrix_type='euclidean', number =6)"
   ]
  },
  {
   "cell_type": "code",
   "execution_count": null,
   "metadata": {},
   "outputs": [],
   "source": [
    "pwd"
   ]
  },
  {
   "cell_type": "code",
   "execution_count": null,
   "metadata": {},
   "outputs": [],
   "source": [
    "import pickle"
   ]
  },
  {
   "cell_type": "code",
   "execution_count": null,
   "metadata": {},
   "outputs": [],
   "source": [
    "with open('./data/model/rec_suttas.pkl', 'wb') as pickle_out:\n",
    "    pickle_out = pickle.dump(most_similar, pickle_out)\n",
    "\n",
    "with open('./data/model/rec_suttas.pkl', 'rb') as pickle_in:\n",
    "    rec_suttas = pickle.load(pickle_in)"
   ]
  },
  {
   "cell_type": "code",
   "execution_count": null,
   "metadata": {},
   "outputs": [],
   "source": [
    "rec_suttas('AN 8:14', matrix_type='euclidean', number =6)"
   ]
  },
  {
   "cell_type": "code",
   "execution_count": null,
   "metadata": {},
   "outputs": [],
   "source": []
  }
 ],
 "metadata": {
  "kernelspec": {
   "display_name": "Python 3",
   "language": "python",
   "name": "python3"
  },
  "language_info": {
   "codemirror_mode": {
    "name": "ipython",
    "version": 3
   },
   "file_extension": ".py",
   "mimetype": "text/x-python",
   "name": "python",
   "nbconvert_exporter": "python",
   "pygments_lexer": "ipython3",
   "version": "3.8.5"
  }
 },
 "nbformat": 4,
 "nbformat_minor": 4
}
