{
 "cells": [
  {
   "cell_type": "code",
   "execution_count": 1,
   "metadata": {
    "id": "5BEUUw7fqgnS"
   },
   "outputs": [],
   "source": [
    "import pandas as pd\n",
    "pd.set_option('display.max_rows', None)\n",
    "pd.set_option('display.max_columns', None)\n",
    "pd.set_option('display.width', None)\n",
    "pd.set_option('display.max_colwidth', None)\n",
    "import numpy as np\n",
    "import matplotlib.pyplot as plt\n",
    "import seaborn as sns\n",
    "import gensim\n",
    "\n",
    "from gensim.models.doc2vec import Doc2Vec, TaggedDocument\n",
    "from nltk.tokenize import word_tokenize\n",
    "from gensim.utils import simple_preprocess\n",
    "from sklearn.model_selection import train_test_split\n",
    "from sklearn.cluster import KMeans\n",
    "from sklearn.decomposition import PCA\n",
    "from sklearn.feature_extraction.text import TfidfVectorizer\n",
    "from sklearn.decomposition import TruncatedSVD\n",
    "\n",
    "import gensim\n",
    "import gensim.corpora as corpora\n",
    "from gensim import models\n",
    "from pprint import pprint\n",
    "import gensim.corpora as corpora"
   ]
  },
  {
   "cell_type": "code",
   "execution_count": 3,
   "metadata": {
    "colab": {
     "base_uri": "https://localhost:8080/"
    },
    "id": "ZxVroLp2FM6M",
    "outputId": "8016172e-4db8-403b-803c-8017ac29cfdb"
   },
   "outputs": [],
   "source": [
    "df = pd.read_csv('./sutta_csv/cleaned/df_all_prep.csv')"
   ]
  },
  {
   "cell_type": "markdown",
   "metadata": {
    "id": "8gI6ukuuqgnh"
   },
   "source": [
    "# Modeling Part 1 (M1): Topic Analysis"
   ]
  },
  {
   "cell_type": "markdown",
   "metadata": {},
   "source": [
    "Here I develop two topic analysis models one using TFIDF and another using latent semantic analysis. Given the large computation requirements this was originally developed in google colab. \n",
    "\n",
    "This was unfortunately a bit of a bust. The topics that the model was identifying were not particularly interpretable and given the aim of the project the results were not usable (despite a decent coherence score on the LDA model with tfidf). "
   ]
  },
  {
   "cell_type": "markdown",
   "metadata": {
    "id": "iGYP5IEmqgnh"
   },
   "source": [
    "### (M1.1) Topic Analysis using Tfidf and TruncatedSVD"
   ]
  },
  {
   "cell_type": "code",
   "execution_count": null,
   "metadata": {
    "colab": {
     "base_uri": "https://localhost:8080/"
    },
    "id": "dx33xpA0qgni",
    "outputId": "7772ac6e-d6d2-4950-d58d-73ff4ad671df"
   },
   "outputs": [
    {
     "data": {
      "text/plain": [
       "(103, 3000)"
      ]
     },
     "execution_count": 20,
     "metadata": {
      "tags": []
     },
     "output_type": "execute_result"
    }
   ],
   "source": [
    "#Instantiate and fit tfidfvectorizer\n",
    "\n",
    "vectorizer = TfidfVectorizer(stop_words='english', max_features= 3000)\n",
    "\n",
    "X = vectorizer.fit_transform(df['text_full'])"
   ]
  },
  {
   "cell_type": "markdown",
   "metadata": {
    "id": "bGPA3aK2qgnj"
   },
   "source": [
    "#### Using TruncastedSVD "
   ]
  },
  {
   "cell_type": "code",
   "execution_count": null,
   "metadata": {
    "colab": {
     "base_uri": "https://localhost:8080/"
    },
    "id": "JMpYDFXYqgnj",
    "outputId": "b0b4e194-58b4-4386-e75c-6d29b0764148"
   },
   "outputs": [
    {
     "data": {
      "text/plain": [
       "20"
      ]
     },
     "execution_count": 21,
     "metadata": {
      "tags": []
     },
     "output_type": "execute_result"
    }
   ],
   "source": [
    "# Base code developed from the following blog, modified to fit requirements here. - https://www.analyticsvidhya.com/blog/2018/10/stepwise-guide-topic-modeling-latent-semantic-analysis/\n",
    "\n",
    "#Instantiating and fitting model\n",
    "svd_model = TruncatedSVD(n_components=20, algorithm='randomized', \n",
    "                         n_iter=100, random_state=42)\n",
    "\n",
    "svd_model.fit(X)\n",
    "\n",
    "#Topic retrieval \n",
    "len(svd_model.components_)"
   ]
  },
  {
   "cell_type": "code",
   "execution_count": null,
   "metadata": {
    "colab": {
     "base_uri": "https://localhost:8080/"
    },
    "collapsed": true,
    "id": "bAB-J3NWqgnk",
    "jupyter": {
     "outputs_hidden": true
    },
    "outputId": "3786300b-fced-4828-d76f-f7b66425fc52"
   },
   "outputs": [
    {
     "name": "stdout",
     "output_type": "stream",
     "text": [
      "Topic 0: \n",
      "pleasure\n",
      " \n",
      "self\n",
      " \n",
      "feeling\n",
      " \n",
      "view\n",
      " \n",
      "consciousness\n",
      " \n",
      "gotama\n",
      " \n",
      "qualities\n",
      " \n",
      "Topic 1: \n",
      "inconstant\n",
      " \n",
      "consciousness\n",
      " \n",
      "self\n",
      " \n",
      "contact\n",
      " \n",
      "feeling\n",
      " \n",
      "property\n",
      " \n",
      "clinging\n",
      " \n",
      "Topic 2: \n",
      "introduction\n",
      " \n",
      "discourse\n",
      " \n",
      "papañca\n",
      " \n",
      "simile\n",
      " \n",
      "clinging\n",
      " \n",
      "leading\n",
      " \n",
      "similes\n",
      " \n",
      "Topic 3: \n",
      "inconstant\n",
      " \n",
      "gotama\n",
      " \n",
      "master\n",
      " \n",
      "view\n",
      " \n",
      "self\n",
      " \n",
      "stressful\n",
      " \n",
      "constant\n",
      " \n",
      "Topic 4: \n",
      "heartwood\n",
      " \n",
      "property\n",
      " \n",
      "introduction\n",
      " \n",
      "inconstant\n",
      " \n",
      "consummation\n",
      " \n",
      "gotama\n",
      " \n",
      "breathe\n",
      " \n",
      "Topic 5: \n",
      "heartwood\n",
      " \n",
      "consummation\n",
      " \n",
      "fame\n",
      " \n",
      "offerings\n",
      " \n",
      "gain\n",
      " \n",
      "knowledge\n",
      " \n",
      "vision\n",
      " \n",
      "Topic 6: \n",
      "heartwood\n",
      " \n",
      "consummation\n",
      " \n",
      "view\n",
      " \n",
      "breathe\n",
      " \n",
      "property\n",
      " \n",
      "resolve\n",
      " \n",
      "knowledge\n",
      " \n",
      "Topic 7: \n",
      "integrity\n",
      " \n",
      "person\n",
      " \n",
      "view\n",
      " \n",
      "dimension\n",
      " \n",
      "perception\n",
      " \n",
      "quality\n",
      " \n",
      "wrong\n",
      " \n",
      "Topic 8: \n",
      "sensuality\n",
      " \n",
      "drawback\n",
      " \n",
      "inconstant\n",
      " \n",
      "reason\n",
      " \n",
      "source\n",
      " \n",
      "stress\n",
      " \n",
      "action\n",
      " \n",
      "Topic 9: \n",
      "inconstant\n",
      " \n",
      "stressful\n",
      " \n",
      "subject\n",
      " \n",
      "change\n",
      " \n",
      "constant\n",
      " \n",
      "ven\n",
      " \n",
      "venerable\n",
      " \n",
      "Topic 10: \n",
      "integrity\n",
      " \n",
      "inconstant\n",
      " \n",
      "person\n",
      " \n",
      "quality\n",
      " \n",
      "sensuality\n",
      " \n",
      "stressful\n",
      " \n",
      "breathe\n",
      " \n",
      "Topic 11: \n",
      "pleasure\n",
      " \n",
      "torturing\n",
      " \n",
      "torments\n",
      " \n",
      "devoted\n",
      " \n",
      "conduct\n",
      " \n",
      "abstains\n",
      " \n",
      "brahmans\n",
      " \n",
      "Topic 12: \n",
      "integrity\n",
      " \n",
      "person\n",
      " \n",
      "knowledge\n",
      " \n",
      "direct\n",
      " \n",
      "friend\n",
      " \n",
      "quality\n",
      " \n",
      "feeling\n",
      " \n",
      "Topic 13: \n",
      "doesnt\n",
      " \n",
      "clinging\n",
      " \n",
      "consciousness\n",
      " \n",
      "step\n",
      " \n",
      "contact\n",
      " \n",
      "dependent\n",
      " \n",
      "elephant\n",
      " \n",
      "Topic 14: \n",
      "direct\n",
      " \n",
      "knowledge\n",
      " \n",
      "based\n",
      " \n",
      "integrity\n",
      " \n",
      "exists\n",
      " \n",
      "exist\n",
      " \n",
      "tathāgata\n",
      " \n",
      "Topic 15: \n",
      "doesnt\n",
      " \n",
      "earth\n",
      " \n",
      "unbinding\n",
      " \n",
      "wish\n",
      " \n",
      "knowledge\n",
      " \n",
      "brahmā\n",
      " \n",
      "direct\n",
      " \n",
      "Topic 16: \n",
      "affliction\n",
      " \n",
      "action\n",
      " \n",
      "contact\n",
      " \n",
      "dependent\n",
      " \n",
      "imbued\n",
      " \n",
      "reflection\n",
      " \n",
      "intellect\n",
      " \n",
      "Topic 17: \n",
      "abandoned\n",
      " \n",
      "view\n",
      " \n",
      "effluents\n",
      " \n",
      "merely\n",
      " \n",
      "householder\n",
      " \n",
      "likewise\n",
      " \n",
      "imbued\n",
      " \n",
      "Topic 18: \n",
      "brahmā\n",
      " \n",
      "brahmans\n",
      " \n",
      "imbued\n",
      " \n",
      "contemplative\n",
      " \n",
      "abandoned\n",
      " \n",
      "baka\n",
      " \n",
      "escape\n",
      " \n",
      "Topic 19: \n",
      "wish\n",
      " \n",
      "property\n",
      " \n",
      "view\n",
      " \n",
      "consummate\n",
      " \n",
      "contemplative\n",
      " \n",
      "wilderness\n",
      " \n",
      "sense\n",
      " \n"
     ]
    }
   ],
   "source": [
    "## Print out the relevant topics\n",
    "\n",
    "terms = vectorizer.get_feature_names()\n",
    "\n",
    "for i, comp in enumerate(svd_model.components_):\n",
    "    terms_comp = zip(terms, comp)\n",
    "    sorted_terms = sorted(terms_comp, key= lambda x:x[1], reverse=True)[:7]\n",
    "    print(\"Topic \"+str(i)+\": \")\n",
    "    for t in sorted_terms:\n",
    "        print(t[0])\n",
    "        print(\" \")"
   ]
  },
  {
   "cell_type": "markdown",
   "metadata": {
    "id": "VXu_T-Isqgnn"
   },
   "source": [
    "## (M1.2) Topic Analysis with LDA"
   ]
  },
  {
   "cell_type": "markdown",
   "metadata": {
    "id": "NYYSoPI3qgnn"
   },
   "source": [
    "This blog was extremely helpful for this section. Code and troubleshooting from here: https://highdemandskills.com/topic-modeling-lda/."
   ]
  },
  {
   "cell_type": "markdown",
   "metadata": {},
   "source": [
    "### (M1.2.1) With Bag of Words"
   ]
  },
  {
   "cell_type": "code",
   "execution_count": null,
   "metadata": {
    "id": "iMSiuhqfqgno"
   },
   "outputs": [],
   "source": [
    "#Creating dictionary and bag of words manipulated corpus. Help and base code from: https://github.com/RaRe-Technologies/gensim/issues/2644\n",
    "ID2word = corpora.Dictionary(df['text_no_stop'])\n",
    "texts = df['text_no_stop']\n",
    "corpus = [ID2word.doc2bow(sutta) for sutta in texts]"
   ]
  },
  {
   "cell_type": "code",
   "execution_count": null,
   "metadata": {
    "id": "qA72iD-Qqgnv"
   },
   "outputs": [],
   "source": [
    "# Train LDA model on the corpus generated above\n",
    "lda_model = gensim.models.LdaMulticore(corpus=corpus, num_topics=5, id2word=ID2word, passes=100)\n",
    "\n",
    "# View topics from the lda model\n",
    "pprint(lda_model.print_topics(num_words=5))"
   ]
  },
  {
   "cell_type": "code",
   "execution_count": null,
   "metadata": {
    "colab": {
     "base_uri": "https://localhost:8080/"
    },
    "id": "rBU6qTDqqgnv",
    "outputId": "b9370118-cc18-45bf-92c0-af376d5e0d9d"
   },
   "outputs": [
    {
     "name": "stdout",
     "output_type": "stream",
     "text": [
      "[(0, '0.023*\"one\" + 0.012*\"blessed\" + 0.011*\"monks\" + 0.008*\"person\"'),\n",
      " (1, '0.019*\"right\" + 0.013*\"one\" + 0.011*\"stress\" + 0.010*\"pleasure\"'),\n",
      " (2, '0.014*\"one\" + 0.011*\"mind\" + 0.010*\"body\" + 0.007*\"monk\"'),\n",
      " (3, '0.017*\"one\" + 0.009*\"come\" + 0.008*\"dhamma\" + 0.008*\"clinging\"'),\n",
      " (4, '0.021*\"one\" + 0.013*\"self\" + 0.013*\"feeling\" + 0.012*\"blessed\"')]\n",
      "--------------------------------------------------\n",
      "\n",
      "Coherence Score: 0.30941882568080414\n",
      "--------------------------------------------------\n"
     ]
    }
   ],
   "source": [
    "#Use the coherence score to evaluate the effectiveness of the model.\n",
    "coherence_model_lda = gensim.models.CoherenceModel(model=lda_model, texts=df['text_no_stop'], dictionary=ID2word, coherence='c_v')\n",
    "\n",
    "#Print Coherence\n",
    "coherence_lda = coherence_model_lda.get_coherence()\n",
    "print('-'*50)\n",
    "print('\\nCoherence Score:', coherence_lda)\n",
    "print('-'*50)"
   ]
  },
  {
   "cell_type": "markdown",
   "metadata": {
    "id": "2Y0daN_fzUin"
   },
   "source": [
    "### (M1.2.2) Applying TFIDF"
   ]
  },
  {
   "cell_type": "code",
   "execution_count": null,
   "metadata": {
    "id": "3WmYg4ihzGDx"
   },
   "outputs": [],
   "source": [
    "## Use TFIDF in conjunction with the text \n",
    "corpus = [ID2word.doc2bow(sutta) for sutta in texts]\n",
    "TFIDF = models.TfidfModel(corpus)\n",
    "text_tfidf = TFIDF[corpus]\n",
    "\n",
    "## Train LDA model on new TFIDF corpus\n",
    "lda_modeltf = gensim.models.LdaMulticore(corpus=text_tfidf, num_topics=5, id2word=ID2word, passes=100)\n",
    "\n",
    "## Print topics from new model\n",
    "pprint(lda_modeltf.print_topics(num_words=5))"
   ]
  },
  {
   "cell_type": "code",
   "execution_count": null,
   "metadata": {
    "id": "w11jp05PzftJ"
   },
   "outputs": [],
   "source": [
    "# Set up coherence model\n",
    "coherence_model_lda = gensim.models.CoherenceModel(model=lda_modeltf, texts=df_mn2['text_no_stop'], dictionary=ID2word, coherence='c_v')\n",
    "\n",
    "# Print coherence\n",
    "coherence_lda = coherence_model_lda.get_coherence()\n",
    "print('-'*50)\n",
    "print('\\nCoherence Score:', coherence_lda)\n",
    "print('-'*50)"
   ]
  },
  {
   "cell_type": "markdown",
   "metadata": {
    "id": "B1h9sU8KuPwQ"
   },
   "source": [
    "# Modeling Step 2 (M2): Clustering"
   ]
  },
  {
   "cell_type": "markdown",
   "metadata": {
    "id": "7Q7CezG4uPwd"
   },
   "source": [
    "## K-Means and TFIDF"
   ]
  },
  {
   "cell_type": "code",
   "execution_count": null,
   "metadata": {
    "id": "mCtMGTaYuPwd"
   },
   "outputs": [],
   "source": [
    "## https://github.com/harrywang/document_clustering/blob/master/doc_clustering.ipynb"
   ]
  },
  {
   "cell_type": "code",
   "execution_count": null,
   "metadata": {
    "id": "cqLSniE7uPwe"
   },
   "outputs": [],
   "source": [
    "from nltk.stem.snowball import SnowballStemmer \n",
    "# load nltk's English stopwords as variable called 'stopwords'\n",
    "# use nltk.download() to install the corpus first\n",
    "# Stop Words are words which do not contain important significance to be used in Search Queries\n",
    "stopwords = nltk.corpus.stopwords.words('english')\n",
    "\n",
    "# load nltk's SnowballStemmer as variabled 'stemmer'\n",
    "stemmer = SnowballStemmer(\"english\")"
   ]
  },
  {
   "cell_type": "code",
   "execution_count": null,
   "metadata": {
    "id": "GSwvBF6-uPwe"
   },
   "outputs": [],
   "source": [
    "sents = [sent for sent in nltk.sent_tokenize(\"Today (May 19, 2016) is his only daughter's wedding. Vito Corleone is the Godfather. Vito's youngest son, Michael, in a Marine Corps uniform, introduces his girlfriend, Kay Adams, to his family at the sprawling reception.\")]"
   ]
  },
  {
   "cell_type": "code",
   "execution_count": null,
   "metadata": {
    "id": "hkmpyppLuPwf"
   },
   "outputs": [],
   "source": [
    "words = [word for word in nltk.word_tokenize(sents[0])]\n",
    "words"
   ]
  },
  {
   "cell_type": "code",
   "execution_count": null,
   "metadata": {
    "id": "DJDTpJltuPwf"
   },
   "outputs": [],
   "source": [
    "filtered_words = []\n",
    "for word in words:\n",
    "        if re.search('[a-zA-Z]', word):\n",
    "            filtered_words.append(word)\n",
    "filtered_words"
   ]
  },
  {
   "cell_type": "code",
   "execution_count": null,
   "metadata": {
    "id": "wMpjRzGcuPwf"
   },
   "outputs": [],
   "source": [
    "# see how \"only\" is stemmed to \"onli\" and \"wedding\" is stemmed to \"wed\"\n",
    "stems = [stemmer.stem(t) for t in filtered_words]\n",
    "stems"
   ]
  },
  {
   "cell_type": "code",
   "execution_count": null,
   "metadata": {
    "id": "E5iaqLiSuPwf"
   },
   "outputs": [],
   "source": [
    "# here I define a tokenizer and stemmer which returns the set of stems in the text that it is passed\n",
    "# Punkt Sentence Tokenizer, sent means sentence \n",
    "def tokenize_and_stem(text):\n",
    "    # first tokenize by sentence, then by word to ensure that punctuation is caught as it's own token\n",
    "    tokens = [word for sent in nltk.sent_tokenize(text) for word in nltk.word_tokenize(sent)]\n",
    "    filtered_tokens = []\n",
    "    # filter out any tokens not containing letters (e.g., numeric tokens, raw punctuation)\n",
    "    for token in tokens:\n",
    "        if re.search('[a-zA-Z]', token):\n",
    "            filtered_tokens.append(token)\n",
    "    stems = [stemmer.stem(t) for t in filtered_tokens]\n",
    "    return stems"
   ]
  },
  {
   "cell_type": "code",
   "execution_count": null,
   "metadata": {
    "id": "bXIYj-0cuPwf"
   },
   "outputs": [],
   "source": [
    "def tokenize_only(text):\n",
    "    # first tokenize by sentence, then by word to ensure that punctuation is caught as it's own token\n",
    "    tokens = [word.lower() for sent in nltk.sent_tokenize(text) for word in nltk.word_tokenize(sent)]\n",
    "    filtered_tokens = []\n",
    "    # filter out any tokens not containing letters (e.g., numeric tokens, raw punctuation)\n",
    "    for token in tokens:\n",
    "        if re.search('[a-zA-Z]', token):\n",
    "            filtered_tokens.append(token)\n",
    "    return filtered_tokens"
   ]
  },
  {
   "cell_type": "code",
   "execution_count": null,
   "metadata": {
    "id": "KskhIf8tuPwg"
   },
   "outputs": [],
   "source": [
    "words_stemmed = tokenize_and_stem(\"Wilderness\")\n",
    "print(words_stemmed)"
   ]
  },
  {
   "cell_type": "code",
   "execution_count": null,
   "metadata": {
    "id": "swrIMOpNuPwg"
   },
   "outputs": [],
   "source": [
    "\n",
    "words_only = tokenize_only(\"Today (May 19, 2016) is his only daughter's wedding.\")\n",
    "words_only"
   ]
  },
  {
   "cell_type": "code",
   "execution_count": null,
   "metadata": {
    "id": "P9BhixwmuPwg"
   },
   "outputs": [],
   "source": [
    "text_full = []\n",
    "for i in df_mn2['text_full']:\n",
    "  text_full.append(i)"
   ]
  },
  {
   "cell_type": "code",
   "execution_count": null,
   "metadata": {
    "id": "ymLhvOf5uPwg"
   },
   "outputs": [],
   "source": [
    "totalvocab_stemmed = []\n",
    "totalvocab_tokenized = []\n",
    "for i in text_full:\n",
    "    allwords_stemmed = tokenize_and_stem(i) # for each item in 'synopses', tokenize/stem\n",
    "    totalvocab_stemmed.extend(allwords_stemmed) # extend the 'totalvocab_stemmed' list\n",
    "    \n",
    "    allwords_tokenized = tokenize_only(i)\n",
    "    totalvocab_tokenized.extend(allwords_tokenized)"
   ]
  },
  {
   "cell_type": "code",
   "execution_count": null,
   "metadata": {
    "id": "_RgDgYCWuPwh"
   },
   "outputs": [],
   "source": [
    "\n",
    "print(len(totalvocab_stemmed))\n",
    "print(len(totalvocab_tokenized))"
   ]
  },
  {
   "cell_type": "code",
   "execution_count": null,
   "metadata": {
    "id": "iGz60XNxuPwh"
   },
   "outputs": [],
   "source": [
    "\n",
    "vocab_frame = pd.DataFrame({'words': totalvocab_tokenized})\n",
    "print('there are ' + str(vocab_frame.shape[0]) + ' items in vocab_frame')\n",
    "print(vocab_frame.head())"
   ]
  },
  {
   "cell_type": "code",
   "execution_count": null,
   "metadata": {
    "id": "caBTitb3uPwh"
   },
   "outputs": [],
   "source": [
    "words_frame = pd.DataFrame({'WORD': words_only}, index = words_stemmed)\n",
    "print('there are ' + str(words_frame.shape[0]) + ' items in words_frame')\n",
    "print(words_frame)"
   ]
  },
  {
   "cell_type": "code",
   "execution_count": null,
   "metadata": {
    "id": "8Bci68NTuPwh"
   },
   "outputs": [],
   "source": [
    "from sklearn.feature_extraction.text import TfidfVectorizer\n",
    "\n",
    "#define vectorizer parameters\n",
    "tfidf_vectorizer = TfidfVectorizer(max_df=0.8, max_features=20000,\n",
    "                                 min_df=0.2, stop_words='english',\n",
    "                                 use_idf=True, ngram_range=(1,3))\n",
    "\n",
    "%time tfidf_matrix = tfidf_vectorizer.fit_transform(df_mn2['text_full']) #fit the vectorizer to synopses\n",
    "\n",
    "# (100, 563) means the matrix has 100 rows and 563 columns\n",
    "print(tfidf_matrix.shape)\n",
    "terms = tfidf_vectorizer.get_feature_names()\n",
    "len(terms)"
   ]
  },
  {
   "cell_type": "code",
   "execution_count": null,
   "metadata": {
    "id": "Cg0kW4F0uPwh"
   },
   "outputs": [],
   "source": [
    "terms"
   ]
  },
  {
   "cell_type": "code",
   "execution_count": null,
   "metadata": {
    "id": "Iv_H35NluPwh"
   },
   "outputs": [],
   "source": [
    "from sklearn.cluster import KMeans\n",
    "\n",
    "num_clusters = 5\n",
    "\n",
    "km = KMeans(n_clusters=num_clusters)\n",
    "\n",
    "%time km.fit(tfidf_matrix)\n",
    "\n",
    "clusters = km.labels_.tolist()"
   ]
  },
  {
   "cell_type": "code",
   "execution_count": null,
   "metadata": {
    "id": "_9ZZy7L7uPwh"
   },
   "outputs": [],
   "source": [
    "!pip install joblib"
   ]
  },
  {
   "cell_type": "code",
   "execution_count": null,
   "metadata": {
    "id": "3FbFtYXkuPwi"
   },
   "outputs": [],
   "source": [
    "import joblib\n",
    "\n",
    "joblib.dump(km,  'doc_cluster.pkl')\n",
    "\n",
    "km = joblib.load('doc_cluster.pkl')\n",
    "clusters = km.labels_.tolist()\n",
    "# clusters show which cluster (0-4) each of the 100 synoposes belongs to\n",
    "print(len(clusters))\n",
    "print(clusters)"
   ]
  },
  {
   "cell_type": "code",
   "execution_count": null,
   "metadata": {
    "id": "-Q0rjlJEuPwi"
   },
   "outputs": [],
   "source": [
    "# list_int = clusters\n",
    "    \n",
    "# # mapping \n",
    "# list_string = map(str, list_int) \n",
    "# clusters_s = list(list_string)\n",
    "# # Printing sorted list of integers \n",
    "# print(clusters_s)"
   ]
  },
  {
   "cell_type": "code",
   "execution_count": null,
   "metadata": {
    "id": "ccDs1aAmuPwi"
   },
   "outputs": [],
   "source": [
    "df_mn2['cluster'] = clusters"
   ]
  },
  {
   "cell_type": "code",
   "execution_count": null,
   "metadata": {
    "id": "SuVe-BJVuPwi"
   },
   "outputs": [],
   "source": [
    "df_small = df_mn2[['title', 'cluster']].copy()"
   ]
  },
  {
   "cell_type": "code",
   "execution_count": null,
   "metadata": {
    "id": "A14f5GNguPwi"
   },
   "outputs": [],
   "source": [
    "df_small.head()"
   ]
  },
  {
   "cell_type": "code",
   "execution_count": null,
   "metadata": {
    "id": "5hJ9AOO2uPwi"
   },
   "outputs": [],
   "source": [
    "terms"
   ]
  },
  {
   "cell_type": "code",
   "execution_count": null,
   "metadata": {
    "id": "sIiCk2uFuPwi"
   },
   "outputs": [],
   "source": [
    "order_centroids = km.cluster_centers_.argsort()[:, ::-1] "
   ]
  },
  {
   "cell_type": "code",
   "execution_count": null,
   "metadata": {
    "id": "22HgfS3juPwi"
   },
   "outputs": [],
   "source": [
    "order_centroids"
   ]
  },
  {
   "cell_type": "code",
   "execution_count": null,
   "metadata": {
    "id": "MGdGk3xsuPwj"
   },
   "outputs": [],
   "source": [
    "terms[143]"
   ]
  },
  {
   "cell_type": "code",
   "execution_count": null,
   "metadata": {
    "id": "LZz0ham7uPwj"
   },
   "outputs": [],
   "source": [
    "##https://github.com/harrywang/document_clustering/blob/master/doc_clustering.ipynb\n",
    "from __future__ import print_function\n",
    "\n",
    "print(\"Top terms per cluster:\")\n",
    "\n",
    "#sort cluster centers by proximity to centroid\n",
    "order_centroids = km.cluster_centers_.argsort()[:, ::-1] \n",
    "\n",
    "for i in range(num_clusters):\n",
    "    print(\"Cluster %d words:\" % i, end='')\n",
    "    \n",
    "    for ind in order_centroids[i, :6]: #replace 6 with n words per cluster\n",
    "        print(' %s' % terms[ind].encode('utf-8', 'ignore'), end=',')\n",
    "    print() #add whitespace\n",
    "    print() #add whitespace\n",
    "\n",
    "    \n",
    "    print(\"Cluster %d titles:\" % i, end='')\n",
    "    for title in df_small.loc[df_small['clusters'] == i, 'title']:\n",
    "        print(' %s,' % title, end='')\n",
    "    print() #add whitespace\n",
    "    print() #add whitespace"
   ]
  },
  {
   "cell_type": "code",
   "execution_count": null,
   "metadata": {
    "id": "sWMZPUheuPwj"
   },
   "outputs": [],
   "source": [
    "frames.head(1)"
   ]
  },
  {
   "cell_type": "code",
   "execution_count": null,
   "metadata": {
    "id": "JM1oqGbbuPwj"
   },
   "outputs": [],
   "source": [
    "df_mn2['clusters'] = clusters"
   ]
  },
  {
   "cell_type": "code",
   "execution_count": null,
   "metadata": {
    "id": "g06ssG_RuPwj"
   },
   "outputs": [],
   "source": [
    "df_small = df_mn2[['title', 'clusters']].copy()\n",
    "\n",
    "# frame['cluster'].value_counts() #number of films per cluster (clusters from 0 to 4)"
   ]
  },
  {
   "cell_type": "code",
   "execution_count": null,
   "metadata": {
    "id": "WSyeuxJyuPwj"
   },
   "outputs": [],
   "source": [
    "vocab_frame.head()"
   ]
  },
  {
   "cell_type": "code",
   "execution_count": null,
   "metadata": {
    "id": "XaFMa6VluPwk"
   },
   "outputs": [],
   "source": [
    "order_centroids = km.cluster_centers_.argsort()[:, ::-1] "
   ]
  },
  {
   "cell_type": "code",
   "execution_count": null,
   "metadata": {
    "id": "8DAvFeMGuPwk"
   },
   "outputs": [],
   "source": [
    "order_centroids"
   ]
  },
  {
   "cell_type": "code",
   "execution_count": null,
   "metadata": {
    "id": "vHS7rXZFuPwk"
   },
   "outputs": [],
   "source": [
    "terms[60]"
   ]
  },
  {
   "cell_type": "code",
   "execution_count": null,
   "metadata": {
    "id": "-j3-_aRauPwk"
   },
   "outputs": [],
   "source": [
    "similarity_distance = 1 - cosine_similarity(tfidf_matrix)\n",
    "print(type(similarity_distance))\n",
    "print(similarity_distance.shape)"
   ]
  },
  {
   "cell_type": "markdown",
   "metadata": {
    "id": "k0Zy-0W8DGTa"
   },
   "source": [
    "# New Modeling Approach - Similarities"
   ]
  },
  {
   "cell_type": "code",
   "execution_count": null,
   "metadata": {
    "id": "FeJJ5j7t0uaE"
   },
   "outputs": [],
   "source": [
    "# https://towardsdatascience.com/calculating-document-similarities-using-bert-and-other-models-b2c1a29c9630"
   ]
  },
  {
   "cell_type": "code",
   "execution_count": null,
   "metadata": {
    "id": "DrNtPszVEkA3"
   },
   "outputs": [],
   "source": [
    "df_mn3 = df_mn2[['title', 'ref', 'text_full']].copy()"
   ]
  },
  {
   "cell_type": "code",
   "execution_count": null,
   "metadata": {
    "id": "GzT2BA0nEp5F"
   },
   "outputs": [],
   "source": [
    "df_mn3 = pd.DataFrame(df_mn3)"
   ]
  },
  {
   "cell_type": "code",
   "execution_count": null,
   "metadata": {
    "colab": {
     "base_uri": "https://localhost:8080/",
     "height": 1000
    },
    "id": "HFxxU5WjE6DG",
    "outputId": "3c024d45-95c4-459b-9566-7092f0f0a7f1"
   },
   "outputs": [
    {
     "data": {
      "text/html": [
       "<div>\n",
       "<style scoped>\n",
       "    .dataframe tbody tr th:only-of-type {\n",
       "        vertical-align: middle;\n",
       "    }\n",
       "\n",
       "    .dataframe tbody tr th {\n",
       "        vertical-align: top;\n",
       "    }\n",
       "\n",
       "    .dataframe thead th {\n",
       "        text-align: right;\n",
       "    }\n",
       "</style>\n",
       "<table border=\"1\" class=\"dataframe\">\n",
       "  <thead>\n",
       "    <tr style=\"text-align: right;\">\n",
       "      <th></th>\n",
       "      <th>title</th>\n",
       "      <th>ref</th>\n",
       "      <th>text_full</th>\n",
       "    </tr>\n",
       "  </thead>\n",
       "  <tbody>\n",
       "    <tr>\n",
       "      <th>0</th>\n",
       "      <td>MN 1  Mūlapariyāya Sutta | The Root Sequence</td>\n",
       "      <td>MN 1</td>\n",
       "      <td>\\n          I have heard that on one occasion the Blessed One was staying near Ukkaṭṭhā, in the shade of a royal Sal tree in the Very Blessed Forest. There he addressed the monks, “Monks!”\\n          “Yes, lord,” the monks responded to him.\\n          The Blessed One said, “Monks, I will teach you the sequence of the root of all phenomena [or: the root sequence of all phenomena]. Listen &amp; pay close attention. I will speak.”\\n          “As you say, lord,” they responded to him.\\n          The Blessed One said: “There is the case, monks, where an uninstructed run-of-the-mill person—who has no regard for noble ones, is not well-versed or disciplined in their Dhamma; who has no regard for people of integrity, is not well-versed or disciplined in their Dhamma—perceives earth as earth. Perceiving earth as earth, he supposes (things) about earth, he supposes (things) in earth, he supposes (things) coming out of earth, he supposes earth as ‘mine,’ he delights in earth. Why is that? Because he has not comprehended it, I tell you.\\n          “He perceives water as water… fire as fire… wind as wind1… beings as beings… devas as devas… Pajāpati as Pajāpati… Brahmā as Brahmā… the Radiant devas as Radiant devas… the Beautiful Black devas as Beautiful Black devas… the Sky-fruit devas as Sky-fruit devas… the Conqueror as the Conqueror2… the dimension of the infinitude of space as the dimension of the infinitude of space… the dimension of the infinitude of consciousness as the dimension of the infinitude of consciousness… the dimension of nothingness as the dimension of nothingness… the dimension of neither perception nor non-perception as the dimension of neither perception nor non-perception3… the seen as the seen… the heard as the heard… the sensed as the sensed… the cognized as the cognized4… singleness as singleness… multiplicity as multiplicity5… the All as the All6…\\n          “He perceives unbinding as unbinding.7 Perceiving unbinding as unbinding, he supposes things about unbinding, he supposes things in unbinding, he supposes things coming out of unbinding, he supposes unbinding as ‘mine,’ he delights in unbinding. Why is that? Because he has not comprehended it, I tell you.\\n          The Trainee\\n          “A monk who is a trainee—yearning for the unexcelled relief from bondage, his aspirations as yet unfulfilled—directly knows earth as earth. Directly knowing earth as earth, let him not suppose things about earth, let him not suppose things in earth, let him not suppose things coming out of earth, let him not suppose earth as ‘mine,’ let him not delight in earth. Why is that? So that he may comprehend it, I tell you.\\n          “He directly knows water as water… fire as fire… wind as wind… beings as beings… devas as devas… Pajāpati as Pajāpati… Brahmā as Brahmā… the Radiant devas as Radiant devas… the Beautiful Black devas as Beautiful Black devas… the Sky-fruit devas as Sky-fruit devas… the Conqueror as the Conqueror… the dimension of the infinitude of space as the dimension of the infinitude of space… the dimension of the infinitude of consciousness as the dimension of the infinitude of consciousness… the dimension of nothingness as the dimension of nothingness… the dimension of neither perception nor non-perception as the dimension of neither perception nor non-perception… the seen as the seen… the heard as the heard… the sensed as the sensed… the cognized as the cognized… singleness as singleness… multiplicity as multiplicity… the All as the All…\\n          “He directly knows unbinding as unbinding. Directly knowing unbinding as unbinding, let him not suppose things about unbinding, let him not suppose things in unbinding, let him not suppose things coming out of unbinding, let him not suppose unbinding as ‘mine,’ let him not delight in unbinding. Why is that? So that he may comprehend it, I tell you.\\n          The Arahant\\n          “A monk who is a Worthy One, devoid of effluents—who has attained completion, finished the task, laid down the burden, attained the true goal, destroyed the fetters of becoming, and is released through right knowledge—directly knows earth as earth. Directly knowing earth as earth, he doesn’t suppose things about earth, doesn’t suppose things in earth, doesn’t suppose things coming out of earth, doesn’t suppose earth as ‘mine,’ doesn’t delight in earth. Why is that? Because he has comprehended it, I tell you.\\n          “He directly knows water as water… fire as fire… wind as wind… beings as beings… devas as devas… Pajāpati as Pajāpati… Brahmā as Brahmā… the Radiant devas as Radiant devas… the Beautiful Black devas as Beautiful Black devas… the Sky-fruit devas as Sky-fruit devas… the Conqueror as the Conqueror… the dimension of the infinitude of space as the dimension of the infinitude of space… the dimension of the infinitude of consciousness as the dimension of the infinitude of consciousness… the dimension of nothingness as the dimension of nothingness… the dimension of neither perception nor non-perception as the dimension of neither perception nor non-perception… the seen as the seen… the heard as the heard… the sensed as the sensed… the cognized as the cognized… singleness as singleness… multiplicity as multiplicity… the All as the All…\\n          “He directly knows unbinding as unbinding. Directly knowing unbinding as unbinding, he doesn’t suppose things about unbinding, doesn’t suppose things in unbinding, doesn’t suppose things coming out of unbinding, doesn’t suppose unbinding as ‘mine,’ doesn’t delight in unbinding. Why is that? Because he has comprehended it, I tell you.\\n          “A monk who is a Worthy One, devoid of effluents… directly knows earth as earth. Directly knowing earth as earth, he doesn’t suppose things about earth, doesn’t suppose things in earth, doesn’t suppose things coming out of earth, doesn’t suppose earth as ‘mine,’ doesn’t delight in earth. Why is that? Because, with the ending of passion, he is devoid of passion, I tell you.\\n          “He directly knows water as water… the All as the All…\\n          “He directly knows unbinding as unbinding. Directly knowing unbinding as unbinding, he doesn’t suppose things about unbinding, doesn’t suppose things in unbinding, doesn’t suppose things coming out of unbinding, doesn’t suppose unbinding as ‘mine,’ doesn’t delight in unbinding. Why is that? Because, with the ending of passion, he is devoid of passion, I tell you.\\n          “A monk who is a Worthy One, devoid of effluents… directly knows earth as earth. Directly knowing earth as earth, he doesn’t suppose things about earth, doesn’t suppose things in earth, doesn’t suppose things coming out of earth, doesn’t suppose earth as ‘mine,’ doesn’t delight in earth. Why is that? Because, with the ending of aversion, he is devoid of aversion, I tell you.\\n          “He directly knows water as water… the All as the All…\\n          “He directly knows unbinding as unbinding. Directly knowing unbinding as unbinding, he doesn’t suppose things about unbinding, doesn’t suppose things in unbinding, doesn’t suppose things coming out of unbinding, doesn’t suppose unbinding as ‘mine,’ doesn’t delight in unbinding. Why is that? Because, with the ending of aversion, he is devoid of aversion, I tell you.\\n          “A monk who is a Worthy One, devoid of effluents… directly knows earth as earth. Directly knowing earth as earth, he doesn’t suppose things about earth, doesn’t suppose things in earth, doesn’t suppose things coming out of earth, doesn’t suppose earth as ‘mine,’ doesn’t delight in earth. Why is that? Because, with the ending of delusion, he is devoid of delusion, I tell you.\\n          “He directly knows water as water… the All as the All…\\n          “He directly knows unbinding as unbinding. Directly knowing unbinding as unbinding, he doesn’t suppose things about unbinding, doesn’t suppose things in unbinding, doesn’t suppose things coming out of unbinding, doesn’t suppose unbinding as ‘mine,’ doesn’t delight in unbinding. Why is that? Because, with the ending of delusion, he is devoid of delusion, I tell you.\\n          The Tathāgata\\n          “The Tathāgata—a worthy one, rightly self-awakened—directly knows earth as earth. Directly knowing earth as earth, he doesn’t suppose things about earth, doesn’t suppose things in earth, doesn’t suppose things coming out of earth, doesn’t suppose earth as ‘mine,’ doesn’t delight in earth. Why is that? Because the Tathāgata has comprehended it to the end, I tell you.\\n          “He directly knows water as water… fire as fire… wind as wind… beings as beings… devas as devas… Pajāpati as Pajāpati… Brahmā as Brahmā… the Radiant devas as Radiant devas… the Beautiful Black devas as Beautiful Black devas… the Sky-fruit devas as Sky-fruit devas… the Conqueror as the Conqueror… the dimension of the infinitude of space as the dimension of the infinitude of space… the dimension of the infinitude of consciousness as the dimension of the infinitude of consciousness… the dimension of nothingness as the dimension of nothingness… the dimension of neither perception nor non-perception as the dimension of neither perception nor non-perception… the seen as the seen… the heard as the heard… the sensed as the sensed… the cognized as the cognized… singleness as singleness… multiplicity as multiplicity… the All as the All…\\n          “He directly knows unbinding as unbinding. Directly knowing unbinding as unbinding, he doesn’t suppose things about unbinding, doesn’t suppose things in unbinding, doesn’t suppose things coming out of unbinding, doesn’t suppose unbinding as ‘mine,’ doesn’t delight in unbinding. Why is that? Because the Tathāgata has comprehended it to the end, I tell you.\\n          “The Tathāgata—a worthy one, rightly self-awakened—directly knows earth as earth. Directly knowing earth as earth, he doesn’t suppose things about earth, doesn’t suppose things in earth, doesn’t suppose things coming out of earth, doesn’t suppose earth as ‘mine,’ doesn’t delight in earth. Why is that? Because he has known that delight is the root of suffering &amp; stress, that from coming-into-being there is birth, and that for what has come into being there is aging &amp; death. Therefore, with the total ending, fading away, cessation, letting go, relinquishment of craving, the Tathāgata has totally awakened to the unexcelled right self-awakening, I tell you.\\n          “He directly knows water as water… the All as the All…\\n          “He directly knows unbinding as unbinding. Directly knowing unbinding as unbinding, he doesn’t suppose things about unbinding, doesn’t suppose things in unbinding, doesn’t suppose things coming out of unbinding, doesn’t suppose unbinding as ‘mine,’ doesn’t delight in unbinding. Why is that? Because he has known that delight is the root of suffering &amp; stress, that from coming-into-being there is birth, and that for what has come into being there is aging &amp; death. Therefore, with the total ending, fading away, cessation, letting go, relinquishment of craving, the Tathāgata has totally awakened to the unexcelled right self-awakening, I tell you.”\\n          That is what the Blessed One said. Displeased, the monks did not delight in the Blessed One’s words.</td>\n",
       "    </tr>\n",
       "  </tbody>\n",
       "</table>\n",
       "</div>"
      ],
      "text/plain": [
       "                                          title   ref  \\\n",
       "0  MN 1  Mūlapariyāya Sutta | The Root Sequence  MN 1   \n",
       "\n",
       "                                                                                                                                                                                                                                                                                                                                                                                                                                                                                                                                                                                                                                                                                                                                                                                                                                                                                                                                                                                                                                                                                                                                                                                                                                                                                                                                                                                                                                                                                                                                                                                                                                                                                                                                                                                                                                                                                                                                                                                                                                                                                                                                                                                                                                                                                                                                                                                                                                                                                                                                                                                                                                                                                                                                                                                                                                                                                                                                                                                                                                                                                                                                                                                                                                                                                                                                                                                                                                                                                                                                                                                                                                                                                                                                                                                                                                                                                                                                                                                                                                                                                                                                                                                                                                                                                                                                                                                                                                                                                                                                                                                                                                                                                                                                                                                                                                                                                                                                                                                                                                                                                                                                                                                                                                                                                                                                                                                                                                                                                                                                                                                                                                                                                                                                                                                                                                                                                                                                                                                                                                                                                                                                                                                                                                                                                                                                                                                                                                                                                                                                                                                                                                                                                                                                                                                                                                                                                                                                                                                                                                                                                                                                                                                                                                                                                                                                                                                                                                                                                                                                                                                                                                                                                                                                                                                                                                                                                                                                                                                                                                                                                                                                                                                                                                                                                                                                                                                                                                                                                                                                                                                                                                                                                                                                                                                                                                                                                                                                                                                                                                                                                                                                                                                                                                                                                                                                                                                                                                                                                                                                                                                                                                                                                                                                                                                                                                                                                                                                                                                                                                                                                                                                                                                                                                                                                                                                                                                                                                                                                                                                                                                                                                                                                                                                                                                                                                                                                                                                                                                                                                                                                                                                                                                                                                                                                                                                                                                                                                                                                                                                                                                                                                                                                                              text_full  \n",
       "0  \\n          I have heard that on one occasion the Blessed One was staying near Ukkaṭṭhā, in the shade of a royal Sal tree in the Very Blessed Forest. There he addressed the monks, “Monks!”\\n          “Yes, lord,” the monks responded to him.\\n          The Blessed One said, “Monks, I will teach you the sequence of the root of all phenomena [or: the root sequence of all phenomena]. Listen & pay close attention. I will speak.”\\n          “As you say, lord,” they responded to him.\\n          The Blessed One said: “There is the case, monks, where an uninstructed run-of-the-mill person—who has no regard for noble ones, is not well-versed or disciplined in their Dhamma; who has no regard for people of integrity, is not well-versed or disciplined in their Dhamma—perceives earth as earth. Perceiving earth as earth, he supposes (things) about earth, he supposes (things) in earth, he supposes (things) coming out of earth, he supposes earth as ‘mine,’ he delights in earth. Why is that? Because he has not comprehended it, I tell you.\\n          “He perceives water as water… fire as fire… wind as wind1… beings as beings… devas as devas… Pajāpati as Pajāpati… Brahmā as Brahmā… the Radiant devas as Radiant devas… the Beautiful Black devas as Beautiful Black devas… the Sky-fruit devas as Sky-fruit devas… the Conqueror as the Conqueror2… the dimension of the infinitude of space as the dimension of the infinitude of space… the dimension of the infinitude of consciousness as the dimension of the infinitude of consciousness… the dimension of nothingness as the dimension of nothingness… the dimension of neither perception nor non-perception as the dimension of neither perception nor non-perception3… the seen as the seen… the heard as the heard… the sensed as the sensed… the cognized as the cognized4… singleness as singleness… multiplicity as multiplicity5… the All as the All6…\\n          “He perceives unbinding as unbinding.7 Perceiving unbinding as unbinding, he supposes things about unbinding, he supposes things in unbinding, he supposes things coming out of unbinding, he supposes unbinding as ‘mine,’ he delights in unbinding. Why is that? Because he has not comprehended it, I tell you.\\n          The Trainee\\n          “A monk who is a trainee—yearning for the unexcelled relief from bondage, his aspirations as yet unfulfilled—directly knows earth as earth. Directly knowing earth as earth, let him not suppose things about earth, let him not suppose things in earth, let him not suppose things coming out of earth, let him not suppose earth as ‘mine,’ let him not delight in earth. Why is that? So that he may comprehend it, I tell you.\\n          “He directly knows water as water… fire as fire… wind as wind… beings as beings… devas as devas… Pajāpati as Pajāpati… Brahmā as Brahmā… the Radiant devas as Radiant devas… the Beautiful Black devas as Beautiful Black devas… the Sky-fruit devas as Sky-fruit devas… the Conqueror as the Conqueror… the dimension of the infinitude of space as the dimension of the infinitude of space… the dimension of the infinitude of consciousness as the dimension of the infinitude of consciousness… the dimension of nothingness as the dimension of nothingness… the dimension of neither perception nor non-perception as the dimension of neither perception nor non-perception… the seen as the seen… the heard as the heard… the sensed as the sensed… the cognized as the cognized… singleness as singleness… multiplicity as multiplicity… the All as the All…\\n          “He directly knows unbinding as unbinding. Directly knowing unbinding as unbinding, let him not suppose things about unbinding, let him not suppose things in unbinding, let him not suppose things coming out of unbinding, let him not suppose unbinding as ‘mine,’ let him not delight in unbinding. Why is that? So that he may comprehend it, I tell you.\\n          The Arahant\\n          “A monk who is a Worthy One, devoid of effluents—who has attained completion, finished the task, laid down the burden, attained the true goal, destroyed the fetters of becoming, and is released through right knowledge—directly knows earth as earth. Directly knowing earth as earth, he doesn’t suppose things about earth, doesn’t suppose things in earth, doesn’t suppose things coming out of earth, doesn’t suppose earth as ‘mine,’ doesn’t delight in earth. Why is that? Because he has comprehended it, I tell you.\\n          “He directly knows water as water… fire as fire… wind as wind… beings as beings… devas as devas… Pajāpati as Pajāpati… Brahmā as Brahmā… the Radiant devas as Radiant devas… the Beautiful Black devas as Beautiful Black devas… the Sky-fruit devas as Sky-fruit devas… the Conqueror as the Conqueror… the dimension of the infinitude of space as the dimension of the infinitude of space… the dimension of the infinitude of consciousness as the dimension of the infinitude of consciousness… the dimension of nothingness as the dimension of nothingness… the dimension of neither perception nor non-perception as the dimension of neither perception nor non-perception… the seen as the seen… the heard as the heard… the sensed as the sensed… the cognized as the cognized… singleness as singleness… multiplicity as multiplicity… the All as the All…\\n          “He directly knows unbinding as unbinding. Directly knowing unbinding as unbinding, he doesn’t suppose things about unbinding, doesn’t suppose things in unbinding, doesn’t suppose things coming out of unbinding, doesn’t suppose unbinding as ‘mine,’ doesn’t delight in unbinding. Why is that? Because he has comprehended it, I tell you.\\n          “A monk who is a Worthy One, devoid of effluents… directly knows earth as earth. Directly knowing earth as earth, he doesn’t suppose things about earth, doesn’t suppose things in earth, doesn’t suppose things coming out of earth, doesn’t suppose earth as ‘mine,’ doesn’t delight in earth. Why is that? Because, with the ending of passion, he is devoid of passion, I tell you.\\n          “He directly knows water as water… the All as the All…\\n          “He directly knows unbinding as unbinding. Directly knowing unbinding as unbinding, he doesn’t suppose things about unbinding, doesn’t suppose things in unbinding, doesn’t suppose things coming out of unbinding, doesn’t suppose unbinding as ‘mine,’ doesn’t delight in unbinding. Why is that? Because, with the ending of passion, he is devoid of passion, I tell you.\\n          “A monk who is a Worthy One, devoid of effluents… directly knows earth as earth. Directly knowing earth as earth, he doesn’t suppose things about earth, doesn’t suppose things in earth, doesn’t suppose things coming out of earth, doesn’t suppose earth as ‘mine,’ doesn’t delight in earth. Why is that? Because, with the ending of aversion, he is devoid of aversion, I tell you.\\n          “He directly knows water as water… the All as the All…\\n          “He directly knows unbinding as unbinding. Directly knowing unbinding as unbinding, he doesn’t suppose things about unbinding, doesn’t suppose things in unbinding, doesn’t suppose things coming out of unbinding, doesn’t suppose unbinding as ‘mine,’ doesn’t delight in unbinding. Why is that? Because, with the ending of aversion, he is devoid of aversion, I tell you.\\n          “A monk who is a Worthy One, devoid of effluents… directly knows earth as earth. Directly knowing earth as earth, he doesn’t suppose things about earth, doesn’t suppose things in earth, doesn’t suppose things coming out of earth, doesn’t suppose earth as ‘mine,’ doesn’t delight in earth. Why is that? Because, with the ending of delusion, he is devoid of delusion, I tell you.\\n          “He directly knows water as water… the All as the All…\\n          “He directly knows unbinding as unbinding. Directly knowing unbinding as unbinding, he doesn’t suppose things about unbinding, doesn’t suppose things in unbinding, doesn’t suppose things coming out of unbinding, doesn’t suppose unbinding as ‘mine,’ doesn’t delight in unbinding. Why is that? Because, with the ending of delusion, he is devoid of delusion, I tell you.\\n          The Tathāgata\\n          “The Tathāgata—a worthy one, rightly self-awakened—directly knows earth as earth. Directly knowing earth as earth, he doesn’t suppose things about earth, doesn’t suppose things in earth, doesn’t suppose things coming out of earth, doesn’t suppose earth as ‘mine,’ doesn’t delight in earth. Why is that? Because the Tathāgata has comprehended it to the end, I tell you.\\n          “He directly knows water as water… fire as fire… wind as wind… beings as beings… devas as devas… Pajāpati as Pajāpati… Brahmā as Brahmā… the Radiant devas as Radiant devas… the Beautiful Black devas as Beautiful Black devas… the Sky-fruit devas as Sky-fruit devas… the Conqueror as the Conqueror… the dimension of the infinitude of space as the dimension of the infinitude of space… the dimension of the infinitude of consciousness as the dimension of the infinitude of consciousness… the dimension of nothingness as the dimension of nothingness… the dimension of neither perception nor non-perception as the dimension of neither perception nor non-perception… the seen as the seen… the heard as the heard… the sensed as the sensed… the cognized as the cognized… singleness as singleness… multiplicity as multiplicity… the All as the All…\\n          “He directly knows unbinding as unbinding. Directly knowing unbinding as unbinding, he doesn’t suppose things about unbinding, doesn’t suppose things in unbinding, doesn’t suppose things coming out of unbinding, doesn’t suppose unbinding as ‘mine,’ doesn’t delight in unbinding. Why is that? Because the Tathāgata has comprehended it to the end, I tell you.\\n          “The Tathāgata—a worthy one, rightly self-awakened—directly knows earth as earth. Directly knowing earth as earth, he doesn’t suppose things about earth, doesn’t suppose things in earth, doesn’t suppose things coming out of earth, doesn’t suppose earth as ‘mine,’ doesn’t delight in earth. Why is that? Because he has known that delight is the root of suffering & stress, that from coming-into-being there is birth, and that for what has come into being there is aging & death. Therefore, with the total ending, fading away, cessation, letting go, relinquishment of craving, the Tathāgata has totally awakened to the unexcelled right self-awakening, I tell you.\\n          “He directly knows water as water… the All as the All…\\n          “He directly knows unbinding as unbinding. Directly knowing unbinding as unbinding, he doesn’t suppose things about unbinding, doesn’t suppose things in unbinding, doesn’t suppose things coming out of unbinding, doesn’t suppose unbinding as ‘mine,’ doesn’t delight in unbinding. Why is that? Because he has known that delight is the root of suffering & stress, that from coming-into-being there is birth, and that for what has come into being there is aging & death. Therefore, with the total ending, fading away, cessation, letting go, relinquishment of craving, the Tathāgata has totally awakened to the unexcelled right self-awakening, I tell you.”\\n          That is what the Blessed One said. Displeased, the monks did not delight in the Blessed One’s words.  "
      ]
     },
     "execution_count": 8,
     "metadata": {
      "tags": []
     },
     "output_type": "execute_result"
    }
   ],
   "source": [
    "df_mn3.head(1)"
   ]
  },
  {
   "cell_type": "markdown",
   "metadata": {
    "id": "W07efTcarUGe"
   },
   "source": [
    "### With TFIDF"
   ]
  },
  {
   "cell_type": "code",
   "execution_count": null,
   "metadata": {
    "id": "OoVRMhiJDXja"
   },
   "outputs": [],
   "source": [
    "# https://www.analyticsvidhya.com/blog/2018/10/stepwise-guide-topic-modeling-latent-semantic-analysis/\n",
    "from sklearn.feature_extraction.text import TfidfVectorizer\n",
    "\n",
    "vectorizer = TfidfVectorizer(stop_words='english', \n",
    "max_features= 20000, # keep top 1000 terms \n",
    "max_df = 0.5, \n",
    "smooth_idf=True)\n",
    "\n",
    "X = vectorizer.fit_transform(df_mn3['text_full'])\n"
   ]
  },
  {
   "cell_type": "code",
   "execution_count": null,
   "metadata": {
    "id": "r6cskPyCE5Gu"
   },
   "outputs": [],
   "source": [
    "from sklearn.metrics.pairwise import cosine_similarity\n",
    "from sklearn.metrics.pairwise import euclidean_distances"
   ]
  },
  {
   "cell_type": "code",
   "execution_count": null,
   "metadata": {
    "id": "wHkDpQbvDdeX"
   },
   "outputs": [],
   "source": [
    "pairwise_similarities=np.dot(X,X.T).toarray()\n",
    "pairwise_differences=euclidean_distances(X)"
   ]
  },
  {
   "cell_type": "code",
   "execution_count": null,
   "metadata": {
    "colab": {
     "base_uri": "https://localhost:8080/"
    },
    "id": "Mo8BnMyUFfQ6",
    "outputId": "e0b36cdd-e40f-468a-f339-79e12308e252"
   },
   "outputs": [
    {
     "name": "stdout",
     "output_type": "stream",
     "text": [
      "Document: MN 9  Sammādiṭṭhi Sutta | Right View\n",
      "\n",
      "\n",
      "Similar Documents:\n",
      "\n",
      "\n",
      "Title: MN 78  Samaṇa-Muṇḍika Sutta | Muṇḍika the Contemplative\n",
      "Ref: MN 78\n",
      "Cosine Similarity : 0.15916825584708316\n",
      "\n",
      "\n",
      "Title: MN 61  Ambalaṭṭhikā Rāhulovāda Sutta | The Exhortation to Rāhula at Mango Stone\n",
      "Ref: MN 61\n",
      "Cosine Similarity : 0.14168510166959863\n",
      "\n",
      "\n",
      "Title: MN 60  Apaṇṇaka Sutta | A Safe Bet\n",
      "Ref: MN 60\n",
      "Cosine Similarity : 0.11604174206793118\n",
      "Document: MN 9  Sammādiṭṭhi Sutta | Right View\n",
      "\n",
      "\n",
      "Similar Documents:\n",
      "\n",
      "\n",
      "Title: MN 78  Samaṇa-Muṇḍika Sutta | Muṇḍika the Contemplative\n",
      "Ref: MN 78\n",
      "Euclidean Distance : 1.296789685456294\n",
      "\n",
      "\n",
      "Title: MN 61  Ambalaṭṭhikā Rāhulovāda Sutta | The Exhortation to Rāhula at Mango Stone\n",
      "Ref: MN 61\n",
      "Euclidean Distance : 1.3102021968615392\n",
      "\n",
      "\n",
      "Title: MN 60  Apaṇṇaka Sutta | A Safe Bet\n",
      "Ref: MN 60\n",
      "Euclidean Distance : 1.329630217716241\n"
     ]
    }
   ],
   "source": [
    "def most_similar(doc_id,similarity_matrix,matrix,number):\n",
    "    print (f'Document: {df_mn3.iloc[doc_id][\"title\"]}')\n",
    "    print ('\\n')\n",
    "    print ('Similar Documents:')\n",
    "    if matrix=='Cosine Similarity':\n",
    "        similar_ix=np.argsort(similarity_matrix[doc_id])[::-1][:int(number) -1]\n",
    "    elif matrix=='Euclidean Distance':\n",
    "        similar_ix=np.argsort(similarity_matrix[doc_id])[:int(number) -1]\n",
    "    for ix in similar_ix:\n",
    "        if ix==doc_id:\n",
    "            continue\n",
    "        print('\\n')\n",
    "        print (f'Title: {df_mn3.iloc[ix][\"title\"]}')\n",
    "        print (f'Ref: {df_mn3.iloc[ix][\"ref\"]}')\n",
    "        print (f'{matrix} : {similarity_matrix[doc_id][ix]}')\n",
    "\n",
    "most_similar(6,pairwise_similarities,'Cosine Similarity', 5)\n",
    "most_similar(6,pairwise_differences,'Euclidean Distance', 5)          "
   ]
  },
  {
   "cell_type": "code",
   "execution_count": null,
   "metadata": {
    "colab": {
     "base_uri": "https://localhost:8080/"
    },
    "id": "zr1GpWNbF7YL",
    "outputId": "2d916f98-e6ed-48b5-ce82-8c08dc8c91c7"
   },
   "outputs": [
    {
     "name": "stdout",
     "output_type": "stream",
     "text": [
      "[[0. 0. 0. ... 0. 0. 0.]]\n",
      "(103, 103)\n",
      "[1.         0.38311196 0.30988342 0.2891808  0.39565505 0.41485866\n",
      " 0.13622545 0.25407555 0.55424224 0.38745008 0.45618135 0.36108787\n",
      " 0.34660793 0.38575052 0.3069664  0.39546249 0.41043222 0.37209638\n",
      " 0.35358632 0.34392074 0.33755922 0.34439733 0.37873648 0.3736021\n",
      " 0.25119948 0.48890284 0.41503736 0.31277483 0.28591621 0.3849433\n",
      " 0.38790708 0.42301527 0.33389194 0.43054676 0.37618434 0.36642302\n",
      " 0.42601748 0.43888858 0.24885097 0.37991875 0.43572802 0.3616452\n",
      " 0.42027166 0.38463207 0.37700027 0.41336038 0.31067392 0.40901885\n",
      " 0.389215   0.36831077 0.28754378 0.39746183 0.25883696 0.3001851\n",
      " 0.36089611 0.18301161 0.41889157 0.39371869 0.42950978 0.30174464\n",
      " 0.35400893 0.32584472 0.38980423 0.23894279 0.41778435 0.29055799\n",
      " 0.36391645 0.25261796 0.38372024 0.36821325 0.3909372  0.39934236\n",
      " 0.18925951 0.37509328 0.38799224 0.43230489 0.47227923 0.23863807\n",
      " 0.33875223 0.38962773 0.37676387 0.48619618 0.42362059 0.22599288\n",
      " 0.32955409 0.42929866 0.41418285 0.39469718 0.42586241 0.57644388\n",
      " 0.32011832 0.29532381 0.32832305 0.465185   0.36349782 0.35777763\n",
      " 0.25880554 0.47006228 0.46389337 0.29287326 0.34645305 0.19701966\n",
      " 0.32511014]\n"
     ]
    }
   ],
   "source": [
    "print (X[0].toarray())\n",
    "print (pairwise_similarities.shape)\n",
    "print (pairwise_similarities[0][:])"
   ]
  },
  {
   "cell_type": "code",
   "execution_count": null,
   "metadata": {
    "colab": {
     "base_uri": "https://localhost:8080/",
     "height": 158
    },
    "id": "Zqdum1QXGt7Y",
    "outputId": "262bf1de-15ad-4db2-9e82-bfae95d6a574"
   },
   "outputs": [
    {
     "ename": "TypeError",
     "evalue": "ignored",
     "output_type": "error",
     "traceback": [
      "\u001b[0;31m---------------------------------------------------------------------------\u001b[0m",
      "\u001b[0;31mTypeError\u001b[0m                                 Traceback (most recent call last)",
      "\u001b[0;32m<ipython-input-130-832ff1ee4594>\u001b[0m in \u001b[0;36m<module>\u001b[0;34m()\u001b[0m\n\u001b[0;32m----> 1\u001b[0;31m \u001b[0mmost_similar\u001b[0m\u001b[0;34m(\u001b[0m\u001b[0;36m2\u001b[0m\u001b[0;34m,\u001b[0m\u001b[0mpairwise_similarities\u001b[0m\u001b[0;34m,\u001b[0m\u001b[0;34m'Cosine Similarity'\u001b[0m\u001b[0;34m)\u001b[0m\u001b[0;34m\u001b[0m\u001b[0;34m\u001b[0m\u001b[0m\n\u001b[0m",
      "\u001b[0;31mTypeError\u001b[0m: most_similar() missing 1 required positional argument: 'number'"
     ]
    }
   ],
   "source": [
    "most_similar(2,pairwise_similarities,'Cosine Similarity')"
   ]
  },
  {
   "cell_type": "markdown",
   "metadata": {
    "id": "c7EwOCcArYpW"
   },
   "source": [
    "### With Doc2Vec"
   ]
  },
  {
   "cell_type": "code",
   "execution_count": null,
   "metadata": {
    "colab": {
     "base_uri": "https://localhost:8080/",
     "height": 240
    },
    "id": "jRf_akTeG0QN",
    "outputId": "f79f4d11-c299-468e-c091-a141e9a27bbc"
   },
   "outputs": [
    {
     "name": "stdout",
     "output_type": "stream",
     "text": [
      "[nltk_data] Downloading package punkt to /root/nltk_data...\n",
      "[nltk_data]   Package punkt is already up-to-date!\n"
     ]
    },
    {
     "ename": "TypeError",
     "evalue": "ignored",
     "output_type": "error",
     "traceback": [
      "\u001b[0;31m---------------------------------------------------------------------------\u001b[0m",
      "\u001b[0;31mTypeError\u001b[0m                                 Traceback (most recent call last)",
      "\u001b[0;32m<ipython-input-131-4aa50fdd60c2>\u001b[0m in \u001b[0;36m<module>\u001b[0;34m()\u001b[0m\n\u001b[1;32m     25\u001b[0m \u001b[0mpairwise_differences\u001b[0m\u001b[0;34m=\u001b[0m\u001b[0meuclidean_distances\u001b[0m\u001b[0;34m(\u001b[0m\u001b[0mdocument_embeddings\u001b[0m\u001b[0;34m)\u001b[0m\u001b[0;34m\u001b[0m\u001b[0;34m\u001b[0m\u001b[0m\n\u001b[1;32m     26\u001b[0m \u001b[0;34m\u001b[0m\u001b[0m\n\u001b[0;32m---> 27\u001b[0;31m \u001b[0mmost_similar\u001b[0m\u001b[0;34m(\u001b[0m\u001b[0;36m1\u001b[0m\u001b[0;34m,\u001b[0m\u001b[0mpairwise_similarities\u001b[0m\u001b[0;34m,\u001b[0m\u001b[0;34m'Cosine Similarity'\u001b[0m\u001b[0;34m)\u001b[0m\u001b[0;34m\u001b[0m\u001b[0;34m\u001b[0m\u001b[0m\n\u001b[0m\u001b[1;32m     28\u001b[0m \u001b[0mmost_similar\u001b[0m\u001b[0;34m(\u001b[0m\u001b[0;36m1\u001b[0m\u001b[0;34m,\u001b[0m\u001b[0mpairwise_differences\u001b[0m\u001b[0;34m,\u001b[0m\u001b[0;34m'Euclidean Distance'\u001b[0m\u001b[0;34m)\u001b[0m\u001b[0;34m\u001b[0m\u001b[0;34m\u001b[0m\u001b[0m\n",
      "\u001b[0;31mTypeError\u001b[0m: most_similar() missing 1 required positional argument: 'number'"
     ]
    }
   ],
   "source": [
    "#https://towardsdatascience.com/calculating-document-similarities-using-bert-and-other-models-b2c1a29c9630\n",
    "\n",
    "from gensim.models.doc2vec import Doc2Vec, TaggedDocument\n",
    "from nltk.tokenize import word_tokenize\n",
    "import nltk\n",
    "nltk.download('punkt')\n",
    "\n",
    "tagged_data = [TaggedDocument(words=word_tokenize(doc), tags=[i]) for i, doc in enumerate(df_mn3['text_full'])]\n",
    "model_d2v = Doc2Vec(vector_size=100,alpha=0.025, min_count=1)\n",
    "  \n",
    "model_d2v.build_vocab(tagged_data)\n",
    "\n",
    "for epoch in range(100):\n",
    "    model_d2v.train(tagged_data,\n",
    "                total_examples=model_d2v.corpus_count,\n",
    "                epochs=model_d2v.epochs)\n",
    "    \n",
    "document_embeddings=np.zeros((df_mn3.shape[0],100))\n",
    "\n",
    "for i in range(len(document_embeddings)):\n",
    "    document_embeddings[i]=model_d2v.docvecs[i]\n",
    "    \n",
    "    \n",
    "pairwise_similarities=cosine_similarity(document_embeddings)\n",
    "pairwise_differences=euclidean_distances(document_embeddings)\n",
    "\n",
    "most_similar(1,pairwise_similarities,'Cosine Similarity')\n",
    "most_similar(1,pairwise_differences,'Euclidean Distance')"
   ]
  },
  {
   "cell_type": "code",
   "execution_count": null,
   "metadata": {
    "id": "SxQYHri2IIVE"
   },
   "outputs": [],
   "source": []
  },
  {
   "cell_type": "markdown",
   "metadata": {
    "id": "pB-mAJyc2m_g"
   },
   "source": [
    "### BERT Model"
   ]
  },
  {
   "cell_type": "code",
   "execution_count": null,
   "metadata": {
    "colab": {
     "base_uri": "https://localhost:8080/"
    },
    "id": "jmBZ1PYUtQnD",
    "outputId": "2c7d8909-1ca3-45da-e772-2412b8aabe22"
   },
   "outputs": [
    {
     "name": "stdout",
     "output_type": "stream",
     "text": [
      "Requirement already satisfied: sentence_transformers in /usr/local/lib/python3.7/dist-packages (1.0.4)\n",
      "Requirement already satisfied: scipy in /usr/local/lib/python3.7/dist-packages (from sentence_transformers) (1.4.1)\n",
      "Requirement already satisfied: nltk in /usr/local/lib/python3.7/dist-packages (from sentence_transformers) (3.2.5)\n",
      "Requirement already satisfied: numpy in /usr/local/lib/python3.7/dist-packages (from sentence_transformers) (1.19.5)\n",
      "Requirement already satisfied: torch>=1.6.0 in /usr/local/lib/python3.7/dist-packages (from sentence_transformers) (1.8.1+cu101)\n",
      "Requirement already satisfied: scikit-learn in /usr/local/lib/python3.7/dist-packages (from sentence_transformers) (0.22.2.post1)\n",
      "Requirement already satisfied: transformers<5.0.0,>=3.1.0 in /usr/local/lib/python3.7/dist-packages (from sentence_transformers) (4.4.2)\n",
      "Requirement already satisfied: sentencepiece in /usr/local/lib/python3.7/dist-packages (from sentence_transformers) (0.1.95)\n",
      "Requirement already satisfied: tqdm in /usr/local/lib/python3.7/dist-packages (from sentence_transformers) (4.41.1)\n",
      "Requirement already satisfied: six in /usr/local/lib/python3.7/dist-packages (from nltk->sentence_transformers) (1.15.0)\n",
      "Requirement already satisfied: typing-extensions in /usr/local/lib/python3.7/dist-packages (from torch>=1.6.0->sentence_transformers) (3.7.4.3)\n",
      "Requirement already satisfied: joblib>=0.11 in /usr/local/lib/python3.7/dist-packages (from scikit-learn->sentence_transformers) (1.0.1)\n",
      "Requirement already satisfied: tokenizers<0.11,>=0.10.1 in /usr/local/lib/python3.7/dist-packages (from transformers<5.0.0,>=3.1.0->sentence_transformers) (0.10.1)\n",
      "Requirement already satisfied: regex!=2019.12.17 in /usr/local/lib/python3.7/dist-packages (from transformers<5.0.0,>=3.1.0->sentence_transformers) (2019.12.20)\n",
      "Requirement already satisfied: sacremoses in /usr/local/lib/python3.7/dist-packages (from transformers<5.0.0,>=3.1.0->sentence_transformers) (0.0.44)\n",
      "Requirement already satisfied: importlib-metadata; python_version < \"3.8\" in /usr/local/lib/python3.7/dist-packages (from transformers<5.0.0,>=3.1.0->sentence_transformers) (3.8.1)\n",
      "Requirement already satisfied: requests in /usr/local/lib/python3.7/dist-packages (from transformers<5.0.0,>=3.1.0->sentence_transformers) (2.23.0)\n",
      "Requirement already satisfied: packaging in /usr/local/lib/python3.7/dist-packages (from transformers<5.0.0,>=3.1.0->sentence_transformers) (20.9)\n",
      "Requirement already satisfied: filelock in /usr/local/lib/python3.7/dist-packages (from transformers<5.0.0,>=3.1.0->sentence_transformers) (3.0.12)\n",
      "Requirement already satisfied: click in /usr/local/lib/python3.7/dist-packages (from sacremoses->transformers<5.0.0,>=3.1.0->sentence_transformers) (7.1.2)\n",
      "Requirement already satisfied: zipp>=0.5 in /usr/local/lib/python3.7/dist-packages (from importlib-metadata; python_version < \"3.8\"->transformers<5.0.0,>=3.1.0->sentence_transformers) (3.4.1)\n",
      "Requirement already satisfied: certifi>=2017.4.17 in /usr/local/lib/python3.7/dist-packages (from requests->transformers<5.0.0,>=3.1.0->sentence_transformers) (2020.12.5)\n",
      "Requirement already satisfied: urllib3!=1.25.0,!=1.25.1,<1.26,>=1.21.1 in /usr/local/lib/python3.7/dist-packages (from requests->transformers<5.0.0,>=3.1.0->sentence_transformers) (1.24.3)\n",
      "Requirement already satisfied: chardet<4,>=3.0.2 in /usr/local/lib/python3.7/dist-packages (from requests->transformers<5.0.0,>=3.1.0->sentence_transformers) (3.0.4)\n",
      "Requirement already satisfied: idna<3,>=2.5 in /usr/local/lib/python3.7/dist-packages (from requests->transformers<5.0.0,>=3.1.0->sentence_transformers) (2.10)\n",
      "Requirement already satisfied: pyparsing>=2.0.2 in /usr/local/lib/python3.7/dist-packages (from packaging->transformers<5.0.0,>=3.1.0->sentence_transformers) (2.4.7)\n"
     ]
    }
   ],
   "source": [
    "!pip install sentence_transformers"
   ]
  },
  {
   "cell_type": "code",
   "execution_count": null,
   "metadata": {
    "colab": {
     "base_uri": "https://localhost:8080/",
     "height": 1000
    },
    "id": "4474yFBby4jA",
    "outputId": "f9886262-30c2-47ca-fe4d-bf8eaa2b2f13"
   },
   "outputs": [
    {
     "data": {
      "text/html": [
       "<div>\n",
       "<style scoped>\n",
       "    .dataframe tbody tr th:only-of-type {\n",
       "        vertical-align: middle;\n",
       "    }\n",
       "\n",
       "    .dataframe tbody tr th {\n",
       "        vertical-align: top;\n",
       "    }\n",
       "\n",
       "    .dataframe thead th {\n",
       "        text-align: right;\n",
       "    }\n",
       "</style>\n",
       "<table border=\"1\" class=\"dataframe\">\n",
       "  <thead>\n",
       "    <tr style=\"text-align: right;\">\n",
       "      <th></th>\n",
       "      <th>title</th>\n",
       "      <th>ref</th>\n",
       "      <th>text_full</th>\n",
       "    </tr>\n",
       "  </thead>\n",
       "  <tbody>\n",
       "    <tr>\n",
       "      <th>0</th>\n",
       "      <td>MN 1  Mūlapariyāya Sutta | The Root Sequence</td>\n",
       "      <td>MN 1</td>\n",
       "      <td>i have heard that on one occasion the blessed one was staying near ukkaṭṭhā in the shade of a royal sal tree in the very blessed forest there he addressed the monks monks yes lord the monks responded to him  the blessed one said monks i will teach you the sequence of the root of all phenomena or the root sequence of all phenomena listen  pay close attention i will speak  as you say lord they responded to him  the blessed one said there is the case monks where an uninstructed run of the mill personwho has no regard for noble ones is not well versed or disciplined in their dhamma who has no regard for people of integrity is not well versed or disciplined in their dhammaperceives earth as earth perceiving earth as earth he supposes things about earth he supposes things in earth he supposes things coming out of earth he supposes earth as mine he delights in earth why is that because he has not comprehended it i tell you  he perceives water as water fire as fire wind as wind1 beings as beings devas as devas pajāpati as pajāpati brahmā as brahmā the radiant devas as radiant devas the beautiful black devas as beautiful black devas the sky fruit devas as sky fruit devas the conqueror as the conqueror2 the dimension of the infinitude of space as the dimension of the infinitude of space the dimension of the infinitude of consciousness as the dimension of the infinitude of consciousness the dimension of nothingness as the dimension of nothingness the dimension of neither perception nor non perception as the dimension of neither perception nor non perception3 the seen as the seen the heard as the heard the sensed as the sensed the cognized as the cognized4 singleness as singleness multiplicity as multiplicity5 the all as the all6 he perceives unbinding as unbinding 7 perceiving unbinding as unbinding he supposes things about unbinding he supposes things in unbinding he supposes things coming out of unbinding he supposes unbinding as mine he delights in unbinding why is that because he has not comprehended it i tell you  the trainee a monk who is a traineeyearning for the unexcelled relief from bondage his aspirations as yet unfulfilleddirectly knows earth as earth directly knowing earth as earth let him not suppose things about earth let him not suppose things in earth let him not suppose things coming out of earth let him not suppose earth as mine let him not delight in earth why is that so that he may comprehend it i tell you  he directly knows water as water fire as fire wind as wind beings as beings devas as devas pajāpati as pajāpati brahmā as brahmā the radiant devas as radiant devas the beautiful black devas as beautiful black devas the sky fruit devas as sky fruit devas the conqueror as the conqueror the dimension of the infinitude of space as the dimension of the infinitude of space the dimension of the infinitude of consciousness as the dimension of the infinitude of consciousness the dimension of nothingness as the dimension of nothingness the dimension of neither perception nor non perception as the dimension of neither perception nor non perception the seen as the seen the heard as the heard the sensed as the sensed the cognized as the cognized singleness as singleness multiplicity as multiplicity the all as the all he directly knows unbinding as unbinding directly knowing unbinding as unbinding let him not suppose things about unbinding let him not suppose things in unbinding let him not suppose things coming out of unbinding let him not suppose unbinding as mine let him not delight in unbinding why is that so that he may comprehend it i tell you  the arahant a monk who is a worthy one devoid of effluentswho has attained completion finished the task laid down the burden attained the true goal destroyed the fetters of becoming and is released through right knowledgedirectly knows earth as earth directly knowing earth as earth he doesnt suppose things about earth doesnt suppose things in earth doesnt suppose things coming out of earth doesnt suppose earth as mine doesnt delight in earth why is that because he has comprehended it i tell you  he directly knows water as water fire as fire wind as wind beings as beings devas as devas pajāpati as pajāpati brahmā as brahmā the radiant devas as radiant devas the beautiful black devas as beautiful black devas the sky fruit devas as sky fruit devas the conqueror as the conqueror the dimension of the infinitude of space as the dimension of the infinitude of space the dimension of the infinitude of consciousness as the dimension of the infinitude of consciousness the dimension of nothingness as the dimension of nothingness the dimension of neither perception nor non perception as the dimension of neither perception nor non perception the seen as the seen the heard as the heard the sensed as the sensed the cognized as the cognized singleness as singleness multiplicity as multiplicity the all as the all he directly knows unbinding as unbinding directly knowing unbinding as unbinding he doesnt suppose things about unbinding doesnt suppose things in unbinding doesnt suppose things coming out of unbinding doesnt suppose unbinding as mine doesnt delight in unbinding why is that because he has comprehended it i tell you  a monk who is a worthy one devoid of effluents directly knows earth as earth directly knowing earth as earth he doesnt suppose things about earth doesnt suppose things in earth doesnt suppose things coming out of earth doesnt suppose earth as mine doesnt delight in earth why is that because with the ending of passion he is devoid of passion i tell you  he directly knows water as water the all as the all he directly knows unbinding as unbinding directly knowing unbinding as unbinding he doesnt suppose things about unbinding doesnt suppose things in unbinding doesnt suppose things coming out of unbinding doesnt suppose unbinding as mine doesnt delight in unbinding why is that because with the ending of passion he is devoid of passion i tell you  a monk who is a worthy one devoid of effluents directly knows earth as earth directly knowing earth as earth he doesnt suppose things about earth doesnt suppose things in earth doesnt suppose things coming out of earth doesnt suppose earth as mine doesnt delight in earth why is that because with the ending of aversion he is devoid of aversion i tell you  he directly knows water as water the all as the all he directly knows unbinding as unbinding directly knowing unbinding as unbinding he doesnt suppose things about unbinding doesnt suppose things in unbinding doesnt suppose things coming out of unbinding doesnt suppose unbinding as mine doesnt delight in unbinding why is that because with the ending of aversion he is devoid of aversion i tell you  a monk who is a worthy one devoid of effluents directly knows earth as earth directly knowing earth as earth he doesnt suppose things about earth doesnt suppose things in earth doesnt suppose things coming out of earth doesnt suppose earth as mine doesnt delight in earth why is that because with the ending of delusion he is devoid of delusion i tell you  he directly knows water as water the all as the all he directly knows unbinding as unbinding directly knowing unbinding as unbinding he doesnt suppose things about unbinding doesnt suppose things in unbinding doesnt suppose things coming out of unbinding doesnt suppose unbinding as mine doesnt delight in unbinding why is that because with the ending of delusion he is devoid of delusion i tell you  the tathāgata the tathāgataa worthy one rightly self awakeneddirectly knows earth as earth directly knowing earth as earth he doesnt suppose things about earth doesnt suppose things in earth doesnt suppose things coming out of earth doesnt suppose earth as mine doesnt delight in earth why is that because the tathāgata has comprehended it to the end i tell you  he directly knows water as water fire as fire wind as wind beings as beings devas as devas pajāpati as pajāpati brahmā as brahmā the radiant devas as radiant devas the beautiful black devas as beautiful black devas the sky fruit devas as sky fruit devas the conqueror as the conqueror the dimension of the infinitude of space as the dimension of the infinitude of space the dimension of the infinitude of consciousness as the dimension of the infinitude of consciousness the dimension of nothingness as the dimension of nothingness the dimension of neither perception nor non perception as the dimension of neither perception nor non perception the seen as the seen the heard as the heard the sensed as the sensed the cognized as the cognized singleness as singleness multiplicity as multiplicity the all as the all he directly knows unbinding as unbinding directly knowing unbinding as unbinding he doesnt suppose things about unbinding doesnt suppose things in unbinding doesnt suppose things coming out of unbinding doesnt suppose unbinding as mine doesnt delight in unbinding why is that because the tathāgata has comprehended it to the end i tell you  the tathāgataa worthy one rightly self awakeneddirectly knows earth as earth directly knowing earth as earth he doesnt suppose things about earth doesnt suppose things in earth doesnt suppose things coming out of earth doesnt suppose earth as mine doesnt delight in earth why is that because he has known that delight is the root of suffering  stress that from coming into being there is birth and that for what has come into being there is aging  death therefore with the total ending fading away cessation letting go relinquishment of craving the tathāgata has totally awakened to the unexcelled right self awakening i tell you  he directly knows water as water the all as the all he directly knows unbinding as unbinding directly knowing unbinding as unbinding he doesnt suppose things about unbinding doesnt suppose things in unbinding doesnt suppose things coming out of unbinding doesnt suppose unbinding as mine doesnt delight in unbinding why is that because he has known that delight is the root of suffering  stress that from coming into being there is birth and that for what has come into being there is aging  death therefore with the total ending fading away cessation letting go relinquishment of craving the tathāgata has totally awakened to the unexcelled right self awakening i tell you  that is what the blessed one said displeased the monks did not delight in the blessed ones words</td>\n",
       "    </tr>\n",
       "  </tbody>\n",
       "</table>\n",
       "</div>"
      ],
      "text/plain": [
       "                                          title   ref  \\\n",
       "0  MN 1  Mūlapariyāya Sutta | The Root Sequence  MN 1   \n",
       "\n",
       "                                                                                                                                                                                                                                                                                                                                                                                                                                                                                                                                                                                                                                                                                                                                                                                                                                                                                                                                                                                                                                                                                                                                                                                                                                                                                                                                                                                                                                                                                                                                                                                                                                                                                                                                                                                                                                                                                                                                                                                                                                                                                                                                                                                                                                                                                                                                                                                                                                                                                                                                                                                                                                                                                                                                                                                                                                                                                                                                                                                                                                                                                                                                                                                                                                                                                                                                                                                                                                                                                                                                                                                                                                                                                                                                                                                                                                                                                                                                                                                                                                                                                                                                                                                                                                                                                                                                                                                                                                                                                                                                                                                                                                                                                                                                                                                                                                                                                                                                                                                                                                                                                                                                                                                                                                                                                                                                                                                                                                                                                                                                                                                                                                                                                                                                                                                                                                                                                                                                                                                                                                                                                                                                                                                                                                                                                                                                                                                                                                                                                                                                                                                                                                                                                                                                                                                                                                                                                                                                                                                                                                                                                                                                                                                                                                                                                                                                                                                                                                                                                                                                                                                                                                                                                                                                                                                                                                                                                                                                                                                                                                                                                                                                                                                                                                                                                                                                                                                                                                                                                                                                                                                                                                                                                                                                                                                                                                                                                                                                                                                                                                                                                                                                                                                                                                                                                                                                                                                                                                                                                                                                                                                                                                                                                                                                                                                                                                                                                                                                                                                                                                                                                                                                                                                                                                                                                                                                                                                                                                                                                                                                                                                                                                                                                                                                                                                                                                                                        text_full  \n",
       "0   i have heard that on one occasion the blessed one was staying near ukkaṭṭhā in the shade of a royal sal tree in the very blessed forest there he addressed the monks monks yes lord the monks responded to him  the blessed one said monks i will teach you the sequence of the root of all phenomena or the root sequence of all phenomena listen  pay close attention i will speak  as you say lord they responded to him  the blessed one said there is the case monks where an uninstructed run of the mill personwho has no regard for noble ones is not well versed or disciplined in their dhamma who has no regard for people of integrity is not well versed or disciplined in their dhammaperceives earth as earth perceiving earth as earth he supposes things about earth he supposes things in earth he supposes things coming out of earth he supposes earth as mine he delights in earth why is that because he has not comprehended it i tell you  he perceives water as water fire as fire wind as wind1 beings as beings devas as devas pajāpati as pajāpati brahmā as brahmā the radiant devas as radiant devas the beautiful black devas as beautiful black devas the sky fruit devas as sky fruit devas the conqueror as the conqueror2 the dimension of the infinitude of space as the dimension of the infinitude of space the dimension of the infinitude of consciousness as the dimension of the infinitude of consciousness the dimension of nothingness as the dimension of nothingness the dimension of neither perception nor non perception as the dimension of neither perception nor non perception3 the seen as the seen the heard as the heard the sensed as the sensed the cognized as the cognized4 singleness as singleness multiplicity as multiplicity5 the all as the all6 he perceives unbinding as unbinding 7 perceiving unbinding as unbinding he supposes things about unbinding he supposes things in unbinding he supposes things coming out of unbinding he supposes unbinding as mine he delights in unbinding why is that because he has not comprehended it i tell you  the trainee a monk who is a traineeyearning for the unexcelled relief from bondage his aspirations as yet unfulfilleddirectly knows earth as earth directly knowing earth as earth let him not suppose things about earth let him not suppose things in earth let him not suppose things coming out of earth let him not suppose earth as mine let him not delight in earth why is that so that he may comprehend it i tell you  he directly knows water as water fire as fire wind as wind beings as beings devas as devas pajāpati as pajāpati brahmā as brahmā the radiant devas as radiant devas the beautiful black devas as beautiful black devas the sky fruit devas as sky fruit devas the conqueror as the conqueror the dimension of the infinitude of space as the dimension of the infinitude of space the dimension of the infinitude of consciousness as the dimension of the infinitude of consciousness the dimension of nothingness as the dimension of nothingness the dimension of neither perception nor non perception as the dimension of neither perception nor non perception the seen as the seen the heard as the heard the sensed as the sensed the cognized as the cognized singleness as singleness multiplicity as multiplicity the all as the all he directly knows unbinding as unbinding directly knowing unbinding as unbinding let him not suppose things about unbinding let him not suppose things in unbinding let him not suppose things coming out of unbinding let him not suppose unbinding as mine let him not delight in unbinding why is that so that he may comprehend it i tell you  the arahant a monk who is a worthy one devoid of effluentswho has attained completion finished the task laid down the burden attained the true goal destroyed the fetters of becoming and is released through right knowledgedirectly knows earth as earth directly knowing earth as earth he doesnt suppose things about earth doesnt suppose things in earth doesnt suppose things coming out of earth doesnt suppose earth as mine doesnt delight in earth why is that because he has comprehended it i tell you  he directly knows water as water fire as fire wind as wind beings as beings devas as devas pajāpati as pajāpati brahmā as brahmā the radiant devas as radiant devas the beautiful black devas as beautiful black devas the sky fruit devas as sky fruit devas the conqueror as the conqueror the dimension of the infinitude of space as the dimension of the infinitude of space the dimension of the infinitude of consciousness as the dimension of the infinitude of consciousness the dimension of nothingness as the dimension of nothingness the dimension of neither perception nor non perception as the dimension of neither perception nor non perception the seen as the seen the heard as the heard the sensed as the sensed the cognized as the cognized singleness as singleness multiplicity as multiplicity the all as the all he directly knows unbinding as unbinding directly knowing unbinding as unbinding he doesnt suppose things about unbinding doesnt suppose things in unbinding doesnt suppose things coming out of unbinding doesnt suppose unbinding as mine doesnt delight in unbinding why is that because he has comprehended it i tell you  a monk who is a worthy one devoid of effluents directly knows earth as earth directly knowing earth as earth he doesnt suppose things about earth doesnt suppose things in earth doesnt suppose things coming out of earth doesnt suppose earth as mine doesnt delight in earth why is that because with the ending of passion he is devoid of passion i tell you  he directly knows water as water the all as the all he directly knows unbinding as unbinding directly knowing unbinding as unbinding he doesnt suppose things about unbinding doesnt suppose things in unbinding doesnt suppose things coming out of unbinding doesnt suppose unbinding as mine doesnt delight in unbinding why is that because with the ending of passion he is devoid of passion i tell you  a monk who is a worthy one devoid of effluents directly knows earth as earth directly knowing earth as earth he doesnt suppose things about earth doesnt suppose things in earth doesnt suppose things coming out of earth doesnt suppose earth as mine doesnt delight in earth why is that because with the ending of aversion he is devoid of aversion i tell you  he directly knows water as water the all as the all he directly knows unbinding as unbinding directly knowing unbinding as unbinding he doesnt suppose things about unbinding doesnt suppose things in unbinding doesnt suppose things coming out of unbinding doesnt suppose unbinding as mine doesnt delight in unbinding why is that because with the ending of aversion he is devoid of aversion i tell you  a monk who is a worthy one devoid of effluents directly knows earth as earth directly knowing earth as earth he doesnt suppose things about earth doesnt suppose things in earth doesnt suppose things coming out of earth doesnt suppose earth as mine doesnt delight in earth why is that because with the ending of delusion he is devoid of delusion i tell you  he directly knows water as water the all as the all he directly knows unbinding as unbinding directly knowing unbinding as unbinding he doesnt suppose things about unbinding doesnt suppose things in unbinding doesnt suppose things coming out of unbinding doesnt suppose unbinding as mine doesnt delight in unbinding why is that because with the ending of delusion he is devoid of delusion i tell you  the tathāgata the tathāgataa worthy one rightly self awakeneddirectly knows earth as earth directly knowing earth as earth he doesnt suppose things about earth doesnt suppose things in earth doesnt suppose things coming out of earth doesnt suppose earth as mine doesnt delight in earth why is that because the tathāgata has comprehended it to the end i tell you  he directly knows water as water fire as fire wind as wind beings as beings devas as devas pajāpati as pajāpati brahmā as brahmā the radiant devas as radiant devas the beautiful black devas as beautiful black devas the sky fruit devas as sky fruit devas the conqueror as the conqueror the dimension of the infinitude of space as the dimension of the infinitude of space the dimension of the infinitude of consciousness as the dimension of the infinitude of consciousness the dimension of nothingness as the dimension of nothingness the dimension of neither perception nor non perception as the dimension of neither perception nor non perception the seen as the seen the heard as the heard the sensed as the sensed the cognized as the cognized singleness as singleness multiplicity as multiplicity the all as the all he directly knows unbinding as unbinding directly knowing unbinding as unbinding he doesnt suppose things about unbinding doesnt suppose things in unbinding doesnt suppose things coming out of unbinding doesnt suppose unbinding as mine doesnt delight in unbinding why is that because the tathāgata has comprehended it to the end i tell you  the tathāgataa worthy one rightly self awakeneddirectly knows earth as earth directly knowing earth as earth he doesnt suppose things about earth doesnt suppose things in earth doesnt suppose things coming out of earth doesnt suppose earth as mine doesnt delight in earth why is that because he has known that delight is the root of suffering  stress that from coming into being there is birth and that for what has come into being there is aging  death therefore with the total ending fading away cessation letting go relinquishment of craving the tathāgata has totally awakened to the unexcelled right self awakening i tell you  he directly knows water as water the all as the all he directly knows unbinding as unbinding directly knowing unbinding as unbinding he doesnt suppose things about unbinding doesnt suppose things in unbinding doesnt suppose things coming out of unbinding doesnt suppose unbinding as mine doesnt delight in unbinding why is that because he has known that delight is the root of suffering  stress that from coming into being there is birth and that for what has come into being there is aging  death therefore with the total ending fading away cessation letting go relinquishment of craving the tathāgata has totally awakened to the unexcelled right self awakening i tell you  that is what the blessed one said displeased the monks did not delight in the blessed ones words   "
      ]
     },
     "execution_count": 122,
     "metadata": {
      "tags": []
     },
     "output_type": "execute_result"
    }
   ],
   "source": [
    "df_mn3.head(1)"
   ]
  },
  {
   "cell_type": "code",
   "execution_count": null,
   "metadata": {
    "colab": {
     "base_uri": "https://localhost:8080/",
     "height": 35
    },
    "id": "Ac06qmoM0eTO",
    "outputId": "ea0b0d28-5a0b-4a7b-aad8-ca489d57f3c4"
   },
   "outputs": [
    {
     "data": {
      "application/vnd.google.colaboratory.intrinsic+json": {
       "type": "string"
      },
      "text/plain": [
       "'MN\\u200918'"
      ]
     },
     "execution_count": 123,
     "metadata": {
      "tags": []
     },
     "output_type": "execute_result"
    }
   ],
   "source": [
    "df_mn3['ref'][12]"
   ]
  },
  {
   "cell_type": "code",
   "execution_count": null,
   "metadata": {
    "colab": {
     "base_uri": "https://localhost:8080/"
    },
    "id": "dr6kcOEUz_q3",
    "outputId": "655470c4-bbc3-4997-d56e-ecaa91ac9fea"
   },
   "outputs": [
    {
     "data": {
      "text/plain": [
       "12"
      ]
     },
     "execution_count": 124,
     "metadata": {
      "tags": []
     },
     "output_type": "execute_result"
    }
   ],
   "source": [
    "sutta_ref = 'MN 18'\n",
    "ref = sutta_ref.replace(' ', '\\u2009')\n",
    "sutta_index = df_mn3['ref'].index[(df_mn3['ref'] == ref)].tolist()\n",
    "sutta_index[0]"
   ]
  },
  {
   "cell_type": "code",
   "execution_count": null,
   "metadata": {
    "id": "BZwnGzXi2pJy"
   },
   "outputs": [],
   "source": [
    "from sentence_transformers import SentenceTransformer\n",
    "def bert_mod(sutta_ref, number):\n",
    "  sbert_model = SentenceTransformer('bert-base-nli-mean-tokens')\n",
    "\n",
    "  #adding \\u2009 in between the sutta abbreviation and number\n",
    "\n",
    "  ref = sutta_ref.replace(' ', '\\u2009')\n",
    "  sutta_index = df_mn3['ref'].index[(df_mn3['ref'] == ref)].tolist() ##retrieving index of reference\n",
    "  document_embeddings = sbert_model.encode(df_mn3['text_full'])\n",
    "\n",
    "  pairwise_similarities=cosine_similarity(document_embeddings)\n",
    "  pairwise_differences=euclidean_distances(document_embeddings)\n",
    "\n",
    "  most_similar(sutta_index[0], pairwise_similarities,'Cosine Similarity', number = number)\n",
    "  most_similar(sutta_index[0], pairwise_differences,'Euclidean Distance', number = number)"
   ]
  },
  {
   "cell_type": "code",
   "execution_count": null,
   "metadata": {
    "colab": {
     "base_uri": "https://localhost:8080/"
    },
    "id": "9NDqhi4YxBz7",
    "outputId": "4782d93b-4e17-464b-85bb-db1b37f5c0c4"
   },
   "outputs": [
    {
     "name": "stdout",
     "output_type": "stream",
     "text": [
      "Document: MN 1  Mūlapariyāya Sutta | The Root Sequence\n",
      "\n",
      "\n",
      "Similar Documents:\n",
      "\n",
      "\n",
      "Title: MN 49  Brahma-nimantanika Sutta | The Brahmā Invitation\n",
      "Ref: MN 49\n",
      "Cosine Similarity : 0.8729467391967773\n",
      "\n",
      "\n",
      "Title: MN 149  Mahā Saḷāyatanika Sutta | The Great Six Sense-Media Discourse\n",
      "Ref: MN 149\n",
      "Cosine Similarity : 0.8703799247741699\n",
      "\n",
      "\n",
      "Title: MN 138  Uddesa-vibhaṅga Sutta | An Analysis of the Statement\n",
      "Ref: MN 138\n",
      "Cosine Similarity : 0.8618467450141907\n",
      "\n",
      "\n",
      "Title: MN 113  Sappurisa Sutta | A Person of Integrity\n",
      "Ref: MN 113\n",
      "Cosine Similarity : 0.8530935645103455\n",
      "Document: MN 1  Mūlapariyāya Sutta | The Root Sequence\n",
      "\n",
      "\n",
      "Similar Documents:\n",
      "\n",
      "\n",
      "Title: MN 49  Brahma-nimantanika Sutta | The Brahmā Invitation\n",
      "Ref: MN 49\n",
      "Euclidean Distance : 7.23231315612793\n",
      "\n",
      "\n",
      "Title: MN 149  Mahā Saḷāyatanika Sutta | The Great Six Sense-Media Discourse\n",
      "Ref: MN 149\n",
      "Euclidean Distance : 7.375919818878174\n",
      "\n",
      "\n",
      "Title: MN 138  Uddesa-vibhaṅga Sutta | An Analysis of the Statement\n",
      "Ref: MN 138\n",
      "Euclidean Distance : 7.6350507736206055\n",
      "\n",
      "\n",
      "Title: MN 113  Sappurisa Sutta | A Person of Integrity\n",
      "Ref: MN 113\n",
      "Euclidean Distance : 7.954142093658447\n"
     ]
    }
   ],
   "source": [
    "bert_mod('MN 1', 5)"
   ]
  },
  {
   "cell_type": "code",
   "execution_count": null,
   "metadata": {
    "id": "GrT5rYKX2y25"
   },
   "outputs": [],
   "source": [
    "document_embeddings"
   ]
  },
  {
   "cell_type": "markdown",
   "metadata": {
    "id": "0i7Au8IkB7wJ"
   },
   "source": [
    "# Recommendation Work"
   ]
  },
  {
   "cell_type": "code",
   "execution_count": null,
   "metadata": {
    "id": "dCsZwbr8D6qA"
   },
   "outputs": [],
   "source": [
    "## tfidf on the text\n",
    "from sklearn.feature_extraction.text import TfidfVectorizer\n",
    "tfidf_vectorizer = TfidfVectorizer()\n",
    "tfidf_suttas = tfidf_vectorizer.fit_transform((df_mn2['text_full'])) #fitting and transforming the vector\n",
    "tfidf_suttas"
   ]
  },
  {
   "cell_type": "code",
   "execution_count": null,
   "metadata": {
    "id": "AUlq0YwqWwrH"
   },
   "outputs": [],
   "source": [
    "# https://medium.com/@armandj.olivares/building-nlp-content-based-recommender-systems-b104a709c042"
   ]
  },
  {
   "cell_type": "code",
   "execution_count": null,
   "metadata": {
    "id": "EGzFb9anC88m"
   },
   "outputs": [],
   "source": [
    "# Computing cosine similarity using tfidf¶\n",
    "from sklearn.metrics.pairwise import cosine_similarity\n",
    "sutta_tfidf2 = tfidf_vectorizer.transform(df_mn2['text_full'])\n",
    "cos_similarity_tfidf = map(lambda x: cosine_similarity(sutta_tfidf2, x), tfidf_suttas)\n",
    "output2 = list(cos_similarity_tfidf)"
   ]
  },
  {
   "cell_type": "markdown",
   "metadata": {
    "id": "N2n2tmHnDJYw"
   },
   "source": [
    "#### Function for top-N recs"
   ]
  },
  {
   "cell_type": "code",
   "execution_count": null,
   "metadata": {
    "id": "wnG7KXwlHNH7"
   },
   "outputs": [],
   "source": [
    "index = np.where(df_mn2['ref'] == 'MN 2')\n",
    "user_q = df_mn2['ref'].loc[df_mn2['ref'] == 'MN 2']\n",
    "user_q"
   ]
  },
  {
   "cell_type": "code",
   "execution_count": null,
   "metadata": {
    "id": "yNAe2RnKFGFt"
   },
   "outputs": [],
   "source": [
    "df_all = df_mn2[['title', 'ref']]"
   ]
  },
  {
   "cell_type": "code",
   "execution_count": null,
   "metadata": {
    "id": "brd-tI_zW7ib"
   },
   "outputs": [],
   "source": [
    "def get_recommendation(top, df_all, scores):\n",
    "  recommendation = pd.DataFrame(columns = ['ApplicantID', 'title', 'ref', 'score'])\n",
    "  count = 0\n",
    "  for i in top:\n",
    "      recommendation.at[count, 'ApplicantID'] = user_q\n",
    "      recommendation.at[count, 'ref'] = df_all['ref'][i]\n",
    "      recommendation.at[count, 'title'] = df_all['title'][i]\n",
    "      recommendation.at[count, 'score'] =  scores[count]\n",
    "      count += 1\n",
    "  return recommendation"
   ]
  },
  {
   "cell_type": "code",
   "execution_count": null,
   "metadata": {
    "id": "cH2fgjXpCvzc"
   },
   "outputs": [],
   "source": [
    "##The top recommendations using TF-IDF\n",
    "top = sorted(range(len(output2)), key=lambda i: output2[i], reverse=True)[:10]\n",
    "list_scores = [output2[i][0][0] for i in top]\n",
    "get_recommendation(top, df_all, list_scores)"
   ]
  },
  {
   "cell_type": "code",
   "execution_count": null,
   "metadata": {
    "id": "TIcEbmVOFzh6"
   },
   "outputs": [],
   "source": []
  }
 ],
 "metadata": {
  "accelerator": "GPU",
  "colab": {
   "collapsed_sections": [],
   "machine_shape": "hm",
   "name": "Preprocessing_capstone.ipynb",
   "provenance": [],
   "toc_visible": true
  },
  "kernelspec": {
   "display_name": "Python 3",
   "language": "python",
   "name": "python3"
  },
  "language_info": {
   "codemirror_mode": {
    "name": "ipython",
    "version": 3
   },
   "file_extension": ".py",
   "mimetype": "text/x-python",
   "name": "python",
   "nbconvert_exporter": "python",
   "pygments_lexer": "ipython3",
   "version": "3.8.5"
  }
 },
 "nbformat": 4,
 "nbformat_minor": 4
}
