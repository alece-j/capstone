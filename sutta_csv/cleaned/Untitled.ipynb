{
 "cells": [
  {
   "cell_type": "code",
   "execution_count": 1,
   "metadata": {},
   "outputs": [
    {
     "name": "stdout",
     "output_type": "stream",
     "text": [
      "Collecting umap-learn\n",
      "  Downloading umap-learn-0.5.1.tar.gz (80 kB)\n",
      "\u001b[K     |████████████████████████████████| 80 kB 2.8 MB/s eta 0:00:01\n",
      "\u001b[?25hRequirement already satisfied: numpy>=1.17 in /Users/ae-j/opt/anaconda3/lib/python3.8/site-packages (from umap-learn) (1.19.2)\n",
      "Requirement already satisfied: scikit-learn>=0.22 in /Users/ae-j/opt/anaconda3/lib/python3.8/site-packages (from umap-learn) (0.23.2)\n",
      "Requirement already satisfied: scipy>=1.0 in /Users/ae-j/opt/anaconda3/lib/python3.8/site-packages (from umap-learn) (1.5.2)\n",
      "Requirement already satisfied: numba>=0.49 in /Users/ae-j/opt/anaconda3/lib/python3.8/site-packages (from umap-learn) (0.51.2)\n",
      "Collecting pynndescent>=0.5\n",
      "  Downloading pynndescent-0.5.2.tar.gz (1.1 MB)\n",
      "\u001b[K     |████████████████████████████████| 1.1 MB 7.1 MB/s eta 0:00:01\n",
      "\u001b[?25hRequirement already satisfied: threadpoolctl>=2.0.0 in /Users/ae-j/opt/anaconda3/lib/python3.8/site-packages (from scikit-learn>=0.22->umap-learn) (2.1.0)\n",
      "Requirement already satisfied: joblib>=0.11 in /Users/ae-j/opt/anaconda3/lib/python3.8/site-packages (from scikit-learn>=0.22->umap-learn) (0.17.0)\n",
      "Requirement already satisfied: llvmlite<0.35,>=0.34.0.dev0 in /Users/ae-j/opt/anaconda3/lib/python3.8/site-packages (from numba>=0.49->umap-learn) (0.34.0)\n",
      "Requirement already satisfied: setuptools in /Users/ae-j/opt/anaconda3/lib/python3.8/site-packages (from numba>=0.49->umap-learn) (50.3.1.post20201107)\n",
      "Building wheels for collected packages: umap-learn, pynndescent\n",
      "  Building wheel for umap-learn (setup.py) ... \u001b[?25ldone\n",
      "\u001b[?25h  Created wheel for umap-learn: filename=umap_learn-0.5.1-py3-none-any.whl size=76566 sha256=0e2afa7a7ca30838d1339438b6da45037c6e520e35c7119c9a3cf7f433e5fc86\n",
      "  Stored in directory: /Users/ae-j/Library/Caches/pip/wheels/95/85/b7/b4b7040e49367b6d1505d7e8fb57e3e79b22fa6ac26f72520b\n",
      "  Building wheel for pynndescent (setup.py) ... \u001b[?25ldone\n",
      "\u001b[?25h  Created wheel for pynndescent: filename=pynndescent-0.5.2-py3-none-any.whl size=51349 sha256=2806b8736d099d3c551d356c8dc2aa4a13237fc12a0c4ba918f17e01a6287f93\n",
      "  Stored in directory: /Users/ae-j/Library/Caches/pip/wheels/bb/81/5d/c78c8f15f3c815197129f91ec435d8ae0bb0a7a856d962c3ce\n",
      "Successfully built umap-learn pynndescent\n",
      "Installing collected packages: pynndescent, umap-learn\n",
      "Successfully installed pynndescent-0.5.2 umap-learn-0.5.1\n"
     ]
    }
   ],
   "source": [
    "\n",
    "!pip install umap-learn"
   ]
  },
  {
   "cell_type": "code",
   "execution_count": null,
   "metadata": {},
   "outputs": [
    {
     "name": "stdout",
     "output_type": "stream",
     "text": [
      "Found existing installation: umap 0.1.1\n",
      "Uninstalling umap-0.1.1:\n",
      "  Would remove:\n",
      "    /Users/ae-j/opt/anaconda3/lib/python3.8/site-packages/umap-0.1.1.dist-info/*\n",
      "    /Users/ae-j/opt/anaconda3/lib/python3.8/site-packages/umap/*\n",
      "  Would not remove (might be manually added):\n",
      "    /Users/ae-j/opt/anaconda3/lib/python3.8/site-packages/umap/aligned_umap.py\n",
      "    /Users/ae-j/opt/anaconda3/lib/python3.8/site-packages/umap/distances.py\n",
      "    /Users/ae-j/opt/anaconda3/lib/python3.8/site-packages/umap/layouts.py\n",
      "    /Users/ae-j/opt/anaconda3/lib/python3.8/site-packages/umap/parametric_umap.py\n",
      "    /Users/ae-j/opt/anaconda3/lib/python3.8/site-packages/umap/plot.py\n",
      "    /Users/ae-j/opt/anaconda3/lib/python3.8/site-packages/umap/sparse.py\n",
      "    /Users/ae-j/opt/anaconda3/lib/python3.8/site-packages/umap/spectral.py\n",
      "    /Users/ae-j/opt/anaconda3/lib/python3.8/site-packages/umap/umap_.py\n",
      "    /Users/ae-j/opt/anaconda3/lib/python3.8/site-packages/umap/utils.py\n",
      "    /Users/ae-j/opt/anaconda3/lib/python3.8/site-packages/umap/validation.py\n",
      "Proceed (y/n)? "
     ]
    }
   ],
   "source": [
    "!pip uninstall umap"
   ]
  },
  {
   "cell_type": "code",
   "execution_count": null,
   "metadata": {},
   "outputs": [],
   "source": [
    "y"
   ]
  },
  {
   "cell_type": "code",
   "execution_count": null,
   "metadata": {},
   "outputs": [],
   "source": []
  }
 ],
 "metadata": {
  "kernelspec": {
   "display_name": "Python 3",
   "language": "python",
   "name": "python3"
  },
  "language_info": {
   "codemirror_mode": {
    "name": "ipython",
    "version": 3
   },
   "file_extension": ".py",
   "mimetype": "text/x-python",
   "name": "python",
   "nbconvert_exporter": "python",
   "pygments_lexer": "ipython3",
   "version": "3.8.5"
  }
 },
 "nbformat": 4,
 "nbformat_minor": 4
}
