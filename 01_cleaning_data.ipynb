{
 "cells": [
  {
   "cell_type": "markdown",
   "metadata": {},
   "source": [
    "# Notebook 1: Cleaning Data"
   ]
  },
  {
   "cell_type": "markdown",
   "metadata": {},
   "source": [
    "### **Introduction**"
   ]
  },
  {
   "cell_type": "markdown",
   "metadata": {},
   "source": [
    "The Pali Canon is the foundational collection of texts of the Theravada Buddhist Religion. It contains the oldest known records of the Buddha's teachings, compiled in written form about 500 years after the Buddha's death and maintained orally in the interim. \n",
    "\n",
    "The Canon is a diverse collection of works that documents teachings, stories, exclamations, quotes and poetry grouped into 5 separate collections by later compilers. Although it is little known and little studied in the west, the Canon and commentaries on it, form the core of the religion for hundreds of millions of Theravada Buddhists, particularly in South East Asia. \n",
    "\n",
    "Although translations from Pali (an ancient Sanskritic language) have existed for over one hundred years, the translations were often made by scholars who were not steeped in the living Buddhist monastic culture and discipline and often by those who did not practice. As such, it is unclear how often early translators had experiential insight into the meaning of often complex phenomena and concepts that are represented in the Canon. These insights are undoubtedly important for accurately representing a dead language (that contains many words/concepts with no direct equivalent in english) and, in turn, for outlining a path of practice to an unconditioned happiness that is as alive today as it was in the time of the Buddha. \n",
    "\n",
    "In recent years, however, as a result of an enormous effort by several English-speaking Buddhist monks, a large portion of the Pali Canon has been translated and made available online. The suttas that are the data for this project come from www.dhammatalks.org which hosts suttas translated by Ajahn Geoff, a monk of nearly 45 years in the Kammathana (Thai Forest Tradition) lineage. He has significant experience in translating both from Pali and Thai and is an inspiring monk in conduct and learnedness. "
   ]
  },
  {
   "cell_type": "markdown",
   "metadata": {},
   "source": [
    "### **Problem Statement**"
   ]
  },
  {
   "cell_type": "markdown",
   "metadata": {},
   "source": [
    "The purpose of this project is two-fold:\n",
    "1. To do significant, public-facing, Natural Language Processing analysis on the Pali Canon. An investigation like this, at this scale, has, to my knowledge, never been conducted before. Given the recency of the availability of strong English translations of the Canon coupled with  fairly recent advances in Machine Learning algorithms that will be employed, the absence of an existing analyis at this level is less surprising than it might initially appear. Furthermore, the cross-section of lay-Theravadan Buddhists (non-monks) who are dedicated to reading the original texts (not 'Dhamma' books by other lay-Buddhist 'Dhamma teachers'), and people with an understanding of the tools needed to do this analyis probably yields quite a small number of people. \n",
    "\n",
    "2. To develop a recommendation algorithm for suttas that could be used to support the development of particular mental qualities, themes and understandings within the religion. One could consider this to be a sort of 'Netflix' for information on how to develop along a path to an unconditioned happiness. For a rough understanding of the functionality, one can imagine a scenario where a user would input a particular theme, eg 'Generosity', and be recommended a number of suttas that deal with the subject and a number of closely related topics that might also be worth exploring."
   ]
  },
  {
   "cell_type": "markdown",
   "metadata": {},
   "source": [
    "### **Technical Introduction to Notebook One**\n",
    "\n",
    "As mentioned above, the data for this project comes from roughly 30 scrapes of the website www.dhammatalks.org using the [Octoparse](www.octoparse.com) webscraping tool. The decision to not code this scrape and to use a tool instead was made given the structure of the website and the variety of ways that the text is presented on the website. \n",
    "\n",
    "The dataframes that are being created in this notebook number thirteen in total: one for each of the four 'stand-alone' compilations; seven additional dataframes for each of the seven sub-collections of the fifth compilation (Khuddaka Nikaya); one for the entirety of the Khuddaka Nikaya; lastly, one for all five compilations. "
   ]
  },
  {
   "cell_type": "markdown",
   "metadata": {},
   "source": [
    "# **Merging the first four collections: MN, DN, SN, AN**"
   ]
  },
  {
   "cell_type": "markdown",
   "metadata": {},
   "source": [
    "These are fairly straightforward to work with as they are all in roughly the same format."
   ]
  },
  {
   "cell_type": "markdown",
   "metadata": {},
   "source": [
    "#### Imports"
   ]
  },
  {
   "cell_type": "code",
   "execution_count": 1,
   "metadata": {},
   "outputs": [],
   "source": [
    "import pandas as pd\n",
    "pd.set_option('display.max_rows', None)\n",
    "pd.set_option('display.max_columns', None)\n",
    "pd.set_option('display.width', None)\n",
    "pd.set_option('display.max_colwidth', None)\n",
    "import numpy as np\n",
    "import matplotlib.pyplot as plt\n",
    "import seaborn as sns"
   ]
  },
  {
   "cell_type": "markdown",
   "metadata": {},
   "source": [
    "## 1. Majjhima Nikaya (MN)"
   ]
  },
  {
   "cell_type": "code",
   "execution_count": 2,
   "metadata": {},
   "outputs": [],
   "source": [
    "df_mnf = pd.read_csv('./sutta_csv/mn_full.csv')\n",
    "df_mnf.columns = df_mnf.columns.str.lower()\n",
    "df_mnf.columns = df_mnf.columns.str.replace(\" \", \"_\")\n",
    "\n",
    "df_mnt = pd.read_csv('./sutta_csv/mn_text_2.csv')\n",
    "df_mnt.columns = df_mnt.columns.str.lower()\n",
    "df_mnt.columns = df_mnt.columns.str.replace(\" \", \"_\")"
   ]
  },
  {
   "cell_type": "code",
   "execution_count": 3,
   "metadata": {},
   "outputs": [
    {
     "data": {
      "text/html": [
       "<div>\n",
       "<style scoped>\n",
       "    .dataframe tbody tr th:only-of-type {\n",
       "        vertical-align: middle;\n",
       "    }\n",
       "\n",
       "    .dataframe tbody tr th {\n",
       "        vertical-align: top;\n",
       "    }\n",
       "\n",
       "    .dataframe thead th {\n",
       "        text-align: right;\n",
       "    }\n",
       "</style>\n",
       "<table border=\"1\" class=\"dataframe\">\n",
       "  <thead>\n",
       "    <tr style=\"text-align: right;\">\n",
       "      <th></th>\n",
       "      <th>title</th>\n",
       "      <th>title_url</th>\n",
       "      <th>ref</th>\n",
       "      <th>summary</th>\n",
       "    </tr>\n",
       "  </thead>\n",
       "  <tbody>\n",
       "  </tbody>\n",
       "</table>\n",
       "</div>"
      ],
      "text/plain": [
       "Empty DataFrame\n",
       "Columns: [title, title_url, ref, summary]\n",
       "Index: []"
      ]
     },
     "execution_count": 3,
     "metadata": {},
     "output_type": "execute_result"
    }
   ],
   "source": [
    "df_mnf.head(0)"
   ]
  },
  {
   "cell_type": "code",
   "execution_count": 4,
   "metadata": {},
   "outputs": [
    {
     "data": {
      "text/html": [
       "<div>\n",
       "<style scoped>\n",
       "    .dataframe tbody tr th:only-of-type {\n",
       "        vertical-align: middle;\n",
       "    }\n",
       "\n",
       "    .dataframe tbody tr th {\n",
       "        vertical-align: top;\n",
       "    }\n",
       "\n",
       "    .dataframe thead th {\n",
       "        text-align: right;\n",
       "    }\n",
       "</style>\n",
       "<table border=\"1\" class=\"dataframe\">\n",
       "  <thead>\n",
       "    <tr style=\"text-align: right;\">\n",
       "      <th></th>\n",
       "      <th>sutta_text</th>\n",
       "      <th>title_url</th>\n",
       "    </tr>\n",
       "  </thead>\n",
       "  <tbody>\n",
       "  </tbody>\n",
       "</table>\n",
       "</div>"
      ],
      "text/plain": [
       "Empty DataFrame\n",
       "Columns: [sutta_text, title_url]\n",
       "Index: []"
      ]
     },
     "execution_count": 4,
     "metadata": {},
     "output_type": "execute_result"
    }
   ],
   "source": [
    "df_mnt.head(0)"
   ]
  },
  {
   "cell_type": "code",
   "execution_count": 5,
   "metadata": {},
   "outputs": [],
   "source": [
    "df_mn = pd.merge(left = df_mnf, right = df_mnt, on='title_url')"
   ]
  },
  {
   "cell_type": "code",
   "execution_count": 6,
   "metadata": {},
   "outputs": [
    {
     "data": {
      "text/html": [
       "<div>\n",
       "<style scoped>\n",
       "    .dataframe tbody tr th:only-of-type {\n",
       "        vertical-align: middle;\n",
       "    }\n",
       "\n",
       "    .dataframe tbody tr th {\n",
       "        vertical-align: top;\n",
       "    }\n",
       "\n",
       "    .dataframe thead th {\n",
       "        text-align: right;\n",
       "    }\n",
       "</style>\n",
       "<table border=\"1\" class=\"dataframe\">\n",
       "  <thead>\n",
       "    <tr style=\"text-align: right;\">\n",
       "      <th></th>\n",
       "      <th>title</th>\n",
       "      <th>title_url</th>\n",
       "      <th>ref</th>\n",
       "      <th>summary</th>\n",
       "      <th>sutta_text</th>\n",
       "    </tr>\n",
       "  </thead>\n",
       "  <tbody>\n",
       "  </tbody>\n",
       "</table>\n",
       "</div>"
      ],
      "text/plain": [
       "Empty DataFrame\n",
       "Columns: [title, title_url, ref, summary, sutta_text]\n",
       "Index: []"
      ]
     },
     "execution_count": 6,
     "metadata": {},
     "output_type": "execute_result"
    }
   ],
   "source": [
    "df_mn.head(0)"
   ]
  },
  {
   "cell_type": "markdown",
   "metadata": {},
   "source": [
    "## 2. Digha Nikaya (DN)"
   ]
  },
  {
   "cell_type": "code",
   "execution_count": 7,
   "metadata": {},
   "outputs": [],
   "source": [
    "df_dnf = pd.read_csv('./sutta_csv/dn_full.csv')\n",
    "df_dnf.columns = df_dnf.columns.str.lower()\n",
    "df_dnf.columns = df_dnf.columns.str.replace(\" \", \"_\")\n",
    "\n",
    "df_dnt = pd.read_csv('./sutta_csv/dn_text_2.csv')\n",
    "df_dnt.columns = df_dnt.columns.str.lower()\n",
    "df_dnt.columns = df_dnt.columns.str.replace(\" \", \"_\")"
   ]
  },
  {
   "cell_type": "code",
   "execution_count": 8,
   "metadata": {},
   "outputs": [
    {
     "data": {
      "text/html": [
       "<div>\n",
       "<style scoped>\n",
       "    .dataframe tbody tr th:only-of-type {\n",
       "        vertical-align: middle;\n",
       "    }\n",
       "\n",
       "    .dataframe tbody tr th {\n",
       "        vertical-align: top;\n",
       "    }\n",
       "\n",
       "    .dataframe thead th {\n",
       "        text-align: right;\n",
       "    }\n",
       "</style>\n",
       "<table border=\"1\" class=\"dataframe\">\n",
       "  <thead>\n",
       "    <tr style=\"text-align: right;\">\n",
       "      <th></th>\n",
       "      <th>title</th>\n",
       "      <th>title_url</th>\n",
       "      <th>ref</th>\n",
       "      <th>summary</th>\n",
       "    </tr>\n",
       "  </thead>\n",
       "  <tbody>\n",
       "  </tbody>\n",
       "</table>\n",
       "</div>"
      ],
      "text/plain": [
       "Empty DataFrame\n",
       "Columns: [title, title_url, ref, summary]\n",
       "Index: []"
      ]
     },
     "execution_count": 8,
     "metadata": {},
     "output_type": "execute_result"
    }
   ],
   "source": [
    "df_dnf.head(0)"
   ]
  },
  {
   "cell_type": "code",
   "execution_count": 9,
   "metadata": {},
   "outputs": [
    {
     "data": {
      "text/html": [
       "<div>\n",
       "<style scoped>\n",
       "    .dataframe tbody tr th:only-of-type {\n",
       "        vertical-align: middle;\n",
       "    }\n",
       "\n",
       "    .dataframe tbody tr th {\n",
       "        vertical-align: top;\n",
       "    }\n",
       "\n",
       "    .dataframe thead th {\n",
       "        text-align: right;\n",
       "    }\n",
       "</style>\n",
       "<table border=\"1\" class=\"dataframe\">\n",
       "  <thead>\n",
       "    <tr style=\"text-align: right;\">\n",
       "      <th></th>\n",
       "      <th>sutta_text</th>\n",
       "      <th>title_url</th>\n",
       "    </tr>\n",
       "  </thead>\n",
       "  <tbody>\n",
       "  </tbody>\n",
       "</table>\n",
       "</div>"
      ],
      "text/plain": [
       "Empty DataFrame\n",
       "Columns: [sutta_text, title_url]\n",
       "Index: []"
      ]
     },
     "execution_count": 9,
     "metadata": {},
     "output_type": "execute_result"
    }
   ],
   "source": [
    "df_dnt.head(0)"
   ]
  },
  {
   "cell_type": "code",
   "execution_count": 10,
   "metadata": {},
   "outputs": [],
   "source": [
    "df_dn = pd.merge(left = df_dnf, right = df_dnt, on='title_url')"
   ]
  },
  {
   "cell_type": "code",
   "execution_count": 11,
   "metadata": {},
   "outputs": [
    {
     "data": {
      "text/html": [
       "<div>\n",
       "<style scoped>\n",
       "    .dataframe tbody tr th:only-of-type {\n",
       "        vertical-align: middle;\n",
       "    }\n",
       "\n",
       "    .dataframe tbody tr th {\n",
       "        vertical-align: top;\n",
       "    }\n",
       "\n",
       "    .dataframe thead th {\n",
       "        text-align: right;\n",
       "    }\n",
       "</style>\n",
       "<table border=\"1\" class=\"dataframe\">\n",
       "  <thead>\n",
       "    <tr style=\"text-align: right;\">\n",
       "      <th></th>\n",
       "      <th>title</th>\n",
       "      <th>title_url</th>\n",
       "      <th>ref</th>\n",
       "      <th>summary</th>\n",
       "      <th>sutta_text</th>\n",
       "    </tr>\n",
       "  </thead>\n",
       "  <tbody>\n",
       "  </tbody>\n",
       "</table>\n",
       "</div>"
      ],
      "text/plain": [
       "Empty DataFrame\n",
       "Columns: [title, title_url, ref, summary, sutta_text]\n",
       "Index: []"
      ]
     },
     "execution_count": 11,
     "metadata": {},
     "output_type": "execute_result"
    }
   ],
   "source": [
    "df_dn.head(0)"
   ]
  },
  {
   "cell_type": "markdown",
   "metadata": {},
   "source": [
    "## 3. Samyutta Nikaya (SN)"
   ]
  },
  {
   "cell_type": "code",
   "execution_count": 12,
   "metadata": {},
   "outputs": [],
   "source": [
    "df_snf = pd.read_csv('./sutta_csv/sn_full.csv')\n",
    "df_snf.columns = df_snf.columns.str.lower()\n",
    "df_snf.columns = df_snf.columns.str.replace(\" \", \"_\")\n",
    "\n",
    "df_snt = pd.read_csv('./sutta_csv/sn_text_2.csv')\n",
    "df_snt.columns = df_snt.columns.str.lower()\n",
    "df_snt.columns = df_snt.columns.str.replace(\" \", \"_\")"
   ]
  },
  {
   "cell_type": "code",
   "execution_count": 13,
   "metadata": {},
   "outputs": [
    {
     "data": {
      "text/html": [
       "<div>\n",
       "<style scoped>\n",
       "    .dataframe tbody tr th:only-of-type {\n",
       "        vertical-align: middle;\n",
       "    }\n",
       "\n",
       "    .dataframe tbody tr th {\n",
       "        vertical-align: top;\n",
       "    }\n",
       "\n",
       "    .dataframe thead th {\n",
       "        text-align: right;\n",
       "    }\n",
       "</style>\n",
       "<table border=\"1\" class=\"dataframe\">\n",
       "  <thead>\n",
       "    <tr style=\"text-align: right;\">\n",
       "      <th></th>\n",
       "      <th>title</th>\n",
       "      <th>title_url</th>\n",
       "      <th>ref</th>\n",
       "      <th>summary</th>\n",
       "    </tr>\n",
       "  </thead>\n",
       "  <tbody>\n",
       "  </tbody>\n",
       "</table>\n",
       "</div>"
      ],
      "text/plain": [
       "Empty DataFrame\n",
       "Columns: [title, title_url, ref, summary]\n",
       "Index: []"
      ]
     },
     "execution_count": 13,
     "metadata": {},
     "output_type": "execute_result"
    }
   ],
   "source": [
    "df_snf.head(0)"
   ]
  },
  {
   "cell_type": "code",
   "execution_count": 14,
   "metadata": {},
   "outputs": [
    {
     "data": {
      "text/html": [
       "<div>\n",
       "<style scoped>\n",
       "    .dataframe tbody tr th:only-of-type {\n",
       "        vertical-align: middle;\n",
       "    }\n",
       "\n",
       "    .dataframe tbody tr th {\n",
       "        vertical-align: top;\n",
       "    }\n",
       "\n",
       "    .dataframe thead th {\n",
       "        text-align: right;\n",
       "    }\n",
       "</style>\n",
       "<table border=\"1\" class=\"dataframe\">\n",
       "  <thead>\n",
       "    <tr style=\"text-align: right;\">\n",
       "      <th></th>\n",
       "      <th>sutta_text</th>\n",
       "      <th>title_url</th>\n",
       "    </tr>\n",
       "  </thead>\n",
       "  <tbody>\n",
       "  </tbody>\n",
       "</table>\n",
       "</div>"
      ],
      "text/plain": [
       "Empty DataFrame\n",
       "Columns: [sutta_text, title_url]\n",
       "Index: []"
      ]
     },
     "execution_count": 14,
     "metadata": {},
     "output_type": "execute_result"
    }
   ],
   "source": [
    "df_snt.head(0)"
   ]
  },
  {
   "cell_type": "code",
   "execution_count": 15,
   "metadata": {},
   "outputs": [],
   "source": [
    "df_sn = pd.merge(left = df_snf, right = df_snt, on='title_url')"
   ]
  },
  {
   "cell_type": "code",
   "execution_count": 16,
   "metadata": {},
   "outputs": [
    {
     "data": {
      "text/html": [
       "<div>\n",
       "<style scoped>\n",
       "    .dataframe tbody tr th:only-of-type {\n",
       "        vertical-align: middle;\n",
       "    }\n",
       "\n",
       "    .dataframe tbody tr th {\n",
       "        vertical-align: top;\n",
       "    }\n",
       "\n",
       "    .dataframe thead th {\n",
       "        text-align: right;\n",
       "    }\n",
       "</style>\n",
       "<table border=\"1\" class=\"dataframe\">\n",
       "  <thead>\n",
       "    <tr style=\"text-align: right;\">\n",
       "      <th></th>\n",
       "      <th>title</th>\n",
       "      <th>title_url</th>\n",
       "      <th>ref</th>\n",
       "      <th>summary</th>\n",
       "      <th>sutta_text</th>\n",
       "    </tr>\n",
       "  </thead>\n",
       "  <tbody>\n",
       "  </tbody>\n",
       "</table>\n",
       "</div>"
      ],
      "text/plain": [
       "Empty DataFrame\n",
       "Columns: [title, title_url, ref, summary, sutta_text]\n",
       "Index: []"
      ]
     },
     "execution_count": 16,
     "metadata": {},
     "output_type": "execute_result"
    }
   ],
   "source": [
    "df_sn.head(0)"
   ]
  },
  {
   "cell_type": "markdown",
   "metadata": {},
   "source": [
    "## 4. Anguttara Nikaya (AN)"
   ]
  },
  {
   "cell_type": "code",
   "execution_count": 17,
   "metadata": {},
   "outputs": [],
   "source": [
    "df_anf = pd.read_csv('./sutta_csv/an_full.csv')\n",
    "df_anf.columns = df_anf.columns.str.lower()\n",
    "df_anf.columns = df_anf.columns.str.replace(\" \", \"_\")\n",
    "\n",
    "df_ant = pd.read_csv('./sutta_csv/an_text_2.csv')\n",
    "df_ant.columns = df_ant.columns.str.lower()\n",
    "df_ant.columns = df_ant.columns.str.replace(\" \", \"_\")"
   ]
  },
  {
   "cell_type": "code",
   "execution_count": 18,
   "metadata": {},
   "outputs": [
    {
     "data": {
      "text/html": [
       "<div>\n",
       "<style scoped>\n",
       "    .dataframe tbody tr th:only-of-type {\n",
       "        vertical-align: middle;\n",
       "    }\n",
       "\n",
       "    .dataframe tbody tr th {\n",
       "        vertical-align: top;\n",
       "    }\n",
       "\n",
       "    .dataframe thead th {\n",
       "        text-align: right;\n",
       "    }\n",
       "</style>\n",
       "<table border=\"1\" class=\"dataframe\">\n",
       "  <thead>\n",
       "    <tr style=\"text-align: right;\">\n",
       "      <th></th>\n",
       "      <th>title</th>\n",
       "      <th>title_url</th>\n",
       "      <th>ref</th>\n",
       "      <th>summary</th>\n",
       "    </tr>\n",
       "  </thead>\n",
       "  <tbody>\n",
       "  </tbody>\n",
       "</table>\n",
       "</div>"
      ],
      "text/plain": [
       "Empty DataFrame\n",
       "Columns: [title, title_url, ref, summary]\n",
       "Index: []"
      ]
     },
     "execution_count": 18,
     "metadata": {},
     "output_type": "execute_result"
    }
   ],
   "source": [
    "df_anf.head(0)"
   ]
  },
  {
   "cell_type": "code",
   "execution_count": 19,
   "metadata": {},
   "outputs": [
    {
     "data": {
      "text/html": [
       "<div>\n",
       "<style scoped>\n",
       "    .dataframe tbody tr th:only-of-type {\n",
       "        vertical-align: middle;\n",
       "    }\n",
       "\n",
       "    .dataframe tbody tr th {\n",
       "        vertical-align: top;\n",
       "    }\n",
       "\n",
       "    .dataframe thead th {\n",
       "        text-align: right;\n",
       "    }\n",
       "</style>\n",
       "<table border=\"1\" class=\"dataframe\">\n",
       "  <thead>\n",
       "    <tr style=\"text-align: right;\">\n",
       "      <th></th>\n",
       "      <th>sutta_text</th>\n",
       "      <th>title_url</th>\n",
       "    </tr>\n",
       "  </thead>\n",
       "  <tbody>\n",
       "  </tbody>\n",
       "</table>\n",
       "</div>"
      ],
      "text/plain": [
       "Empty DataFrame\n",
       "Columns: [sutta_text, title_url]\n",
       "Index: []"
      ]
     },
     "execution_count": 19,
     "metadata": {},
     "output_type": "execute_result"
    }
   ],
   "source": [
    "df_ant.head(0)"
   ]
  },
  {
   "cell_type": "code",
   "execution_count": 20,
   "metadata": {},
   "outputs": [],
   "source": [
    "df_an = pd.merge(left = df_anf, right = df_ant, on='title_url')"
   ]
  },
  {
   "cell_type": "code",
   "execution_count": 21,
   "metadata": {},
   "outputs": [
    {
     "data": {
      "text/html": [
       "<div>\n",
       "<style scoped>\n",
       "    .dataframe tbody tr th:only-of-type {\n",
       "        vertical-align: middle;\n",
       "    }\n",
       "\n",
       "    .dataframe tbody tr th {\n",
       "        vertical-align: top;\n",
       "    }\n",
       "\n",
       "    .dataframe thead th {\n",
       "        text-align: right;\n",
       "    }\n",
       "</style>\n",
       "<table border=\"1\" class=\"dataframe\">\n",
       "  <thead>\n",
       "    <tr style=\"text-align: right;\">\n",
       "      <th></th>\n",
       "      <th>title</th>\n",
       "      <th>title_url</th>\n",
       "      <th>ref</th>\n",
       "      <th>summary</th>\n",
       "      <th>sutta_text</th>\n",
       "    </tr>\n",
       "  </thead>\n",
       "  <tbody>\n",
       "  </tbody>\n",
       "</table>\n",
       "</div>"
      ],
      "text/plain": [
       "Empty DataFrame\n",
       "Columns: [title, title_url, ref, summary, sutta_text]\n",
       "Index: []"
      ]
     },
     "execution_count": 21,
     "metadata": {},
     "output_type": "execute_result"
    }
   ],
   "source": [
    "df_an.head(0)"
   ]
  },
  {
   "cell_type": "markdown",
   "metadata": {},
   "source": [
    "# **Merging the Khuddaka Nikaya (KN)**"
   ]
  },
  {
   "cell_type": "markdown",
   "metadata": {},
   "source": [
    "Khuddaka Nikaya was much harder to scrape from the website. It is composed of 7 smaller collections, each with its own formatting. The content ranges from poetry to exclamations, quotations and stories. "
   ]
  },
  {
   "cell_type": "markdown",
   "metadata": {},
   "source": [
    "## KN 01 - Khuddakapatha (Khp)"
   ]
  },
  {
   "cell_type": "code",
   "execution_count": 22,
   "metadata": {},
   "outputs": [],
   "source": [
    "df_kkhpf = pd.read_csv('./sutta_csv/kn/01_kn_khp_full.csv')\n",
    "df_kkhpf.columns = df_kkhpf.columns.str.lower()\n",
    "df_kkhpf.columns = df_kkhpf.columns.str.replace(\" \", \"_\")\n",
    "\n",
    "df_kkhpt = pd.read_csv('./sutta_csv/kn/01_kn_khp_text.csv')\n",
    "df_kkhpt.columns = df_kkhpt.columns.str.lower()\n",
    "df_kkhpt.columns = df_kkhpt.columns.str.replace(\" \", \"_\")"
   ]
  },
  {
   "cell_type": "code",
   "execution_count": 23,
   "metadata": {},
   "outputs": [
    {
     "data": {
      "text/html": [
       "<div>\n",
       "<style scoped>\n",
       "    .dataframe tbody tr th:only-of-type {\n",
       "        vertical-align: middle;\n",
       "    }\n",
       "\n",
       "    .dataframe tbody tr th {\n",
       "        vertical-align: top;\n",
       "    }\n",
       "\n",
       "    .dataframe thead th {\n",
       "        text-align: right;\n",
       "    }\n",
       "</style>\n",
       "<table border=\"1\" class=\"dataframe\">\n",
       "  <thead>\n",
       "    <tr style=\"text-align: right;\">\n",
       "      <th></th>\n",
       "      <th>title</th>\n",
       "      <th>ref</th>\n",
       "      <th>title_url</th>\n",
       "      <th>summary</th>\n",
       "    </tr>\n",
       "  </thead>\n",
       "  <tbody>\n",
       "    <tr>\n",
       "      <th>0</th>\n",
       "      <td>Introduction</td>\n",
       "      <td>Introduction</td>\n",
       "      <td>https://www.dhammatalks.org/suttas/KN/Khp/khpintroduction.html</td>\n",
       "      <td>Introduction</td>\n",
       "    </tr>\n",
       "  </tbody>\n",
       "</table>\n",
       "</div>"
      ],
      "text/plain": [
       "          title           ref  \\\n",
       "0  Introduction  Introduction   \n",
       "\n",
       "                                                        title_url  \\\n",
       "0  https://www.dhammatalks.org/suttas/KN/Khp/khpintroduction.html   \n",
       "\n",
       "        summary  \n",
       "0  Introduction  "
      ]
     },
     "execution_count": 23,
     "metadata": {},
     "output_type": "execute_result"
    }
   ],
   "source": [
    "df_kkhpf.head(1)"
   ]
  },
  {
   "cell_type": "code",
   "execution_count": 24,
   "metadata": {},
   "outputs": [
    {
     "data": {
      "text/html": [
       "<div>\n",
       "<style scoped>\n",
       "    .dataframe tbody tr th:only-of-type {\n",
       "        vertical-align: middle;\n",
       "    }\n",
       "\n",
       "    .dataframe tbody tr th {\n",
       "        vertical-align: top;\n",
       "    }\n",
       "\n",
       "    .dataframe thead th {\n",
       "        text-align: right;\n",
       "    }\n",
       "</style>\n",
       "<table border=\"1\" class=\"dataframe\">\n",
       "  <thead>\n",
       "    <tr style=\"text-align: right;\">\n",
       "      <th></th>\n",
       "      <th>title_url</th>\n",
       "      <th>sutta_text</th>\n",
       "    </tr>\n",
       "  </thead>\n",
       "  <tbody>\n",
       "    <tr>\n",
       "      <th>0</th>\n",
       "      <td>https://www.dhammatalks.org/suttas/KN/Khp/khp1.html</td>\n",
       "      <td>Khp 1.  Saraṇagamana — Going for RefugeNavigationSuttas/KN/Khp/1\\n            I go to the Buddha for refuge.\\n            I go to the Dhamma for refuge.\\n            I go to the Saṅgha for refuge.\\n            A second time I go to the Buddha for refuge.\\n            A second time I go to the Dhamma for refuge.\\n            A second time I go to the Saṅgha for refuge.\\n            A third time I go to the Buddha for refuge.\\n            A third time I go to the Dhamma for refuge.\\n            A third time I go to the Saṅgha for refuge.</td>\n",
       "    </tr>\n",
       "  </tbody>\n",
       "</table>\n",
       "</div>"
      ],
      "text/plain": [
       "                                             title_url  \\\n",
       "0  https://www.dhammatalks.org/suttas/KN/Khp/khp1.html   \n",
       "\n",
       "                                                                                                                                                                                                                                                                                                                                                                                                                                                                                                                                                      sutta_text  \n",
       "0  Khp 1.  Saraṇagamana — Going for RefugeNavigationSuttas/KN/Khp/1\\n            I go to the Buddha for refuge.\\n            I go to the Dhamma for refuge.\\n            I go to the Saṅgha for refuge.\\n            A second time I go to the Buddha for refuge.\\n            A second time I go to the Dhamma for refuge.\\n            A second time I go to the Saṅgha for refuge.\\n            A third time I go to the Buddha for refuge.\\n            A third time I go to the Dhamma for refuge.\\n            A third time I go to the Saṅgha for refuge.  "
      ]
     },
     "execution_count": 24,
     "metadata": {},
     "output_type": "execute_result"
    }
   ],
   "source": [
    "df_kkhpt.head(1)"
   ]
  },
  {
   "cell_type": "code",
   "execution_count": 25,
   "metadata": {},
   "outputs": [],
   "source": [
    "df_kkhp = pd.merge(left = df_kkhpf, right = df_kkhpt, on='title_url')"
   ]
  },
  {
   "cell_type": "code",
   "execution_count": 26,
   "metadata": {},
   "outputs": [
    {
     "data": {
      "text/html": [
       "<div>\n",
       "<style scoped>\n",
       "    .dataframe tbody tr th:only-of-type {\n",
       "        vertical-align: middle;\n",
       "    }\n",
       "\n",
       "    .dataframe tbody tr th {\n",
       "        vertical-align: top;\n",
       "    }\n",
       "\n",
       "    .dataframe thead th {\n",
       "        text-align: right;\n",
       "    }\n",
       "</style>\n",
       "<table border=\"1\" class=\"dataframe\">\n",
       "  <thead>\n",
       "    <tr style=\"text-align: right;\">\n",
       "      <th></th>\n",
       "      <th>title</th>\n",
       "      <th>ref</th>\n",
       "      <th>title_url</th>\n",
       "      <th>summary</th>\n",
       "      <th>sutta_text</th>\n",
       "    </tr>\n",
       "  </thead>\n",
       "  <tbody>\n",
       "    <tr>\n",
       "      <th>0</th>\n",
       "      <td>Khp 1  Saraṇagamana | Going for Refuge</td>\n",
       "      <td>Khp 1</td>\n",
       "      <td>https://www.dhammatalks.org/suttas/KN/Khp/khp1.html</td>\n",
       "      <td>Khp 1  Saraṇagamana | Going for Refuge  —  The standard passage for taking refuge.</td>\n",
       "      <td>Khp 1.  Saraṇagamana — Going for RefugeNavigationSuttas/KN/Khp/1\\n            I go to the Buddha for refuge.\\n            I go to the Dhamma for refuge.\\n            I go to the Saṅgha for refuge.\\n            A second time I go to the Buddha for refuge.\\n            A second time I go to the Dhamma for refuge.\\n            A second time I go to the Saṅgha for refuge.\\n            A third time I go to the Buddha for refuge.\\n            A third time I go to the Dhamma for refuge.\\n            A third time I go to the Saṅgha for refuge.</td>\n",
       "    </tr>\n",
       "  </tbody>\n",
       "</table>\n",
       "</div>"
      ],
      "text/plain": [
       "                                    title    ref  \\\n",
       "0  Khp 1  Saraṇagamana | Going for Refuge  Khp 1   \n",
       "\n",
       "                                             title_url  \\\n",
       "0  https://www.dhammatalks.org/suttas/KN/Khp/khp1.html   \n",
       "\n",
       "                                                                              summary  \\\n",
       "0  Khp 1  Saraṇagamana | Going for Refuge  —  The standard passage for taking refuge.   \n",
       "\n",
       "                                                                                                                                                                                                                                                                                                                                                                                                                                                                                                                                                      sutta_text  \n",
       "0  Khp 1.  Saraṇagamana — Going for RefugeNavigationSuttas/KN/Khp/1\\n            I go to the Buddha for refuge.\\n            I go to the Dhamma for refuge.\\n            I go to the Saṅgha for refuge.\\n            A second time I go to the Buddha for refuge.\\n            A second time I go to the Dhamma for refuge.\\n            A second time I go to the Saṅgha for refuge.\\n            A third time I go to the Buddha for refuge.\\n            A third time I go to the Dhamma for refuge.\\n            A third time I go to the Saṅgha for refuge.  "
      ]
     },
     "execution_count": 26,
     "metadata": {},
     "output_type": "execute_result"
    }
   ],
   "source": [
    "df_kkhp.head(1)"
   ]
  },
  {
   "cell_type": "markdown",
   "metadata": {},
   "source": [
    "## KN 02 - Dhammapada (Dhp)"
   ]
  },
  {
   "cell_type": "code",
   "execution_count": 27,
   "metadata": {},
   "outputs": [],
   "source": [
    "df_kdhpf = pd.read_csv('./sutta_csv/kn/02_kn_dhp_full.csv')\n",
    "df_kdhpf.columns = df_kdhpf.columns.str.lower()\n",
    "df_kdhpf.columns = df_kdhpf.columns.str.replace(\" \", \"_\")\n",
    "\n",
    "df_kdhpt = pd.read_csv('./sutta_csv/kn/02_kn_dhp_text.csv')\n",
    "df_kdhpt.columns = df_kdhpt.columns.str.lower()\n",
    "df_kdhpt.columns = df_kdhpt.columns.str.replace(\" \", \"_\")"
   ]
  },
  {
   "cell_type": "code",
   "execution_count": 28,
   "metadata": {},
   "outputs": [
    {
     "data": {
      "text/html": [
       "<div>\n",
       "<style scoped>\n",
       "    .dataframe tbody tr th:only-of-type {\n",
       "        vertical-align: middle;\n",
       "    }\n",
       "\n",
       "    .dataframe tbody tr th {\n",
       "        vertical-align: top;\n",
       "    }\n",
       "\n",
       "    .dataframe thead th {\n",
       "        text-align: right;\n",
       "    }\n",
       "</style>\n",
       "<table border=\"1\" class=\"dataframe\">\n",
       "  <thead>\n",
       "    <tr style=\"text-align: right;\">\n",
       "      <th></th>\n",
       "      <th>field1</th>\n",
       "      <th>field2_links</th>\n",
       "    </tr>\n",
       "  </thead>\n",
       "  <tbody>\n",
       "    <tr>\n",
       "      <th>0</th>\n",
       "      <td>Preface</td>\n",
       "      <td>https://www.dhammatalks.org/suttas/KN/Dhp/preface.html</td>\n",
       "    </tr>\n",
       "  </tbody>\n",
       "</table>\n",
       "</div>"
      ],
      "text/plain": [
       "    field1                                            field2_links\n",
       "0  Preface  https://www.dhammatalks.org/suttas/KN/Dhp/preface.html"
      ]
     },
     "execution_count": 28,
     "metadata": {},
     "output_type": "execute_result"
    }
   ],
   "source": [
    "df_kdhpf.head(1)"
   ]
  },
  {
   "cell_type": "code",
   "execution_count": 29,
   "metadata": {},
   "outputs": [
    {
     "data": {
      "text/html": [
       "<div>\n",
       "<style scoped>\n",
       "    .dataframe tbody tr th:only-of-type {\n",
       "        vertical-align: middle;\n",
       "    }\n",
       "\n",
       "    .dataframe tbody tr th {\n",
       "        vertical-align: top;\n",
       "    }\n",
       "\n",
       "    .dataframe thead th {\n",
       "        text-align: right;\n",
       "    }\n",
       "</style>\n",
       "<table border=\"1\" class=\"dataframe\">\n",
       "  <thead>\n",
       "    <tr style=\"text-align: right;\">\n",
       "      <th></th>\n",
       "      <th>url</th>\n",
       "      <th>text</th>\n",
       "    </tr>\n",
       "  </thead>\n",
       "  <tbody>\n",
       "  </tbody>\n",
       "</table>\n",
       "</div>"
      ],
      "text/plain": [
       "Empty DataFrame\n",
       "Columns: [url, text]\n",
       "Index: []"
      ]
     },
     "execution_count": 29,
     "metadata": {},
     "output_type": "execute_result"
    }
   ],
   "source": [
    "df_kdhpt.head(0)"
   ]
  },
  {
   "cell_type": "code",
   "execution_count": 30,
   "metadata": {},
   "outputs": [],
   "source": [
    "df_kdhp = pd.merge(left = df_kdhpf, right = df_kdhpt, right_on='url', left_on = 'field2_links')"
   ]
  },
  {
   "cell_type": "code",
   "execution_count": 31,
   "metadata": {},
   "outputs": [
    {
     "data": {
      "text/html": [
       "<div>\n",
       "<style scoped>\n",
       "    .dataframe tbody tr th:only-of-type {\n",
       "        vertical-align: middle;\n",
       "    }\n",
       "\n",
       "    .dataframe tbody tr th {\n",
       "        vertical-align: top;\n",
       "    }\n",
       "\n",
       "    .dataframe thead th {\n",
       "        text-align: right;\n",
       "    }\n",
       "</style>\n",
       "<table border=\"1\" class=\"dataframe\">\n",
       "  <thead>\n",
       "    <tr style=\"text-align: right;\">\n",
       "      <th></th>\n",
       "      <th>field1</th>\n",
       "      <th>field2_links</th>\n",
       "      <th>url</th>\n",
       "      <th>text</th>\n",
       "    </tr>\n",
       "  </thead>\n",
       "  <tbody>\n",
       "  </tbody>\n",
       "</table>\n",
       "</div>"
      ],
      "text/plain": [
       "Empty DataFrame\n",
       "Columns: [field1, field2_links, url, text]\n",
       "Index: []"
      ]
     },
     "execution_count": 31,
     "metadata": {},
     "output_type": "execute_result"
    }
   ],
   "source": [
    "df_kdhp.head(0)"
   ]
  },
  {
   "cell_type": "code",
   "execution_count": 32,
   "metadata": {},
   "outputs": [],
   "source": [
    "## Dropping\n",
    "df_kdhp = df_kdhp.drop(columns = 'field2_links')"
   ]
  },
  {
   "cell_type": "code",
   "execution_count": 33,
   "metadata": {},
   "outputs": [],
   "source": [
    "## Renaming\n",
    "df_kdhp = df_kdhp.rename(columns = {\n",
    "                            \"field1\": \"title\",\n",
    "                              'url': 'title_url',\n",
    "                                'text': 'sutta_text'\n",
    "                               })\n"
   ]
  },
  {
   "cell_type": "code",
   "execution_count": 34,
   "metadata": {
    "collapsed": true,
    "jupyter": {
     "outputs_hidden": true
    }
   },
   "outputs": [
    {
     "data": {
      "text/html": [
       "<div>\n",
       "<style scoped>\n",
       "    .dataframe tbody tr th:only-of-type {\n",
       "        vertical-align: middle;\n",
       "    }\n",
       "\n",
       "    .dataframe tbody tr th {\n",
       "        vertical-align: top;\n",
       "    }\n",
       "\n",
       "    .dataframe thead th {\n",
       "        text-align: right;\n",
       "    }\n",
       "</style>\n",
       "<table border=\"1\" class=\"dataframe\">\n",
       "  <thead>\n",
       "    <tr style=\"text-align: right;\">\n",
       "      <th></th>\n",
       "      <th>title</th>\n",
       "      <th>title_url</th>\n",
       "      <th>sutta_text</th>\n",
       "    </tr>\n",
       "  </thead>\n",
       "  <tbody>\n",
       "    <tr>\n",
       "      <th>0</th>\n",
       "      <td>Ch.   1   Pairs</td>\n",
       "      <td>https://www.dhammatalks.org/suttas/KN/Dhp/Ch01.html</td>\n",
       "      <td>\\n              Dhp I : PairsNavigationSuttas/KN/Dhp/1\\n              \\n                Phenomena are\\n                preceded by the heart,\\n                ruled by the heart,\\n                made of the heart.\\n                If you speak or act\\n                with a corrupted heart,\\n                then suffering follows you –\\n                as the wheel of the cart,\\n                the track of the ox\\n                that pulls it.\\n              \\n              \\n                Phenomena are\\n                preceded by the heart,\\n                ruled by the heart,\\n                made of the heart.\\n                If you speak or act\\n                with a calm, bright heart,\\n                then happiness follows you,\\n                like a shadow\\n                that never leaves.\\n              \\n              1-2*\\n              \\n                ‘He       insulted me,\\n                hit me,\\n                beat me,\\n                robbed me’\\n                –for those who brood on this,\\n                hostility isn’t stilled.\\n              \\n              \\n                ‘He insulted me,\\n                hit me,\\n                beat me,\\n                robbed me’–\\n                for those who don’t brood on this,\\n                hostility is stilled.\\n              \\n              \\n                Hostilities aren’t stilled\\n                through hostility,\\n                regardless.\\n                Hostilities are stilled\\n                through non-hostility:\\n                this, an unending truth.\\n              \\n              \\n                Unlike those who don’t realize\\n                that we’re here on the verge\\n                of perishing,\\n                those who do:\\n                their quarrels are stilled.\\n              \\n              3-6\\n              \\n                One who stays focused on the beautiful,\\n                is unrestrained with the senses,\\n                knowing no moderation in food,\\n                apathetic, unenergetic:\\n                Mara overcomes him\\n                as the wind, a weak tree.\\n              \\n              \\n                One who stays focused on the foul,\\n                is restrained with regard to the senses,\\n                knowing moderation in food,\\n                full of conviction &amp; energy:\\n                Mara does not overcome him\\n                as the wind, a mountain of rock.\\n              \\n              7-8*\\n              \\n                He who,\\n                depraved,\\n                devoid\\n                of truthfulness\\n                &amp; self-control,\\n                puts on the ochre robe,\\n                doesn’t deserve the ochre robe.\\n              \\n              \\n                But he who is free\\n                of depravity\\n                endowed\\n                with truthfulness\\n                &amp; self-control,\\n                well-established\\n                in the precepts,\\n                truly deserves the ochre robe.\\n              \\n              9-10\\n              \\n                Those who regard\\n                non-essence as essence\\n                and see essence as non-,\\n                don’t get to the essence,\\n                ranging about in wrong resolves.\\n              \\n              \\n                But those who know\\n                essence as essence,\\n                and non-essence as non-,\\n                get to the essence,\\n                ranging about in right resolves.\\n              \\n              11-12*\\n              \\n                As rain seeps into\\n                an ill-thatched hut,\\n                so passion,\\n                the undeveloped mind.\\n              \\n              \\n                As rain doesn’t seep into\\n                a well-thatched hut,\\n                so passion does not,\\n                the well-developed mind.\\n              \\n              13-14\\n              \\n                Here\\n                he grieves\\n                he grieves\\n                hereafter.\\n                In both worlds\\n                the wrong-doer grieves.\\n                He grieves, he’s afflicted,\\n                seeing the corruption\\n                of his deeds.\\n              \\n              \\n                Here\\n                he rejoices\\n                he rejoices\\n                hereafter.\\n                In both worlds\\n                the merit-maker rejoices.\\n                He rejoices, is jubilant,\\n                seeing the purity\\n                of his deeds.\\n              \\n              \\n                Here\\n                he’s tormented\\n                he’s tormented\\n                hereafter.\\n                In both worlds\\n                the wrong-doer’s tormented.\\n                He’s tormented at the thought,\\n                ‘I’ve done wrong.’\\n                Having gone to a bad destination,\\n                he’s tormented\\n                all the more.\\n              \\n              \\n                Here\\n                he delights\\n                he delights\\n                hereafter.\\n                In both worlds\\n                the merit-maker delights.\\n                He delights at the thought,\\n                ‘I’ve made merit.’\\n                Having gone to a good destination,\\n                he delights\\n                all the more.\\n              \\n              15-18*\\n              \\n                If he recites many teachings, but\\n                –heedless man–\\n                doesn’t do what they say,\\n                like a cowherd counting the cattle of\\n                others,\\n                he has no share in the contemplative life.\\n              \\n              \\n                If he recites next to nothing\\n                but follows the Dhamma\\n                in line with the Dhamma;\\n                abandoning passion,\\n                aversion, delusion;\\n                alert,\\n                his mind well released,\\n                not clinging\\n                either here or hereafter:\\n                he has his share in the contemplative life.\\n              \\n              19-20\\n</td>\n",
       "    </tr>\n",
       "  </tbody>\n",
       "</table>\n",
       "</div>"
      ],
      "text/plain": [
       "             title                                            title_url  \\\n",
       "0  Ch.   1   Pairs  https://www.dhammatalks.org/suttas/KN/Dhp/Ch01.html   \n",
       "\n",
       "                                                                                                                                                                                                                                                                                                                                                                                                                                                                                                                                                                                                                                                                                                                                                                                                                                                                                                                                                                                                                                                                                                                                                                                                                                                                                                                                                                                                                                                                                                                                                                                                                                                                                                                                                                                                                                                                                                                                                                                                                                                                                                                                                                                                                                                                                                                                                                                                                                                                                                                                                                                                                                                                                                                                                                                                                                                                                                                                                                                                                                                                                                                                                                                                                                                                                                                                                                                                                                                                                                                                                                                                                                                                                                                                                                                                                                                                                                                                                                                                                                                                                                                                                                                                                                                                                                                                                                                                                                                                                                                                                                                                                                                                                                                                                                                                                                                                                                                                                                                                                                                                                                                                                                                                                                                                                                                                                                                                                                                                                                                                                                                                                                                                                                                                                                                                                                                                                                                                                                                                                                                                                                                                                                                                                                                                                                                                                                                                                                                                                               sutta_text  \n",
       "0  \\n              Dhp I : PairsNavigationSuttas/KN/Dhp/1\\n              \\n                Phenomena are\\n                preceded by the heart,\\n                ruled by the heart,\\n                made of the heart.\\n                If you speak or act\\n                with a corrupted heart,\\n                then suffering follows you –\\n                as the wheel of the cart,\\n                the track of the ox\\n                that pulls it.\\n              \\n              \\n                Phenomena are\\n                preceded by the heart,\\n                ruled by the heart,\\n                made of the heart.\\n                If you speak or act\\n                with a calm, bright heart,\\n                then happiness follows you,\\n                like a shadow\\n                that never leaves.\\n              \\n              1-2*\\n              \\n                ‘He       insulted me,\\n                hit me,\\n                beat me,\\n                robbed me’\\n                –for those who brood on this,\\n                hostility isn’t stilled.\\n              \\n              \\n                ‘He insulted me,\\n                hit me,\\n                beat me,\\n                robbed me’–\\n                for those who don’t brood on this,\\n                hostility is stilled.\\n              \\n              \\n                Hostilities aren’t stilled\\n                through hostility,\\n                regardless.\\n                Hostilities are stilled\\n                through non-hostility:\\n                this, an unending truth.\\n              \\n              \\n                Unlike those who don’t realize\\n                that we’re here on the verge\\n                of perishing,\\n                those who do:\\n                their quarrels are stilled.\\n              \\n              3-6\\n              \\n                One who stays focused on the beautiful,\\n                is unrestrained with the senses,\\n                knowing no moderation in food,\\n                apathetic, unenergetic:\\n                Mara overcomes him\\n                as the wind, a weak tree.\\n              \\n              \\n                One who stays focused on the foul,\\n                is restrained with regard to the senses,\\n                knowing moderation in food,\\n                full of conviction & energy:\\n                Mara does not overcome him\\n                as the wind, a mountain of rock.\\n              \\n              7-8*\\n              \\n                He who,\\n                depraved,\\n                devoid\\n                of truthfulness\\n                & self-control,\\n                puts on the ochre robe,\\n                doesn’t deserve the ochre robe.\\n              \\n              \\n                But he who is free\\n                of depravity\\n                endowed\\n                with truthfulness\\n                & self-control,\\n                well-established\\n                in the precepts,\\n                truly deserves the ochre robe.\\n              \\n              9-10\\n              \\n                Those who regard\\n                non-essence as essence\\n                and see essence as non-,\\n                don’t get to the essence,\\n                ranging about in wrong resolves.\\n              \\n              \\n                But those who know\\n                essence as essence,\\n                and non-essence as non-,\\n                get to the essence,\\n                ranging about in right resolves.\\n              \\n              11-12*\\n              \\n                As rain seeps into\\n                an ill-thatched hut,\\n                so passion,\\n                the undeveloped mind.\\n              \\n              \\n                As rain doesn’t seep into\\n                a well-thatched hut,\\n                so passion does not,\\n                the well-developed mind.\\n              \\n              13-14\\n              \\n                Here\\n                he grieves\\n                he grieves\\n                hereafter.\\n                In both worlds\\n                the wrong-doer grieves.\\n                He grieves, he’s afflicted,\\n                seeing the corruption\\n                of his deeds.\\n              \\n              \\n                Here\\n                he rejoices\\n                he rejoices\\n                hereafter.\\n                In both worlds\\n                the merit-maker rejoices.\\n                He rejoices, is jubilant,\\n                seeing the purity\\n                of his deeds.\\n              \\n              \\n                Here\\n                he’s tormented\\n                he’s tormented\\n                hereafter.\\n                In both worlds\\n                the wrong-doer’s tormented.\\n                He’s tormented at the thought,\\n                ‘I’ve done wrong.’\\n                Having gone to a bad destination,\\n                he’s tormented\\n                all the more.\\n              \\n              \\n                Here\\n                he delights\\n                he delights\\n                hereafter.\\n                In both worlds\\n                the merit-maker delights.\\n                He delights at the thought,\\n                ‘I’ve made merit.’\\n                Having gone to a good destination,\\n                he delights\\n                all the more.\\n              \\n              15-18*\\n              \\n                If he recites many teachings, but\\n                –heedless man–\\n                doesn’t do what they say,\\n                like a cowherd counting the cattle of\\n                others,\\n                he has no share in the contemplative life.\\n              \\n              \\n                If he recites next to nothing\\n                but follows the Dhamma\\n                in line with the Dhamma;\\n                abandoning passion,\\n                aversion, delusion;\\n                alert,\\n                his mind well released,\\n                not clinging\\n                either here or hereafter:\\n                he has his share in the contemplative life.\\n              \\n              19-20\\n              "
      ]
     },
     "execution_count": 34,
     "metadata": {},
     "output_type": "execute_result"
    }
   ],
   "source": [
    "df_kdhp.head(1)"
   ]
  },
  {
   "cell_type": "code",
   "execution_count": 35,
   "metadata": {},
   "outputs": [],
   "source": [
    "## Create new column with Dhp + Everything before the colon in the title column just so that I have a ref value."
   ]
  },
  {
   "cell_type": "code",
   "execution_count": null,
   "metadata": {},
   "outputs": [],
   "source": []
  },
  {
   "cell_type": "markdown",
   "metadata": {},
   "source": [
    "## KN 03 - Udana (Ud)"
   ]
  },
  {
   "cell_type": "code",
   "execution_count": 36,
   "metadata": {},
   "outputs": [],
   "source": [
    "df_kudf = pd.read_csv('./sutta_csv/kn/03_kn_ud_full.csv')\n",
    "df_kudf.columns = df_kudf.columns.str.lower()\n",
    "df_kudf.columns = df_kudf.columns.str.replace(\" \", \"_\")\n",
    "\n",
    "df_kudt = pd.read_csv('./sutta_csv/kn/03_kn_ud_text.csv.csv')\n",
    "df_kudt.columns = df_kudt.columns.str.lower()\n",
    "df_kudt.columns = df_kudt.columns.str.replace(\" \", \"_\")"
   ]
  },
  {
   "cell_type": "code",
   "execution_count": 37,
   "metadata": {},
   "outputs": [
    {
     "data": {
      "text/html": [
       "<div>\n",
       "<style scoped>\n",
       "    .dataframe tbody tr th:only-of-type {\n",
       "        vertical-align: middle;\n",
       "    }\n",
       "\n",
       "    .dataframe tbody tr th {\n",
       "        vertical-align: top;\n",
       "    }\n",
       "\n",
       "    .dataframe thead th {\n",
       "        text-align: right;\n",
       "    }\n",
       "</style>\n",
       "<table border=\"1\" class=\"dataframe\">\n",
       "  <thead>\n",
       "    <tr style=\"text-align: right;\">\n",
       "      <th></th>\n",
       "      <th>title</th>\n",
       "      <th>title_url</th>\n",
       "      <th>field</th>\n",
       "    </tr>\n",
       "  </thead>\n",
       "  <tbody>\n",
       "    <tr>\n",
       "      <th>0</th>\n",
       "      <td>Ud 1:1  Bodhi Sutta | Awakening (1)</td>\n",
       "      <td>https://www.dhammatalks.org/suttas/KN/Ud/ud1_1.html</td>\n",
       "      <td>Ud 1:1</td>\n",
       "    </tr>\n",
       "  </tbody>\n",
       "</table>\n",
       "</div>"
      ],
      "text/plain": [
       "                                 title  \\\n",
       "0  Ud 1:1  Bodhi Sutta | Awakening (1)   \n",
       "\n",
       "                                             title_url   field  \n",
       "0  https://www.dhammatalks.org/suttas/KN/Ud/ud1_1.html  Ud 1:1  "
      ]
     },
     "execution_count": 37,
     "metadata": {},
     "output_type": "execute_result"
    }
   ],
   "source": [
    "df_kudf.head(1)"
   ]
  },
  {
   "cell_type": "code",
   "execution_count": 38,
   "metadata": {},
   "outputs": [
    {
     "data": {
      "text/html": [
       "<div>\n",
       "<style scoped>\n",
       "    .dataframe tbody tr th:only-of-type {\n",
       "        vertical-align: middle;\n",
       "    }\n",
       "\n",
       "    .dataframe tbody tr th {\n",
       "        vertical-align: top;\n",
       "    }\n",
       "\n",
       "    .dataframe thead th {\n",
       "        text-align: right;\n",
       "    }\n",
       "</style>\n",
       "<table border=\"1\" class=\"dataframe\">\n",
       "  <thead>\n",
       "    <tr style=\"text-align: right;\">\n",
       "      <th></th>\n",
       "      <th>url</th>\n",
       "      <th>text</th>\n",
       "    </tr>\n",
       "  </thead>\n",
       "  <tbody>\n",
       "  </tbody>\n",
       "</table>\n",
       "</div>"
      ],
      "text/plain": [
       "Empty DataFrame\n",
       "Columns: [url, text]\n",
       "Index: []"
      ]
     },
     "execution_count": 38,
     "metadata": {},
     "output_type": "execute_result"
    }
   ],
   "source": [
    "df_kudt.head(0)"
   ]
  },
  {
   "cell_type": "code",
   "execution_count": 39,
   "metadata": {},
   "outputs": [],
   "source": [
    "df_kud = pd.merge(left = df_kudf, right = df_kudt, right_on='url', left_on = 'title_url')"
   ]
  },
  {
   "cell_type": "code",
   "execution_count": 40,
   "metadata": {},
   "outputs": [
    {
     "data": {
      "text/html": [
       "<div>\n",
       "<style scoped>\n",
       "    .dataframe tbody tr th:only-of-type {\n",
       "        vertical-align: middle;\n",
       "    }\n",
       "\n",
       "    .dataframe tbody tr th {\n",
       "        vertical-align: top;\n",
       "    }\n",
       "\n",
       "    .dataframe thead th {\n",
       "        text-align: right;\n",
       "    }\n",
       "</style>\n",
       "<table border=\"1\" class=\"dataframe\">\n",
       "  <thead>\n",
       "    <tr style=\"text-align: right;\">\n",
       "      <th></th>\n",
       "      <th>title</th>\n",
       "      <th>title_url</th>\n",
       "      <th>field</th>\n",
       "      <th>url</th>\n",
       "      <th>text</th>\n",
       "    </tr>\n",
       "  </thead>\n",
       "  <tbody>\n",
       "  </tbody>\n",
       "</table>\n",
       "</div>"
      ],
      "text/plain": [
       "Empty DataFrame\n",
       "Columns: [title, title_url, field, url, text]\n",
       "Index: []"
      ]
     },
     "execution_count": 40,
     "metadata": {},
     "output_type": "execute_result"
    }
   ],
   "source": [
    "df_kud.head(0)"
   ]
  },
  {
   "cell_type": "code",
   "execution_count": 41,
   "metadata": {},
   "outputs": [],
   "source": [
    "## Dropping\n",
    "df_kud = df_kud.drop(columns = 'url')"
   ]
  },
  {
   "cell_type": "code",
   "execution_count": 42,
   "metadata": {},
   "outputs": [],
   "source": [
    "## Renaming\n",
    "df_kud = df_kud.rename(columns = {\n",
    "                            \"field\": \"ref\",\n",
    "                            'text': 'sutta_text'\n",
    "                               })\n"
   ]
  },
  {
   "cell_type": "code",
   "execution_count": 43,
   "metadata": {},
   "outputs": [
    {
     "data": {
      "text/html": [
       "<div>\n",
       "<style scoped>\n",
       "    .dataframe tbody tr th:only-of-type {\n",
       "        vertical-align: middle;\n",
       "    }\n",
       "\n",
       "    .dataframe tbody tr th {\n",
       "        vertical-align: top;\n",
       "    }\n",
       "\n",
       "    .dataframe thead th {\n",
       "        text-align: right;\n",
       "    }\n",
       "</style>\n",
       "<table border=\"1\" class=\"dataframe\">\n",
       "  <thead>\n",
       "    <tr style=\"text-align: right;\">\n",
       "      <th></th>\n",
       "      <th>title</th>\n",
       "      <th>title_url</th>\n",
       "      <th>ref</th>\n",
       "      <th>sutta_text</th>\n",
       "    </tr>\n",
       "  </thead>\n",
       "  <tbody>\n",
       "  </tbody>\n",
       "</table>\n",
       "</div>"
      ],
      "text/plain": [
       "Empty DataFrame\n",
       "Columns: [title, title_url, ref, sutta_text]\n",
       "Index: []"
      ]
     },
     "execution_count": 43,
     "metadata": {},
     "output_type": "execute_result"
    }
   ],
   "source": [
    "df_kud.head(0)"
   ]
  },
  {
   "cell_type": "markdown",
   "metadata": {},
   "source": [
    "## KN 04 - Itivuttaka (Ud)"
   ]
  },
  {
   "cell_type": "code",
   "execution_count": 44,
   "metadata": {},
   "outputs": [],
   "source": [
    "df_kitif = pd.read_csv('./sutta_csv/kn/04_kn_iti_full.csv')\n",
    "df_kitif.columns = df_kitif.columns.str.lower()\n",
    "df_kitif.columns = df_kitif.columns.str.replace(\" \", \"_\")\n",
    "\n",
    "df_kitit = pd.read_csv('./sutta_csv/kn/04_kn_iti_text.csv.csv')\n",
    "df_kitit.columns = df_kitit.columns.str.lower()\n",
    "df_kitit.columns = df_kitit.columns.str.replace(\" \", \"_\")"
   ]
  },
  {
   "cell_type": "code",
   "execution_count": 45,
   "metadata": {},
   "outputs": [
    {
     "data": {
      "text/html": [
       "<div>\n",
       "<style scoped>\n",
       "    .dataframe tbody tr th:only-of-type {\n",
       "        vertical-align: middle;\n",
       "    }\n",
       "\n",
       "    .dataframe tbody tr th {\n",
       "        vertical-align: top;\n",
       "    }\n",
       "\n",
       "    .dataframe thead th {\n",
       "        text-align: right;\n",
       "    }\n",
       "</style>\n",
       "<table border=\"1\" class=\"dataframe\">\n",
       "  <thead>\n",
       "    <tr style=\"text-align: right;\">\n",
       "      <th></th>\n",
       "      <th>field1</th>\n",
       "      <th>field2_links</th>\n",
       "    </tr>\n",
       "  </thead>\n",
       "  <tbody>\n",
       "    <tr>\n",
       "      <th>0</th>\n",
       "      <td>Iti 1  —  Abandon greed, and you’re guaranteed non-return.</td>\n",
       "      <td>https://www.dhammatalks.org/suttas/KN/Iti/iti1.html</td>\n",
       "    </tr>\n",
       "  </tbody>\n",
       "</table>\n",
       "</div>"
      ],
      "text/plain": [
       "                                                       field1  \\\n",
       "0  Iti 1  —  Abandon greed, and you’re guaranteed non-return.   \n",
       "\n",
       "                                          field2_links  \n",
       "0  https://www.dhammatalks.org/suttas/KN/Iti/iti1.html  "
      ]
     },
     "execution_count": 45,
     "metadata": {},
     "output_type": "execute_result"
    }
   ],
   "source": [
    "df_kitif.head(1)"
   ]
  },
  {
   "cell_type": "code",
   "execution_count": 46,
   "metadata": {},
   "outputs": [
    {
     "data": {
      "text/html": [
       "<div>\n",
       "<style scoped>\n",
       "    .dataframe tbody tr th:only-of-type {\n",
       "        vertical-align: middle;\n",
       "    }\n",
       "\n",
       "    .dataframe tbody tr th {\n",
       "        vertical-align: top;\n",
       "    }\n",
       "\n",
       "    .dataframe thead th {\n",
       "        text-align: right;\n",
       "    }\n",
       "</style>\n",
       "<table border=\"1\" class=\"dataframe\">\n",
       "  <thead>\n",
       "    <tr style=\"text-align: right;\">\n",
       "      <th></th>\n",
       "      <th>url</th>\n",
       "      <th>text</th>\n",
       "    </tr>\n",
       "  </thead>\n",
       "  <tbody>\n",
       "  </tbody>\n",
       "</table>\n",
       "</div>"
      ],
      "text/plain": [
       "Empty DataFrame\n",
       "Columns: [url, text]\n",
       "Index: []"
      ]
     },
     "execution_count": 46,
     "metadata": {},
     "output_type": "execute_result"
    }
   ],
   "source": [
    "df_kitit.head(0)"
   ]
  },
  {
   "cell_type": "code",
   "execution_count": 47,
   "metadata": {},
   "outputs": [],
   "source": [
    "df_kiti = pd.merge(left = df_kitif, right = df_kitit, right_on='url', left_on = 'field2_links')"
   ]
  },
  {
   "cell_type": "code",
   "execution_count": 48,
   "metadata": {},
   "outputs": [
    {
     "data": {
      "text/html": [
       "<div>\n",
       "<style scoped>\n",
       "    .dataframe tbody tr th:only-of-type {\n",
       "        vertical-align: middle;\n",
       "    }\n",
       "\n",
       "    .dataframe tbody tr th {\n",
       "        vertical-align: top;\n",
       "    }\n",
       "\n",
       "    .dataframe thead th {\n",
       "        text-align: right;\n",
       "    }\n",
       "</style>\n",
       "<table border=\"1\" class=\"dataframe\">\n",
       "  <thead>\n",
       "    <tr style=\"text-align: right;\">\n",
       "      <th></th>\n",
       "      <th>field1</th>\n",
       "      <th>field2_links</th>\n",
       "      <th>url</th>\n",
       "      <th>text</th>\n",
       "    </tr>\n",
       "  </thead>\n",
       "  <tbody>\n",
       "  </tbody>\n",
       "</table>\n",
       "</div>"
      ],
      "text/plain": [
       "Empty DataFrame\n",
       "Columns: [field1, field2_links, url, text]\n",
       "Index: []"
      ]
     },
     "execution_count": 48,
     "metadata": {},
     "output_type": "execute_result"
    }
   ],
   "source": [
    "df_kiti.head(0)"
   ]
  },
  {
   "cell_type": "code",
   "execution_count": 49,
   "metadata": {},
   "outputs": [],
   "source": [
    "## Dropping\n",
    "df_kiti = df_kiti.drop(columns = 'field2_links')"
   ]
  },
  {
   "cell_type": "code",
   "execution_count": 50,
   "metadata": {},
   "outputs": [],
   "source": [
    "## Renaming\n",
    "df_kiti = df_kiti.rename(columns = {\n",
    "                            \"url\": \"title_url\",\n",
    "                            \"field1\": \"title\",\n",
    "                            'text': 'sutta_text'\n",
    "                               })\n"
   ]
  },
  {
   "cell_type": "code",
   "execution_count": 51,
   "metadata": {},
   "outputs": [
    {
     "data": {
      "text/html": [
       "<div>\n",
       "<style scoped>\n",
       "    .dataframe tbody tr th:only-of-type {\n",
       "        vertical-align: middle;\n",
       "    }\n",
       "\n",
       "    .dataframe tbody tr th {\n",
       "        vertical-align: top;\n",
       "    }\n",
       "\n",
       "    .dataframe thead th {\n",
       "        text-align: right;\n",
       "    }\n",
       "</style>\n",
       "<table border=\"1\" class=\"dataframe\">\n",
       "  <thead>\n",
       "    <tr style=\"text-align: right;\">\n",
       "      <th></th>\n",
       "      <th>title</th>\n",
       "      <th>title_url</th>\n",
       "      <th>sutta_text</th>\n",
       "    </tr>\n",
       "  </thead>\n",
       "  <tbody>\n",
       "  </tbody>\n",
       "</table>\n",
       "</div>"
      ],
      "text/plain": [
       "Empty DataFrame\n",
       "Columns: [title, title_url, sutta_text]\n",
       "Index: []"
      ]
     },
     "execution_count": 51,
     "metadata": {},
     "output_type": "execute_result"
    }
   ],
   "source": [
    "df_kiti.head(0)"
   ]
  },
  {
   "cell_type": "markdown",
   "metadata": {},
   "source": [
    "## KN 05 - Sutta Nipata (Stnp)"
   ]
  },
  {
   "cell_type": "code",
   "execution_count": 52,
   "metadata": {},
   "outputs": [],
   "source": [
    "df_kstnpf = pd.read_csv('./sutta_csv/kn/05_kn_stnp_full.csv')\n",
    "df_kstnpf.columns = df_kstnpf.columns.str.lower()\n",
    "df_kstnpf.columns = df_kstnpf.columns.str.replace(\" \", \"_\")\n",
    "\n",
    "df_kstnpt = pd.read_csv('./sutta_csv/kn/05_kn_stnp_text.csv.csv')\n",
    "df_kstnpt.columns = df_kstnpt.columns.str.lower()\n",
    "df_kstnpt.columns = df_kstnpt.columns.str.replace(\" \", \"_\")"
   ]
  },
  {
   "cell_type": "code",
   "execution_count": 53,
   "metadata": {},
   "outputs": [
    {
     "data": {
      "text/html": [
       "<div>\n",
       "<style scoped>\n",
       "    .dataframe tbody tr th:only-of-type {\n",
       "        vertical-align: middle;\n",
       "    }\n",
       "\n",
       "    .dataframe tbody tr th {\n",
       "        vertical-align: top;\n",
       "    }\n",
       "\n",
       "    .dataframe thead th {\n",
       "        text-align: right;\n",
       "    }\n",
       "</style>\n",
       "<table border=\"1\" class=\"dataframe\">\n",
       "  <thead>\n",
       "    <tr style=\"text-align: right;\">\n",
       "      <th></th>\n",
       "      <th>title</th>\n",
       "      <th>title_url</th>\n",
       "      <th>field</th>\n",
       "      <th>unnamed:_3</th>\n",
       "    </tr>\n",
       "  </thead>\n",
       "  <tbody>\n",
       "  </tbody>\n",
       "</table>\n",
       "</div>"
      ],
      "text/plain": [
       "Empty DataFrame\n",
       "Columns: [title, title_url, field, unnamed:_3]\n",
       "Index: []"
      ]
     },
     "execution_count": 53,
     "metadata": {},
     "output_type": "execute_result"
    }
   ],
   "source": [
    "df_kstnpf.head(0)"
   ]
  },
  {
   "cell_type": "code",
   "execution_count": 54,
   "metadata": {},
   "outputs": [
    {
     "data": {
      "text/html": [
       "<div>\n",
       "<style scoped>\n",
       "    .dataframe tbody tr th:only-of-type {\n",
       "        vertical-align: middle;\n",
       "    }\n",
       "\n",
       "    .dataframe tbody tr th {\n",
       "        vertical-align: top;\n",
       "    }\n",
       "\n",
       "    .dataframe thead th {\n",
       "        text-align: right;\n",
       "    }\n",
       "</style>\n",
       "<table border=\"1\" class=\"dataframe\">\n",
       "  <thead>\n",
       "    <tr style=\"text-align: right;\">\n",
       "      <th></th>\n",
       "      <th>url</th>\n",
       "      <th>text</th>\n",
       "    </tr>\n",
       "  </thead>\n",
       "  <tbody>\n",
       "  </tbody>\n",
       "</table>\n",
       "</div>"
      ],
      "text/plain": [
       "Empty DataFrame\n",
       "Columns: [url, text]\n",
       "Index: []"
      ]
     },
     "execution_count": 54,
     "metadata": {},
     "output_type": "execute_result"
    }
   ],
   "source": [
    "df_kstnpt.head(0)"
   ]
  },
  {
   "cell_type": "code",
   "execution_count": 55,
   "metadata": {},
   "outputs": [],
   "source": [
    "df_kiti = pd.merge(left = df_kstnpf, right = df_kstnpt, right_on='url', left_on = 'title_url')"
   ]
  },
  {
   "cell_type": "code",
   "execution_count": 56,
   "metadata": {},
   "outputs": [
    {
     "data": {
      "text/html": [
       "<div>\n",
       "<style scoped>\n",
       "    .dataframe tbody tr th:only-of-type {\n",
       "        vertical-align: middle;\n",
       "    }\n",
       "\n",
       "    .dataframe tbody tr th {\n",
       "        vertical-align: top;\n",
       "    }\n",
       "\n",
       "    .dataframe thead th {\n",
       "        text-align: right;\n",
       "    }\n",
       "</style>\n",
       "<table border=\"1\" class=\"dataframe\">\n",
       "  <thead>\n",
       "    <tr style=\"text-align: right;\">\n",
       "      <th></th>\n",
       "      <th>title</th>\n",
       "      <th>title_url</th>\n",
       "      <th>field</th>\n",
       "      <th>unnamed:_3</th>\n",
       "      <th>url</th>\n",
       "      <th>text</th>\n",
       "    </tr>\n",
       "  </thead>\n",
       "  <tbody>\n",
       "    <tr>\n",
       "      <th>0</th>\n",
       "      <td>Sn 1:1  The Snake</td>\n",
       "      <td>https://www.dhammatalks.org/suttas/KN/StNp/StNp1_1.html</td>\n",
       "      <td>Sn 1:1</td>\n",
       "      <td>Sn 1:1  The Snake  —  One who advances far along the path sloughs off the near shore and far, like a snake who sloughs off its skin.</td>\n",
       "      <td>https://www.dhammatalks.org/suttas/KN/StNp/StNp1_1.html</td>\n",
       "      <td>\\n  \\n            1:1  The SnakeNavigationSuttas/KN/Sn/1:1\\n            Alternative versions of this poem—a Sanskrit version included in the Udānavarga, and a Gāndhārī version included in the Gāndhārī Dharmapada—have many of the same verses included here, but arranged in a different order. This suggests that the verses originally may have been separate poems, spoken on separate occasions, and that they were gathered together because they share the same refrain.\\n            \\n              The monk who subdues his arisen anger\\n              as, with herbs, snake-venom once it has spread,\\n              sloughs off the near shore &amp; far—\\n              as a snake, its decrepit old skin.\\n              \\n                The monk who has cut off passion\\n                without leaving a trace,\\n                as he would, plunging into a lake, a lotus,\\n                sloughs off the near shore &amp; far—\\n                as a snake, its decrepit old skin.\\n              \\n              \\n                The monk who has cut off craving\\n                without leaving a trace,\\n                drying up the swift-flowing flood,1\\n                sloughs off the near shore &amp; far—\\n                as a snake, its decrepit old skin.\\n              \\n              \\n                The monk who has uprooted conceit\\n                without leaving a trace,\\n                as a great flood, a very weak bridge made of reeds,\\n                sloughs off the near shore &amp; far—\\n                as a snake, its decrepit old skin.\\n              \\n              \\n                The monk seeing\\n                in states of becoming\\n                no essence,\\n                as he would,\\n                when examining fig trees,\\n                no flowers,\\n                sloughs off the near shore &amp; far—\\n                as a snake, its decrepit old skin.\\n              \\n              \\n                The monk with no inner anger,\\n                who has thus gone beyond\\n                becoming &amp; not-,\\n                sloughs off the near shore &amp; far—\\n                as a snake, its decrepit old skin.\\n              \\n              \\n                The monk whose discursive thoughts are dispersed,\\n                well-dealt with inside\\n                without leaving a trace,\\n                sloughs off the near shore &amp; far—\\n                as a snake, its decrepit old skin.\\n              \\n              \\n                The monk who hasn’t slipped past or held back,2\\n                transcending all\\n                this objectification,3\\n                sloughs off the near shore &amp; far—\\n                as a snake, its decrepit old skin.\\n              \\n              \\n                The monk who hasn’t slipped past or held back,\\n                knowing with regard to the world\\n                that “All this is unreal,”\\n                sloughs off the near shore &amp; far—\\n                as a snake, its decrepit old skin.\\n              \\n              \\n                The monk who hasn’t slipped past or held back,\\n                without greed, as “All this is unreal,”\\n                sloughs off the near shore &amp; far—\\n                as a snake, its decrepit old skin.\\n              \\n              \\n                The monk who hasn’t slipped past or held back,\\n                without aversion, as “All this is unreal,”\\n                sloughs off the near shore &amp; far—\\n                as a snake, its decrepit old skin.\\n              \\n              \\n                The monk who hasn’t slipped past or turned back,\\n                without delusion, as “All this is unreal,”\\n                sloughs off the near shore &amp; far—\\n                as a snake, its decrepit old skin.\\n              \\n              \\n                The monk in whom\\n                there are no obsessions4\\n                —the roots of unskillfulness totally destroyed—\\n                sloughs off the near shore &amp; far—\\n                as a snake, its decrepit old skin.\\n              \\n              \\n                The monk in whom\\n                there’s nothing born of disturbance5\\n                that would lead him back to this shore,\\n                sloughs off the near shore &amp; far—\\n                as a snake, its decrepit old skin.\\n              \\n              \\n                The monk in whom\\n                there’s nothing born of the underbrush6\\n                that would act as a cause\\n                for binding him to becoming,\\n                sloughs off the near shore &amp; far—\\n                as a snake, its decrepit old skin.\\n              \\n              \\n                The monk who’s abandoned five hindrances,\\n                who, untroubled, de-arrowed,7\\n                has crossed over doubt,\\n                sloughs off the near shore &amp; far—\\n                as a snake, its decrepit old skin.\\n              \\n            \\n            vv. 1–17\\n            \\n              Notes\\n              1. On craving as a flooding river, see Dhp 251, 337, 339–340, and 347.\\n              2. See Iti 49.\\n              3. On objectification, see Sn 4:11, note 4, and the introduction to MN 18.\\n              4. The seven obsessions, listed in AN 7:11, are: sensual passion, resistance, views, uncertainty, conceit, passion for becoming, and ignorance. The relationship of three of these obsessions—the first two and the last—to the three types of feeling is discussed in MN 44. \\n              5. Daratha. For a detailed description of the subtleties of disturbance, see MN 121.\\n              6. Underbrush stands for desire. See Dhp 344.\\n              7. The arrow can stand for becoming, craving, or grief. See SN 36:6, Sn 3:8, Sn 4:15, Dhp 351, Thag 6:13, Thig 3:5, and Thig 6:1.\\n            \\n</td>\n",
       "    </tr>\n",
       "  </tbody>\n",
       "</table>\n",
       "</div>"
      ],
      "text/plain": [
       "               title                                                title_url  \\\n",
       "0  Sn 1:1  The Snake  https://www.dhammatalks.org/suttas/KN/StNp/StNp1_1.html   \n",
       "\n",
       "    field  \\\n",
       "0  Sn 1:1   \n",
       "\n",
       "                                                                                                                             unnamed:_3  \\\n",
       "0  Sn 1:1  The Snake  —  One who advances far along the path sloughs off the near shore and far, like a snake who sloughs off its skin.   \n",
       "\n",
       "                                                       url  \\\n",
       "0  https://www.dhammatalks.org/suttas/KN/StNp/StNp1_1.html   \n",
       "\n",
       "                                                                                                                                                                                                                                                                                                                                                                                                                                                                                                                                                                                                                                                                                                                                                                                                                                                                                                                                                                                                                                                                                                                                                                                                                                                                                                                                                                                                                                                                                                                                                                                                                                                                                                                                                                                                                                                                                                                                                                                                                                                                                                                                                                                                                                                                                                                                                                                                                                                                                                                                                                                                                                                                                                                                                                                                                                                                                                                                                                                                                                                                                                                                                                                                                                                                                                                                                                                                                                                                                                                                                                                                                                                                                                                                                                                                                                                                                                                                                                                                                                                                                                                                                                                                                                                                                                                                                                                                                                                                                                                                                                                                                                                                                                                                                                                                                                                                                                                                                                                                                                                                                                                                                                                                                                                                                                                                                                                                                                                                                                                                                                                                                                                                                                                                                                                                                                                                                                                                                                                                                                                                 text  \n",
       "0  \\n  \\n            1:1  The SnakeNavigationSuttas/KN/Sn/1:1\\n            Alternative versions of this poem—a Sanskrit version included in the Udānavarga, and a Gāndhārī version included in the Gāndhārī Dharmapada—have many of the same verses included here, but arranged in a different order. This suggests that the verses originally may have been separate poems, spoken on separate occasions, and that they were gathered together because they share the same refrain.\\n            \\n              The monk who subdues his arisen anger\\n              as, with herbs, snake-venom once it has spread,\\n              sloughs off the near shore & far—\\n              as a snake, its decrepit old skin.\\n              \\n                The monk who has cut off passion\\n                without leaving a trace,\\n                as he would, plunging into a lake, a lotus,\\n                sloughs off the near shore & far—\\n                as a snake, its decrepit old skin.\\n              \\n              \\n                The monk who has cut off craving\\n                without leaving a trace,\\n                drying up the swift-flowing flood,1\\n                sloughs off the near shore & far—\\n                as a snake, its decrepit old skin.\\n              \\n              \\n                The monk who has uprooted conceit\\n                without leaving a trace,\\n                as a great flood, a very weak bridge made of reeds,\\n                sloughs off the near shore & far—\\n                as a snake, its decrepit old skin.\\n              \\n              \\n                The monk seeing\\n                in states of becoming\\n                no essence,\\n                as he would,\\n                when examining fig trees,\\n                no flowers,\\n                sloughs off the near shore & far—\\n                as a snake, its decrepit old skin.\\n              \\n              \\n                The monk with no inner anger,\\n                who has thus gone beyond\\n                becoming & not-,\\n                sloughs off the near shore & far—\\n                as a snake, its decrepit old skin.\\n              \\n              \\n                The monk whose discursive thoughts are dispersed,\\n                well-dealt with inside\\n                without leaving a trace,\\n                sloughs off the near shore & far—\\n                as a snake, its decrepit old skin.\\n              \\n              \\n                The monk who hasn’t slipped past or held back,2\\n                transcending all\\n                this objectification,3\\n                sloughs off the near shore & far—\\n                as a snake, its decrepit old skin.\\n              \\n              \\n                The monk who hasn’t slipped past or held back,\\n                knowing with regard to the world\\n                that “All this is unreal,”\\n                sloughs off the near shore & far—\\n                as a snake, its decrepit old skin.\\n              \\n              \\n                The monk who hasn’t slipped past or held back,\\n                without greed, as “All this is unreal,”\\n                sloughs off the near shore & far—\\n                as a snake, its decrepit old skin.\\n              \\n              \\n                The monk who hasn’t slipped past or held back,\\n                without aversion, as “All this is unreal,”\\n                sloughs off the near shore & far—\\n                as a snake, its decrepit old skin.\\n              \\n              \\n                The monk who hasn’t slipped past or turned back,\\n                without delusion, as “All this is unreal,”\\n                sloughs off the near shore & far—\\n                as a snake, its decrepit old skin.\\n              \\n              \\n                The monk in whom\\n                there are no obsessions4\\n                —the roots of unskillfulness totally destroyed—\\n                sloughs off the near shore & far—\\n                as a snake, its decrepit old skin.\\n              \\n              \\n                The monk in whom\\n                there’s nothing born of disturbance5\\n                that would lead him back to this shore,\\n                sloughs off the near shore & far—\\n                as a snake, its decrepit old skin.\\n              \\n              \\n                The monk in whom\\n                there’s nothing born of the underbrush6\\n                that would act as a cause\\n                for binding him to becoming,\\n                sloughs off the near shore & far—\\n                as a snake, its decrepit old skin.\\n              \\n              \\n                The monk who’s abandoned five hindrances,\\n                who, untroubled, de-arrowed,7\\n                has crossed over doubt,\\n                sloughs off the near shore & far—\\n                as a snake, its decrepit old skin.\\n              \\n            \\n            vv. 1–17\\n            \\n              Notes\\n              1. On craving as a flooding river, see Dhp 251, 337, 339–340, and 347.\\n              2. See Iti 49.\\n              3. On objectification, see Sn 4:11, note 4, and the introduction to MN 18.\\n              4. The seven obsessions, listed in AN 7:11, are: sensual passion, resistance, views, uncertainty, conceit, passion for becoming, and ignorance. The relationship of three of these obsessions—the first two and the last—to the three types of feeling is discussed in MN 44. \\n              5. Daratha. For a detailed description of the subtleties of disturbance, see MN 121.\\n              6. Underbrush stands for desire. See Dhp 344.\\n              7. The arrow can stand for becoming, craving, or grief. See SN 36:6, Sn 3:8, Sn 4:15, Dhp 351, Thag 6:13, Thig 3:5, and Thig 6:1.\\n            \\n        "
      ]
     },
     "execution_count": 56,
     "metadata": {},
     "output_type": "execute_result"
    }
   ],
   "source": [
    "df_kiti.head(1)"
   ]
  },
  {
   "cell_type": "code",
   "execution_count": 57,
   "metadata": {},
   "outputs": [],
   "source": [
    "## Dropping\n",
    "df_kiti = df_kiti.drop(columns = 'url')"
   ]
  },
  {
   "cell_type": "code",
   "execution_count": 58,
   "metadata": {},
   "outputs": [],
   "source": [
    "## Renaming\n",
    "df_kiti = df_kiti.rename(columns = {\n",
    "                            \"unnamed:_3\": \"summary\",\n",
    "                            \"field\": \"ref\",\n",
    "                            'text': 'sutta_text'\n",
    "                               })\n"
   ]
  },
  {
   "cell_type": "code",
   "execution_count": 59,
   "metadata": {},
   "outputs": [
    {
     "data": {
      "text/html": [
       "<div>\n",
       "<style scoped>\n",
       "    .dataframe tbody tr th:only-of-type {\n",
       "        vertical-align: middle;\n",
       "    }\n",
       "\n",
       "    .dataframe tbody tr th {\n",
       "        vertical-align: top;\n",
       "    }\n",
       "\n",
       "    .dataframe thead th {\n",
       "        text-align: right;\n",
       "    }\n",
       "</style>\n",
       "<table border=\"1\" class=\"dataframe\">\n",
       "  <thead>\n",
       "    <tr style=\"text-align: right;\">\n",
       "      <th></th>\n",
       "      <th>title</th>\n",
       "      <th>title_url</th>\n",
       "      <th>ref</th>\n",
       "      <th>summary</th>\n",
       "      <th>sutta_text</th>\n",
       "    </tr>\n",
       "  </thead>\n",
       "  <tbody>\n",
       "  </tbody>\n",
       "</table>\n",
       "</div>"
      ],
      "text/plain": [
       "Empty DataFrame\n",
       "Columns: [title, title_url, ref, summary, sutta_text]\n",
       "Index: []"
      ]
     },
     "execution_count": 59,
     "metadata": {},
     "output_type": "execute_result"
    }
   ],
   "source": [
    "df_kiti.head(0)"
   ]
  },
  {
   "cell_type": "code",
   "execution_count": 60,
   "metadata": {},
   "outputs": [],
   "source": [
    "df_kiti['ref'] = df_kiti['ref'].str.replace('Sn', 'Stnp')"
   ]
  },
  {
   "cell_type": "code",
   "execution_count": 61,
   "metadata": {},
   "outputs": [
    {
     "data": {
      "text/html": [
       "<div>\n",
       "<style scoped>\n",
       "    .dataframe tbody tr th:only-of-type {\n",
       "        vertical-align: middle;\n",
       "    }\n",
       "\n",
       "    .dataframe tbody tr th {\n",
       "        vertical-align: top;\n",
       "    }\n",
       "\n",
       "    .dataframe thead th {\n",
       "        text-align: right;\n",
       "    }\n",
       "</style>\n",
       "<table border=\"1\" class=\"dataframe\">\n",
       "  <thead>\n",
       "    <tr style=\"text-align: right;\">\n",
       "      <th></th>\n",
       "      <th>title</th>\n",
       "      <th>title_url</th>\n",
       "      <th>ref</th>\n",
       "      <th>summary</th>\n",
       "      <th>sutta_text</th>\n",
       "    </tr>\n",
       "  </thead>\n",
       "  <tbody>\n",
       "    <tr>\n",
       "      <th>0</th>\n",
       "      <td>Sn 1:1  The Snake</td>\n",
       "      <td>https://www.dhammatalks.org/suttas/KN/StNp/StNp1_1.html</td>\n",
       "      <td>Stnp 1:1</td>\n",
       "      <td>Sn 1:1  The Snake  —  One who advances far along the path sloughs off the near shore and far, like a snake who sloughs off its skin.</td>\n",
       "      <td>\\n  \\n            1:1  The SnakeNavigationSuttas/KN/Sn/1:1\\n            Alternative versions of this poem—a Sanskrit version included in the Udānavarga, and a Gāndhārī version included in the Gāndhārī Dharmapada—have many of the same verses included here, but arranged in a different order. This suggests that the verses originally may have been separate poems, spoken on separate occasions, and that they were gathered together because they share the same refrain.\\n            \\n              The monk who subdues his arisen anger\\n              as, with herbs, snake-venom once it has spread,\\n              sloughs off the near shore &amp; far—\\n              as a snake, its decrepit old skin.\\n              \\n                The monk who has cut off passion\\n                without leaving a trace,\\n                as he would, plunging into a lake, a lotus,\\n                sloughs off the near shore &amp; far—\\n                as a snake, its decrepit old skin.\\n              \\n              \\n                The monk who has cut off craving\\n                without leaving a trace,\\n                drying up the swift-flowing flood,1\\n                sloughs off the near shore &amp; far—\\n                as a snake, its decrepit old skin.\\n              \\n              \\n                The monk who has uprooted conceit\\n                without leaving a trace,\\n                as a great flood, a very weak bridge made of reeds,\\n                sloughs off the near shore &amp; far—\\n                as a snake, its decrepit old skin.\\n              \\n              \\n                The monk seeing\\n                in states of becoming\\n                no essence,\\n                as he would,\\n                when examining fig trees,\\n                no flowers,\\n                sloughs off the near shore &amp; far—\\n                as a snake, its decrepit old skin.\\n              \\n              \\n                The monk with no inner anger,\\n                who has thus gone beyond\\n                becoming &amp; not-,\\n                sloughs off the near shore &amp; far—\\n                as a snake, its decrepit old skin.\\n              \\n              \\n                The monk whose discursive thoughts are dispersed,\\n                well-dealt with inside\\n                without leaving a trace,\\n                sloughs off the near shore &amp; far—\\n                as a snake, its decrepit old skin.\\n              \\n              \\n                The monk who hasn’t slipped past or held back,2\\n                transcending all\\n                this objectification,3\\n                sloughs off the near shore &amp; far—\\n                as a snake, its decrepit old skin.\\n              \\n              \\n                The monk who hasn’t slipped past or held back,\\n                knowing with regard to the world\\n                that “All this is unreal,”\\n                sloughs off the near shore &amp; far—\\n                as a snake, its decrepit old skin.\\n              \\n              \\n                The monk who hasn’t slipped past or held back,\\n                without greed, as “All this is unreal,”\\n                sloughs off the near shore &amp; far—\\n                as a snake, its decrepit old skin.\\n              \\n              \\n                The monk who hasn’t slipped past or held back,\\n                without aversion, as “All this is unreal,”\\n                sloughs off the near shore &amp; far—\\n                as a snake, its decrepit old skin.\\n              \\n              \\n                The monk who hasn’t slipped past or turned back,\\n                without delusion, as “All this is unreal,”\\n                sloughs off the near shore &amp; far—\\n                as a snake, its decrepit old skin.\\n              \\n              \\n                The monk in whom\\n                there are no obsessions4\\n                —the roots of unskillfulness totally destroyed—\\n                sloughs off the near shore &amp; far—\\n                as a snake, its decrepit old skin.\\n              \\n              \\n                The monk in whom\\n                there’s nothing born of disturbance5\\n                that would lead him back to this shore,\\n                sloughs off the near shore &amp; far—\\n                as a snake, its decrepit old skin.\\n              \\n              \\n                The monk in whom\\n                there’s nothing born of the underbrush6\\n                that would act as a cause\\n                for binding him to becoming,\\n                sloughs off the near shore &amp; far—\\n                as a snake, its decrepit old skin.\\n              \\n              \\n                The monk who’s abandoned five hindrances,\\n                who, untroubled, de-arrowed,7\\n                has crossed over doubt,\\n                sloughs off the near shore &amp; far—\\n                as a snake, its decrepit old skin.\\n              \\n            \\n            vv. 1–17\\n            \\n              Notes\\n              1. On craving as a flooding river, see Dhp 251, 337, 339–340, and 347.\\n              2. See Iti 49.\\n              3. On objectification, see Sn 4:11, note 4, and the introduction to MN 18.\\n              4. The seven obsessions, listed in AN 7:11, are: sensual passion, resistance, views, uncertainty, conceit, passion for becoming, and ignorance. The relationship of three of these obsessions—the first two and the last—to the three types of feeling is discussed in MN 44. \\n              5. Daratha. For a detailed description of the subtleties of disturbance, see MN 121.\\n              6. Underbrush stands for desire. See Dhp 344.\\n              7. The arrow can stand for becoming, craving, or grief. See SN 36:6, Sn 3:8, Sn 4:15, Dhp 351, Thag 6:13, Thig 3:5, and Thig 6:1.\\n            \\n</td>\n",
       "    </tr>\n",
       "  </tbody>\n",
       "</table>\n",
       "</div>"
      ],
      "text/plain": [
       "               title                                                title_url  \\\n",
       "0  Sn 1:1  The Snake  https://www.dhammatalks.org/suttas/KN/StNp/StNp1_1.html   \n",
       "\n",
       "        ref  \\\n",
       "0  Stnp 1:1   \n",
       "\n",
       "                                                                                                                                summary  \\\n",
       "0  Sn 1:1  The Snake  —  One who advances far along the path sloughs off the near shore and far, like a snake who sloughs off its skin.   \n",
       "\n",
       "                                                                                                                                                                                                                                                                                                                                                                                                                                                                                                                                                                                                                                                                                                                                                                                                                                                                                                                                                                                                                                                                                                                                                                                                                                                                                                                                                                                                                                                                                                                                                                                                                                                                                                                                                                                                                                                                                                                                                                                                                                                                                                                                                                                                                                                                                                                                                                                                                                                                                                                                                                                                                                                                                                                                                                                                                                                                                                                                                                                                                                                                                                                                                                                                                                                                                                                                                                                                                                                                                                                                                                                                                                                                                                                                                                                                                                                                                                                                                                                                                                                                                                                                                                                                                                                                                                                                                                                                                                                                                                                                                                                                                                                                                                                                                                                                                                                                                                                                                                                                                                                                                                                                                                                                                                                                                                                                                                                                                                                                                                                                                                                                                                                                                                                                                                                                                                                                                                                                                                                                                                                           sutta_text  \n",
       "0  \\n  \\n            1:1  The SnakeNavigationSuttas/KN/Sn/1:1\\n            Alternative versions of this poem—a Sanskrit version included in the Udānavarga, and a Gāndhārī version included in the Gāndhārī Dharmapada—have many of the same verses included here, but arranged in a different order. This suggests that the verses originally may have been separate poems, spoken on separate occasions, and that they were gathered together because they share the same refrain.\\n            \\n              The monk who subdues his arisen anger\\n              as, with herbs, snake-venom once it has spread,\\n              sloughs off the near shore & far—\\n              as a snake, its decrepit old skin.\\n              \\n                The monk who has cut off passion\\n                without leaving a trace,\\n                as he would, plunging into a lake, a lotus,\\n                sloughs off the near shore & far—\\n                as a snake, its decrepit old skin.\\n              \\n              \\n                The monk who has cut off craving\\n                without leaving a trace,\\n                drying up the swift-flowing flood,1\\n                sloughs off the near shore & far—\\n                as a snake, its decrepit old skin.\\n              \\n              \\n                The monk who has uprooted conceit\\n                without leaving a trace,\\n                as a great flood, a very weak bridge made of reeds,\\n                sloughs off the near shore & far—\\n                as a snake, its decrepit old skin.\\n              \\n              \\n                The monk seeing\\n                in states of becoming\\n                no essence,\\n                as he would,\\n                when examining fig trees,\\n                no flowers,\\n                sloughs off the near shore & far—\\n                as a snake, its decrepit old skin.\\n              \\n              \\n                The monk with no inner anger,\\n                who has thus gone beyond\\n                becoming & not-,\\n                sloughs off the near shore & far—\\n                as a snake, its decrepit old skin.\\n              \\n              \\n                The monk whose discursive thoughts are dispersed,\\n                well-dealt with inside\\n                without leaving a trace,\\n                sloughs off the near shore & far—\\n                as a snake, its decrepit old skin.\\n              \\n              \\n                The monk who hasn’t slipped past or held back,2\\n                transcending all\\n                this objectification,3\\n                sloughs off the near shore & far—\\n                as a snake, its decrepit old skin.\\n              \\n              \\n                The monk who hasn’t slipped past or held back,\\n                knowing with regard to the world\\n                that “All this is unreal,”\\n                sloughs off the near shore & far—\\n                as a snake, its decrepit old skin.\\n              \\n              \\n                The monk who hasn’t slipped past or held back,\\n                without greed, as “All this is unreal,”\\n                sloughs off the near shore & far—\\n                as a snake, its decrepit old skin.\\n              \\n              \\n                The monk who hasn’t slipped past or held back,\\n                without aversion, as “All this is unreal,”\\n                sloughs off the near shore & far—\\n                as a snake, its decrepit old skin.\\n              \\n              \\n                The monk who hasn’t slipped past or turned back,\\n                without delusion, as “All this is unreal,”\\n                sloughs off the near shore & far—\\n                as a snake, its decrepit old skin.\\n              \\n              \\n                The monk in whom\\n                there are no obsessions4\\n                —the roots of unskillfulness totally destroyed—\\n                sloughs off the near shore & far—\\n                as a snake, its decrepit old skin.\\n              \\n              \\n                The monk in whom\\n                there’s nothing born of disturbance5\\n                that would lead him back to this shore,\\n                sloughs off the near shore & far—\\n                as a snake, its decrepit old skin.\\n              \\n              \\n                The monk in whom\\n                there’s nothing born of the underbrush6\\n                that would act as a cause\\n                for binding him to becoming,\\n                sloughs off the near shore & far—\\n                as a snake, its decrepit old skin.\\n              \\n              \\n                The monk who’s abandoned five hindrances,\\n                who, untroubled, de-arrowed,7\\n                has crossed over doubt,\\n                sloughs off the near shore & far—\\n                as a snake, its decrepit old skin.\\n              \\n            \\n            vv. 1–17\\n            \\n              Notes\\n              1. On craving as a flooding river, see Dhp 251, 337, 339–340, and 347.\\n              2. See Iti 49.\\n              3. On objectification, see Sn 4:11, note 4, and the introduction to MN 18.\\n              4. The seven obsessions, listed in AN 7:11, are: sensual passion, resistance, views, uncertainty, conceit, passion for becoming, and ignorance. The relationship of three of these obsessions—the first two and the last—to the three types of feeling is discussed in MN 44. \\n              5. Daratha. For a detailed description of the subtleties of disturbance, see MN 121.\\n              6. Underbrush stands for desire. See Dhp 344.\\n              7. The arrow can stand for becoming, craving, or grief. See SN 36:6, Sn 3:8, Sn 4:15, Dhp 351, Thag 6:13, Thig 3:5, and Thig 6:1.\\n            \\n        "
      ]
     },
     "execution_count": 61,
     "metadata": {},
     "output_type": "execute_result"
    }
   ],
   "source": [
    "df_kiti.head(1)"
   ]
  },
  {
   "cell_type": "markdown",
   "metadata": {},
   "source": [
    "## KN 06 - Theragatha (Thag)"
   ]
  },
  {
   "cell_type": "code",
   "execution_count": 62,
   "metadata": {},
   "outputs": [],
   "source": [
    "df_kthagf = pd.read_csv('./sutta_csv/kn/06_kn_thag_full.csv')\n",
    "df_kthagf.columns = df_kthagf.columns.str.lower()\n",
    "df_kthagf.columns = df_kthagf.columns.str.replace(\" \", \"_\")\n",
    "\n",
    "df_kthagt = pd.read_csv('./sutta_csv/kn/06_kn_thag_text.csv.csv')\n",
    "df_kthagt.columns = df_kthagt.columns.str.lower()\n",
    "df_kthagt.columns = df_kthagt.columns.str.replace(\" \", \"_\")"
   ]
  },
  {
   "cell_type": "code",
   "execution_count": 63,
   "metadata": {},
   "outputs": [
    {
     "data": {
      "text/html": [
       "<div>\n",
       "<style scoped>\n",
       "    .dataframe tbody tr th:only-of-type {\n",
       "        vertical-align: middle;\n",
       "    }\n",
       "\n",
       "    .dataframe tbody tr th {\n",
       "        vertical-align: top;\n",
       "    }\n",
       "\n",
       "    .dataframe thead th {\n",
       "        text-align: right;\n",
       "    }\n",
       "</style>\n",
       "<table border=\"1\" class=\"dataframe\">\n",
       "  <thead>\n",
       "    <tr style=\"text-align: right;\">\n",
       "      <th></th>\n",
       "      <th>field1</th>\n",
       "      <th>field2</th>\n",
       "      <th>field3_links</th>\n",
       "    </tr>\n",
       "  </thead>\n",
       "  <tbody>\n",
       "    <tr>\n",
       "      <th>0</th>\n",
       "      <td>Introduction</td>\n",
       "      <td>Introduction</td>\n",
       "      <td>https://www.dhammatalks.org/suttas/KN/Thag/introduction.html</td>\n",
       "    </tr>\n",
       "    <tr>\n",
       "      <th>1</th>\n",
       "      <td>Thag 1:1  Subhūti</td>\n",
       "      <td>Thag 1:1  Subhūti  —  My hut is well-thatched, so go ahead and rain.</td>\n",
       "      <td>https://www.dhammatalks.org/suttas/KN/Thag/thag1_1.html</td>\n",
       "    </tr>\n",
       "  </tbody>\n",
       "</table>\n",
       "</div>"
      ],
      "text/plain": [
       "              field1  \\\n",
       "0       Introduction   \n",
       "1  Thag 1:1  Subhūti   \n",
       "\n",
       "                                                                 field2  \\\n",
       "0                                                          Introduction   \n",
       "1  Thag 1:1  Subhūti  —  My hut is well-thatched, so go ahead and rain.   \n",
       "\n",
       "                                                   field3_links  \n",
       "0  https://www.dhammatalks.org/suttas/KN/Thag/introduction.html  \n",
       "1       https://www.dhammatalks.org/suttas/KN/Thag/thag1_1.html  "
      ]
     },
     "execution_count": 63,
     "metadata": {},
     "output_type": "execute_result"
    }
   ],
   "source": [
    "df_kthagf.head(2)"
   ]
  },
  {
   "cell_type": "code",
   "execution_count": 64,
   "metadata": {},
   "outputs": [
    {
     "data": {
      "text/html": [
       "<div>\n",
       "<style scoped>\n",
       "    .dataframe tbody tr th:only-of-type {\n",
       "        vertical-align: middle;\n",
       "    }\n",
       "\n",
       "    .dataframe tbody tr th {\n",
       "        vertical-align: top;\n",
       "    }\n",
       "\n",
       "    .dataframe thead th {\n",
       "        text-align: right;\n",
       "    }\n",
       "</style>\n",
       "<table border=\"1\" class=\"dataframe\">\n",
       "  <thead>\n",
       "    <tr style=\"text-align: right;\">\n",
       "      <th></th>\n",
       "      <th>url</th>\n",
       "      <th>text</th>\n",
       "    </tr>\n",
       "  </thead>\n",
       "  <tbody>\n",
       "  </tbody>\n",
       "</table>\n",
       "</div>"
      ],
      "text/plain": [
       "Empty DataFrame\n",
       "Columns: [url, text]\n",
       "Index: []"
      ]
     },
     "execution_count": 64,
     "metadata": {},
     "output_type": "execute_result"
    }
   ],
   "source": [
    "df_kthagt.head(0)"
   ]
  },
  {
   "cell_type": "code",
   "execution_count": 65,
   "metadata": {},
   "outputs": [],
   "source": [
    "df_kthag= pd.merge(left = df_kthagf, right = df_kthagt, right_on='url', left_on = 'field3_links')"
   ]
  },
  {
   "cell_type": "code",
   "execution_count": 66,
   "metadata": {},
   "outputs": [
    {
     "data": {
      "text/html": [
       "<div>\n",
       "<style scoped>\n",
       "    .dataframe tbody tr th:only-of-type {\n",
       "        vertical-align: middle;\n",
       "    }\n",
       "\n",
       "    .dataframe tbody tr th {\n",
       "        vertical-align: top;\n",
       "    }\n",
       "\n",
       "    .dataframe thead th {\n",
       "        text-align: right;\n",
       "    }\n",
       "</style>\n",
       "<table border=\"1\" class=\"dataframe\">\n",
       "  <thead>\n",
       "    <tr style=\"text-align: right;\">\n",
       "      <th></th>\n",
       "      <th>field1</th>\n",
       "      <th>field2</th>\n",
       "      <th>field3_links</th>\n",
       "      <th>url</th>\n",
       "      <th>text</th>\n",
       "    </tr>\n",
       "  </thead>\n",
       "  <tbody>\n",
       "    <tr>\n",
       "      <th>0</th>\n",
       "      <td>Thag 1:1  Subhūti</td>\n",
       "      <td>Thag 1:1  Subhūti  —  My hut is well-thatched, so go ahead and rain.</td>\n",
       "      <td>https://www.dhammatalks.org/suttas/KN/Thag/thag1_1.html</td>\n",
       "      <td>https://www.dhammatalks.org/suttas/KN/Thag/thag1_1.html</td>\n",
       "      <td>\\n  \\n            Thag 1:1  SubhūtiNavigationSuttas/KN/Thag/1:1\\n            \\n              My hut is roofed, comfortable,\\n              free of drafts;\\n              my mind, well-centered,\\n              released.\\n              I remain ardent.\\n              So, rain-deva.\\n              Go ahead &amp; rain.\\n            \\n            See also: AN 3:110; Sn 1:1\\n</td>\n",
       "    </tr>\n",
       "  </tbody>\n",
       "</table>\n",
       "</div>"
      ],
      "text/plain": [
       "              field1  \\\n",
       "0  Thag 1:1  Subhūti   \n",
       "\n",
       "                                                                 field2  \\\n",
       "0  Thag 1:1  Subhūti  —  My hut is well-thatched, so go ahead and rain.   \n",
       "\n",
       "                                              field3_links  \\\n",
       "0  https://www.dhammatalks.org/suttas/KN/Thag/thag1_1.html   \n",
       "\n",
       "                                                       url  \\\n",
       "0  https://www.dhammatalks.org/suttas/KN/Thag/thag1_1.html   \n",
       "\n",
       "                                                                                                                                                                                                                                                                                                                                                                                     text  \n",
       "0  \\n  \\n            Thag 1:1  SubhūtiNavigationSuttas/KN/Thag/1:1\\n            \\n              My hut is roofed, comfortable,\\n              free of drafts;\\n              my mind, well-centered,\\n              released.\\n              I remain ardent.\\n              So, rain-deva.\\n              Go ahead & rain.\\n            \\n            See also: AN 3:110; Sn 1:1\\n        "
      ]
     },
     "execution_count": 66,
     "metadata": {},
     "output_type": "execute_result"
    }
   ],
   "source": [
    "df_kthag.head(1)"
   ]
  },
  {
   "cell_type": "code",
   "execution_count": 67,
   "metadata": {},
   "outputs": [],
   "source": [
    "## Dropping\n",
    "df_kthag = df_kthag.drop(columns = 'field3_links')"
   ]
  },
  {
   "cell_type": "code",
   "execution_count": 68,
   "metadata": {},
   "outputs": [],
   "source": [
    "## Renaming\n",
    "df_kthag = df_kthag.rename(columns = {\n",
    "                            \"field1\": \"title\",\n",
    "                            \"field2\": \"summary\",\n",
    "                            'text': 'sutta_text',\n",
    "                            'url': 'title_url'\n",
    "                               })\n"
   ]
  },
  {
   "cell_type": "code",
   "execution_count": 69,
   "metadata": {},
   "outputs": [
    {
     "data": {
      "text/html": [
       "<div>\n",
       "<style scoped>\n",
       "    .dataframe tbody tr th:only-of-type {\n",
       "        vertical-align: middle;\n",
       "    }\n",
       "\n",
       "    .dataframe tbody tr th {\n",
       "        vertical-align: top;\n",
       "    }\n",
       "\n",
       "    .dataframe thead th {\n",
       "        text-align: right;\n",
       "    }\n",
       "</style>\n",
       "<table border=\"1\" class=\"dataframe\">\n",
       "  <thead>\n",
       "    <tr style=\"text-align: right;\">\n",
       "      <th></th>\n",
       "      <th>title</th>\n",
       "      <th>summary</th>\n",
       "      <th>title_url</th>\n",
       "      <th>sutta_text</th>\n",
       "    </tr>\n",
       "  </thead>\n",
       "  <tbody>\n",
       "  </tbody>\n",
       "</table>\n",
       "</div>"
      ],
      "text/plain": [
       "Empty DataFrame\n",
       "Columns: [title, summary, title_url, sutta_text]\n",
       "Index: []"
      ]
     },
     "execution_count": 69,
     "metadata": {},
     "output_type": "execute_result"
    }
   ],
   "source": [
    "df_kthag.head(0)"
   ]
  },
  {
   "cell_type": "markdown",
   "metadata": {},
   "source": [
    "## KN 07 - Therigatha (Thig)"
   ]
  },
  {
   "cell_type": "code",
   "execution_count": 70,
   "metadata": {},
   "outputs": [],
   "source": [
    "df_kthigf = pd.read_csv('./sutta_csv/kn/07_kn_thig_full.csv')\n",
    "df_kthigf.columns = df_kthigf.columns.str.lower()\n",
    "df_kthigf.columns = df_kthigf.columns.str.replace(\" \", \"_\")\n",
    "\n",
    "df_kthigt = pd.read_csv('./sutta_csv/kn/07_kn_thig_text.csv')\n",
    "df_kthigt.columns = df_kthigt.columns.str.lower()\n",
    "df_kthigt.columns = df_kthigt.columns.str.replace(\" \", \"_\")"
   ]
  },
  {
   "cell_type": "code",
   "execution_count": 71,
   "metadata": {},
   "outputs": [
    {
     "data": {
      "text/html": [
       "<div>\n",
       "<style scoped>\n",
       "    .dataframe tbody tr th:only-of-type {\n",
       "        vertical-align: middle;\n",
       "    }\n",
       "\n",
       "    .dataframe tbody tr th {\n",
       "        vertical-align: top;\n",
       "    }\n",
       "\n",
       "    .dataframe thead th {\n",
       "        text-align: right;\n",
       "    }\n",
       "</style>\n",
       "<table border=\"1\" class=\"dataframe\">\n",
       "  <thead>\n",
       "    <tr style=\"text-align: right;\">\n",
       "      <th></th>\n",
       "      <th>field1</th>\n",
       "      <th>field2</th>\n",
       "      <th>field3_links</th>\n",
       "    </tr>\n",
       "  </thead>\n",
       "  <tbody>\n",
       "    <tr>\n",
       "      <th>0</th>\n",
       "      <td>Introduction</td>\n",
       "      <td>Introduction</td>\n",
       "      <td>https://www.dhammatalks.org/suttas/KN/Thag/introduction.html</td>\n",
       "    </tr>\n",
       "    <tr>\n",
       "      <th>1</th>\n",
       "      <td>Thig 1:1  An Anonymous Nun</td>\n",
       "      <td>Thig 1:1  An Anonymous Nun  —  Passion stilled, like a pot of pickled greens boiled dry.</td>\n",
       "      <td>https://www.dhammatalks.org/suttas/KN/Thig/thig1_1.html</td>\n",
       "    </tr>\n",
       "  </tbody>\n",
       "</table>\n",
       "</div>"
      ],
      "text/plain": [
       "                       field1  \\\n",
       "0                Introduction   \n",
       "1  Thig 1:1  An Anonymous Nun   \n",
       "\n",
       "                                                                                     field2  \\\n",
       "0                                                                              Introduction   \n",
       "1  Thig 1:1  An Anonymous Nun  —  Passion stilled, like a pot of pickled greens boiled dry.   \n",
       "\n",
       "                                                   field3_links  \n",
       "0  https://www.dhammatalks.org/suttas/KN/Thag/introduction.html  \n",
       "1       https://www.dhammatalks.org/suttas/KN/Thig/thig1_1.html  "
      ]
     },
     "execution_count": 71,
     "metadata": {},
     "output_type": "execute_result"
    }
   ],
   "source": [
    "df_kthigf.head(2)"
   ]
  },
  {
   "cell_type": "code",
   "execution_count": 72,
   "metadata": {},
   "outputs": [
    {
     "data": {
      "text/html": [
       "<div>\n",
       "<style scoped>\n",
       "    .dataframe tbody tr th:only-of-type {\n",
       "        vertical-align: middle;\n",
       "    }\n",
       "\n",
       "    .dataframe tbody tr th {\n",
       "        vertical-align: top;\n",
       "    }\n",
       "\n",
       "    .dataframe thead th {\n",
       "        text-align: right;\n",
       "    }\n",
       "</style>\n",
       "<table border=\"1\" class=\"dataframe\">\n",
       "  <thead>\n",
       "    <tr style=\"text-align: right;\">\n",
       "      <th></th>\n",
       "      <th>url</th>\n",
       "      <th>text</th>\n",
       "    </tr>\n",
       "  </thead>\n",
       "  <tbody>\n",
       "  </tbody>\n",
       "</table>\n",
       "</div>"
      ],
      "text/plain": [
       "Empty DataFrame\n",
       "Columns: [url, text]\n",
       "Index: []"
      ]
     },
     "execution_count": 72,
     "metadata": {},
     "output_type": "execute_result"
    }
   ],
   "source": [
    "df_kthigt.head(0)"
   ]
  },
  {
   "cell_type": "code",
   "execution_count": 73,
   "metadata": {},
   "outputs": [],
   "source": [
    "df_kthig= pd.merge(left = df_kthigf, right = df_kthigt, right_on='url', left_on = 'field3_links')"
   ]
  },
  {
   "cell_type": "code",
   "execution_count": 74,
   "metadata": {},
   "outputs": [
    {
     "data": {
      "text/html": [
       "<div>\n",
       "<style scoped>\n",
       "    .dataframe tbody tr th:only-of-type {\n",
       "        vertical-align: middle;\n",
       "    }\n",
       "\n",
       "    .dataframe tbody tr th {\n",
       "        vertical-align: top;\n",
       "    }\n",
       "\n",
       "    .dataframe thead th {\n",
       "        text-align: right;\n",
       "    }\n",
       "</style>\n",
       "<table border=\"1\" class=\"dataframe\">\n",
       "  <thead>\n",
       "    <tr style=\"text-align: right;\">\n",
       "      <th></th>\n",
       "      <th>field1</th>\n",
       "      <th>field2</th>\n",
       "      <th>field3_links</th>\n",
       "      <th>url</th>\n",
       "      <th>text</th>\n",
       "    </tr>\n",
       "  </thead>\n",
       "  <tbody>\n",
       "    <tr>\n",
       "      <th>0</th>\n",
       "      <td>Thig 1:1  An Anonymous Nun</td>\n",
       "      <td>Thig 1:1  An Anonymous Nun  —  Passion stilled, like a pot of pickled greens boiled dry.</td>\n",
       "      <td>https://www.dhammatalks.org/suttas/KN/Thig/thig1_1.html</td>\n",
       "      <td>https://www.dhammatalks.org/suttas/KN/Thig/thig1_1.html</td>\n",
       "      <td>\\n  \\n          Thig 1:1  An Anonymous NunNavigationSuttas/KN/Thig/1:1\\n          \\n            Sleep, little therī, sleep comfortably,\\n            wrapped in the robe you’ve made,\\n            for your passion is stilled—\\n            like a pot of pickled greens\\n            boiled dry.\\n          \\n</td>\n",
       "    </tr>\n",
       "  </tbody>\n",
       "</table>\n",
       "</div>"
      ],
      "text/plain": [
       "                       field1  \\\n",
       "0  Thig 1:1  An Anonymous Nun   \n",
       "\n",
       "                                                                                     field2  \\\n",
       "0  Thig 1:1  An Anonymous Nun  —  Passion stilled, like a pot of pickled greens boiled dry.   \n",
       "\n",
       "                                              field3_links  \\\n",
       "0  https://www.dhammatalks.org/suttas/KN/Thig/thig1_1.html   \n",
       "\n",
       "                                                       url  \\\n",
       "0  https://www.dhammatalks.org/suttas/KN/Thig/thig1_1.html   \n",
       "\n",
       "                                                                                                                                                                                                                                                                                                                     text  \n",
       "0  \\n  \\n          Thig 1:1  An Anonymous NunNavigationSuttas/KN/Thig/1:1\\n          \\n            Sleep, little therī, sleep comfortably,\\n            wrapped in the robe you’ve made,\\n            for your passion is stilled—\\n            like a pot of pickled greens\\n            boiled dry.\\n          \\n        "
      ]
     },
     "execution_count": 74,
     "metadata": {},
     "output_type": "execute_result"
    }
   ],
   "source": [
    "df_kthig.head(1)"
   ]
  },
  {
   "cell_type": "code",
   "execution_count": 75,
   "metadata": {},
   "outputs": [],
   "source": [
    "## Dropping\n",
    "df_kthig = df_kthig.drop(columns = 'field3_links')"
   ]
  },
  {
   "cell_type": "code",
   "execution_count": 76,
   "metadata": {},
   "outputs": [],
   "source": [
    "## Renaming\n",
    "df_kthig = df_kthig.rename(columns = {\n",
    "                            \"field1\": \"title\",\n",
    "                            \"field2\": \"summary\",\n",
    "                            'text': 'sutta_text',\n",
    "                            'url': 'title_url'\n",
    "                               })\n"
   ]
  },
  {
   "cell_type": "code",
   "execution_count": 78,
   "metadata": {},
   "outputs": [
    {
     "data": {
      "text/html": [
       "<div>\n",
       "<style scoped>\n",
       "    .dataframe tbody tr th:only-of-type {\n",
       "        vertical-align: middle;\n",
       "    }\n",
       "\n",
       "    .dataframe tbody tr th {\n",
       "        vertical-align: top;\n",
       "    }\n",
       "\n",
       "    .dataframe thead th {\n",
       "        text-align: right;\n",
       "    }\n",
       "</style>\n",
       "<table border=\"1\" class=\"dataframe\">\n",
       "  <thead>\n",
       "    <tr style=\"text-align: right;\">\n",
       "      <th></th>\n",
       "      <th>title</th>\n",
       "      <th>summary</th>\n",
       "      <th>title_url</th>\n",
       "      <th>sutta_text</th>\n",
       "    </tr>\n",
       "  </thead>\n",
       "  <tbody>\n",
       "    <tr>\n",
       "      <th>0</th>\n",
       "      <td>Thig 1:1  An Anonymous Nun</td>\n",
       "      <td>Thig 1:1  An Anonymous Nun  —  Passion stilled, like a pot of pickled greens boiled dry.</td>\n",
       "      <td>https://www.dhammatalks.org/suttas/KN/Thig/thig1_1.html</td>\n",
       "      <td>\\n  \\n          Thig 1:1  An Anonymous NunNavigationSuttas/KN/Thig/1:1\\n          \\n            Sleep, little therī, sleep comfortably,\\n            wrapped in the robe you’ve made,\\n            for your passion is stilled—\\n            like a pot of pickled greens\\n            boiled dry.\\n          \\n</td>\n",
       "    </tr>\n",
       "  </tbody>\n",
       "</table>\n",
       "</div>"
      ],
      "text/plain": [
       "                        title  \\\n",
       "0  Thig 1:1  An Anonymous Nun   \n",
       "\n",
       "                                                                                    summary  \\\n",
       "0  Thig 1:1  An Anonymous Nun  —  Passion stilled, like a pot of pickled greens boiled dry.   \n",
       "\n",
       "                                                 title_url  \\\n",
       "0  https://www.dhammatalks.org/suttas/KN/Thig/thig1_1.html   \n",
       "\n",
       "                                                                                                                                                                                                                                                                                                               sutta_text  \n",
       "0  \\n  \\n          Thig 1:1  An Anonymous NunNavigationSuttas/KN/Thig/1:1\\n          \\n            Sleep, little therī, sleep comfortably,\\n            wrapped in the robe you’ve made,\\n            for your passion is stilled—\\n            like a pot of pickled greens\\n            boiled dry.\\n          \\n        "
      ]
     },
     "execution_count": 78,
     "metadata": {},
     "output_type": "execute_result"
    }
   ],
   "source": [
    "df_kthig.head(1)"
   ]
  },
  {
   "cell_type": "code",
   "execution_count": null,
   "metadata": {},
   "outputs": [],
   "source": []
  }
 ],
 "metadata": {
  "kernelspec": {
   "display_name": "Python 3",
   "language": "python",
   "name": "python3"
  },
  "language_info": {
   "codemirror_mode": {
    "name": "ipython",
    "version": 3
   },
   "file_extension": ".py",
   "mimetype": "text/x-python",
   "name": "python",
   "nbconvert_exporter": "python",
   "pygments_lexer": "ipython3",
   "version": "3.8.5"
  }
 },
 "nbformat": 4,
 "nbformat_minor": 4
}
